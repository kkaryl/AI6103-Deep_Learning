{
 "cells": [
  {
   "cell_type": "markdown",
   "metadata": {},
   "source": [
    "# Lab 04 : VGG architecture - exercise"
   ]
  },
  {
   "cell_type": "code",
   "execution_count": 1,
   "metadata": {},
   "outputs": [],
   "source": [
    "# For Google Colaboratory\n",
    "import sys, os\n",
    "if 'google.colab' in sys.modules:\n",
    "    # mount google drive\n",
    "    from google.colab import drive\n",
    "    drive.mount('/content/gdrive')\n",
    "    # find automatically the path of the folder containing \"file_name\" :\n",
    "    file_name = 'vgg_exercise.ipynb'\n",
    "    import subprocess\n",
    "    path_to_file = subprocess.check_output('find . -type f -name ' + str(file_name), shell=True).decode(\"utf-8\")\n",
    "    path_to_file = path_to_file.replace(file_name,\"\").replace('\\n',\"\")\n",
    "    # if previous search failed or too long, comment the previous line and simply write down manually the path below :\n",
    "    #path_to_file = '/content/gdrive/My Drive/AI6103_2020_codes/codes/labs_lecture08/lab04_vgg'\n",
    "    print(path_to_file)\n",
    "    # change current path to the folder containing \"file_name\"\n",
    "    os.chdir(path_to_file)\n",
    "    !pwd"
   ]
  },
  {
   "cell_type": "code",
   "execution_count": 14,
   "metadata": {},
   "outputs": [],
   "source": [
    "import torch\n",
    "import torch.nn as nn\n",
    "import torch.nn.functional as F\n",
    "import torch.optim as optim\n",
    "from random import randint\n",
    "import utils\n",
    "import time\n",
    "from IPython.core.debugger import set_trace"
   ]
  },
  {
   "cell_type": "markdown",
   "metadata": {},
   "source": [
    "### With or without GPU?\n",
    "\n",
    "It is recommended to run this code on GPU:<br> \n",
    "* Time for 1 epoch on CPU : 841 sec (14.02 min)<br> \n",
    "* Time for 1 epoch on GPU : 9 sec w/ GeForce GTX 1080 Ti <br>"
   ]
  },
  {
   "cell_type": "code",
   "execution_count": 3,
   "metadata": {},
   "outputs": [
    {
     "name": "stdout",
     "output_type": "stream",
     "text": [
      "cuda\n"
     ]
    }
   ],
   "source": [
    "device= torch.device(\"cuda\")\n",
    "# device= torch.device(\"cpu\")\n",
    "print(device)"
   ]
  },
  {
   "cell_type": "markdown",
   "metadata": {},
   "source": [
    "### Download the CIFAR dataset "
   ]
  },
  {
   "cell_type": "code",
   "execution_count": 16,
   "metadata": {},
   "outputs": [
    {
     "name": "stdout",
     "output_type": "stream",
     "text": [
      "torch.Size([50000, 3, 32, 32])\n",
      "torch.Size([10000, 3, 32, 32])\n"
     ]
    }
   ],
   "source": [
    "from utils import check_cifar_dataset_exists\n",
    "data_path=check_cifar_dataset_exists()\n",
    "\n",
    "train_data=torch.load(data_path+'cifar/train_data.pt')\n",
    "train_label=torch.load(data_path+'cifar/train_label.pt')\n",
    "test_data=torch.load(data_path+'cifar/test_data.pt')\n",
    "test_label=torch.load(data_path+'cifar/test_label.pt')\n",
    "\n",
    "print(train_data.size())\n",
    "print(test_data.size())"
   ]
  },
  {
   "cell_type": "markdown",
   "metadata": {},
   "source": [
    "### Compute mean pixel intensity over all training set and all channels"
   ]
  },
  {
   "cell_type": "code",
   "execution_count": 17,
   "metadata": {},
   "outputs": [
    {
     "name": "stdout",
     "output_type": "stream",
     "text": [
      "tensor(0.4735)\n"
     ]
    }
   ],
   "source": [
    "mean= train_data.mean()\n",
    "\n",
    "print(mean)"
   ]
  },
  {
   "cell_type": "markdown",
   "metadata": {},
   "source": [
    "### Compute standard deviation"
   ]
  },
  {
   "cell_type": "code",
   "execution_count": 18,
   "metadata": {},
   "outputs": [
    {
     "name": "stdout",
     "output_type": "stream",
     "text": [
      "tensor(0.2516)\n"
     ]
    }
   ],
   "source": [
    "std= train_data.std()\n",
    "\n",
    "print(std)"
   ]
  },
  {
   "cell_type": "markdown",
   "metadata": {},
   "source": [
    "### Make a VGG convnet class. "
   ]
  },
  {
   "cell_type": "code",
   "execution_count": 31,
   "metadata": {},
   "outputs": [],
   "source": [
    "class VGG_convnet(nn.Module):\n",
    "\n",
    "    def __init__(self):\n",
    "\n",
    "        super(VGG_convnet, self).__init__()\n",
    "\n",
    "        # block 1:         3 x 32 x 32 --> 64 x 16 x 16        \n",
    "        self.conv1a = nn.Conv2d(3,   64,  kernel_size=3, padding=1 )\n",
    "        self.conv1b = nn.Conv2d(64,  64,  kernel_size=3, padding=1 )\n",
    "        self.pool1  = nn.MaxPool2d(2,2)\n",
    "\n",
    "        # block 2:         64 x 16 x 16 --> 128 x 8 x 8\n",
    "        self.conv2a = nn.Conv2d(64, 128, kernel_size=3, padding=1) # COMPLETE HERE\n",
    "        self.conv2b = nn.Conv2d(128, 128, kernel_size=3, padding=1) # COMPLETE HERE\n",
    "        self.pool2  = nn.MaxPool2d(2,2) # COMPLETE HERE\n",
    "\n",
    "        # block 3:         128 x 8 x 8 --> 256 x 4 x 4        \n",
    "        self.conv3a = nn.Conv2d(128, 256, kernel_size=3, padding=1) # COMPLETE HERE\n",
    "        self.conv3b = nn.Conv2d(256, 256, kernel_size=3, padding=1) # COMPLETE HERE\n",
    "        self.pool3  = nn.MaxPool2d(2,2) # COMPLETE HERE\n",
    "        \n",
    "        #block 4:          256 x 4 x 4 --> 512 x 2 x 2\n",
    "        self.conv4a = nn.Conv2d(256, 512, kernel_size=3, padding=1) # COMPLETE HERE\n",
    "        self.pool4  = nn.MaxPool2d(2,2) # COMPLETE HERE\n",
    "\n",
    "        # linear layers:   512 x 2 x 2 --> 2048 --> 4096 --> 4096 --> 10\n",
    "        self.linear1 = nn.Linear(2048, 4096) # COMPLETE HERE\n",
    "        self.linear2 = nn.Linear(4096, 4096) # COMPLETE HERE\n",
    "        self.linear3 = nn.Linear(4096, 10) # COMPLETE HERE\n",
    "\n",
    "\n",
    "    def forward(self, x):\n",
    "\n",
    "        # block 1:         3 x 32 x 32 --> 64 x 16 x 16\n",
    "        x = self.conv1a(x)\n",
    "        x = F.relu(x)\n",
    "        x = self.conv1b(x)\n",
    "        x = F.relu(x)\n",
    "        x = self.pool1(x)\n",
    "\n",
    "        # block 2:         64 x 16 x 16 --> 128 x 8 x 8\n",
    "        x = self.conv2a(x) # COMPLETE HERE\n",
    "        x = F.relu(x) # COMPLETE HERE\n",
    "        x = self.conv2b(x) # COMPLETE HERE\n",
    "        x = F.relu(x) # COMPLETE HERE\n",
    "        x = self.pool2(x) # COMPLETE HERE\n",
    "\n",
    "        # block 3:         128 x 8 x 8 --> 256 x 4 x 4\n",
    "        x = self.conv3a(x) # COMPLETE HERE\n",
    "        x = F.relu(x) # COMPLETE HERE\n",
    "        x = self.conv3b(x) # COMPLETE HERE\n",
    "        x = F.relu(x) # COMPLETE HERE\n",
    "        x = self.pool3(x) # COMPLETE HERE\n",
    "\n",
    "        #block 4:          256 x 4 x 4 --> 512 x 2 x 2\n",
    "        x = self.conv4a(x) # COMPLETE HERE\n",
    "        x = F.relu(x) # COMPLETE HERE\n",
    "        x = self.pool4(x) # COMPLETE HERE\n",
    "\n",
    "        # linear layers:   512 x 2 x 2 --> 2048 --> 4096 --> 4096 --> 10\n",
    "        x = x.view(-1, 2048)\n",
    "        x = self.linear1(x) # COMPLETE HERE\n",
    "        x = F.relu(x) # COMPLETE HERE\n",
    "        x = self.linear2(x) # COMPLETE HERE\n",
    "        x = F.relu(x) # COMPLETE HERE\n",
    "        x = self.linear3(x) # COMPLETE HERE \n",
    "        \n",
    "        return x"
   ]
  },
  {
   "cell_type": "markdown",
   "metadata": {},
   "source": [
    "### Build the net. How many parameters in total? (the three layer net had 2 million parameters)"
   ]
  },
  {
   "cell_type": "code",
   "execution_count": 32,
   "metadata": {},
   "outputs": [
    {
     "name": "stdout",
     "output_type": "stream",
     "text": [
      "VGG_convnet(\n",
      "  (conv1a): Conv2d(3, 64, kernel_size=(3, 3), stride=(1, 1), padding=(1, 1))\n",
      "  (conv1b): Conv2d(64, 64, kernel_size=(3, 3), stride=(1, 1), padding=(1, 1))\n",
      "  (pool1): MaxPool2d(kernel_size=2, stride=2, padding=0, dilation=1, ceil_mode=False)\n",
      "  (conv2a): Conv2d(64, 128, kernel_size=(3, 3), stride=(1, 1), padding=(1, 1))\n",
      "  (conv2b): Conv2d(128, 128, kernel_size=(3, 3), stride=(1, 1), padding=(1, 1))\n",
      "  (pool2): MaxPool2d(kernel_size=2, stride=2, padding=0, dilation=1, ceil_mode=False)\n",
      "  (conv3a): Conv2d(128, 256, kernel_size=(3, 3), stride=(1, 1), padding=(1, 1))\n",
      "  (conv3b): Conv2d(256, 256, kernel_size=(3, 3), stride=(1, 1), padding=(1, 1))\n",
      "  (pool3): MaxPool2d(kernel_size=2, stride=2, padding=0, dilation=1, ceil_mode=False)\n",
      "  (conv4a): Conv2d(256, 512, kernel_size=(3, 3), stride=(1, 1), padding=(1, 1))\n",
      "  (pool4): MaxPool2d(kernel_size=2, stride=2, padding=0, dilation=1, ceil_mode=False)\n",
      "  (linear1): Linear(in_features=2048, out_features=4096, bias=True)\n",
      "  (linear2): Linear(in_features=4096, out_features=4096, bias=True)\n",
      "  (linear3): Linear(in_features=4096, out_features=10, bias=True)\n",
      ")\n",
      "There are 27540554 (27.54 million) parameters in this neural network\n"
     ]
    }
   ],
   "source": [
    "net =VGG_convnet() # COMPLETE HERE\n",
    "\n",
    "print(net)\n",
    "utils.display_num_param(net)"
   ]
  },
  {
   "cell_type": "markdown",
   "metadata": {},
   "source": [
    "### Send the weights of the networks to the GPU (as well as the mean and std)"
   ]
  },
  {
   "cell_type": "code",
   "execution_count": 33,
   "metadata": {},
   "outputs": [],
   "source": [
    "net = net.to(device) # COMPLETE HERE\n",
    "\n",
    "mean = mean.to(device)\n",
    "\n",
    "std = std.to(device)"
   ]
  },
  {
   "cell_type": "markdown",
   "metadata": {},
   "source": [
    "### Choose the criterion, batch size, and initial learning rate. Select the following:\n",
    "* batch size =128\n",
    "* initial learning rate =0.25\n"
   ]
  },
  {
   "cell_type": "code",
   "execution_count": 34,
   "metadata": {},
   "outputs": [],
   "source": [
    "criterion = nn.CrossEntropyLoss()\n",
    "my_lr= 0.25 # COMPLETE HERE\n",
    "bs= 128   # COMPLETE HERE"
   ]
  },
  {
   "cell_type": "markdown",
   "metadata": {},
   "source": [
    "### Function to evaluate the network on the test set"
   ]
  },
  {
   "cell_type": "code",
   "execution_count": 35,
   "metadata": {},
   "outputs": [],
   "source": [
    "def eval_on_test_set():\n",
    "\n",
    "    running_error=0\n",
    "    num_batches=0\n",
    "\n",
    "    for i in range(0,10000,bs):\n",
    "\n",
    "        minibatch_data =  test_data[i:i+bs]\n",
    "        minibatch_label= test_label[i:i+bs]\n",
    "\n",
    "        minibatch_data=minibatch_data.to(device)\n",
    "        minibatch_label=minibatch_label.to(device)\n",
    "        \n",
    "        inputs = (minibatch_data - mean)/std\n",
    "\n",
    "        scores=net( inputs ) \n",
    "\n",
    "        error = utils.get_error( scores , minibatch_label)\n",
    "\n",
    "        running_error += error.item()\n",
    "\n",
    "        num_batches+=1\n",
    "\n",
    "    total_error = running_error/num_batches\n",
    "    print( 'error rate on test set =', total_error*100 ,'percent')"
   ]
  },
  {
   "cell_type": "markdown",
   "metadata": {},
   "source": [
    "### Do 20 passes through the training set. Divide the learning rate by 2 at epoch 10, 14 and 18."
   ]
  },
  {
   "cell_type": "code",
   "execution_count": 36,
   "metadata": {
    "scrolled": true
   },
   "outputs": [
    {
     "name": "stdout",
     "output_type": "stream",
     "text": [
      "epoch= 1 \t time= 0.3316066185633341 min \t lr= 0.25 \t loss= 2.2853654784619657 \t error= 87.92798912433713 percent\n",
      "error rate on test set = 79.22270569620254 percent\n",
      " \n",
      "epoch= 2 \t time= 0.6601565519968668 min \t lr= 0.25 \t loss= 1.9420985001737199 \t error= 73.70364449518111 percent\n",
      "error rate on test set = 74.5253164556962 percent\n",
      " \n",
      "epoch= 3 \t time= 1.0000557939211527 min \t lr= 0.25 \t loss= 1.644527381948193 \t error= 61.36189257092488 percent\n",
      "error rate on test set = 60.49248417721519 percent\n",
      " \n",
      "epoch= 4 \t time= 1.3524559378623962 min \t lr= 0.25 \t loss= 1.3412955778334148 \t error= 48.51542519181586 percent\n",
      "error rate on test set = 41.30735759493671 percent\n",
      " \n",
      "epoch= 5 \t time= 1.7128807703653972 min \t lr= 0.25 \t loss= 1.0562288883092152 \t error= 37.64546034890977 percent\n",
      "error rate on test set = 40.664556962025316 percent\n",
      " \n",
      "epoch= 6 \t time= 2.0687700867652894 min \t lr= 0.25 \t loss= 0.8489272390180231 \t error= 29.653532608695656 percent\n",
      "error rate on test set = 32.20925632911392 percent\n",
      " \n",
      "epoch= 7 \t time= 2.4492655475934346 min \t lr= 0.25 \t loss= 0.6934549042483424 \t error= 24.172794117647058 percent\n",
      "error rate on test set = 29.667721518987346 percent\n",
      " \n",
      "epoch= 8 \t time= 2.821527342001597 min \t lr= 0.25 \t loss= 0.5631569647575583 \t error= 19.574408564726106 percent\n",
      "error rate on test set = 28.846914556962027 percent\n",
      " \n",
      "epoch= 9 \t time= 3.1866463899612425 min \t lr= 0.25 \t loss= 0.44568758280685794 \t error= 15.431186061381075 percent\n",
      "error rate on test set = 24.169303797468356 percent\n",
      " \n",
      "epoch= 10 \t time= 3.568282989660899 min \t lr= 0.125 \t loss= 0.18586365840471614 \t error= 6.327925191815857 percent\n",
      "error rate on test set = 20.381724683544302 percent\n",
      " \n",
      "epoch= 11 \t time= 3.947290035088857 min \t lr= 0.125 \t loss= 0.09000578844714957 \t error= 3.0642583089716293 percent\n",
      "error rate on test set = 23.032041139240505 percent\n",
      " \n",
      "epoch= 12 \t time= 4.329493288199107 min \t lr= 0.125 \t loss= 0.06862227597019023 \t error= 2.1942934721632077 percent\n",
      "error rate on test set = 21.192642405063292 percent\n",
      " \n",
      "epoch= 13 \t time= 4.711559645334879 min \t lr= 0.125 \t loss= 0.06380561952862669 \t error= 1.9353420685624223 percent\n",
      "error rate on test set = 21.321202531645568 percent\n",
      " \n",
      "epoch= 14 \t time= 5.088118934631348 min \t lr= 0.0625 \t loss= 0.009652949218332168 \t error= 0.2409686670278954 percent\n",
      "error rate on test set = 20.371835443037973 percent\n",
      " \n",
      "epoch= 15 \t time= 5.473828331629435 min \t lr= 0.0625 \t loss= 0.0009795402306491685 \t error= 0.0 percent\n",
      "error rate on test set = 19.887262658227847 percent\n",
      " \n",
      "epoch= 16 \t time= 5.890595157941182 min \t lr= 0.0625 \t loss= 0.0002972871553838489 \t error= 0.0 percent\n",
      "error rate on test set = 19.84770569620253 percent\n",
      " \n",
      "epoch= 17 \t time= 6.286330966154734 min \t lr= 0.0625 \t loss= 0.0001946397873432622 \t error= 0.0 percent\n",
      "error rate on test set = 19.89715189873418 percent\n",
      " \n",
      "epoch= 18 \t time= 6.672845594088236 min \t lr= 0.03125 \t loss= 0.00015065081057782153 \t error= 0.0 percent\n",
      "error rate on test set = 19.89715189873418 percent\n",
      " \n",
      "epoch= 19 \t time= 7.061793569723765 min \t lr= 0.03125 \t loss= 0.00013335055994286585 \t error= 0.0 percent\n",
      "error rate on test set = 19.877373417721518 percent\n",
      " \n"
     ]
    }
   ],
   "source": [
    "start=time.time()\n",
    "\n",
    "for epoch in range(1,20):\n",
    "    \n",
    "    # divide the learning rate by 2 at epoch 10, 14 and 18\n",
    "    if epoch == 10 or epoch == 14 or epoch == 18: # COMPLETE HERE\n",
    "        my_lr = my_lr/ 2 # COMPLETE HERE\n",
    "    \n",
    "    # create a new optimizer at the beginning of each epoch: give the current learning rate.   \n",
    "    optimizer=torch.optim.SGD( net.parameters() , lr=my_lr )\n",
    "        \n",
    "    # set the running quatities to zero at the beginning of the epoch\n",
    "    running_loss=0\n",
    "    running_error=0\n",
    "    num_batches=0\n",
    "    \n",
    "    # set the order in which to visit the image from the training set\n",
    "    shuffled_indices=torch.randperm(50000)\n",
    " \n",
    "    for count in range(0,50000,bs):\n",
    "    \n",
    "        # Set the gradients to zeros\n",
    "        optimizer.zero_grad()\n",
    "        \n",
    "        # create a minibatch       \n",
    "        indices=shuffled_indices[count:count+bs]\n",
    "        minibatch_data =  train_data[indices]\n",
    "        minibatch_label=  train_label[indices]\n",
    "        \n",
    "        # send them to the gpu\n",
    "        minibatch_data=minibatch_data.to(device)\n",
    "        minibatch_label=minibatch_label.to(device)\n",
    "        \n",
    "        # normalize the minibatch (this is the only difference compared to before!)\n",
    "        inputs = (minibatch_data - mean)/std\n",
    "        \n",
    "#         set_trace()\n",
    "        # tell Pytorch to start tracking all operations that will be done on \"inputs\"\n",
    "        inputs.requires_grad_()\n",
    "\n",
    "        # forward the minibatch through the net \n",
    "        scores=net( inputs ) \n",
    "\n",
    "        # Compute the average of the losses of the data points in the minibatch\n",
    "        loss =  criterion( scores , minibatch_label) \n",
    "        \n",
    "        # backward pass to compute dL/dU, dL/dV and dL/dW   \n",
    "        loss.backward()\n",
    "\n",
    "        # do one step of stochastic gradient descent: U=U-lr(dL/dU), V=V-lr(dL/dU), ...\n",
    "        optimizer.step()\n",
    "        \n",
    "\n",
    "        # START COMPUTING STATS\n",
    "        \n",
    "        # add the loss of this batch to the running loss\n",
    "        running_loss += loss.detach().item()\n",
    "        \n",
    "        # compute the error made on this batch and add it to the running error       \n",
    "        error = utils.get_error( scores.detach() , minibatch_label)\n",
    "        running_error += error.item()\n",
    "        \n",
    "        num_batches+=1        \n",
    "    \n",
    "    \n",
    "    # compute stats for the full training set\n",
    "    total_loss = running_loss/num_batches\n",
    "    total_error = running_error/num_batches\n",
    "    elapsed = (time.time()-start)/60\n",
    "    \n",
    "\n",
    "    print('epoch=',epoch, '\\t time=', elapsed,'min','\\t lr=', my_lr  ,'\\t loss=', total_loss , '\\t error=', total_error*100 ,'percent')\n",
    "    eval_on_test_set() \n",
    "    print(' ')\n",
    "    \n",
    "           "
   ]
  },
  {
   "cell_type": "markdown",
   "metadata": {},
   "source": [
    "### Choose image at random from the test set and see how good/bad are the predictions"
   ]
  },
  {
   "cell_type": "code",
   "execution_count": 37,
   "metadata": {},
   "outputs": [
    {
     "data": {
      "image/png": "[encoded data removed]",
      "text/plain": [
       "<Figure size 432x288 with 1 Axes>"
      ]
     },
     "metadata": {
      "needs_background": "light"
     },
     "output_type": "display_data"
    },
    {
     "data": {
      "image/png": "[encoded data removed]",
      "text/plain": [
       "<Figure size 640x480 with 1 Axes>"
      ]
     },
     "metadata": {},
     "output_type": "display_data"
    }
   ],
   "source": [
    "# choose a picture at random\n",
    "idx=randint(0, 10000-1)\n",
    "im=test_data[idx]\n",
    "\n",
    "# diplay the picture\n",
    "utils.show(im)\n",
    "\n",
    "# send to device, rescale, and view as a batch of 1 \n",
    "im = im.to(device)\n",
    "im= (im-mean) / std\n",
    "im=im.view(1,3,32,32)\n",
    "\n",
    "# feed it to the net and display the confidence scores\n",
    "scores =  net(im) \n",
    "probs= F.softmax(scores, dim=1)\n",
    "utils.show_prob_cifar(probs.cpu())"
   ]
  },
  {
   "cell_type": "code",
   "execution_count": null,
   "metadata": {},
   "outputs": [],
   "source": []
  }
 ],
 "metadata": {
  "kernelspec": {
   "display_name": "Python 3",
   "language": "python",
   "name": "python3"
  },
  "language_info": {
   "codemirror_mode": {
    "name": "ipython",
    "version": 3
   },
   "file_extension": ".py",
   "mimetype": "text/x-python",
   "name": "python",
   "nbconvert_exporter": "python",
   "pygments_lexer": "ipython3",
   "version": "3.6.10"
  }
 },
 "nbformat": 4,
 "nbformat_minor": 4
}
