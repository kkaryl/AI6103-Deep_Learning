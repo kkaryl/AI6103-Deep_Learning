{
 "cells": [
  {
   "cell_type": "markdown",
   "metadata": {},
   "source": [
    "# Lab 02 : Pooling layer - demo"
   ]
  },
  {
   "cell_type": "code",
   "execution_count": 1,
   "metadata": {},
   "outputs": [],
   "source": [
    "import torch\n",
    "import torch.nn as nn"
   ]
  },
  {
   "cell_type": "markdown",
   "metadata": {},
   "source": [
    "### Make a pooling module\n",
    "* inputs:  activation maps of size n x n\n",
    "* output:  activation maps of size n/p x n/p\n",
    "* p: pooling size"
   ]
  },
  {
   "cell_type": "code",
   "execution_count": 2,
   "metadata": {},
   "outputs": [],
   "source": [
    "mod = nn.MaxPool2d(2,2)"
   ]
  },
  {
   "cell_type": "markdown",
   "metadata": {},
   "source": [
    "### Make an input 2 x 6 x 6  (two channels, each one has 6 x 6 pixels )"
   ]
  },
  {
   "cell_type": "code",
   "execution_count": 3,
   "metadata": {},
   "outputs": [
    {
     "name": "stdout",
     "output_type": "stream",
     "text": [
      "tensor([[[[0.6630, 0.2508, 0.9018, 0.6472, 0.8232, 0.2143],\n",
      "          [0.7611, 0.0066, 0.9068, 0.8537, 0.9991, 0.9777],\n",
      "          [0.3368, 0.0669, 0.9475, 0.3779, 0.7025, 0.0882],\n",
      "          [0.2265, 0.1516, 0.8395, 0.2140, 0.0677, 0.3015],\n",
      "          [0.6314, 0.6750, 0.8267, 0.5082, 0.1045, 0.2490],\n",
      "          [0.2912, 0.1152, 0.1720, 0.7438, 0.8791, 0.0719]],\n",
      "\n",
      "         [[0.6954, 0.6512, 0.7302, 0.3756, 0.3571, 0.6473],\n",
      "          [0.2717, 0.1554, 0.1404, 0.9933, 0.1503, 0.8354],\n",
      "          [0.2536, 0.0966, 0.6612, 0.2793, 0.9985, 0.0352],\n",
      "          [0.6654, 0.2379, 0.7889, 0.3683, 0.0587, 0.6093],\n",
      "          [0.4178, 0.7036, 0.7245, 0.0063, 0.1062, 0.8539],\n",
      "          [0.8273, 0.8354, 0.9328, 0.3501, 0.8449, 0.8479]]]])\n",
      "torch.Size([1, 2, 6, 6])\n"
     ]
    }
   ],
   "source": [
    "bs=1\n",
    "\n",
    "x=torch.rand(bs,2,6,6)\n",
    "\n",
    "\n",
    "print(x)\n",
    "print(x.size())"
   ]
  },
  {
   "cell_type": "markdown",
   "metadata": {},
   "source": [
    "### Feed it to the pooling layer: the output size should be divided by 2 "
   ]
  },
  {
   "cell_type": "code",
   "execution_count": 4,
   "metadata": {},
   "outputs": [
    {
     "name": "stdout",
     "output_type": "stream",
     "text": [
      "tensor([[[[0.7611, 0.9068, 0.9991],\n",
      "          [0.3368, 0.9475, 0.7025],\n",
      "          [0.6750, 0.8267, 0.8791]],\n",
      "\n",
      "         [[0.6954, 0.9933, 0.8354],\n",
      "          [0.6654, 0.7889, 0.9985],\n",
      "          [0.8354, 0.9328, 0.8539]]]])\n",
      "torch.Size([1, 2, 3, 3])\n"
     ]
    }
   ],
   "source": [
    "y=mod(x)\n",
    "\n",
    "print(y)\n",
    "print(y.size())"
   ]
  },
  {
   "cell_type": "code",
   "execution_count": null,
   "metadata": {},
   "outputs": [],
   "source": []
  },
  {
   "cell_type": "code",
   "execution_count": null,
   "metadata": {},
   "outputs": [],
   "source": []
  }
 ],
 "metadata": {
  "kernelspec": {
   "display_name": "Python 3",
   "language": "python",
   "name": "python3"
  },
  "language_info": {
   "codemirror_mode": {
    "name": "ipython",
    "version": 3
   },
   "file_extension": ".py",
   "mimetype": "text/x-python",
   "name": "python",
   "nbconvert_exporter": "python",
   "pygments_lexer": "ipython3",
   "version": "3.6.10"
  }
 },
 "nbformat": 4,
 "nbformat_minor": 4
}
