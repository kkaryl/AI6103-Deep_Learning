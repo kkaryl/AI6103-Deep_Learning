{
 "cells": [
  {
   "cell_type": "markdown",
   "metadata": {},
   "source": [
    "# Lab 03 : LeNet5 architecture - exercise"
   ]
  },
  {
   "cell_type": "code",
   "execution_count": 1,
   "metadata": {},
   "outputs": [],
   "source": [
    "# For Google Colaboratory\n",
    "import sys, os\n",
    "if 'google.colab' in sys.modules:\n",
    "    # mount google drive\n",
    "    from google.colab import drive\n",
    "    drive.mount('/content/gdrive')\n",
    "    # find automatically the path of the folder containing \"file_name\" :\n",
    "    file_name = 'lenet5_exercise.ipynb'\n",
    "    import subprocess\n",
    "    path_to_file = subprocess.check_output('find . -type f -name ' + str(file_name), shell=True).decode(\"utf-8\")\n",
    "    path_to_file = path_to_file.replace(file_name,\"\").replace('\\n',\"\")\n",
    "    # if previous search failed or too long, comment the previous line and simply write down manually the path below :\n",
    "    #path_to_file = '/content/gdrive/My Drive/AI6103_2020_codes/codes/labs_lecture08/lab03_lenet5'\n",
    "    print(path_to_file)\n",
    "    # change current path to the folder containing \"file_name\"\n",
    "    os.chdir(path_to_file)\n",
    "    !pwd\n",
    "    "
   ]
  },
  {
   "cell_type": "code",
   "execution_count": 2,
   "metadata": {},
   "outputs": [],
   "source": [
    "import torch\n",
    "import torch.nn as nn\n",
    "import torch.nn.functional as F\n",
    "import torch.optim as optim\n",
    "from random import randint\n",
    "import utils\n",
    "import time"
   ]
  },
  {
   "cell_type": "markdown",
   "metadata": {},
   "source": [
    "### With or without GPU?\n",
    "\n",
    "It is recommended to run this code on GPU:<br> \n",
    "* Time for 1 epoch on CPU : 96 sec (1.62 min)<br> \n",
    "* Time for 1 epoch on GPU : 2 sec w/ GeForce GTX 1080 Ti <br>"
   ]
  },
  {
   "cell_type": "code",
   "execution_count": 3,
   "metadata": {},
   "outputs": [
    {
     "name": "stdout",
     "output_type": "stream",
     "text": [
      "cuda\n"
     ]
    }
   ],
   "source": [
    "device= torch.device(\"cuda\")\n",
    "#device= torch.device(\"cpu\")\n",
    "print(device)"
   ]
  },
  {
   "cell_type": "markdown",
   "metadata": {},
   "source": [
    "### Download the MNIST dataset "
   ]
  },
  {
   "cell_type": "code",
   "execution_count": 4,
   "metadata": {},
   "outputs": [
    {
     "name": "stdout",
     "output_type": "stream",
     "text": [
      "torch.Size([60000, 28, 28])\n",
      "torch.Size([10000, 28, 28])\n"
     ]
    }
   ],
   "source": [
    "from utils import check_mnist_dataset_exists\n",
    "data_path=check_mnist_dataset_exists()\n",
    "\n",
    "train_data=torch.load(data_path+'mnist/train_data.pt')\n",
    "train_label=torch.load(data_path+'mnist/train_label.pt')\n",
    "test_data=torch.load(data_path+'mnist/test_data.pt')\n",
    "test_label=torch.load(data_path+'mnist/test_label.pt')\n",
    "\n",
    "print(train_data.size())\n",
    "print(test_data.size())"
   ]
  },
  {
   "cell_type": "markdown",
   "metadata": {},
   "source": [
    "### Compute average pixel intensity over all training set and all channels"
   ]
  },
  {
   "cell_type": "code",
   "execution_count": 5,
   "metadata": {},
   "outputs": [
    {
     "name": "stdout",
     "output_type": "stream",
     "text": [
      "tensor(0.1307)\n"
     ]
    }
   ],
   "source": [
    "mean= train_data.mean()\n",
    "\n",
    "print(mean)"
   ]
  },
  {
   "cell_type": "markdown",
   "metadata": {},
   "source": [
    "### Compute standard deviation"
   ]
  },
  {
   "cell_type": "code",
   "execution_count": 6,
   "metadata": {},
   "outputs": [
    {
     "name": "stdout",
     "output_type": "stream",
     "text": [
      "tensor(0.3081)\n"
     ]
    }
   ],
   "source": [
    "std= train_data.std()\n",
    "\n",
    "print(std)"
   ]
  },
  {
   "cell_type": "markdown",
   "metadata": {},
   "source": [
    "### Make a LeNet5 convnet class. "
   ]
  },
  {
   "cell_type": "code",
   "execution_count": 7,
   "metadata": {},
   "outputs": [],
   "source": [
    "class LeNet5_convnet(nn.Module):\n",
    "\n",
    "    def __init__(self):\n",
    "\n",
    "        super(LeNet5_convnet, self).__init__()\n",
    "\n",
    "        # CL1:   28 x 28  -->    50 x 28 x 28 \n",
    "        self.conv1 = nn.Conv2d(1,   50,  kernel_size=3,  padding=1 )\n",
    "        \n",
    "        # MP1: 50 x 28 x 28 -->    50 x 14 x 14\n",
    "        self.pool1  = nn.MaxPool2d(2,2)\n",
    "        \n",
    "        # CL2:   50 x 14 x 14  -->    100 x 14 x 14 \n",
    "        self.conv2 = nn.Conv2d(50,   100,  kernel_size=3,  padding=1 ) # COMPLETE HERE\n",
    "        \n",
    "        # MP2: 100 x 14 x 14 -->    100 x 7 x 7\n",
    "        self.pool2 = nn.MaxPool2d(2,2) # COMPLETE HERE\n",
    "        \n",
    "        # LL1:   100 x 7 x 7 = 4900 -->  100 \n",
    "        self.linear1 = nn.Linear(4900, 100) # COMPLETE HERE\n",
    "        \n",
    "        # LL2:   100  -->  10 \n",
    "        self.linear2 = nn.Linear(100, 10) # COMPLETE HERE\n",
    "\n",
    "\n",
    "    def forward(self, x):\n",
    "\n",
    "        # CL1:   28 x 28  -->    50 x 28 x 28 \n",
    "        x = self.conv1(x)\n",
    "        x = F.relu(x)\n",
    "        \n",
    "        # MP1: 50 x 28 x 28 -->    50 x 14 x 14\n",
    "        x = self.pool1(x)\n",
    "        \n",
    "        # CL2:   50 x 14 x 14  -->    100 x 14 x 14\n",
    "        x = self.conv2(x) # COMPLETE HERE\n",
    "        x = F.relu(x) # COMPLETE HERE\n",
    "        \n",
    "        # MP2: 100 x 14 x 14 -->    100 x 7 x 7\n",
    "        x = self.pool2(x) # COMPLETE HERE\n",
    "\n",
    "        # LL1:   100 x 7 x 7 = 4900  -->  100 \n",
    "        x = x.view(-1, 4900)\n",
    "        x = self.linear1(x) # COMPLETE HERE\n",
    "        x = F.relu(x)# COMPLETE HERE\n",
    "        \n",
    "        # LL2:   4900  -->  10 \n",
    "        x = self.linear2(x) # COMPLETE HERE\n",
    "    \n",
    "        return x"
   ]
  },
  {
   "cell_type": "markdown",
   "metadata": {},
   "source": [
    "### Build the net. How many parameters in total?"
   ]
  },
  {
   "cell_type": "code",
   "execution_count": 9,
   "metadata": {},
   "outputs": [
    {
     "name": "stdout",
     "output_type": "stream",
     "text": [
      "LeNet5_convnet(\n",
      "  (conv1): Conv2d(1, 50, kernel_size=(3, 3), stride=(1, 1), padding=(1, 1))\n",
      "  (pool1): MaxPool2d(kernel_size=2, stride=2, padding=0, dilation=1, ceil_mode=False)\n",
      "  (conv2): Conv2d(50, 100, kernel_size=(3, 3), stride=(1, 1), padding=(1, 1))\n",
      "  (pool2): MaxPool2d(kernel_size=2, stride=2, padding=0, dilation=1, ceil_mode=False)\n",
      "  (linear1): Linear(in_features=4900, out_features=100, bias=True)\n",
      "  (linear2): Linear(in_features=100, out_features=10, bias=True)\n",
      ")\n",
      "There are 536710 (0.54 million) parameters in this neural network\n"
     ]
    }
   ],
   "source": [
    "net= LeNet5_convnet() # COMPLETE HERE\n",
    "print(net)\n",
    "utils.display_num_param(net)"
   ]
  },
  {
   "cell_type": "markdown",
   "metadata": {},
   "source": [
    "### Send the weights of the networks to the GPU (as well as the mean and std)"
   ]
  },
  {
   "cell_type": "code",
   "execution_count": 10,
   "metadata": {},
   "outputs": [],
   "source": [
    "net = net.to(device) # COMPLETE HERE\n",
    "\n",
    "mean=mean.to(device)\n",
    "\n",
    "std=std.to(device)"
   ]
  },
  {
   "cell_type": "markdown",
   "metadata": {},
   "source": [
    "### Choose the criterion, batch size, and initial learning rate. Select the following:\n",
    "* batch size =128\n",
    "* initial learning rate =0.25"
   ]
  },
  {
   "cell_type": "code",
   "execution_count": 11,
   "metadata": {},
   "outputs": [],
   "source": [
    "criterion = nn.CrossEntropyLoss()\n",
    "\n",
    "my_lr= 0.25 # COMPLETE HERE\n",
    "\n",
    "bs= 128 # COMPLETE HERE"
   ]
  },
  {
   "cell_type": "markdown",
   "metadata": {},
   "source": [
    "### Function to evaluate the network on the test set"
   ]
  },
  {
   "cell_type": "code",
   "execution_count": 12,
   "metadata": {},
   "outputs": [],
   "source": [
    "def eval_on_test_set():\n",
    "\n",
    "    running_error=0\n",
    "    num_batches=0\n",
    "\n",
    "    for i in range(0,10000,bs):\n",
    "\n",
    "        minibatch_data =  test_data[i:i+bs].unsqueeze(dim=1)\n",
    "        minibatch_label= test_label[i:i+bs]\n",
    "\n",
    "        minibatch_data=minibatch_data.to(device)\n",
    "        minibatch_label=minibatch_label.to(device)\n",
    "        \n",
    "        inputs = (minibatch_data - mean)/std    \n",
    "\n",
    "        scores=net( inputs ) \n",
    "\n",
    "        error = utils.get_error( scores , minibatch_label)\n",
    "\n",
    "        running_error += error.item()\n",
    "\n",
    "        num_batches+=1\n",
    "\n",
    "\n",
    "    total_error = running_error/num_batches\n",
    "    print( 'error rate on test set =', total_error*100 ,'percent')"
   ]
  },
  {
   "cell_type": "markdown",
   "metadata": {},
   "source": [
    "### Do 30 passes through the training set. Divide the learning rate by 2 every 5 epochs."
   ]
  },
  {
   "cell_type": "code",
   "execution_count": 14,
   "metadata": {},
   "outputs": [
    {
     "name": "stdout",
     "output_type": "stream",
     "text": [
      "epoch= 1 \t time= 0.10439484119415283 min \t lr= 0.25 \t loss= 0.2770832033156713 \t error= 8.674262607021372 percent\n",
      "error rate on test set = 1.4042721518987342 percent\n",
      " \n",
      "epoch= 2 \t time= 0.15437317689259847 min \t lr= 0.25 \t loss= 0.04671709871650346 \t error= 1.4675506396588485 percent\n",
      "error rate on test set = 1.1075949367088607 percent\n",
      " \n",
      "epoch= 3 \t time= 0.20469566186269125 min \t lr= 0.25 \t loss= 0.031753251072901015 \t error= 0.9983564236525025 percent\n",
      "error rate on test set = 1.8097310126582278 percent\n",
      " \n",
      "epoch= 4 \t time= 0.25493478775024414 min \t lr= 0.25 \t loss= 0.023633594406388406 \t error= 0.7201714556354449 percent\n",
      "error rate on test set = 0.949367088607595 percent\n",
      " \n",
      "epoch= 5 \t time= 0.3061773180961609 min \t lr= 0.125 \t loss= 0.012831528342504209 \t error= 0.34814765458422176 percent\n",
      "error rate on test set = 0.7911392405063291 percent\n",
      " \n",
      "epoch= 6 \t time= 0.35704590876897174 min \t lr= 0.125 \t loss= 0.00980326863891159 \t error= 0.2365405117270789 percent\n",
      "error rate on test set = 0.7219145569620253 percent\n",
      " \n",
      "epoch= 7 \t time= 0.40764558712641397 min \t lr= 0.125 \t loss= 0.007975144593422658 \t error= 0.21488539445628999 percent\n",
      "error rate on test set = 0.7614715189873418 percent\n",
      " \n",
      "epoch= 8 \t time= 0.4588985204696655 min \t lr= 0.125 \t loss= 0.006629850760047415 \t error= 0.17157515991471217 percent\n",
      "error rate on test set = 0.8208069620253164 percent\n",
      " \n",
      "epoch= 9 \t time= 0.5102190216382344 min \t lr= 0.125 \t loss= 0.005756328931232956 \t error= 0.14325692963752668 percent\n",
      "error rate on test set = 0.6724683544303798 percent\n",
      " \n",
      "epoch= 10 \t time= 0.5616757869720459 min \t lr= 0.0625 \t loss= 0.0035841521183485542 \t error= 0.07162846481876334 percent\n",
      "error rate on test set = 0.78125 percent\n",
      " \n",
      "epoch= 11 \t time= 0.6129624724388123 min \t lr= 0.0625 \t loss= 0.0031290353708328363 \t error= 0.056636460554371 percent\n",
      "error rate on test set = 0.7219145569620253 percent\n",
      " \n",
      "epoch= 12 \t time= 0.6658931175867716 min \t lr= 0.0625 \t loss= 0.0027496426675598625 \t error= 0.04997334754797442 percent\n",
      "error rate on test set = 0.7515822784810127 percent\n",
      " \n",
      "epoch= 13 \t time= 0.7180058479309082 min \t lr= 0.0625 \t loss= 0.0024441246075702383 \t error= 0.03664712153518124 percent\n",
      "error rate on test set = 0.7911392405063291 percent\n",
      " \n",
      "epoch= 14 \t time= 0.770358939965566 min \t lr= 0.0625 \t loss= 0.0022218213171014242 \t error= 0.03331556503198294 percent\n",
      "error rate on test set = 0.8208069620253164 percent\n",
      " \n",
      "epoch= 15 \t time= 0.8225313663482666 min \t lr= 0.03125 \t loss= 0.0018411110310918534 \t error= 0.0283182302771855 percent\n",
      "error rate on test set = 0.8208069620253164 percent\n",
      " \n",
      "epoch= 16 \t time= 0.8755624453226726 min \t lr= 0.03125 \t loss= 0.0017145306754091914 \t error= 0.01832356076759062 percent\n",
      "error rate on test set = 0.78125 percent\n",
      " \n",
      "epoch= 17 \t time= 0.9279661496480306 min \t lr= 0.03125 \t loss= 0.0016066207722370256 \t error= 0.01665778251599147 percent\n",
      "error rate on test set = 0.7911392405063291 percent\n",
      " \n",
      "epoch= 18 \t time= 0.9803748250007629 min \t lr= 0.03125 \t loss= 0.001537444814817012 \t error= 0.01665778251599147 percent\n",
      "error rate on test set = 0.8208069620253164 percent\n",
      " \n",
      "epoch= 19 \t time= 1.0320630311965941 min \t lr= 0.03125 \t loss= 0.001471454720064039 \t error= 0.019989339019189766 percent\n",
      "error rate on test set = 0.78125 percent\n",
      " \n",
      "epoch= 20 \t time= 1.0849499344825744 min \t lr= 0.015625 \t loss= 0.0013338957033527177 \t error= 0.013326226012793176 percent\n",
      "error rate on test set = 0.8010284810126581 percent\n",
      " \n",
      "epoch= 21 \t time= 1.1381130615870159 min \t lr= 0.015625 \t loss= 0.0013128949861084523 \t error= 0.010549920454208276 percent\n",
      "error rate on test set = 0.7911392405063291 percent\n",
      " \n",
      "epoch= 22 \t time= 1.1905999342600504 min \t lr= 0.015625 \t loss= 0.0012751599826073161 \t error= 0.013326226012793176 percent\n",
      "error rate on test set = 0.7911392405063291 percent\n",
      " \n",
      "epoch= 23 \t time= 1.2443481087684631 min \t lr= 0.015625 \t loss= 0.0012229558699573802 \t error= 0.011660447761194029 percent\n",
      "error rate on test set = 0.8306962025316454 percent\n",
      " \n",
      "epoch= 24 \t time= 1.3005030473073325 min \t lr= 0.015625 \t loss= 0.0012028626229572505 \t error= 0.013326226012793176 percent\n",
      "error rate on test set = 0.7911392405063291 percent\n",
      " \n",
      "epoch= 25 \t time= 1.3543993711471558 min \t lr= 0.0078125 \t loss= 0.0011488391465332545 \t error= 0.008328891257995736 percent\n",
      "error rate on test set = 0.8109177215189873 percent\n",
      " \n",
      "epoch= 26 \t time= 1.4079492568969727 min \t lr= 0.0078125 \t loss= 0.0011374488573770278 \t error= 0.009994669509594883 percent\n",
      "error rate on test set = 0.7911392405063291 percent\n",
      " \n",
      "epoch= 27 \t time= 1.461251191298167 min \t lr= 0.0078125 \t loss= 0.0011213898106865626 \t error= 0.008328891257995736 percent\n",
      "error rate on test set = 0.7911392405063291 percent\n",
      " \n",
      "epoch= 28 \t time= 1.5136219620704652 min \t lr= 0.0078125 \t loss= 0.0011115883859322477 \t error= 0.009994669509594883 percent\n",
      "error rate on test set = 0.7911392405063291 percent\n",
      " \n",
      "epoch= 29 \t time= 1.5660934646924336 min \t lr= 0.0078125 \t loss= 0.0010985496319607143 \t error= 0.009994669509594883 percent\n",
      "error rate on test set = 0.7911392405063291 percent\n",
      " \n"
     ]
    }
   ],
   "source": [
    "start=time.time()\n",
    "\n",
    "for epoch in range(1,30):\n",
    "    \n",
    "    if not epoch%5:\n",
    "        my_lr = my_lr / 2 # COMPLETE HERE\n",
    "        \n",
    "    optimizer=torch.optim.SGD( net.parameters() , lr=my_lr )\n",
    "        \n",
    "    running_loss=0\n",
    "    running_error=0\n",
    "    num_batches=0\n",
    "    \n",
    "    shuffled_indices=torch.randperm(60000)\n",
    " \n",
    "    for count in range(0,60000,bs):\n",
    "        \n",
    "        # FORWARD AND BACKWARD PASS\n",
    "    \n",
    "        optimizer.zero_grad()\n",
    "             \n",
    "        indices=shuffled_indices[count:count+bs]\n",
    "        minibatch_data =  train_data[indices].unsqueeze(dim=1)\n",
    "        minibatch_label=  train_label[indices]\n",
    "        \n",
    "        minibatch_data=minibatch_data.to(device)\n",
    "        minibatch_label=minibatch_label.to(device)\n",
    "        \n",
    "        inputs = (minibatch_data - mean)/std      \n",
    "        \n",
    "        inputs.requires_grad_()\n",
    "\n",
    "        scores=net( inputs ) \n",
    "\n",
    "        loss =  criterion( scores , minibatch_label) \n",
    "          \n",
    "        loss.backward()\n",
    "        \n",
    "        optimizer.step()\n",
    "        \n",
    "\n",
    "        # COMPUTE STATS\n",
    "        \n",
    "        running_loss += loss.detach().item()\n",
    "        \n",
    "        error = utils.get_error( scores.detach() , minibatch_label)\n",
    "        running_error += error.item()\n",
    "        \n",
    "        num_batches+=1        \n",
    "    \n",
    "    \n",
    "    # AVERAGE STATS THEN DISPLAY\n",
    "    total_loss = running_loss/num_batches\n",
    "    total_error = running_error/num_batches\n",
    "    elapsed = (time.time()-start)/60\n",
    "    \n",
    "    print('epoch=',epoch, '\\t time=', elapsed,'min', '\\t lr=', my_lr  ,'\\t loss=', total_loss , '\\t error=', total_error*100 ,'percent')\n",
    "    eval_on_test_set() \n",
    "    print(' ')\n",
    "    \n",
    "    "
   ]
  },
  {
   "cell_type": "markdown",
   "metadata": {},
   "source": [
    "### Choose image at random from the test set and see how good/bad are the predictions"
   ]
  },
  {
   "cell_type": "code",
   "execution_count": 15,
   "metadata": {},
   "outputs": [
    {
     "data": {
      "image/png": "[encoded data removed]",
      "text/plain": [
       "<Figure size 432x288 with 1 Axes>"
      ]
     },
     "metadata": {
      "needs_background": "light"
     },
     "output_type": "display_data"
    },
    {
     "data": {
      "image/png": "[encoded data removed]",
      "text/plain": [
       "<Figure size 640x480 with 1 Axes>"
      ]
     },
     "metadata": {},
     "output_type": "display_data"
    }
   ],
   "source": [
    "# choose a picture at random\n",
    "idx=randint(0, 10000-1)\n",
    "im=test_data[idx]\n",
    "\n",
    "# diplay the picture\n",
    "utils.show(im)\n",
    "\n",
    "# send to device, rescale, and view as a batch of 1 \n",
    "im = im.to(device)\n",
    "im= (im-mean) / std\n",
    "im=im.view(1,28,28).unsqueeze(dim=1)\n",
    "\n",
    "# feed it to the net and display the confidence scores\n",
    "scores =  net(im) \n",
    "probs= F.softmax(scores, dim=1)\n",
    "utils.show_prob_mnist(probs.cpu())"
   ]
  },
  {
   "cell_type": "code",
   "execution_count": null,
   "metadata": {},
   "outputs": [],
   "source": []
  }
 ],
 "metadata": {
  "kernelspec": {
   "display_name": "Python 3",
   "language": "python",
   "name": "python3"
  },
  "language_info": {
   "codemirror_mode": {
    "name": "ipython",
    "version": 3
   },
   "file_extension": ".py",
   "mimetype": "text/x-python",
   "name": "python",
   "nbconvert_exporter": "python",
   "pygments_lexer": "ipython3",
   "version": "3.6.10"
  }
 },
 "nbformat": 4,
 "nbformat_minor": 4
}
