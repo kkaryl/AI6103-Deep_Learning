{
 "cells": [
  {
   "cell_type": "markdown",
   "metadata": {},
   "source": [
    "# Lab 03 : LeNet5 architecture - exercise"
   ]
  },
  {
   "cell_type": "code",
   "execution_count": 1,
   "metadata": {},
   "outputs": [],
   "source": [
    "# For Google Colaboratory\n",
    "import sys, os\n",
    "if 'google.colab' in sys.modules:\n",
    "    # mount google drive\n",
    "    from google.colab import drive\n",
    "    drive.mount('/content/gdrive')\n",
    "    # find automatically the path of the folder containing \"file_name\" :\n",
    "    file_name = 'lenet5_exercise.ipynb'\n",
    "    import subprocess\n",
    "    path_to_file = subprocess.check_output('find . -type f -name ' + str(file_name), shell=True).decode(\"utf-8\")\n",
    "    path_to_file = path_to_file.replace(file_name,\"\").replace('\\n',\"\")\n",
    "    # if previous search failed or too long, comment the previous line and simply write down manually the path below :\n",
    "    #path_to_file = '/content/gdrive/My Drive/AI6103_2020_codes/codes/labs_lecture08/lab03_lenet5'\n",
    "    print(path_to_file)\n",
    "    # change current path to the folder containing \"file_name\"\n",
    "    os.chdir(path_to_file)\n",
    "    !pwd\n",
    "    "
   ]
  },
  {
   "cell_type": "code",
   "execution_count": 2,
   "metadata": {},
   "outputs": [],
   "source": [
    "import torch\n",
    "import torch.nn as nn\n",
    "import torch.nn.functional as F\n",
    "import torch.optim as optim\n",
    "from random import randint\n",
    "import utils\n",
    "import time"
   ]
  },
  {
   "cell_type": "markdown",
   "metadata": {},
   "source": [
    "### With or without GPU?\n",
    "\n",
    "It is recommended to run this code on GPU:<br> \n",
    "* Time for 1 epoch on CPU : 96 sec (1.62 min)<br> \n",
    "* Time for 1 epoch on GPU : 2 sec w/ GeForce GTX 1080 Ti <br>"
   ]
  },
  {
   "cell_type": "code",
   "execution_count": 3,
   "metadata": {},
   "outputs": [
    {
     "name": "stdout",
     "output_type": "stream",
     "text": [
      "cuda\n"
     ]
    }
   ],
   "source": [
    "device= torch.device(\"cuda\")\n",
    "#device= torch.device(\"cpu\")\n",
    "print(device)"
   ]
  },
  {
   "cell_type": "markdown",
   "metadata": {},
   "source": [
    "### Download the MNIST dataset "
   ]
  },
  {
   "cell_type": "code",
   "execution_count": 4,
   "metadata": {},
   "outputs": [
    {
     "name": "stdout",
     "output_type": "stream",
     "text": [
      "torch.Size([60000, 28, 28])\n",
      "torch.Size([10000, 28, 28])\n"
     ]
    }
   ],
   "source": [
    "from utils import check_mnist_dataset_exists\n",
    "data_path=check_mnist_dataset_exists()\n",
    "\n",
    "train_data=torch.load(data_path+'mnist/train_data.pt')\n",
    "train_label=torch.load(data_path+'mnist/train_label.pt')\n",
    "test_data=torch.load(data_path+'mnist/test_data.pt')\n",
    "test_label=torch.load(data_path+'mnist/test_label.pt')\n",
    "\n",
    "print(train_data.size())\n",
    "print(test_data.size())"
   ]
  },
  {
   "cell_type": "markdown",
   "metadata": {},
   "source": [
    "### Compute average pixel intensity over all training set and all channels"
   ]
  },
  {
   "cell_type": "code",
   "execution_count": 5,
   "metadata": {},
   "outputs": [
    {
     "name": "stdout",
     "output_type": "stream",
     "text": [
      "tensor(0.1307)\n"
     ]
    }
   ],
   "source": [
    "mean= train_data.mean()\n",
    "\n",
    "print(mean)"
   ]
  },
  {
   "cell_type": "markdown",
   "metadata": {},
   "source": [
    "### Compute standard deviation"
   ]
  },
  {
   "cell_type": "code",
   "execution_count": 6,
   "metadata": {},
   "outputs": [
    {
     "name": "stdout",
     "output_type": "stream",
     "text": [
      "tensor(0.3081)\n"
     ]
    }
   ],
   "source": [
    "std= train_data.std()\n",
    "\n",
    "print(std)"
   ]
  },
  {
   "cell_type": "markdown",
   "metadata": {},
   "source": [
    "### Make a LeNet5 convnet class. "
   ]
  },
  {
   "cell_type": "code",
   "execution_count": 7,
   "metadata": {},
   "outputs": [],
   "source": [
    "class LeNet5_convnet(nn.Module):\n",
    "\n",
    "    def __init__(self):\n",
    "\n",
    "        super(LeNet5_convnet, self).__init__()\n",
    "\n",
    "        # CL1:   28 x 28  -->    50 x 28 x 28 \n",
    "        self.conv1 = nn.Conv2d(1,   50,  kernel_size=3,  padding=1 )\n",
    "        \n",
    "        # MP1: 50 x 28 x 28 -->    50 x 14 x 14\n",
    "        self.pool1  = nn.MaxPool2d(2,2)\n",
    "        \n",
    "        # CL2:   50 x 14 x 14  -->    100 x 14 x 14 \n",
    "        self.conv2 = nn.Conv2d(50,   100,  kernel_size=3,  padding=1 ) # COMPLETE HERE\n",
    "        \n",
    "        # MP2: 100 x 14 x 14 -->    100 x 7 x 7\n",
    "        self.pool2 = nn.MaxPool2d(2,2) # COMPLETE HERE\n",
    "        \n",
    "        # LL1:   100 x 7 x 7 = 4900 -->  100 \n",
    "        self.linear1 = nn.Linear(4900, 100) # COMPLETE HERE\n",
    "        \n",
    "        # LL2:   100  -->  10 \n",
    "        self.linear2 = nn.Linear(100, 10) # COMPLETE HERE\n",
    "\n",
    "\n",
    "    def forward(self, x):\n",
    "\n",
    "        # CL1:   28 x 28  -->    50 x 28 x 28 \n",
    "        x = self.conv1(x)\n",
    "        x = F.relu(x)\n",
    "        \n",
    "        # MP1: 50 x 28 x 28 -->    50 x 14 x 14\n",
    "        x = self.pool1(x)\n",
    "        \n",
    "        # CL2:   50 x 14 x 14  -->    100 x 14 x 14\n",
    "        x = self.conv2(x) # COMPLETE HERE\n",
    "        x = F.relu(x) # COMPLETE HERE\n",
    "        \n",
    "        # MP2: 100 x 14 x 14 -->    100 x 7 x 7\n",
    "        x = self.pool2(x) # COMPLETE HERE\n",
    "\n",
    "        # LL1:   100 x 7 x 7 = 4900  -->  100 \n",
    "        x = x.view(-1, 4900)\n",
    "        x = self.linear1(x) # COMPLETE HERE\n",
    "        x = F.relu(x)# COMPLETE HERE\n",
    "        \n",
    "        # LL2:   4900  -->  10 \n",
    "        x = self.linear2(x) # COMPLETE HERE\n",
    "    \n",
    "        return x"
   ]
  },
  {
   "cell_type": "markdown",
   "metadata": {},
   "source": [
    "### Build the net. How many parameters in total?"
   ]
  },
  {
   "cell_type": "code",
   "execution_count": 8,
   "metadata": {},
   "outputs": [
    {
     "name": "stdout",
     "output_type": "stream",
     "text": [
      "LeNet5_convnet(\n",
      "  (conv1): Conv2d(1, 50, kernel_size=(3, 3), stride=(1, 1), padding=(1, 1))\n",
      "  (pool1): MaxPool2d(kernel_size=2, stride=2, padding=0, dilation=1, ceil_mode=False)\n",
      "  (conv2): Conv2d(50, 100, kernel_size=(3, 3), stride=(1, 1), padding=(1, 1))\n",
      "  (pool2): MaxPool2d(kernel_size=2, stride=2, padding=0, dilation=1, ceil_mode=False)\n",
      "  (linear1): Linear(in_features=4900, out_features=100, bias=True)\n",
      "  (linear2): Linear(in_features=100, out_features=10, bias=True)\n",
      ")\n",
      "There are 536710 (0.54 million) parameters in this neural network\n"
     ]
    }
   ],
   "source": [
    "net= LeNet5_convnet() # COMPLETE HERE\n",
    "print(net)\n",
    "utils.display_num_param(net)"
   ]
  },
  {
   "cell_type": "markdown",
   "metadata": {},
   "source": [
    "### Send the weights of the networks to the GPU (as well as the mean and std)"
   ]
  },
  {
   "cell_type": "code",
   "execution_count": 9,
   "metadata": {},
   "outputs": [],
   "source": [
    "net = net.to(device) # COMPLETE HERE\n",
    "\n",
    "mean=mean.to(device)\n",
    "\n",
    "std=std.to(device)"
   ]
  },
  {
   "cell_type": "markdown",
   "metadata": {},
   "source": [
    "### Choose the criterion, batch size, and initial learning rate. Select the following:\n",
    "* batch size =128\n",
    "* initial learning rate =0.25"
   ]
  },
  {
   "cell_type": "code",
   "execution_count": 10,
   "metadata": {},
   "outputs": [],
   "source": [
    "criterion = nn.CrossEntropyLoss()\n",
    "\n",
    "my_lr= 0.25 # COMPLETE HERE\n",
    "\n",
    "bs= 128 # COMPLETE HERE"
   ]
  },
  {
   "cell_type": "markdown",
   "metadata": {},
   "source": [
    "### Function to evaluate the network on the test set"
   ]
  },
  {
   "cell_type": "code",
   "execution_count": 11,
   "metadata": {},
   "outputs": [],
   "source": [
    "def eval_on_test_set():\n",
    "\n",
    "    running_error=0\n",
    "    num_batches=0\n",
    "\n",
    "    for i in range(0,10000,bs):\n",
    "\n",
    "        minibatch_data =  test_data[i:i+bs].unsqueeze(dim=1)\n",
    "        minibatch_label= test_label[i:i+bs]\n",
    "\n",
    "        minibatch_data=minibatch_data.to(device)\n",
    "        minibatch_label=minibatch_label.to(device)\n",
    "        \n",
    "        inputs = (minibatch_data - mean)/std    \n",
    "\n",
    "        scores=net( inputs ) \n",
    "\n",
    "        error = utils.get_error( scores , minibatch_label)\n",
    "\n",
    "        running_error += error.item()\n",
    "\n",
    "        num_batches+=1\n",
    "\n",
    "\n",
    "    total_error = running_error/num_batches\n",
    "    print( 'error rate on test set =', total_error*100 ,'percent')"
   ]
  },
  {
   "cell_type": "markdown",
   "metadata": {},
   "source": [
    "### Do 30 passes through the training set. Divide the learning rate by 2 every 5 epochs."
   ]
  },
  {
   "cell_type": "code",
   "execution_count": 12,
   "metadata": {},
   "outputs": [
    {
     "name": "stdout",
     "output_type": "stream",
     "text": [
      "epoch= 1 \t time= 0.09369543393452963 min \t lr= 0.25 \t loss= 0.2345358590329332 \t error= 7.513770429310259 percent\n",
      "error rate on test set = 1.9580696202531647 percent\n",
      " \n",
      "epoch= 2 \t time= 0.15369338591893514 min \t lr= 0.25 \t loss= 0.045880958122183395 \t error= 1.4136904719541832 percent\n",
      "error rate on test set = 1.0185917721518989 percent\n",
      " \n",
      "epoch= 3 \t time= 0.21904703776041667 min \t lr= 0.25 \t loss= 0.029889348068776956 \t error= 0.9195095948827291 percent\n",
      "error rate on test set = 0.9592563291139241 percent\n",
      " \n",
      "epoch= 4 \t time= 0.2821384032567342 min \t lr= 0.25 \t loss= 0.02197421679788553 \t error= 0.6763059701492536 percent\n",
      "error rate on test set = 0.7614715189873418 percent\n",
      " \n",
      "epoch= 5 \t time= 0.34339364767074587 min \t lr= 0.125 \t loss= 0.011988521179383886 \t error= 0.3614738805970149 percent\n",
      "error rate on test set = 0.7219145569620253 percent\n",
      " \n",
      "epoch= 6 \t time= 0.40574605464935304 min \t lr= 0.125 \t loss= 0.008988459941807952 \t error= 0.24320362473347548 percent\n",
      "error rate on test set = 0.7120253164556962 percent\n",
      " \n",
      "epoch= 7 \t time= 0.4683991988499959 min \t lr= 0.125 \t loss= 0.006990903767564499 \t error= 0.18490138592750532 percent\n",
      "error rate on test set = 0.613132911392405 percent\n",
      " \n",
      "epoch= 8 \t time= 0.533470344543457 min \t lr= 0.125 \t loss= 0.005651769024738943 \t error= 0.1449227078891258 percent\n",
      "error rate on test set = 0.78125 percent\n",
      " \n",
      "epoch= 9 \t time= 0.5961640397707622 min \t lr= 0.125 \t loss= 0.004520608092373885 \t error= 0.09328358208955223 percent\n",
      "error rate on test set = 0.7713607594936709 percent\n",
      " \n",
      "epoch= 10 \t time= 0.6592334111531576 min \t lr= 0.0625 \t loss= 0.003031238150654243 \t error= 0.04997334754797442 percent\n",
      "error rate on test set = 0.6922468354430379 percent\n",
      " \n",
      "epoch= 11 \t time= 0.72207692861557 min \t lr= 0.0625 \t loss= 0.0025783429364562094 \t error= 0.03831289978678038 percent\n",
      "error rate on test set = 0.7416930379746836 percent\n",
      " \n",
      "epoch= 12 \t time= 0.7909645597139995 min \t lr= 0.0625 \t loss= 0.002332594320138317 \t error= 0.03664712153518124 percent\n",
      "error rate on test set = 0.7219145569620253 percent\n",
      " \n",
      "epoch= 13 \t time= 0.8582027435302735 min \t lr= 0.0625 \t loss= 0.0020581432025186964 \t error= 0.0316497867803838 percent\n",
      "error rate on test set = 0.7120253164556962 percent\n",
      " \n",
      "epoch= 14 \t time= 0.920804484685262 min \t lr= 0.0625 \t loss= 0.001897258534435964 \t error= 0.0283182302771855 percent\n",
      "error rate on test set = 0.7120253164556962 percent\n",
      " \n",
      "epoch= 15 \t time= 0.983115816116333 min \t lr= 0.03125 \t loss= 0.0015705522318870309 \t error= 0.021655117270788914 percent\n",
      "error rate on test set = 0.6922468354430379 percent\n",
      " \n",
      "epoch= 16 \t time= 1.0447990814844768 min \t lr= 0.03125 \t loss= 0.0014809149094650136 \t error= 0.01832356076759062 percent\n",
      "error rate on test set = 0.6823575949367089 percent\n",
      " \n",
      "epoch= 17 \t time= 1.10558522939682 min \t lr= 0.03125 \t loss= 0.0014050899186871697 \t error= 0.013326226012793176 percent\n",
      "error rate on test set = 0.7021360759493671 percent\n",
      " \n",
      "epoch= 18 \t time= 1.1667937278747558 min \t lr= 0.03125 \t loss= 0.0013579377096235952 \t error= 0.01832356076759062 percent\n",
      "error rate on test set = 0.6823575949367089 percent\n",
      " \n",
      "epoch= 19 \t time= 1.2311136921246846 min \t lr= 0.03125 \t loss= 0.001284733646313196 \t error= 0.011660447761194029 percent\n",
      "error rate on test set = 0.6526898734177216 percent\n",
      " \n",
      "epoch= 20 \t time= 1.2949774781862895 min \t lr= 0.015625 \t loss= 0.0011935795595363083 \t error= 0.014992004264392325 percent\n",
      "error rate on test set = 0.6922468354430379 percent\n",
      " \n",
      "epoch= 21 \t time= 1.3661661744117737 min \t lr= 0.015625 \t loss= 0.0011621080676534536 \t error= 0.013326226012793176 percent\n",
      "error rate on test set = 0.6625791139240506 percent\n",
      " \n",
      "epoch= 22 \t time= 1.4285595536231994 min \t lr= 0.015625 \t loss= 0.0011369914169328213 \t error= 0.011660447761194029 percent\n",
      "error rate on test set = 0.6724683544303798 percent\n",
      " \n",
      "epoch= 23 \t time= 1.4959002137184143 min \t lr= 0.015625 \t loss= 0.001115989957502095 \t error= 0.008328891257995736 percent\n",
      "error rate on test set = 0.6922468354430379 percent\n",
      " \n",
      "epoch= 24 \t time= 1.562735339005788 min \t lr= 0.015625 \t loss= 0.0010880985130656425 \t error= 0.009994669509594883 percent\n",
      "error rate on test set = 0.6823575949367089 percent\n",
      " \n",
      "epoch= 25 \t time= 1.6245640635490417 min \t lr= 0.0078125 \t loss= 0.0010492467837645112 \t error= 0.009994669509594883 percent\n",
      "error rate on test set = 0.6724683544303798 percent\n",
      " \n",
      "epoch= 26 \t time= 1.6853908141454061 min \t lr= 0.0078125 \t loss= 0.0010357896812849489 \t error= 0.009994669509594883 percent\n",
      "error rate on test set = 0.6724683544303798 percent\n",
      " \n",
      "epoch= 27 \t time= 1.7469540119171143 min \t lr= 0.0078125 \t loss= 0.0010268644932373888 \t error= 0.009994669509594883 percent\n",
      "error rate on test set = 0.6724683544303798 percent\n",
      " \n",
      "epoch= 28 \t time= 1.8115413109461467 min \t lr= 0.0078125 \t loss= 0.0010144182502885716 \t error= 0.008328891257995736 percent\n",
      "error rate on test set = 0.6724683544303798 percent\n",
      " \n",
      "epoch= 29 \t time= 1.8733430663744608 min \t lr= 0.0078125 \t loss= 0.0010043238911368543 \t error= 0.008328891257995736 percent\n",
      "error rate on test set = 0.6724683544303798 percent\n",
      " \n"
     ]
    }
   ],
   "source": [
    "start=time.time()\n",
    "\n",
    "for epoch in range(1,30):\n",
    "    \n",
    "    if not epoch%5:\n",
    "        my_lr = my_lr / 2 # COMPLETE HERE\n",
    "        \n",
    "    optimizer=torch.optim.SGD( net.parameters() , lr=my_lr )\n",
    "        \n",
    "    running_loss=0\n",
    "    running_error=0\n",
    "    num_batches=0\n",
    "    \n",
    "    shuffled_indices=torch.randperm(60000)\n",
    " \n",
    "    for count in range(0,60000,bs):\n",
    "        \n",
    "        # FORWARD AND BACKWARD PASS\n",
    "    \n",
    "        optimizer.zero_grad()\n",
    "             \n",
    "        indices=shuffled_indices[count:count+bs]\n",
    "        minibatch_data =  train_data[indices].unsqueeze(dim=1)\n",
    "        minibatch_label=  train_label[indices]\n",
    "        \n",
    "        minibatch_data=minibatch_data.to(device)\n",
    "        minibatch_label=minibatch_label.to(device)\n",
    "        \n",
    "        inputs = (minibatch_data - mean)/std      \n",
    "        \n",
    "        inputs.requires_grad_()\n",
    "\n",
    "        scores=net( inputs ) \n",
    "\n",
    "        loss =  criterion( scores , minibatch_label) \n",
    "          \n",
    "        loss.backward()\n",
    "        \n",
    "        optimizer.step()\n",
    "        \n",
    "\n",
    "        # COMPUTE STATS\n",
    "        \n",
    "        running_loss += loss.detach().item()\n",
    "        \n",
    "        error = utils.get_error( scores.detach() , minibatch_label)\n",
    "        running_error += error.item()\n",
    "        \n",
    "        num_batches+=1        \n",
    "    \n",
    "    \n",
    "    # AVERAGE STATS THEN DISPLAY\n",
    "    total_loss = running_loss/num_batches\n",
    "    total_error = running_error/num_batches\n",
    "    elapsed = (time.time()-start)/60\n",
    "    \n",
    "    print('epoch=',epoch, '\\t time=', elapsed,'min', '\\t lr=', my_lr  ,'\\t loss=', total_loss , '\\t error=', total_error*100 ,'percent')\n",
    "    eval_on_test_set() \n",
    "    print(' ')\n",
    "    \n",
    "    "
   ]
  },
  {
   "cell_type": "markdown",
   "metadata": {},
   "source": [
    "### Choose image at random from the test set and see how good/bad are the predictions"
   ]
  },
  {
   "cell_type": "code",
   "execution_count": 13,
   "metadata": {},
   "outputs": [
    {
     "data": {
      "image/png": "[encoded data removed]",
      "text/plain": [
       "<Figure size 432x288 with 1 Axes>"
      ]
     },
     "metadata": {
      "needs_background": "light"
     },
     "output_type": "display_data"
    },
    {
     "data": {
      "image/png": "[encoded data removed]",
      "text/plain": [
       "<Figure size 640x480 with 1 Axes>"
      ]
     },
     "metadata": {},
     "output_type": "display_data"
    }
   ],
   "source": [
    "# choose a picture at random\n",
    "idx=randint(0, 10000-1)\n",
    "im=test_data[idx]\n",
    "\n",
    "# diplay the picture\n",
    "utils.show(im)\n",
    "\n",
    "# send to device, rescale, and view as a batch of 1 \n",
    "im = im.to(device)\n",
    "im= (im-mean) / std\n",
    "im=im.view(1,28,28).unsqueeze(dim=1)\n",
    "\n",
    "# feed it to the net and display the confidence scores\n",
    "scores =  net(im) \n",
    "probs= F.softmax(scores, dim=1)\n",
    "utils.show_prob_mnist(probs.cpu())"
   ]
  },
  {
   "cell_type": "code",
   "execution_count": null,
   "metadata": {},
   "outputs": [],
   "source": []
  }
 ],
 "metadata": {
  "kernelspec": {
   "display_name": "Python 3",
   "language": "python",
   "name": "python3"
  },
  "language_info": {
   "codemirror_mode": {
    "name": "ipython",
    "version": 3
   },
   "file_extension": ".py",
   "mimetype": "text/x-python",
   "name": "python",
   "nbconvert_exporter": "python",
   "pygments_lexer": "ipython3",
   "version": "3.6.10"
  }
 },
 "nbformat": 4,
 "nbformat_minor": 4
}
