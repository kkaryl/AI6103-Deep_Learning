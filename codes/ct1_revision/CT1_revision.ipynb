{
 "cells": [
  {
   "cell_type": "code",
   "execution_count": null,
   "metadata": {},
   "outputs": [],
   "source": [
    "# import torch\n",
    "# import torch.nn as nn\n",
    "# import numpy as np\n",
    "# import torch.nn.functional as F\n",
    "# from random import randint\n",
    "# import utils\n",
    "# import time"
   ]
  },
  {
   "cell_type": "markdown",
   "metadata": {
    "collapsed": "true"
   },
   "source": [
    "# 1. Basics (labs_lecture02)"
   ]
  },
  {
   "cell_type": "code",
   "execution_count": 2,
   "metadata": {},
   "outputs": [],
   "source": [
    "import torch\n",
    "import numpy as np"
   ]
  },
  {
   "cell_type": "markdown",
   "metadata": {
    "collapsed": "true"
   },
   "source": [
    "## 1.1 Tensor Initialization\n"
   ]
  },
  {
   "cell_type": "markdown",
   "metadata": {},
   "source": [
    "#### 1.1.1 Init from NP array\n",
    "+ torch.Tensor()**\n",
    "+ torch.tensor()\n",
    "+ torch.as_tensor()**\n",
    "+ torch.from_numpy()"
   ]
  },
  {
   "cell_type": "code",
   "execution_count": 3,
   "metadata": {},
   "outputs": [
    {
     "name": "stdout",
     "output_type": "stream",
     "text": [
      "np array: [1 2 3]\n",
      "PyTorch default dtype:  torch.float32\n",
      "torch.Tensor: torch.float32\n",
      "torch.tensor (will infer dtype): torch.int32\n",
      "torch.as_tensor (preferred over from_numpy): torch.int32\n"
     ]
    }
   ],
   "source": [
    "# How to initialize a tensor from a numpy array?\n",
    "data = np.array([1,2,3]); print(f\"np array: {data}\")\n",
    "print(f\"PyTorch default dtype: \", torch.get_default_dtype())\n",
    "\n",
    "t1 = torch.Tensor(data) # torch.get_default_dtype()\n",
    "t2 = torch.tensor(data) # dtype=torch.float32 # will infer dtype\n",
    "t3 = torch.as_tensor(data) # preferred over from_numpy #int32\n",
    "t4 = torch.from_numpy(data) #int32\n",
    "print(f\"torch.Tensor: {t1.dtype}\")\n",
    "print(f\"torch.tensor (will infer dtype): {t2.dtype}\")\n",
    "print(f\"torch.as_tensor (preferred over from_numpy): {t3.dtype}\")"
   ]
  },
  {
   "cell_type": "markdown",
   "metadata": {},
   "source": [
    "#### 1.1.2 Random/ Zero/ Identity Tensor"
   ]
  },
  {
   "cell_type": "code",
   "execution_count": 4,
   "metadata": {},
   "outputs": [
    {
     "name": "stdout",
     "output_type": "stream",
     "text": [
      "rand: tensor([[[0.2519, 0.2000, 0.6224, 0.0512],\n",
      "         [0.8940, 0.7836, 0.4196, 0.6290],\n",
      "         [0.3093, 0.2758, 0.8532, 0.1839]],\n",
      "\n",
      "        [[0.5003, 0.2342, 0.6460, 0.7656],\n",
      "         [0.1991, 0.5067, 0.0627, 0.0634],\n",
      "         [0.9888, 0.1029, 0.1782, 0.1984]]])\n",
      "zeros: tensor([[[0., 0., 0., 0.],\n",
      "         [0., 0., 0., 0.],\n",
      "         [0., 0., 0., 0.]],\n",
      "\n",
      "        [[0., 0., 0., 0.],\n",
      "         [0., 0., 0., 0.],\n",
      "         [0., 0., 0., 0.]]])\n",
      "eye: tensor([[1., 0., 0.],\n",
      "        [0., 1., 0.],\n",
      "        [0., 0., 1.]])\n"
     ]
    }
   ],
   "source": [
    "rand_t = torch.rand(2,3,4); print(f\"rand: {rand_t}\")\n",
    "zero_t = torch.zeros(2,3,4); print(f\"zeros: {zero_t}\")\n",
    "eye_t = torch.eye(3); print(f\"eye: {eye_t}\")"
   ]
  },
  {
   "cell_type": "markdown",
   "metadata": {},
   "source": [
    "#### 1.1.3 Long Tensor (Integers)"
   ]
  },
  {
   "cell_type": "code",
   "execution_count": 5,
   "metadata": {},
   "outputs": [
    {
     "name": "stdout",
     "output_type": "stream",
     "text": [
      "LongTensor: tensor([1, 1])\n",
      "tensor(dtype=torch.int32): tensor([2, 2], dtype=torch.int32)\n",
      ".long(): tensor([3, 3])\n"
     ]
    }
   ],
   "source": [
    "# integer tensor MUST HAVE BRACKETS\n",
    "int_t1 = torch.LongTensor([1,1]); print(f\"LongTensor: {int_t1}\")\n",
    "int_t2 = torch.tensor([2,2], dtype=torch.int32) ; print(f\"tensor(dtype=torch.int32): {int_t2}\")\n",
    "int_t3 = torch.tensor([3,3]).long(); print(f\".long(): {int_t3}\")"
   ]
  },
  {
   "cell_type": "markdown",
   "metadata": {},
   "source": [
    "#### 1.1.4 Various Tensor Functions\n",
    "+ .shape, .size()\n",
    "+ .dim()\n",
    "+ .type()\n",
    "+ .view(), .reshape()\n",
    "+ .arange(n), .randperm(n)\n",
    "+ .item()"
   ]
  },
  {
   "cell_type": "code",
   "execution_count": 6,
   "metadata": {},
   "outputs": [
    {
     "name": "stdout",
     "output_type": "stream",
     "text": [
      "Shape: torch.Size([2, 3, 4]) and size: torch.Size([2, 3, 4])\n",
      "Dimension of Tensor: 3\n"
     ]
    }
   ],
   "source": [
    "print_t = torch.rand([2,3,4])\n",
    "print(f\"Shape: {print_t.shape} and size: {print_t.size()}\")\n",
    "print(f\"Dimension of Tensor: {print_t.dim()}\")"
   ]
  },
  {
   "cell_type": "code",
   "execution_count": 7,
   "metadata": {},
   "outputs": [
    {
     "name": "stdout",
     "output_type": "stream",
     "text": [
      "view: tensor([[0.6100, 0.3649, 0.8195, 0.5589, 0.0757, 0.2870, 0.2976, 0.6137],\n",
      "        [0.4933, 0.6793, 0.4217, 0.2902, 0.8520, 0.5158, 0.9310, 0.0615],\n",
      "        [0.7767, 0.4820, 0.8789, 0.3615, 0.8430, 0.7894, 0.1958, 0.4761]])\n",
      "reshape: tensor([[0.6100, 0.3649, 0.8195, 0.5589, 0.0757, 0.2870],\n",
      "        [0.2976, 0.6137, 0.4933, 0.6793, 0.4217, 0.2902],\n",
      "        [0.8520, 0.5158, 0.9310, 0.0615, 0.7767, 0.4820],\n",
      "        [0.8789, 0.3615, 0.8430, 0.7894, 0.1958, 0.4761]])\n",
      "print_t is not modified until assigned: tensor([[[0.6100, 0.3649, 0.8195, 0.5589],\n",
      "         [0.0757, 0.2870, 0.2976, 0.6137],\n",
      "         [0.4933, 0.6793, 0.4217, 0.2902]],\n",
      "\n",
      "        [[0.8520, 0.5158, 0.9310, 0.0615],\n",
      "         [0.7767, 0.4820, 0.8789, 0.3615],\n",
      "         [0.8430, 0.7894, 0.1958, 0.4761]]])\n"
     ]
    }
   ],
   "source": [
    "print(f\"view: {print_t.view(3,8)}\") \n",
    "print(f\"reshape: {print_t.reshape(-1, 6)}\")\n",
    "print(f\"print_t is not modified until assigned: {print_t}\")"
   ]
  },
  {
   "cell_type": "code",
   "execution_count": 8,
   "metadata": {},
   "outputs": [
    {
     "name": "stdout",
     "output_type": "stream",
     "text": [
      "arange(n): tensor([0, 1, 2, 3, 4, 5, 6, 7, 8, 9])\n",
      "randperm(n): tensor([9, 4, 7, 6, 3, 5, 2, 1, 0, 8])\n"
     ]
    }
   ],
   "source": [
    "ar_t = torch.arange(10); print(f\"arange(n): {ar_t}\") # ordered 0 to 9\n",
    "randp_t = torch.randperm(10); print(f\"randperm(n): {randp_t}\") # random 0 to 9"
   ]
  },
  {
   "cell_type": "code",
   "execution_count": 9,
   "metadata": {},
   "outputs": [],
   "source": [
    "# 0-dimensional tensor is a scalar => item()\n"
   ]
  },
  {
   "cell_type": "markdown",
   "metadata": {
    "collapsed": "true"
   },
   "source": [
    "## 1.2 Slicing of Tensor"
   ]
  },
  {
   "cell_type": "code",
   "execution_count": 10,
   "metadata": {},
   "outputs": [
    {
     "name": "stdout",
     "output_type": "stream",
     "text": [
      "tensor([[0.7014, 0.0581],\n",
      "        [0.0616, 0.0812],\n",
      "        [0.0292, 0.0515],\n",
      "        [0.8317, 0.6554],\n",
      "        [0.4287, 0.5573],\n",
      "        [0.4561, 0.1125],\n",
      "        [0.8966, 0.8328],\n",
      "        [0.9416, 0.8140],\n",
      "        [0.5050, 0.3165],\n",
      "        [0.2793, 0.6436]]) tensor([0.0292, 0.0515])\n",
      "tensor([[0.7014, 0.0581],\n",
      "        [0.0616, 0.0812],\n",
      "        [0.0292, 0.0515],\n",
      "        [0.8317, 0.6554],\n",
      "        [0.4287, 0.5573]]) 0.7014090418815613\n"
     ]
    }
   ],
   "source": [
    "A = torch.rand(10,2)\n",
    "v = A[2] # third row\n",
    "B = A[:5] # first 5 rows\n",
    "x = A[0,0].item()\n",
    "print(A, v)\n",
    "print(B, x)"
   ]
  },
  {
   "cell_type": "code",
   "execution_count": 11,
   "metadata": {},
   "outputs": [
    {
     "name": "stdout",
     "output_type": "stream",
     "text": [
      "{0: 'Airplane', 1: 'Automobile', 2: 'Bird', 3: 'Cat', 4: 'Deer', 5: 'Dog', 6: 'Frog', 7: 'Horse', 8: 'Ship', 9: 'Truck'}\n",
      "['Automobile', 'Bird', 'Cat', 'Deer', 'Dog']\n"
     ]
    }
   ],
   "source": [
    "labels = ['Airplane', 'Automobile', 'Bird', 'Cat', 'Deer', 'Dog', 'Frog', 'Horse', 'Ship','Truck']\n",
    "label_idx = dict(zip(range(len(labels)), labels))\n",
    "print(label_idx)\n",
    "print(labels[1:1+5]) # 1:6 exclusive"
   ]
  },
  {
   "cell_type": "markdown",
   "metadata": {},
   "source": [
    "# 2. Linear & Vanilla NN (labs_lecture03)"
   ]
  },
  {
   "cell_type": "code",
   "execution_count": 12,
   "metadata": {},
   "outputs": [],
   "source": [
    "import torch.nn as nn\n",
    "import torch.nn.functional as F\n",
    "import torch.optim as optim\n",
    "from random import randint"
   ]
  },
  {
   "cell_type": "markdown",
   "metadata": {},
   "source": [
    "## 2.1 Linear Module\n",
    "nn.Linear(in_features, out_features, bias=True)"
   ]
  },
  {
   "cell_type": "code",
   "execution_count": 13,
   "metadata": {},
   "outputs": [
    {
     "name": "stdout",
     "output_type": "stream",
     "text": [
      "tensor([ 0.5892, -0.2077], grad_fn=<AddBackward0>)\n"
     ]
    }
   ],
   "source": [
    "linear_mod = nn.Linear(5, 2)\n",
    "x = torch.rand(5)\n",
    "y = linear_mod(x)\n",
    "print(y)"
   ]
  },
  {
   "cell_type": "code",
   "execution_count": 14,
   "metadata": {},
   "outputs": [
    {
     "name": "stdout",
     "output_type": "stream",
     "text": [
      "Parameter containing:\n",
      "tensor([[ 0.1327,  0.1830,  0.2256, -0.3708,  0.0520],\n",
      "        [ 0.4428, -0.2861, -0.4355,  0.3151,  0.0354]], requires_grad=True)\n",
      "torch.Size([2, 5])\n",
      "Parameter containing:\n",
      "tensor([0.2138, 0.1369], requires_grad=True)\n",
      "torch.Size([2])\n",
      "Parameter containing:\n",
      "tensor([[ 0.1327,  1.0000,  0.2256, -0.3708,  0.0520],\n",
      "        [ 0.4428, -0.2861, -0.4355,  0.3151,  0.0354]], grad_fn=<CopySlices>)\n"
     ]
    }
   ],
   "source": [
    "print(linear_mod.weight)\n",
    "print(linear_mod.weight.size())\n",
    "print(linear_mod.bias)\n",
    "print(linear_mod.bias.size())\n",
    "# modify weights\n",
    "linear_mod.weight[0,1]=1\n",
    "print(linear_mod.weight)"
   ]
  },
  {
   "cell_type": "markdown",
   "metadata": {
    "collapsed": "true"
   },
   "source": [
    "## 2.2 Softmax\n",
    "F.softmax(A, dim=1) \n",
    "\n",
    "For matrices, it’s dim=1. For others like vectors, it’s 0. Along the feature dim, not the data dim."
   ]
  },
  {
   "cell_type": "code",
   "execution_count": 15,
   "metadata": {},
   "outputs": [
    {
     "name": "stdout",
     "output_type": "stream",
     "text": [
      "tensor([[1., 2., 3., 4.],\n",
      "        [1., 2., 3., 5.]]) torch.Size([2, 4])\n",
      "=> Softmax over dim 1 (rows)\n",
      "tensor([[0.0321, 0.0871, 0.2369, 0.6439],\n",
      "        [0.0152, 0.0414, 0.1125, 0.8310]])\n",
      "tensor([1., 1.])\n",
      "=> Softmax over dim 0 (cols)\n",
      "tensor([[0.5000, 0.5000, 0.5000, 0.2689],\n",
      "        [0.5000, 0.5000, 0.5000, 0.7311]])\n",
      "tensor([1., 1., 1., 1.])\n"
     ]
    }
   ],
   "source": [
    "B = torch.Tensor([[1,2,3,4],\n",
    "                 [1,2,3,5]])\n",
    "print(B, B.size()) # 2,4\n",
    "prob = F.softmax(B, dim=1) #rows (2)\n",
    "print(f\"=> Softmax over dim 1 (rows)\")\n",
    "print(prob)\n",
    "print(prob.sum(1)) \n",
    "prob = F.softmax(B, dim=0) #cols (4)\n",
    "print(f\"=> Softmax over dim 0 (cols)\")\n",
    "print(prob)\n",
    "print(prob.sum(0)) "
   ]
  },
  {
   "cell_type": "markdown",
   "metadata": {},
   "source": [
    "## 2.3 Vanilla NN"
   ]
  },
  {
   "cell_type": "code",
   "execution_count": 16,
   "metadata": {},
   "outputs": [
    {
     "name": "stdout",
     "output_type": "stream",
     "text": [
      "VanillaNN(\n",
      "  (layer1): Linear(in_features=2, out_features=5, bias=True)\n",
      "  (layer2): Linear(in_features=5, out_features=3, bias=True)\n",
      ")\n",
      "tensor([0.3805, 0.3381, 0.2814], grad_fn=<SoftmaxBackward>) tensor(1., grad_fn=<SumBackward1>)\n"
     ]
    }
   ],
   "source": [
    "class VanillaNN(nn.Module):\n",
    "    def __init__(self, input_size, hidden_size, output_size):\n",
    "        super(VanillaNN, self).__init__() #super().__init__()\n",
    "        self.layer1 = nn.Linear(input_size, hidden_size, bias=True)\n",
    "        self.layer2 = nn.Linear(hidden_size, output_size, bias=True)\n",
    "        \n",
    "    def forward(self, x):\n",
    "        x = self.layer1(x)\n",
    "        x = F.relu(x)\n",
    "        x = self.layer2(x)\n",
    "        x = F.softmax(x, dim=0) #input is vector\n",
    "        return x\n",
    "\n",
    "net = VanillaNN(2,5,3)\n",
    "print(net)\n",
    "x = torch.Tensor([1,1]) # vector of size 2\n",
    "p = net.forward(x)\n",
    "print(p, p.sum(0))"
   ]
  },
  {
   "cell_type": "code",
   "execution_count": 17,
   "metadata": {},
   "outputs": [
    {
     "name": "stdout",
     "output_type": "stream",
     "text": [
      "[Parameter containing:\n",
      "tensor([[-0.1305,  0.6956],\n",
      "        [ 0.6211,  0.1304],\n",
      "        [ 0.4560,  0.3106],\n",
      "        [ 0.4957, -0.0670],\n",
      "        [ 0.5893, -0.0382]], requires_grad=True), Parameter containing:\n",
      "tensor([-0.4760,  0.0810,  0.1593,  0.5173, -0.5694], requires_grad=True), Parameter containing:\n",
      "tensor([[-0.0191,  0.3351,  0.0589, -0.2274, -0.0845],\n",
      "        [ 0.4393, -0.1054, -0.4354,  0.3945,  0.3253],\n",
      "        [-0.3862,  0.2752, -0.0438, -0.1058, -0.3940]], requires_grad=True), Parameter containing:\n",
      "tensor([ 0.1378,  0.2148, -0.1012], requires_grad=True)]\n"
     ]
    }
   ],
   "source": [
    "list_of_param = list(net.parameters())\n",
    "print(list_of_param)"
   ]
  },
  {
   "cell_type": "markdown",
   "metadata": {},
   "source": [
    "## 2.4 Train Vanilla NN"
   ]
  },
  {
   "cell_type": "code",
   "execution_count": 18,
   "metadata": {},
   "outputs": [],
   "source": [
    "import utils"
   ]
  },
  {
   "cell_type": "code",
   "execution_count": 19,
   "metadata": {},
   "outputs": [
    {
     "name": "stdout",
     "output_type": "stream",
     "text": [
      "torch.Size([60000, 28, 28])\n",
      "torch.Size([60000])\n",
      "torch.Size([10000, 28, 28])\n"
     ]
    }
   ],
   "source": [
    "from utils import check_mnist_dataset_exists\n",
    "data_path = check_mnist_dataset_exists()\n",
    "train_data = torch.load(data_path+'mnist/train_data.pt')\n",
    "train_label = torch.load(data_path+'mnist/train_label.pt')\n",
    "test_data = torch.load(data_path+'mnist/test_data.pt')\n",
    "test_label = torch.load(data_path+'mnist/test_label.pt')\n",
    "print(train_data.size())\n",
    "print(train_label.size())\n",
    "print(test_data.size())"
   ]
  },
  {
   "cell_type": "markdown",
   "metadata": {
    "collapsed": "true"
   },
   "source": [
    "### 2.4.1 One Layer Net"
   ]
  },
  {
   "cell_type": "code",
   "execution_count": 20,
   "metadata": {},
   "outputs": [
    {
     "name": "stdout",
     "output_type": "stream",
     "text": [
      "tensor([[0.0882, 0.1228, 0.1177, 0.0632, 0.1057, 0.0757, 0.1414, 0.1014, 0.0975,\n",
      "         0.0863]], grad_fn=<SoftmaxBackward>)\n"
     ]
    }
   ],
   "source": [
    "class One_Layer_Net(nn.Module):\n",
    "    def __init__(self, input_size, output_size):\n",
    "        super(One_Layer_Net, self).__init__()\n",
    "        self.linear_layer = nn.Linear(input_size,output_size,bias=True)\n",
    "    def forward(self, x): \n",
    "        x = self.linear_layer(x)\n",
    "        p = F.softmax(x, dim=1)\n",
    "        return p\n",
    "    \n",
    "net = One_Layer_Net(784, 10)\n",
    "p = net(test_data[6].view(1,784)) # [Batch, InputSize]\n",
    "print(p)"
   ]
  },
  {
   "cell_type": "markdown",
   "metadata": {
    "collapsed": "true"
   },
   "source": [
    "### 2.4.2 Train One Layer Net (MNIST) without mini-batch\n",
    "idx = randint(0,len(train_data)-1) --- [0,60000]"
   ]
  },
  {
   "cell_type": "code",
   "execution_count": 21,
   "metadata": {},
   "outputs": [
    {
     "name": "stdout",
     "output_type": "stream",
     "text": [
      "tensor([[3.1055e-04, 2.3272e-04, 2.6119e-04, 1.7689e-02, 7.2990e-01, 3.1487e-02,\n",
      "         2.2647e-03, 6.5711e-02, 6.5343e-02, 8.6804e-02]],\n",
      "       grad_fn=<SoftmaxBackward>)\n"
     ]
    },
    {
     "data": {
      "image/png": "[encoded data removed]",
      "text/plain": [
       "<Figure size 432x288 with 1 Axes>"
      ]
     },
     "metadata": {
      "needs_background": "light"
     },
     "output_type": "display_data"
    },
    {
     "data": {
      "image/png": "[encoded data removed]",
      "text/plain": [
       "<Figure size 640x480 with 1 Axes>"
      ]
     },
     "metadata": {},
     "output_type": "display_data"
    }
   ],
   "source": [
    "from random import randint\n",
    "criterion = nn.NLLLoss()\n",
    "optimizer = torch.optim.SGD(net.parameters(), lr=0.01)\n",
    "for i in range(5000):\n",
    "    idx = randint(0,len(train_data)-1) # pick one randomly from 60000\n",
    "    \n",
    "    inputs = train_data[idx].view(1,784) # [Batch, InputSize]\n",
    "    labels = train_label[idx].view(1) # make to tensor of size 1\n",
    "    \n",
    "    inputs.requires_grad_()\n",
    "    probs = net(inputs)\n",
    "    \n",
    "    log_probs = torch.log(probs)\n",
    "    loss = criterion(log_probs, labels)    \n",
    "    optimizer.zero_grad()       \n",
    "    loss.backward()\n",
    "    optimizer.step()\n",
    "    \n",
    "p = net(test_data[6].view(1,784)) \n",
    "print(p)\n",
    "utils.show(test_data[6])\n",
    "utils.show_prob_mnist(p)"
   ]
  },
  {
   "cell_type": "markdown",
   "metadata": {
    "collapsed": "true"
   },
   "source": [
    "### 2.4.3 Train One Layer Net (MNIST) with mini-batch\n",
    "indices=torch.LongTensor(2).random_(0,5) ---- [0,5)"
   ]
  },
  {
   "cell_type": "code",
   "execution_count": 22,
   "metadata": {},
   "outputs": [
    {
     "name": "stdout",
     "output_type": "stream",
     "text": [
      "tensor([[8.4774e-04, 3.0844e-05, 4.8178e-03, 3.4739e-05, 2.2243e-03, 8.9244e-05,\n",
      "         9.8649e-01, 1.0972e-05, 4.7233e-03, 7.2996e-04]],\n",
      "       grad_fn=<SoftmaxBackward>)\n"
     ]
    },
    {
     "data": {
      "image/png": "[encoded data removed]",
      "text/plain": [
       "<Figure size 640x480 with 1 Axes>"
      ]
     },
     "metadata": {},
     "output_type": "display_data"
    },
    {
     "data": {
      "image/png": "[encoded data removed]",
      "text/plain": [
       "<Figure size 640x480 with 1 Axes>"
      ]
     },
     "metadata": {},
     "output_type": "display_data"
    }
   ],
   "source": [
    "net = One_Layer_Net(784, 10)\n",
    "criterion = nn.NLLLoss()\n",
    "optimizer = torch.optim.SGD(net.parameters(), lr=0.01)\n",
    "bs = 200\n",
    "\n",
    "for iter in range(1,5000):\n",
    "    # create a minibatch\n",
    "    indices=torch.LongTensor(bs).random_(0,len(train_data)) \n",
    "    minibatch_data = train_data[indices]\n",
    "    minibatch_label= train_label[indices]\n",
    "    \n",
    "    #reshape them to fit the network\n",
    "    inputs = minibatch_data.view(bs, 784)\n",
    "\n",
    "    # feed the input to the net  \n",
    "    inputs.requires_grad_()\n",
    "    prob = net(inputs) \n",
    "    \n",
    "    log_prob = torch.log(prob)\n",
    "    loss = criterion(log_prob, minibatch_label)    \n",
    "    optimizer.zero_grad()       \n",
    "    loss.backward()\n",
    "    optimizer.step()\n",
    "    \n",
    "idx = randint(0, len(test_data)-1)    \n",
    "p = net(test_data[idx].view(1,784)) \n",
    "print(p)\n",
    "utils.show(test_data[idx])\n",
    "utils.show_prob_mnist(p)"
   ]
  },
  {
   "cell_type": "markdown",
   "metadata": {
    "collapsed": "true"
   },
   "source": [
    "# 3. Cross Entropy (labs_lecture04)\n",
    "criterion = nn.CrossEntropyLoss()"
   ]
  },
  {
   "cell_type": "code",
   "execution_count": 23,
   "metadata": {},
   "outputs": [
    {
     "data": {
      "image/png": "[encoded data removed]",
      "text/plain": [
       "<Figure size 800x800 with 2 Axes>"
      ]
     },
     "metadata": {},
     "output_type": "display_data"
    },
    {
     "name": "stdout",
     "output_type": "stream",
     "text": [
      "loss =  0.023508397862315178  good!\n"
     ]
    }
   ],
   "source": [
    "criterion = nn.CrossEntropyLoss()\n",
    "labels = torch.LongTensor([2,3])\n",
    "scores = torch.Tensor([[-1.2, 0.5 , 5, -0.5], [1.4, -1.7 , -1.3, 5.0]])\n",
    "utils.display_scores(scores)\n",
    "average_loss = criterion(scores, labels)\n",
    "print('loss = ', average_loss.item(), \" good!\")"
   ]
  },
  {
   "cell_type": "markdown",
   "metadata": {},
   "source": [
    "# 4. MLP + Full Training Loop (labs_lecture05)"
   ]
  },
  {
   "cell_type": "markdown",
   "metadata": {
    "collapsed": "true"
   },
   "source": [
    "## 4.1 Epoch\n",
    "Shuffled Indices"
   ]
  },
  {
   "cell_type": "code",
   "execution_count": 24,
   "metadata": {},
   "outputs": [
    {
     "name": "stdout",
     "output_type": "stream",
     "text": [
      "tensor([1, 0])\n",
      "tensor([2, 4])\n",
      "tensor([3, 6])\n",
      "tensor([9, 8])\n",
      "tensor([7, 5])\n"
     ]
    }
   ],
   "source": [
    "bs = 2\n",
    "shuffled_indices = torch.randperm(10) #len of train_data\n",
    "for count in range(0,10,bs):\n",
    "    batch_of_indices = shuffled_indices[count:count+bs]\n",
    "    print(batch_of_indices)"
   ]
  },
  {
   "cell_type": "markdown",
   "metadata": {},
   "source": [
    "## 4.2 Monitoring Loss\n",
    "running_loss += loss.detach().item() \\\n",
    "error = utils.get_error(scores.detach(), minibatch_label) \\\n",
    "running_error += error.item()\n",
    "\n",
    "total_loss = running_loss/num_batches \\\n",
    "total_error = running_error/num_batches "
   ]
  },
  {
   "cell_type": "markdown",
   "metadata": {},
   "source": [
    "## 4.3 Full Loop"
   ]
  },
  {
   "cell_type": "code",
   "execution_count": 25,
   "metadata": {},
   "outputs": [],
   "source": [
    "class three_layer_net(nn.Module):\n",
    "\n",
    "    def __init__(self, input_size, hidden_size1, hidden_size2,  output_size):\n",
    "        super(three_layer_net , self).__init__()\n",
    "        \n",
    "        self.layer1 = nn.Linear(input_size, hidden_size1) \n",
    "        self.layer2 = nn.Linear(hidden_size2, hidden_size2) \n",
    "        self.layer3 = nn.Linear(hidden_size2, output_size) \n",
    "        \n",
    "    def forward(self, x):\n",
    "        \n",
    "        y       = self.layer1(x) \n",
    "        y_hat   = F.relu(y) \n",
    "        z       = self.layer2(y_hat) \n",
    "        z_hat   = F.relu(z) \n",
    "        scores  = self.layer3(z_hat)\n",
    "        \n",
    "        return scores"
   ]
  },
  {
   "cell_type": "code",
   "execution_count": 26,
   "metadata": {},
   "outputs": [
    {
     "name": "stdout",
     "output_type": "stream",
     "text": [
      "cuda:0\n"
     ]
    }
   ],
   "source": [
    "import time\n",
    "device = torch.device(\"cuda:0\" if torch.cuda.is_available() else \"cpu\")\n",
    "print(device)\n",
    "# device = torch.device(\"cpu\")"
   ]
  },
  {
   "cell_type": "code",
   "execution_count": 27,
   "metadata": {},
   "outputs": [
    {
     "name": "stdout",
     "output_type": "stream",
     "text": [
      "three_layer_net(\n",
      "  (layer1): Linear(in_features=784, out_features=200, bias=True)\n",
      "  (layer2): Linear(in_features=200, out_features=200, bias=True)\n",
      "  (layer3): Linear(in_features=200, out_features=10, bias=True)\n",
      ")\n",
      "There are 199210 (0.20 million) parameters in this neural network\n"
     ]
    }
   ],
   "source": [
    "net = three_layer_net(784, 200, 200, 10).to(device)\n",
    "print(net)\n",
    "utils.display_num_param(net)"
   ]
  },
  {
   "cell_type": "code",
   "execution_count": 28,
   "metadata": {},
   "outputs": [],
   "source": [
    "def eval_on_test_set():\n",
    "    running_error = 0\n",
    "    num_batches = 0\n",
    "    for i in range(0, len(test_data), bs):\n",
    "        minibatch_data = test_data[i:i+bs].to(device)\n",
    "        minibatch_label = test_label[i:i+bs].to(device)\n",
    "        inputs = minibatch_data.view(bs, 784)\n",
    "        scores = net(inputs)\n",
    "        error = utils.get_error(scores, minibatch_label)\n",
    "        running_error += error.detach().item()\n",
    "        num_batches += 1\n",
    "    total_error = running_error / num_batches\n",
    "    print(f\"=> test error: {total_error*100} %\")"
   ]
  },
  {
   "cell_type": "code",
   "execution_count": 29,
   "metadata": {},
   "outputs": [],
   "source": [
    "criterion = nn.CrossEntropyLoss()\n",
    "bs = 200\n",
    "lr = 0.05 # initial learning rate"
   ]
  },
  {
   "cell_type": "code",
   "execution_count": 30,
   "metadata": {},
   "outputs": [
    {
     "name": "stdout",
     "output_type": "stream",
     "text": [
      " \n",
      "epoch=0, time=1.2909417152404785, loss=1.2432209846377373, error=30.033335089683533%, lr=0.05\n",
      "=> test error: 13.610001921653748 %\n",
      " \n",
      "epoch=10, time=9.536717414855957, loss=0.15902499979361892, error=4.546668827533722%, lr=0.05\n",
      "=> test error: 4.640002250671387 %\n",
      " \n",
      "epoch=20, time=17.717833995819092, loss=0.08623850248133143, error=2.438336710135142%, lr=0.03333333333333333\n",
      "=> test error: 3.0800024271011353 %\n",
      " \n",
      "epoch=30, time=26.091994047164917, loss=0.06136114076245576, error=1.6783369382222493%, lr=0.022222222222222223\n",
      "=> test error: 2.5800020694732666 %\n",
      " \n",
      "epoch=40, time=34.3183434009552, loss=0.04975701715176304, error=1.310003141562144%, lr=0.014814814814814815\n",
      "=> test error: 2.4100022315979004 %\n",
      " \n",
      "epoch=50, time=42.501131534576416, loss=0.043430003157506385, error=1.1066695650418599%, lr=0.009876543209876543\n",
      "=> test error: 2.3700023889541626 %\n",
      " \n",
      "epoch=60, time=50.699180126190186, loss=0.03971406589417408, error=0.978335936864217%, lr=0.006584362139917695\n",
      "=> test error: 2.340002417564392 %\n",
      " \n",
      "epoch=70, time=59.23052740097046, loss=0.037421060527364415, error=0.9066691199938457%, lr=0.0043895747599451305\n",
      "=> test error: 2.290002465248108 %\n",
      " \n",
      "epoch=80, time=68.11165404319763, loss=0.035960202286951244, error=0.8483356436093649%, lr=0.0029263831732967535\n",
      "=> test error: 2.290002465248108 %\n",
      " \n",
      "epoch=90, time=76.38254165649414, loss=0.03501162641836951, error=0.8216689229011537%, lr=0.001950922115531169\n",
      "=> test error: 2.2800023555755615 %\n",
      " \n",
      "epoch=100, time=83.52359104156494, loss=0.034388030152767896, error=0.7966688076655071%, lr=0.001300614743687446\n",
      "=> test error: 2.2700023651123047 %\n",
      " \n",
      "epoch=110, time=89.31547045707703, loss=0.03397433574621876, error=0.7966688275337219%, lr=0.0008670764957916306\n",
      "=> test error: 2.250002384185791 %\n",
      " \n",
      "epoch=120, time=95.49663925170898, loss=0.033699429870272676, error=0.7900021473566691%, lr=0.0005780509971944203\n",
      "=> test error: 2.250002384185791 %\n",
      " \n",
      "epoch=130, time=101.85902953147888, loss=0.033516728569132584, error=0.7816687822341919%, lr=0.0003853673314629469\n",
      "=> test error: 2.260002374649048 %\n",
      " \n",
      "epoch=140, time=107.96632552146912, loss=0.033395336621130506, error=0.7766687671343485%, lr=0.00025691155430863124\n",
      "=> test error: 2.260002374649048 %\n",
      " \n",
      "epoch=150, time=114.034752368927, loss=0.033314543538726864, error=0.7733354369799296%, lr=0.0001712743695390875\n",
      "=> test error: 2.260002374649048 %\n",
      " \n",
      "epoch=160, time=120.00805282592773, loss=0.033260860775286956, error=0.7700021068255107%, lr=0.00011418291302605833\n",
      "=> test error: 2.2700023651123047 %\n",
      " \n",
      "epoch=170, time=126.11791682243347, loss=0.03322514032634596, error=0.7666687568028768%, lr=7.612194201737223e-05\n",
      "=> test error: 2.2700023651123047 %\n",
      " \n",
      "epoch=180, time=131.95546102523804, loss=0.03320138614003857, error=0.7666687568028768%, lr=5.074796134491482e-05\n",
      "=> test error: 2.260002374649048 %\n",
      " \n",
      "epoch=190, time=137.7291977405548, loss=0.0331855432363227, error=0.7666687568028768%, lr=3.3831974229943214e-05\n",
      "=> test error: 2.260002374649048 %\n"
     ]
    }
   ],
   "source": [
    "start = time.time()\n",
    "for epoch in range(200):\n",
    "    # update learning rate based on lr strategy\n",
    "    if epoch % 10 == 0 and epoch > 10: \n",
    "        lr = lr / 1.5 \n",
    "    \n",
    "    # reset optimizer with new learning rate\n",
    "    optimizer = torch.optim.SGD(net.parameters(), lr=lr)\n",
    "    \n",
    "    running_loss = 0\n",
    "    running_error = 0\n",
    "    num_batches = 0\n",
    "    \n",
    "    shuffled_indices=torch.randperm(len(train_data)) # 60000\n",
    "    \n",
    "    for count in range(0, len(train_data), bs):\n",
    "        optimizer.zero_grad() \n",
    "        \n",
    "        batch_of_indices = shuffled_indices[count:count+bs]\n",
    "        minibatch_data = train_data[count:count+bs].to(device)\n",
    "        minibatch_label = train_label[count:count+bs].to(device)\n",
    "        \n",
    "        inputs = minibatch_data.view(bs, 784)\n",
    "        # tell Pytorch to start tracking all operations that will be done on \"inputs\"\n",
    "        inputs.requires_grad_()\n",
    "        \n",
    "        scores = net(inputs)\n",
    "        \n",
    "        loss = criterion(scores, minibatch_label)\n",
    "        loss.backward()\n",
    "        optimizer.step()\n",
    "        \n",
    "        running_loss += loss.detach().item()\n",
    "        error = utils.get_error(scores, minibatch_label)\n",
    "        running_error += error.detach().item()\n",
    "        num_batches += 1\n",
    "    \n",
    "    total_loss = running_loss/num_batches\n",
    "    total_error = running_error/num_batches\n",
    "    elapsed_time = time.time() - start\n",
    "    \n",
    "    if epoch % 10 == 0 : \n",
    "        print(' ') \n",
    "        print(f\"epoch={epoch}, time={elapsed_time}, loss={total_loss}, error={total_error*100}%, lr={lr}\")\n",
    "        eval_on_test_set()\n",
    "    "
   ]
  },
  {
   "cell_type": "code",
   "execution_count": 31,
   "metadata": {},
   "outputs": [
    {
     "data": {
      "image/png": "[encoded data removed]",
      "text/plain": [
       "<Figure size 640x480 with 1 Axes>"
      ]
     },
     "metadata": {},
     "output_type": "display_data"
    },
    {
     "name": "stdout",
     "output_type": "stream",
     "text": [
      "torch.Size([1, 10])\n"
     ]
    },
    {
     "data": {
      "image/png": "[encoded data removed]",
      "text/plain": [
       "<Figure size 640x480 with 1 Axes>"
      ]
     },
     "metadata": {},
     "output_type": "display_data"
    }
   ],
   "source": [
    "# choose a picture at random\n",
    "idx = randint(0, 10000-1)\n",
    "im = test_data[idx]\n",
    "\n",
    "# diplay the picture\n",
    "utils.show(im)\n",
    "\n",
    "# feed it to the net and display the confidence scores\n",
    "scores = net(im.view(1,784).to(device)) \n",
    "probs = F.softmax(scores, dim=1)\n",
    "print(probs.shape)\n",
    "utils.show_prob_mnist(probs.cpu())"
   ]
  },
  {
   "cell_type": "code",
   "execution_count": null,
   "metadata": {},
   "outputs": [],
   "source": []
  }
 ],
 "metadata": {
  "kernelspec": {
   "display_name": "Python 3",
   "language": "python",
   "name": "python3"
  },
  "language_info": {
   "codemirror_mode": {
    "name": "ipython",
    "version": 3
   },
   "file_extension": ".py",
   "mimetype": "text/x-python",
   "name": "python",
   "nbconvert_exporter": "python",
   "pygments_lexer": "ipython3",
   "version": "3.6.10"
  }
 },
 "nbformat": 4,
 "nbformat_minor": 4
}
