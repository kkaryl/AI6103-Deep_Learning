{
 "cells": [
  {
   "cell_type": "code",
   "execution_count": 1,
   "metadata": {},
   "outputs": [],
   "source": [
    "# import torch\n",
    "# import torch.nn as nn\n",
    "# import numpy as np\n",
    "# import torch.nn.functional as F\n",
    "# from random import randint\n",
    "# import utils\n",
    "# import time"
   ]
  },
  {
   "cell_type": "markdown",
   "metadata": {},
   "source": [
    "# 1. Basics (labs_lecture02)"
   ]
  },
  {
   "cell_type": "code",
   "execution_count": 2,
   "metadata": {},
   "outputs": [],
   "source": [
    "import torch\n",
    "import numpy as np"
   ]
  },
  {
   "cell_type": "markdown",
   "metadata": {},
   "source": [
    "## 1.1 Tensor Initialization\n"
   ]
  },
  {
   "cell_type": "markdown",
   "metadata": {},
   "source": [
    "#### 1.1.1 Init from NP array\n",
    "+ torch.Tensor()**\n",
    "+ torch.tensor()\n",
    "+ torch.as_tensor()**\n",
    "+ torch.from_numpy()"
   ]
  },
  {
   "cell_type": "code",
   "execution_count": 3,
   "metadata": {},
   "outputs": [
    {
     "name": "stdout",
     "output_type": "stream",
     "text": [
      "np array: [1 2 3]\n",
      "PyTorch default dtype:  torch.float32\n",
      "torch.Tensor: torch.float32\n",
      "torch.tensor (will infer dtype): torch.int32\n",
      "torch.as_tensor (preferred over from_numpy): torch.int32\n"
     ]
    }
   ],
   "source": [
    "# How to initialize a tensor from a numpy array?\n",
    "data = np.array([1,2,3]); print(f\"np array: {data}\")\n",
    "print(f\"PyTorch default dtype: \", torch.get_default_dtype())\n",
    "\n",
    "t1 = torch.Tensor(data) # torch.get_default_dtype()\n",
    "t2 = torch.tensor(data) # dtype=torch.float32 # will infer dtype\n",
    "t3 = torch.as_tensor(data) # preferred over from_numpy #int32\n",
    "t4 = torch.from_numpy(data) #int32\n",
    "print(f\"torch.Tensor: {t1.dtype}\")\n",
    "print(f\"torch.tensor (will infer dtype): {t2.dtype}\")\n",
    "print(f\"torch.as_tensor (preferred over from_numpy): {t3.dtype}\")"
   ]
  },
  {
   "cell_type": "markdown",
   "metadata": {},
   "source": [
    "#### 1.1.2 Random/ Zero/ Identity Tensor"
   ]
  },
  {
   "cell_type": "code",
   "execution_count": 4,
   "metadata": {},
   "outputs": [
    {
     "name": "stdout",
     "output_type": "stream",
     "text": [
      "rand: tensor([[[0.0441, 0.5818, 0.9518, 0.9290],\n",
      "         [0.3017, 0.0011, 0.0738, 0.2503],\n",
      "         [0.8145, 0.9746, 0.6286, 0.1391]],\n",
      "\n",
      "        [[0.3649, 0.4652, 0.7474, 0.6274],\n",
      "         [0.0635, 0.2606, 0.9394, 0.0419],\n",
      "         [0.1619, 0.8936, 0.5765, 0.8157]]])\n",
      "zeros: tensor([[[0., 0., 0., 0.],\n",
      "         [0., 0., 0., 0.],\n",
      "         [0., 0., 0., 0.]],\n",
      "\n",
      "        [[0., 0., 0., 0.],\n",
      "         [0., 0., 0., 0.],\n",
      "         [0., 0., 0., 0.]]])\n",
      "eye: tensor([[1., 0., 0.],\n",
      "        [0., 1., 0.],\n",
      "        [0., 0., 1.]])\n"
     ]
    }
   ],
   "source": [
    "rand_t = torch.rand(2,3,4); print(f\"rand: {rand_t}\")\n",
    "zero_t = torch.zeros(2,3,4); print(f\"zeros: {zero_t}\")\n",
    "eye_t = torch.eye(3); print(f\"eye: {eye_t}\")"
   ]
  },
  {
   "cell_type": "markdown",
   "metadata": {},
   "source": [
    "#### 1.1.3 Long Tensor (Integers)"
   ]
  },
  {
   "cell_type": "code",
   "execution_count": 5,
   "metadata": {},
   "outputs": [
    {
     "name": "stdout",
     "output_type": "stream",
     "text": [
      "LongTensor: tensor([1, 1])\n",
      "tensor(dtype=torch.int32): tensor([2, 2], dtype=torch.int32)\n",
      ".long(): tensor([3, 3])\n"
     ]
    }
   ],
   "source": [
    "# integer tensor MUST HAVE BRACKETS\n",
    "int_t1 = torch.LongTensor([1,1]); print(f\"LongTensor: {int_t1}\")\n",
    "int_t2 = torch.tensor([2,2], dtype=torch.int32) ; print(f\"tensor(dtype=torch.int32): {int_t2}\")\n",
    "int_t3 = torch.tensor([3,3]).long(); print(f\".long(): {int_t3}\")"
   ]
  },
  {
   "cell_type": "markdown",
   "metadata": {},
   "source": [
    "#### 1.1.4 Various Tensor Functions\n",
    "+ .shape, .size()\n",
    "+ .dim()\n",
    "+ .type()\n",
    "+ .view(), .reshape()\n",
    "+ .arange(n), .randperm(n)\n",
    "+ .item()"
   ]
  },
  {
   "cell_type": "code",
   "execution_count": 6,
   "metadata": {},
   "outputs": [
    {
     "name": "stdout",
     "output_type": "stream",
     "text": [
      "Shape: torch.Size([2, 3, 4]) and size: torch.Size([2, 3, 4])\n",
      "Dimension of Tensor: 3\n"
     ]
    }
   ],
   "source": [
    "print_t = torch.rand([2,3,4])\n",
    "print(f\"Shape: {print_t.shape} and size: {print_t.size()}\")\n",
    "print(f\"Dimension of Tensor: {print_t.dim()}\")"
   ]
  },
  {
   "cell_type": "code",
   "execution_count": 7,
   "metadata": {},
   "outputs": [
    {
     "name": "stdout",
     "output_type": "stream",
     "text": [
      "view: tensor([[0.5071, 0.7623, 0.1926, 0.6030, 0.1946, 0.9809, 0.3356, 0.5836],\n",
      "        [0.5090, 0.7162, 0.3212, 0.0169, 0.2601, 0.7724, 0.4464, 0.3978],\n",
      "        [0.8442, 0.8521, 0.6591, 0.7549, 0.5071, 0.3653, 0.2454, 0.4709]])\n",
      "reshape: tensor([[0.5071, 0.7623, 0.1926, 0.6030, 0.1946, 0.9809],\n",
      "        [0.3356, 0.5836, 0.5090, 0.7162, 0.3212, 0.0169],\n",
      "        [0.2601, 0.7724, 0.4464, 0.3978, 0.8442, 0.8521],\n",
      "        [0.6591, 0.7549, 0.5071, 0.3653, 0.2454, 0.4709]])\n",
      "print_t is not modified until assigned: tensor([[[0.5071, 0.7623, 0.1926, 0.6030],\n",
      "         [0.1946, 0.9809, 0.3356, 0.5836],\n",
      "         [0.5090, 0.7162, 0.3212, 0.0169]],\n",
      "\n",
      "        [[0.2601, 0.7724, 0.4464, 0.3978],\n",
      "         [0.8442, 0.8521, 0.6591, 0.7549],\n",
      "         [0.5071, 0.3653, 0.2454, 0.4709]]])\n"
     ]
    }
   ],
   "source": [
    "print(f\"view: {print_t.view(3,8)}\") \n",
    "print(f\"reshape: {print_t.reshape(-1, 6)}\")\n",
    "print(f\"print_t is not modified until assigned: {print_t}\")"
   ]
  },
  {
   "cell_type": "code",
   "execution_count": 8,
   "metadata": {},
   "outputs": [
    {
     "name": "stdout",
     "output_type": "stream",
     "text": [
      "arange(n): tensor([0, 1, 2, 3, 4, 5, 6, 7, 8, 9])\n",
      "randperm(n): tensor([2, 9, 4, 7, 3, 8, 0, 1, 6, 5])\n"
     ]
    }
   ],
   "source": [
    "ar_t = torch.arange(10); print(f\"arange(n): {ar_t}\") # ordered 0 to 9\n",
    "randp_t = torch.randperm(10); print(f\"randperm(n): {randp_t}\") # random 0 to 9"
   ]
  },
  {
   "cell_type": "code",
   "execution_count": 9,
   "metadata": {},
   "outputs": [],
   "source": [
    "# 0-dimensional tensor is a scalar => item()\n"
   ]
  },
  {
   "cell_type": "markdown",
   "metadata": {},
   "source": [
    "## 1.2 Slicing of Tensor"
   ]
  },
  {
   "cell_type": "code",
   "execution_count": 10,
   "metadata": {},
   "outputs": [
    {
     "name": "stdout",
     "output_type": "stream",
     "text": [
      "tensor([[0.1080, 0.4091],\n",
      "        [0.2669, 0.1202],\n",
      "        [0.5707, 0.0643],\n",
      "        [0.9026, 0.5751],\n",
      "        [0.9312, 0.5550],\n",
      "        [0.0501, 0.7119],\n",
      "        [0.3494, 0.5596],\n",
      "        [0.0743, 0.4729],\n",
      "        [0.0132, 0.8041],\n",
      "        [0.5605, 0.2706]]) tensor([0.5707, 0.0643])\n",
      "tensor([[0.1080, 0.4091],\n",
      "        [0.2669, 0.1202],\n",
      "        [0.5707, 0.0643],\n",
      "        [0.9026, 0.5751],\n",
      "        [0.9312, 0.5550]]) 0.10796594619750977\n"
     ]
    }
   ],
   "source": [
    "A = torch.rand(10,2)\n",
    "v = A[2] # third row\n",
    "B = A[:5] # first 5 rows (0-4)\n",
    "x = A[0,0].item()\n",
    "print(A, v)\n",
    "print(B, x)"
   ]
  },
  {
   "cell_type": "code",
   "execution_count": 11,
   "metadata": {},
   "outputs": [
    {
     "name": "stdout",
     "output_type": "stream",
     "text": [
      "{0: 'Airplane', 1: 'Automobile', 2: 'Bird', 3: 'Cat', 4: 'Deer', 5: 'Dog', 6: 'Frog', 7: 'Horse', 8: 'Ship', 9: 'Truck'}\n",
      "['Automobile', 'Bird', 'Cat', 'Deer', 'Dog']\n"
     ]
    }
   ],
   "source": [
    "labels = ['Airplane', 'Automobile', 'Bird', 'Cat', 'Deer', 'Dog', 'Frog', 'Horse', 'Ship','Truck']\n",
    "label_idx = dict(zip(range(len(labels)), labels))\n",
    "print(label_idx)\n",
    "print(labels[1:1+5]) # 1:6 exclusive"
   ]
  },
  {
   "cell_type": "markdown",
   "metadata": {
    "collapsed": "true"
   },
   "source": [
    "## 1.3 Additional"
   ]
  },
  {
   "cell_type": "code",
   "execution_count": 12,
   "metadata": {},
   "outputs": [
    {
     "name": "stdout",
     "output_type": "stream",
     "text": [
      "Ori: \t\t[0, 1, 2, 3, 4, 5]\n",
      "[:]: \t\t[0, 1, 2, 3, 4, 5]\n",
      "[1:4]: \t\t[1, 2, 3]\n",
      "[1:]: \t\t[1, 2, 3, 4, 5]\n",
      "[:4]: \t\t[0, 1, 2, 3]\n",
      "[:-1]: \t\t[0, 1, 2, 3, 4]\n",
      "[1:4:2]:\t[1, 3]\n"
     ]
    }
   ],
   "source": [
    "# list slicing\n",
    "some_list = list(range(6)); print(f\"Ori: \\t\\t{some_list}\")\n",
    "all_list = some_list[:]; print(f\"[:]: \\t\\t{all_list}\")\n",
    "sliced_list = some_list[1:4]; print(f\"[1:4]: \\t\\t{sliced_list}\") # first inclusive, last exclusive\n",
    "sliced_list = some_list[1:]; print(f\"[1:]: \\t\\t{sliced_list}\") # first inclusive\n",
    "sliced_list = some_list[:4]; print(f\"[:4]: \\t\\t{sliced_list}\") # last exclusive\n",
    "sliced_list = some_list[:-1]; print(f\"[:-1]: \\t\\t{sliced_list}\") # last exclusive\n",
    "sliced_list = some_list[1:4:2]; print(f\"[1:4:2]:\\t{sliced_list}\") # last exclusive"
   ]
  },
  {
   "cell_type": "code",
   "execution_count": 13,
   "metadata": {},
   "outputs": [
    {
     "name": "stdout",
     "output_type": "stream",
     "text": [
      "Ori \ttensor([[4., 1.],\n",
      "        [5., 3.],\n",
      "        [2., 1.]])\n",
      "\n",
      "[1:] \ttensor([[5., 3.],\n",
      "        [2., 1.]])\n",
      "\n",
      "[1:,:] \ttensor([[5., 3.],\n",
      "        [2., 1.]])\n",
      "\n",
      "[1:,0] \ttensor([5., 2.])\n",
      "\n",
      "[None] \ttensor([[[4., 1.],\n",
      "         [5., 3.],\n",
      "         [2., 1.]]])\n",
      "\n"
     ]
    }
   ],
   "source": [
    "# tensor slicing\n",
    "points = torch.tensor([[4.0, 1.0], [5.0, 3.0], [2.0, 1.0]]); print(f\"Ori \\t{points}\\n\")\n",
    "sliced_points = points[1:]; print(f\"[1:] \\t{sliced_points}\\n\")     # all rows after first; all columns (implicit)\n",
    "sliced_points = points[1:,:]; print(f\"[1:,:] \\t{sliced_points}\\n\") # all rows after first; all columns\n",
    "sliced_points = points[1:,0]; print(f\"[1:,0] \\t{sliced_points}\\n\") # all rows after first; first column\n",
    "sliced_points = points[None]; print(f\"[None] \\t{sliced_points}\\n\") # adds a dim of size 1, like unsqueeze"
   ]
  },
  {
   "cell_type": "code",
   "execution_count": 14,
   "metadata": {},
   "outputs": [
    {
     "name": "stdout",
     "output_type": "stream",
     "text": [
      "tensor([[1., 2., 3.],\n",
      "        [6., 5., 4.]]) torch.Size([2, 3])\n",
      "\n",
      "torch.max(): \ttensor([3., 6.]), tensor([2, 0])\n",
      "torch.sum(): \ttensor([ 6., 15.])\n",
      "\n",
      "tensor([[ 0.4818, -0.0694,  0.9956],\n",
      "        [ 5.4096,  6.8551,  3.8205]])\n",
      "tensor([[ 0.4818, -0.0694,  0.9956],\n",
      "        [ 5.4096,  6.8551,  3.8205]])\n"
     ]
    }
   ],
   "source": [
    "x = torch.Tensor([[1,2,3],[6,5,4]]); print(f\"{x} {x.shape}\\n\")\n",
    "# find max in each rows\n",
    "max_value, max_idx = torch.max(x, dim=1)\n",
    "print(f\"torch.max(): \\t{max_value}, {max_idx}\")\n",
    "# find sum across rows\n",
    "sum_x = torch.sum(x, dim=1)\n",
    "print(f\"torch.sum(): \\t{sum_x}\\n\")\n",
    "y = torch.randn(2, 3)\n",
    "z = x + y; print(z)\n",
    "x.add_(y); print(x) #auto add inplace"
   ]
  },
  {
   "cell_type": "code",
   "execution_count": 15,
   "metadata": {},
   "outputs": [
    {
     "name": "stdout",
     "output_type": "stream",
     "text": [
      "tensor([[1., 1.],\n",
      "        [1., 1.],\n",
      "        [1., 1.]]) torch.Size([3, 2])\n",
      "tensor([[1., 1., 1.],\n",
      "        [1., 1., 1.]]) torch.Size([2, 3])\n",
      "tensor([[1., 1., 1.],\n",
      "        [1., 1., 1.]]) torch.Size([2, 3])\n",
      "tensor([[1., 1., 1.],\n",
      "        [1., 1., 1.]]) torch.Size([2, 3])\n",
      "tensor([[1., 1.],\n",
      "        [1., 1.],\n",
      "        [1., 1.]])\n"
     ]
    }
   ],
   "source": [
    "a = torch.ones(3, 2)\n",
    "a_t = torch.transpose(a, 0, 1)\n",
    "a_t2 = a.transpose(0, 1) #same!\n",
    "a_t3 = a.t()\n",
    "print(a, a.size())\n",
    "print(a_t, a_t.size())\n",
    "print(a_t2, a_t2.size())\n",
    "print(a_t3, a_t3.size())\n",
    "print(a)"
   ]
  },
  {
   "cell_type": "code",
   "execution_count": 16,
   "metadata": {},
   "outputs": [
    {
     "name": "stdout",
     "output_type": "stream",
     "text": [
      "tensor([1., 1., 2.])\n",
      "tensor([1., 2., 3.])\n",
      "tensor(9.)\n"
     ]
    }
   ],
   "source": [
    "x = torch.Tensor([1,1,2]); print(x)\n",
    "y = torch.Tensor([1,2,3]); print(y)\n",
    "z = torch.matmul(x, y); print(z)"
   ]
  },
  {
   "cell_type": "code",
   "execution_count": 17,
   "metadata": {},
   "outputs": [
    {
     "name": "stdout",
     "output_type": "stream",
     "text": [
      "tensor([[1, 1, 1, 1, 1],\n",
      "        [0, 5, 0, 5, 0],\n",
      "        [2, 2, 2, 2, 2]])\n",
      "tensor([[1, 0, 2],\n",
      "        [1, 5, 2],\n",
      "        [1, 0, 2],\n",
      "        [1, 5, 2],\n",
      "        [1, 0, 2]])\n"
     ]
    }
   ],
   "source": [
    "W = torch.LongTensor([[1,1,1,1,1],[0,5,0,5,0],[2,2,2,2,2]]); print(W)\n",
    "print(W.T)"
   ]
  },
  {
   "cell_type": "code",
   "execution_count": 18,
   "metadata": {},
   "outputs": [
    {
     "name": "stdout",
     "output_type": "stream",
     "text": [
      "W: torch.Size([2, 3])\n",
      "x: torch.Size([3])\n",
      "b: torch.Size([2])\n",
      "z: tensor([10, 16]) torch.Size([2])\n"
     ]
    }
   ],
   "source": [
    "W = torch.LongTensor([[1,2,3],[4,5,6]]); print(f\"W: {W.shape}\")\n",
    "x = torch.LongTensor([1,-2,2]); print(f\"x: {x.shape}\")\n",
    "b = torch.LongTensor([7, 10]); print(f\"b: {b.shape}\")\n",
    "z = torch.matmul(W,x)+b\n",
    "print(f\"z: {z} {z.shape}\")"
   ]
  },
  {
   "cell_type": "code",
   "execution_count": 19,
   "metadata": {},
   "outputs": [
    {
     "name": "stdout",
     "output_type": "stream",
     "text": [
      "tensor([[6, 4, 3, 3],\n",
      "        [8, 4, 5, 5]])\n"
     ]
    }
   ],
   "source": [
    "A = torch.LongTensor([[1,1,1],[2,3,0]])\n",
    "B = torch.LongTensor([[1,2,1,1],[2,0,1,1],[3,2,1,1]])\n",
    "C = torch.mm(A,B)\n",
    "print(C)"
   ]
  },
  {
   "cell_type": "code",
   "execution_count": 20,
   "metadata": {},
   "outputs": [
    {
     "name": "stdout",
     "output_type": "stream",
     "text": [
      "tensor([[0, 1, 2],\n",
      "        [0, 2, 4],\n",
      "        [0, 3, 6]])\n"
     ]
    }
   ],
   "source": [
    "# outer product\n",
    "x = torch.LongTensor([1,2,3]).unsqueeze(1) #3x1\n",
    "y = torch.LongTensor([0,1,2]) #1x3\n",
    "outerpdt = x * y #3x3\n",
    "print(outerpdt)"
   ]
  },
  {
   "cell_type": "code",
   "execution_count": 21,
   "metadata": {},
   "outputs": [
    {
     "name": "stdout",
     "output_type": "stream",
     "text": [
      "tensor([[6, 3],\n",
      "        [5, 3],\n",
      "        [0, 2]])\n"
     ]
    }
   ],
   "source": [
    "A = torch.LongTensor([[1,1,1,1,1,1],[0,0,2,2,0,1],[1,2,3,0,0,0]])\n",
    "B = torch.LongTensor([[0,0],[0,1],[0,0],[1,1],[2,0],[3,1]])\n",
    "C = torch.mm(A,B)\n",
    "print(C)"
   ]
  },
  {
   "cell_type": "markdown",
   "metadata": {},
   "source": [
    "# 2. Linear & Vanilla NN (labs_lecture03)"
   ]
  },
  {
   "cell_type": "code",
   "execution_count": 22,
   "metadata": {},
   "outputs": [],
   "source": [
    "import torch.nn as nn\n",
    "import torch.nn.functional as F\n",
    "import torch.optim as optim\n",
    "from random import randint"
   ]
  },
  {
   "cell_type": "markdown",
   "metadata": {},
   "source": [
    "## 2.1 Linear Module\n",
    "nn.Linear(in_features, out_features, bias=True)"
   ]
  },
  {
   "cell_type": "code",
   "execution_count": 23,
   "metadata": {},
   "outputs": [
    {
     "name": "stdout",
     "output_type": "stream",
     "text": [
      "tensor([ 0.0228, -0.4257], grad_fn=<AddBackward0>)\n"
     ]
    }
   ],
   "source": [
    "linear_mod = nn.Linear(5, 2)\n",
    "x = torch.rand(5)\n",
    "y = linear_mod(x)\n",
    "print(y)"
   ]
  },
  {
   "cell_type": "code",
   "execution_count": 24,
   "metadata": {},
   "outputs": [
    {
     "name": "stdout",
     "output_type": "stream",
     "text": [
      "Parameter containing:\n",
      "tensor([[ 0.0611, -0.3325,  0.2157, -0.0248,  0.0543],\n",
      "        [ 0.2696, -0.3996,  0.0070,  0.0517, -0.1722]], requires_grad=True)\n",
      "torch.Size([2, 5])\n",
      "Parameter containing:\n",
      "tensor([-0.1854, -0.4254], requires_grad=True)\n",
      "torch.Size([2])\n",
      "Parameter containing:\n",
      "tensor([[ 0.0611,  1.0000,  0.2157, -0.0248,  0.0543],\n",
      "        [ 0.2696, -0.3996,  0.0070,  0.0517, -0.1722]], grad_fn=<CopySlices>)\n"
     ]
    }
   ],
   "source": [
    "print(linear_mod.weight)\n",
    "print(linear_mod.weight.size())\n",
    "print(linear_mod.bias)\n",
    "print(linear_mod.bias.size())\n",
    "# modify weights\n",
    "linear_mod.weight[0,1]=1\n",
    "print(linear_mod.weight)"
   ]
  },
  {
   "cell_type": "markdown",
   "metadata": {},
   "source": [
    "## 2.2 Softmax\n",
    "F.softmax(A, dim=1) \n",
    "\n",
    "For matrices, it’s dim=1. For others like vectors, it’s 0. Along the feature dim, not the data dim."
   ]
  },
  {
   "cell_type": "code",
   "execution_count": 25,
   "metadata": {},
   "outputs": [
    {
     "name": "stdout",
     "output_type": "stream",
     "text": [
      "tensor([[1., 2., 3., 4.],\n",
      "        [1., 2., 3., 5.]]) torch.Size([2, 4])\n",
      "=> Softmax over dim 1 (rows)\n",
      "tensor([[0.0321, 0.0871, 0.2369, 0.6439],\n",
      "        [0.0152, 0.0414, 0.1125, 0.8310]])\n",
      "tensor([1., 1.])\n",
      "=> Softmax over dim 0 (cols)\n",
      "tensor([[0.5000, 0.5000, 0.5000, 0.2689],\n",
      "        [0.5000, 0.5000, 0.5000, 0.7311]])\n",
      "tensor([1., 1., 1., 1.])\n"
     ]
    }
   ],
   "source": [
    "B = torch.Tensor([[1,2,3,4],\n",
    "                 [1,2,3,5]])\n",
    "print(B, B.size()) # 2,4\n",
    "prob = F.softmax(B, dim=1) #rows (2) matrices\n",
    "print(f\"=> Softmax over dim 1 (rows)\")\n",
    "print(prob)\n",
    "print(prob.sum(1)) \n",
    "prob = F.softmax(B, dim=0) #cols (4) vectors\n",
    "print(f\"=> Softmax over dim 0 (cols)\")\n",
    "print(prob)\n",
    "print(prob.sum(0)) "
   ]
  },
  {
   "cell_type": "markdown",
   "metadata": {},
   "source": [
    "## 2.3 Vanilla NN"
   ]
  },
  {
   "cell_type": "code",
   "execution_count": 26,
   "metadata": {},
   "outputs": [
    {
     "name": "stdout",
     "output_type": "stream",
     "text": [
      "VanillaNN(\n",
      "  (layer1): Linear(in_features=2, out_features=5, bias=True)\n",
      "  (layer2): Linear(in_features=5, out_features=3, bias=True)\n",
      ")\n",
      "tensor([0.3559, 0.3649, 0.2792], grad_fn=<SoftmaxBackward>) tensor(1., grad_fn=<SumBackward1>)\n"
     ]
    }
   ],
   "source": [
    "class VanillaNN(nn.Module):\n",
    "    def __init__(self, input_size, hidden_size, output_size):\n",
    "        super(VanillaNN, self).__init__() #super().__init__()\n",
    "        self.layer1 = nn.Linear(input_size, hidden_size, bias=True)\n",
    "        self.layer2 = nn.Linear(hidden_size, output_size, bias=True)\n",
    "        \n",
    "    def forward(self, x):\n",
    "        x = self.layer1(x)\n",
    "        x = F.relu(x)\n",
    "        x = self.layer2(x)\n",
    "        x = F.softmax(x, dim=0) #input is vector\n",
    "        return x\n",
    "\n",
    "net = VanillaNN(2,5,3)\n",
    "print(net)\n",
    "x = torch.Tensor([1,1]) # vector of size 2\n",
    "p = net.forward(x)\n",
    "print(p, p.sum(0))"
   ]
  },
  {
   "cell_type": "code",
   "execution_count": 27,
   "metadata": {},
   "outputs": [
    {
     "name": "stdout",
     "output_type": "stream",
     "text": [
      "[Parameter containing:\n",
      "tensor([[ 0.2836,  0.6074],\n",
      "        [-0.5634,  0.1139],\n",
      "        [ 0.5306, -0.6041],\n",
      "        [-0.5734, -0.1324],\n",
      "        [-0.2048, -0.4458]], requires_grad=True), Parameter containing:\n",
      "tensor([-0.6530, -0.2103,  0.1001,  0.3057, -0.4094], requires_grad=True), Parameter containing:\n",
      "tensor([[ 0.3722, -0.1869, -0.0653, -0.0975, -0.1000],\n",
      "        [ 0.1593, -0.3980,  0.1531,  0.4085,  0.0878],\n",
      "        [ 0.1803, -0.0131,  0.4040, -0.3864,  0.1054]], requires_grad=True), Parameter containing:\n",
      "tensor([-0.0316,  0.0384, -0.2411], requires_grad=True)]\n"
     ]
    }
   ],
   "source": [
    "list_of_param = list(net.parameters())\n",
    "print(list_of_param)"
   ]
  },
  {
   "cell_type": "markdown",
   "metadata": {},
   "source": [
    "## 2.4 Train Vanilla NN"
   ]
  },
  {
   "cell_type": "code",
   "execution_count": 28,
   "metadata": {},
   "outputs": [],
   "source": [
    "import utils"
   ]
  },
  {
   "cell_type": "code",
   "execution_count": 29,
   "metadata": {},
   "outputs": [
    {
     "name": "stdout",
     "output_type": "stream",
     "text": [
      "torch.Size([60000, 28, 28])\n",
      "torch.Size([60000])\n",
      "torch.Size([10000, 28, 28])\n"
     ]
    }
   ],
   "source": [
    "from utils import check_mnist_dataset_exists\n",
    "data_path = check_mnist_dataset_exists()\n",
    "train_data = torch.load(data_path+'mnist/train_data.pt')\n",
    "train_label = torch.load(data_path+'mnist/train_label.pt')\n",
    "test_data = torch.load(data_path+'mnist/test_data.pt')\n",
    "test_label = torch.load(data_path+'mnist/test_label.pt')\n",
    "print(train_data.size())\n",
    "print(train_label.size())\n",
    "print(test_data.size())"
   ]
  },
  {
   "cell_type": "markdown",
   "metadata": {},
   "source": [
    "### 2.4.1 One Layer Net"
   ]
  },
  {
   "cell_type": "code",
   "execution_count": 30,
   "metadata": {},
   "outputs": [
    {
     "name": "stdout",
     "output_type": "stream",
     "text": [
      "tensor([[0.0822, 0.0909, 0.1079, 0.0917, 0.1406, 0.0868, 0.0939, 0.1173, 0.0981,\n",
      "         0.0905]], grad_fn=<SoftmaxBackward>)\n"
     ]
    }
   ],
   "source": [
    "class One_Layer_Net(nn.Module):\n",
    "    def __init__(self, input_size, output_size):\n",
    "        super(One_Layer_Net, self).__init__()\n",
    "        self.linear_layer = nn.Linear(input_size,output_size,bias=True)\n",
    "    def forward(self, x): \n",
    "        x = self.linear_layer(x)\n",
    "        p = F.softmax(x, dim=1)\n",
    "        return p\n",
    "    \n",
    "net = One_Layer_Net(784, 10)\n",
    "p = net(test_data[6].view(1,784)) # [Batch, InputSize]\n",
    "print(p)"
   ]
  },
  {
   "cell_type": "markdown",
   "metadata": {},
   "source": [
    "### 2.4.2 Train One Layer Net (MNIST) without mini-batch\n",
    "idx = randint(0,len(train_data)-1) --- [0,60000]"
   ]
  },
  {
   "cell_type": "code",
   "execution_count": 31,
   "metadata": {},
   "outputs": [
    {
     "name": "stdout",
     "output_type": "stream",
     "text": [
      "tensor([[2.5711e-04, 4.0726e-04, 2.5427e-04, 1.3241e-02, 6.8376e-01, 5.3203e-02,\n",
      "         1.5575e-03, 3.0370e-02, 1.1159e-01, 1.0536e-01]],\n",
      "       grad_fn=<SoftmaxBackward>)\n"
     ]
    },
    {
     "data": {
      "image/png": "[encoded data removed]",
      "text/plain": [
       "<Figure size 432x288 with 1 Axes>"
      ]
     },
     "metadata": {
      "needs_background": "light"
     },
     "output_type": "display_data"
    },
    {
     "data": {
      "image/png": "[encoded data removed]",
      "text/plain": [
       "<Figure size 640x480 with 1 Axes>"
      ]
     },
     "metadata": {},
     "output_type": "display_data"
    }
   ],
   "source": [
    "from random import randint\n",
    "criterion = nn.NLLLoss()\n",
    "optimizer = torch.optim.SGD(net.parameters(), lr=0.01)\n",
    "for i in range(5000):\n",
    "    idx = randint(0,len(train_data)-1) # pick one randomly from 60000\n",
    "    \n",
    "    inputs = train_data[idx].view(1,784) # [Batch, InputSize]\n",
    "    labels = train_label[idx].view(1) # make to tensor of size 1\n",
    "    \n",
    "    inputs.requires_grad_()\n",
    "    probs = net(inputs)\n",
    "    \n",
    "    log_probs = torch.log(probs)\n",
    "    loss = criterion(log_probs, labels)    \n",
    "    optimizer.zero_grad()       \n",
    "    loss.backward()\n",
    "    optimizer.step()\n",
    "    \n",
    "p = net(test_data[6].view(1,784)) \n",
    "print(p)\n",
    "utils.show(test_data[6])\n",
    "utils.show_prob_mnist(p)"
   ]
  },
  {
   "cell_type": "markdown",
   "metadata": {},
   "source": [
    "### 2.4.3 Train One Layer Net (MNIST) with mini-batch\n",
    "indices=torch.LongTensor(2).random_(0,5) ---- [0,5)"
   ]
  },
  {
   "cell_type": "code",
   "execution_count": 43,
   "metadata": {},
   "outputs": [
    {
     "name": "stdout",
     "output_type": "stream",
     "text": [
      "tensor([12546, 17986, 16283, 29552,  4990])\n"
     ]
    }
   ],
   "source": [
    "indices=torch.LongTensor(5).random_(0,len(train_data)) ; print(indices)"
   ]
  },
  {
   "cell_type": "code",
   "execution_count": 33,
   "metadata": {},
   "outputs": [
    {
     "name": "stdout",
     "output_type": "stream",
     "text": [
      "tensor([[3.0081e-03, 2.1243e-05, 1.1068e-02, 7.5577e-04, 2.2639e-02, 1.9450e-03,\n",
      "         2.3036e-03, 1.6187e-02, 4.4935e-03, 9.3758e-01]],\n",
      "       grad_fn=<SoftmaxBackward>)\n"
     ]
    },
    {
     "data": {
      "image/png": "[encoded data removed]",
      "text/plain": [
       "<Figure size 640x480 with 1 Axes>"
      ]
     },
     "metadata": {},
     "output_type": "display_data"
    },
    {
     "data": {
      "image/png": "[encoded data removed]",
      "text/plain": [
       "<Figure size 640x480 with 1 Axes>"
      ]
     },
     "metadata": {},
     "output_type": "display_data"
    }
   ],
   "source": [
    "net = One_Layer_Net(784, 10)\n",
    "criterion = nn.NLLLoss()\n",
    "optimizer = torch.optim.SGD(net.parameters(), lr=0.01)\n",
    "bs = 200\n",
    "\n",
    "for iter in range(1,5000):\n",
    "    # create a minibatch\n",
    "    indices=torch.LongTensor(bs).random_(0,len(train_data)) \n",
    "    minibatch_data = train_data[indices]\n",
    "    minibatch_label= train_label[indices]\n",
    "    \n",
    "    #reshape them to fit the network\n",
    "    inputs = minibatch_data.view(bs, 784)\n",
    "\n",
    "    # feed the input to the net  \n",
    "    inputs.requires_grad_()\n",
    "    prob = net(inputs) \n",
    "    \n",
    "    log_prob = torch.log(prob)\n",
    "    loss = criterion(log_prob, minibatch_label)    \n",
    "    optimizer.zero_grad()       \n",
    "    loss.backward()\n",
    "    optimizer.step()\n",
    "    \n",
    "idx = randint(0, len(test_data)-1)    \n",
    "p = net(test_data[idx].view(1,784)) \n",
    "print(p)\n",
    "utils.show(test_data[idx])\n",
    "utils.show_prob_mnist(p)"
   ]
  },
  {
   "cell_type": "markdown",
   "metadata": {},
   "source": [
    "# 3. Cross Entropy (labs_lecture04)\n",
    "criterion = nn.CrossEntropyLoss()"
   ]
  },
  {
   "cell_type": "code",
   "execution_count": 34,
   "metadata": {},
   "outputs": [
    {
     "data": {
      "image/png": "[encoded data removed]",
      "text/plain": [
       "<Figure size 800x800 with 2 Axes>"
      ]
     },
     "metadata": {},
     "output_type": "display_data"
    },
    {
     "name": "stdout",
     "output_type": "stream",
     "text": [
      "loss =  0.023508397862315178  good!\n"
     ]
    }
   ],
   "source": [
    "criterion = nn.CrossEntropyLoss()\n",
    "labels = torch.LongTensor([2,3])\n",
    "scores = torch.Tensor([[-1.2, 0.5 , 5, -0.5], [1.4, -1.7 , -1.3, 5.0]])\n",
    "utils.display_scores(scores)\n",
    "average_loss = criterion(scores, labels)\n",
    "print('loss = ', average_loss.item(), \" good!\")"
   ]
  },
  {
   "cell_type": "markdown",
   "metadata": {},
   "source": [
    "# 4. MLP + Full Training Loop (labs_lecture05)"
   ]
  },
  {
   "cell_type": "markdown",
   "metadata": {},
   "source": [
    "## 4.1 Epoch\n",
    "Shuffled Indices"
   ]
  },
  {
   "cell_type": "code",
   "execution_count": 35,
   "metadata": {},
   "outputs": [
    {
     "name": "stdout",
     "output_type": "stream",
     "text": [
      "tensor([6, 9])\n",
      "tensor([1, 4])\n",
      "tensor([5, 0])\n",
      "tensor([8, 2])\n",
      "tensor([3, 7])\n"
     ]
    }
   ],
   "source": [
    "bs = 2\n",
    "shuffled_indices = torch.randperm(10) #len of train_data\n",
    "for count in range(0,10,bs):\n",
    "    batch_of_indices = shuffled_indices[count:count+bs]\n",
    "    print(batch_of_indices)"
   ]
  },
  {
   "cell_type": "markdown",
   "metadata": {},
   "source": [
    "## 4.2 Monitoring Loss\n",
    "running_loss += loss.detach().item() \\\n",
    "error = utils.get_error(scores.detach(), minibatch_label) \\\n",
    "running_error += error.item()\n",
    "\n",
    "total_loss = running_loss/num_batches \\\n",
    "total_error = running_error/num_batches "
   ]
  },
  {
   "cell_type": "markdown",
   "metadata": {},
   "source": [
    "## 4.3 Full Loop"
   ]
  },
  {
   "cell_type": "code",
   "execution_count": 36,
   "metadata": {},
   "outputs": [],
   "source": [
    "class three_layer_net(nn.Module):\n",
    "\n",
    "    def __init__(self, input_size, hidden_size1, hidden_size2,  output_size):\n",
    "        super(three_layer_net , self).__init__()\n",
    "        \n",
    "        self.layer1 = nn.Linear(input_size, hidden_size1) \n",
    "        self.layer2 = nn.Linear(hidden_size2, hidden_size2) \n",
    "        self.layer3 = nn.Linear(hidden_size2, output_size) \n",
    "        \n",
    "    def forward(self, x):\n",
    "        \n",
    "        y       = self.layer1(x) \n",
    "        y_hat   = F.relu(y) \n",
    "        z       = self.layer2(y_hat) \n",
    "        z_hat   = F.relu(z) \n",
    "        scores  = self.layer3(z_hat)\n",
    "        \n",
    "        return scores"
   ]
  },
  {
   "cell_type": "code",
   "execution_count": 37,
   "metadata": {},
   "outputs": [
    {
     "name": "stdout",
     "output_type": "stream",
     "text": [
      "cuda:0\n"
     ]
    }
   ],
   "source": [
    "import time\n",
    "device = torch.device(\"cuda:0\" if torch.cuda.is_available() else \"cpu\")\n",
    "print(device)\n",
    "# device = torch.device(\"cpu\")"
   ]
  },
  {
   "cell_type": "code",
   "execution_count": 38,
   "metadata": {},
   "outputs": [
    {
     "name": "stdout",
     "output_type": "stream",
     "text": [
      "three_layer_net(\n",
      "  (layer1): Linear(in_features=784, out_features=200, bias=True)\n",
      "  (layer2): Linear(in_features=200, out_features=200, bias=True)\n",
      "  (layer3): Linear(in_features=200, out_features=10, bias=True)\n",
      ")\n",
      "There are 199210 (0.20 million) parameters in this neural network\n"
     ]
    }
   ],
   "source": [
    "net = three_layer_net(784, 200, 200, 10).to(device)\n",
    "print(net)\n",
    "utils.display_num_param(net)"
   ]
  },
  {
   "cell_type": "code",
   "execution_count": 39,
   "metadata": {},
   "outputs": [],
   "source": [
    "def eval_on_test_set():\n",
    "    running_error = 0\n",
    "    num_batches = 0\n",
    "    for i in range(0, len(test_data), bs):\n",
    "        minibatch_data = test_data[i:i+bs].to(device)\n",
    "        minibatch_label = test_label[i:i+bs].to(device)\n",
    "        inputs = minibatch_data.view(bs, 784)\n",
    "        scores = net(inputs)\n",
    "        error = utils.get_error(scores, minibatch_label)\n",
    "        running_error += error.detach().item()\n",
    "        num_batches += 1\n",
    "    total_error = running_error / num_batches\n",
    "    print(f\"=> test error: {total_error*100} %\")"
   ]
  },
  {
   "cell_type": "code",
   "execution_count": 40,
   "metadata": {},
   "outputs": [],
   "source": [
    "criterion = nn.CrossEntropyLoss()\n",
    "bs = 200\n",
    "lr = 0.05 # initial learning rate"
   ]
  },
  {
   "cell_type": "code",
   "execution_count": 41,
   "metadata": {},
   "outputs": [
    {
     "name": "stdout",
     "output_type": "stream",
     "text": [
      " \n",
      "epoch=0, time=1.190460205078125, loss=1.2401535499095917, error=29.221668501694996%, lr=0.05\n",
      "=> test error: 13.590002059936523 %\n",
      " \n",
      "epoch=10, time=6.121979713439941, loss=0.15524459696064394, error=4.440002262592316%, lr=0.05\n",
      "=> test error: 4.520002126693726 %\n",
      " \n",
      "epoch=20, time=10.971051216125488, loss=0.08337840063807865, error=2.3850033283233643%, lr=0.03333333333333333\n",
      "=> test error: 3.050002336502075 %\n",
      " \n",
      "epoch=30, time=15.952506065368652, loss=0.06007257326040417, error=1.6633368929227195%, lr=0.022222222222222223\n",
      "=> test error: 2.490002393722534 %\n",
      " \n",
      "epoch=40, time=20.997039079666138, loss=0.04911688884409766, error=1.2916697263717651%, lr=0.014814814814814815\n",
      "=> test error: 2.3500022888183594 %\n",
      " \n",
      "epoch=50, time=26.793145895004272, loss=0.043094217761730155, error=1.1066695054372153%, lr=0.009876543209876543\n",
      "=> test error: 2.1900020837783813 %\n",
      " \n",
      "epoch=60, time=31.758091926574707, loss=0.03950729878153652, error=0.9733358422915142%, lr=0.006584362139917695\n",
      "=> test error: 2.1900020837783813 %\n",
      " \n",
      "epoch=70, time=36.763007164001465, loss=0.03728696144806842, error=0.898335595925649%, lr=0.0043895747599451305\n",
      "=> test error: 2.1900020837783813 %\n",
      " \n",
      "epoch=80, time=41.73611640930176, loss=0.03586939269055923, error=0.8450021545092266%, lr=0.0029263831732967535\n",
      "=> test error: 2.1800020933151245 %\n",
      " \n",
      "epoch=90, time=46.646398305892944, loss=0.03494806470659872, error=0.8166687488555908%, lr=0.001950922115531169\n",
      "=> test error: 2.1800020933151245 %\n",
      " \n",
      "epoch=100, time=51.60714149475098, loss=0.03434262945316732, error=0.798335373401642%, lr=0.001300614743687446\n",
      "=> test error: 2.1600019931793213 %\n",
      " \n",
      "epoch=110, time=56.69259333610535, loss=0.033942981522219876, error=0.7783353130022685%, lr=0.0008670764957916306\n",
      "=> test error: 2.170001983642578 %\n",
      " \n",
      "epoch=120, time=62.06968593597412, loss=0.03367761366224537, error=0.7766686280568441%, lr=0.0005780509971944203\n",
      "=> test error: 2.170001983642578 %\n",
      " \n",
      "epoch=130, time=67.33269119262695, loss=0.03350061231913666, error=0.7716685732205708%, lr=0.0003853673314629469\n",
      "=> test error: 2.170001983642578 %\n",
      " \n",
      "epoch=140, time=72.51133012771606, loss=0.03338305262227853, error=0.7700018684069315%, lr=0.00025691155430863124\n",
      "=> test error: 2.170001983642578 %\n",
      " \n",
      "epoch=150, time=77.77333450317383, loss=0.03330486019141972, error=0.7666685183842977%, lr=0.0001712743695390875\n",
      "=> test error: 2.180001974105835 %\n",
      " \n",
      "epoch=160, time=82.86472034454346, loss=0.03325285186835875, error=0.7650018533070883%, lr=0.00011418291302605833\n",
      "=> test error: 2.180001974105835 %\n",
      " \n",
      "epoch=170, time=88.2572991847992, loss=0.03321826060302555, error=0.7633351683616638%, lr=7.612194201737223e-05\n",
      "=> test error: 2.180001974105835 %\n",
      " \n",
      "epoch=180, time=93.49928760528564, loss=0.03319522868997107, error=0.7616685032844543%, lr=5.074796134491482e-05\n",
      "=> test error: 2.180001974105835 %\n",
      " \n",
      "epoch=190, time=98.73524951934814, loss=0.03317989246919751, error=0.7616685032844543%, lr=3.3831974229943214e-05\n",
      "=> test error: 2.180001974105835 %\n"
     ]
    }
   ],
   "source": [
    "start = time.time()\n",
    "for epoch in range(200):\n",
    "    # update learning rate based on lr strategy\n",
    "    if epoch % 10 == 0 and epoch > 10: \n",
    "        lr = lr / 1.5 \n",
    "    \n",
    "    # reset optimizer with new learning rate\n",
    "    optimizer = torch.optim.SGD(net.parameters(), lr=lr)\n",
    "    \n",
    "    running_loss = 0\n",
    "    running_error = 0\n",
    "    num_batches = 0\n",
    "    \n",
    "    shuffled_indices=torch.randperm(len(train_data)) # 60000\n",
    "    \n",
    "    for count in range(0, len(train_data), bs):\n",
    "        optimizer.zero_grad() \n",
    "        \n",
    "        batch_of_indices = shuffled_indices[count:count+bs]\n",
    "        minibatch_data = train_data[count:count+bs].to(device)\n",
    "        minibatch_label = train_label[count:count+bs].to(device)\n",
    "        \n",
    "        inputs = minibatch_data.view(bs, 784)\n",
    "        # tell Pytorch to start tracking all operations that will be done on \"inputs\"\n",
    "        inputs.requires_grad_()\n",
    "        \n",
    "        scores = net(inputs)\n",
    "        \n",
    "        loss = criterion(scores, minibatch_label)\n",
    "        loss.backward()\n",
    "        optimizer.step()\n",
    "        \n",
    "        running_loss += loss.detach().item()\n",
    "        error = utils.get_error(scores, minibatch_label)\n",
    "        running_error += error.detach().item()\n",
    "        num_batches += 1\n",
    "    \n",
    "    total_loss = running_loss/num_batches\n",
    "    total_error = running_error/num_batches\n",
    "    elapsed_time = time.time() - start\n",
    "    \n",
    "    if epoch % 10 == 0 : \n",
    "        print(' ') \n",
    "        print(f\"epoch={epoch}, time={elapsed_time}, loss={total_loss}, error={total_error*100}%, lr={lr}\")\n",
    "        eval_on_test_set()\n",
    "    "
   ]
  },
  {
   "cell_type": "code",
   "execution_count": 42,
   "metadata": {},
   "outputs": [
    {
     "data": {
      "image/png": "[encoded data removed]",
      "text/plain": [
       "<Figure size 640x480 with 1 Axes>"
      ]
     },
     "metadata": {},
     "output_type": "display_data"
    },
    {
     "name": "stdout",
     "output_type": "stream",
     "text": [
      "torch.Size([1, 10])\n"
     ]
    },
    {
     "data": {
      "image/png": "[encoded data removed]",
      "text/plain": [
       "<Figure size 640x480 with 1 Axes>"
      ]
     },
     "metadata": {},
     "output_type": "display_data"
    }
   ],
   "source": [
    "# choose a picture at random\n",
    "idx = randint(0, 10000-1)\n",
    "im = test_data[idx]\n",
    "\n",
    "# diplay the picture\n",
    "utils.show(im)\n",
    "\n",
    "# feed it to the net and display the confidence scores\n",
    "scores = net(im.view(1,784).to(device)) \n",
    "probs = F.softmax(scores, dim=1)\n",
    "print(probs.shape)\n",
    "utils.show_prob_mnist(probs.cpu())"
   ]
  },
  {
   "cell_type": "code",
   "execution_count": null,
   "metadata": {},
   "outputs": [],
   "source": []
  }
 ],
 "metadata": {
  "kernelspec": {
   "display_name": "Python 3",
   "language": "python",
   "name": "python3"
  },
  "language_info": {
   "codemirror_mode": {
    "name": "ipython",
    "version": 3
   },
   "file_extension": ".py",
   "mimetype": "text/x-python",
   "name": "python",
   "nbconvert_exporter": "python",
   "pygments_lexer": "ipython3",
   "version": "3.6.10"
  }
 },
 "nbformat": 4,
 "nbformat_minor": 4
}
