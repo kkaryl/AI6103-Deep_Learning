{
 "cells": [
  {
   "cell_type": "code",
   "execution_count": 1,
   "metadata": {},
   "outputs": [],
   "source": [
    "# import torch\n",
    "# import torch.nn as nn\n",
    "# import numpy as np\n",
    "# import torch.nn.functional as F\n",
    "# from random import randint\n",
    "# import utils\n",
    "# import time"
   ]
  },
  {
   "cell_type": "markdown",
   "metadata": {},
   "source": [
    "# 1. Basics (labs_lecture02)"
   ]
  },
  {
   "cell_type": "code",
   "execution_count": 2,
   "metadata": {},
   "outputs": [],
   "source": [
    "import torch\n",
    "import numpy as np"
   ]
  },
  {
   "cell_type": "markdown",
   "metadata": {},
   "source": [
    "## 1.1 Tensor Initialization\n"
   ]
  },
  {
   "cell_type": "markdown",
   "metadata": {},
   "source": [
    "#### 1.1.1 Init from NP array\n",
    "+ torch.Tensor()**\n",
    "+ torch.tensor()\n",
    "+ torch.as_tensor()**\n",
    "+ torch.from_numpy()"
   ]
  },
  {
   "cell_type": "code",
   "execution_count": 3,
   "metadata": {},
   "outputs": [
    {
     "name": "stdout",
     "output_type": "stream",
     "text": [
      "np array: [1 2 3]\n",
      "PyTorch default dtype:  torch.float32\n",
      "torch.Tensor: torch.float32\n",
      "torch.tensor (will infer dtype): torch.int32\n",
      "torch.as_tensor (preferred over from_numpy): torch.int32\n"
     ]
    }
   ],
   "source": [
    "# How to initialize a tensor from a numpy array?\n",
    "data = np.array([1,2,3]); print(f\"np array: {data}\")\n",
    "print(f\"PyTorch default dtype: \", torch.get_default_dtype())\n",
    "\n",
    "t1 = torch.Tensor(data) # torch.get_default_dtype()\n",
    "t2 = torch.tensor(data) # dtype=torch.float32 # will infer dtype\n",
    "t3 = torch.as_tensor(data) # preferred over from_numpy #int32\n",
    "t4 = torch.from_numpy(data) #int32\n",
    "print(f\"torch.Tensor: {t1.dtype}\")\n",
    "print(f\"torch.tensor (will infer dtype): {t2.dtype}\")\n",
    "print(f\"torch.as_tensor (preferred over from_numpy): {t3.dtype}\")"
   ]
  },
  {
   "cell_type": "markdown",
   "metadata": {},
   "source": [
    "#### 1.1.2 Random/ Zero/ Identity Tensor"
   ]
  },
  {
   "cell_type": "code",
   "execution_count": 4,
   "metadata": {},
   "outputs": [
    {
     "name": "stdout",
     "output_type": "stream",
     "text": [
      "rand: tensor([[[0.2513, 0.0249, 0.8893, 0.0073],\n",
      "         [0.2517, 0.4535, 0.2735, 0.0539],\n",
      "         [0.1846, 0.7182, 0.8207, 0.6127]],\n",
      "\n",
      "        [[0.2051, 0.7317, 0.4341, 0.6114],\n",
      "         [0.8395, 0.0256, 0.9829, 0.0021],\n",
      "         [0.4239, 0.3053, 0.4891, 0.3172]]])\n",
      "zeros: tensor([[[0., 0., 0., 0.],\n",
      "         [0., 0., 0., 0.],\n",
      "         [0., 0., 0., 0.]],\n",
      "\n",
      "        [[0., 0., 0., 0.],\n",
      "         [0., 0., 0., 0.],\n",
      "         [0., 0., 0., 0.]]])\n",
      "eye: tensor([[1., 0., 0.],\n",
      "        [0., 1., 0.],\n",
      "        [0., 0., 1.]])\n"
     ]
    }
   ],
   "source": [
    "rand_t = torch.rand(2,3,4); print(f\"rand: {rand_t}\")\n",
    "zero_t = torch.zeros(2,3,4); print(f\"zeros: {zero_t}\")\n",
    "eye_t = torch.eye(3); print(f\"eye: {eye_t}\")"
   ]
  },
  {
   "cell_type": "markdown",
   "metadata": {},
   "source": [
    "#### 1.1.3 Long Tensor (Integers)"
   ]
  },
  {
   "cell_type": "code",
   "execution_count": 5,
   "metadata": {},
   "outputs": [
    {
     "name": "stdout",
     "output_type": "stream",
     "text": [
      "LongTensor: tensor([1, 1])\n",
      "tensor(dtype=torch.int32): tensor([2, 2], dtype=torch.int32)\n",
      ".long(): tensor([3, 3])\n"
     ]
    }
   ],
   "source": [
    "# integer tensor MUST HAVE BRACKETS\n",
    "int_t1 = torch.LongTensor([1,1]); print(f\"LongTensor: {int_t1}\")\n",
    "int_t2 = torch.tensor([2,2], dtype=torch.int32) ; print(f\"tensor(dtype=torch.int32): {int_t2}\")\n",
    "int_t3 = torch.tensor([3,3]).long(); print(f\".long(): {int_t3}\")"
   ]
  },
  {
   "cell_type": "markdown",
   "metadata": {},
   "source": [
    "#### 1.1.4 Various Tensor Functions\n",
    "+ .shape, .size()\n",
    "+ .dim()\n",
    "+ .type()\n",
    "+ .view(), .reshape()\n",
    "+ .arange(n), .randperm(n)\n",
    "+ .item()"
   ]
  },
  {
   "cell_type": "code",
   "execution_count": 6,
   "metadata": {},
   "outputs": [
    {
     "name": "stdout",
     "output_type": "stream",
     "text": [
      "Shape: torch.Size([2, 3, 4]) and size: torch.Size([2, 3, 4])\n",
      "Dimension of Tensor: 3\n"
     ]
    }
   ],
   "source": [
    "print_t = torch.rand([2,3,4])\n",
    "print(f\"Shape: {print_t.shape} and size: {print_t.size()}\")\n",
    "print(f\"Dimension of Tensor: {print_t.dim()}\")"
   ]
  },
  {
   "cell_type": "code",
   "execution_count": 7,
   "metadata": {},
   "outputs": [
    {
     "name": "stdout",
     "output_type": "stream",
     "text": [
      "view: tensor([[0.5053, 0.2282, 0.2925, 0.7979, 0.8549, 0.8543, 0.3059, 0.5890],\n",
      "        [0.9137, 0.4474, 0.9356, 0.9462, 0.1302, 0.4437, 0.2523, 0.0300],\n",
      "        [0.3578, 0.3101, 0.6017, 0.8060, 0.8377, 0.9251, 0.0181, 0.1263]])\n",
      "reshape: tensor([[0.5053, 0.2282, 0.2925, 0.7979, 0.8549, 0.8543],\n",
      "        [0.3059, 0.5890, 0.9137, 0.4474, 0.9356, 0.9462],\n",
      "        [0.1302, 0.4437, 0.2523, 0.0300, 0.3578, 0.3101],\n",
      "        [0.6017, 0.8060, 0.8377, 0.9251, 0.0181, 0.1263]])\n",
      "print_t is not modified until assigned: tensor([[[0.5053, 0.2282, 0.2925, 0.7979],\n",
      "         [0.8549, 0.8543, 0.3059, 0.5890],\n",
      "         [0.9137, 0.4474, 0.9356, 0.9462]],\n",
      "\n",
      "        [[0.1302, 0.4437, 0.2523, 0.0300],\n",
      "         [0.3578, 0.3101, 0.6017, 0.8060],\n",
      "         [0.8377, 0.9251, 0.0181, 0.1263]]])\n"
     ]
    }
   ],
   "source": [
    "print(f\"view: {print_t.view(3,8)}\") \n",
    "print(f\"reshape: {print_t.reshape(-1, 6)}\")\n",
    "print(f\"print_t is not modified until assigned: {print_t}\")"
   ]
  },
  {
   "cell_type": "code",
   "execution_count": 8,
   "metadata": {},
   "outputs": [
    {
     "name": "stdout",
     "output_type": "stream",
     "text": [
      "arange(n): tensor([0, 1, 2, 3, 4, 5, 6, 7, 8, 9])\n",
      "randperm(n): tensor([3, 9, 4, 2, 8, 0, 1, 5, 7, 6])\n"
     ]
    }
   ],
   "source": [
    "ar_t = torch.arange(10); print(f\"arange(n): {ar_t}\") # ordered 0 to 9\n",
    "randp_t = torch.randperm(10); print(f\"randperm(n): {randp_t}\") # random 0 to 9"
   ]
  },
  {
   "cell_type": "code",
   "execution_count": 9,
   "metadata": {},
   "outputs": [],
   "source": [
    "# 0-dimensional tensor is a scalar => item()\n"
   ]
  },
  {
   "cell_type": "markdown",
   "metadata": {},
   "source": [
    "## 1.2 Slicing of Tensor"
   ]
  },
  {
   "cell_type": "code",
   "execution_count": 10,
   "metadata": {},
   "outputs": [
    {
     "name": "stdout",
     "output_type": "stream",
     "text": [
      "tensor([[0.2878, 0.6513],\n",
      "        [0.7590, 0.8475],\n",
      "        [0.5571, 0.8222],\n",
      "        [0.8301, 0.1527],\n",
      "        [0.4052, 0.5542],\n",
      "        [0.4689, 0.2386],\n",
      "        [0.8942, 0.9248],\n",
      "        [0.9558, 0.9683],\n",
      "        [0.7316, 0.3486],\n",
      "        [0.2769, 0.1786]]) tensor([0.5571, 0.8222])\n",
      "tensor([[0.2878, 0.6513],\n",
      "        [0.7590, 0.8475],\n",
      "        [0.5571, 0.8222],\n",
      "        [0.8301, 0.1527],\n",
      "        [0.4052, 0.5542]]) 0.2878100275993347\n"
     ]
    }
   ],
   "source": [
    "A = torch.rand(10,2)\n",
    "v = A[2] # third row\n",
    "B = A[:5] # first 5 rows (0-4)\n",
    "x = A[0,0].item()\n",
    "print(A, v)\n",
    "print(B, x)"
   ]
  },
  {
   "cell_type": "code",
   "execution_count": 11,
   "metadata": {},
   "outputs": [
    {
     "name": "stdout",
     "output_type": "stream",
     "text": [
      "{0: 'Airplane', 1: 'Automobile', 2: 'Bird', 3: 'Cat', 4: 'Deer', 5: 'Dog', 6: 'Frog', 7: 'Horse', 8: 'Ship', 9: 'Truck'}\n",
      "['Automobile', 'Bird', 'Cat', 'Deer', 'Dog']\n"
     ]
    }
   ],
   "source": [
    "labels = ['Airplane', 'Automobile', 'Bird', 'Cat', 'Deer', 'Dog', 'Frog', 'Horse', 'Ship','Truck']\n",
    "label_idx = dict(zip(range(len(labels)), labels))\n",
    "print(label_idx)\n",
    "print(labels[1:1+5]) # 1:6 exclusive"
   ]
  },
  {
   "cell_type": "markdown",
   "metadata": {},
   "source": [
    "## 1.3 Additional"
   ]
  },
  {
   "cell_type": "code",
   "execution_count": 12,
   "metadata": {},
   "outputs": [
    {
     "name": "stdout",
     "output_type": "stream",
     "text": [
      "Ori: \t\t[0, 1, 2, 3, 4, 5]\n",
      "[:]: \t\t[0, 1, 2, 3, 4, 5]\n",
      "[1:4]: \t\t[1, 2, 3]\n",
      "[1:]: \t\t[1, 2, 3, 4, 5]\n",
      "[:4]: \t\t[0, 1, 2, 3]\n",
      "[:-1]: \t\t[0, 1, 2, 3, 4]\n",
      "[1:4:2]:\t[1, 3]\n"
     ]
    }
   ],
   "source": [
    "# list slicing\n",
    "some_list = list(range(6)); print(f\"Ori: \\t\\t{some_list}\")\n",
    "all_list = some_list[:]; print(f\"[:]: \\t\\t{all_list}\")\n",
    "sliced_list = some_list[1:4]; print(f\"[1:4]: \\t\\t{sliced_list}\") # first inclusive, last exclusive\n",
    "sliced_list = some_list[1:]; print(f\"[1:]: \\t\\t{sliced_list}\") # first inclusive\n",
    "sliced_list = some_list[:4]; print(f\"[:4]: \\t\\t{sliced_list}\") # last exclusive\n",
    "sliced_list = some_list[:-1]; print(f\"[:-1]: \\t\\t{sliced_list}\") # last exclusive\n",
    "sliced_list = some_list[1:4:2]; print(f\"[1:4:2]:\\t{sliced_list}\") # last exclusive"
   ]
  },
  {
   "cell_type": "code",
   "execution_count": 13,
   "metadata": {},
   "outputs": [
    {
     "name": "stdout",
     "output_type": "stream",
     "text": [
      "Ori \ttensor([[4., 1.],\n",
      "        [5., 3.],\n",
      "        [2., 1.]])\n",
      "\n",
      "[1:] \ttensor([[5., 3.],\n",
      "        [2., 1.]])\n",
      "\n",
      "[1:,:] \ttensor([[5., 3.],\n",
      "        [2., 1.]])\n",
      "\n",
      "[1:,0] \ttensor([5., 2.])\n",
      "\n",
      "[None] \ttensor([[[4., 1.],\n",
      "         [5., 3.],\n",
      "         [2., 1.]]])\n",
      "\n"
     ]
    }
   ],
   "source": [
    "# tensor slicing\n",
    "points = torch.tensor([[4.0, 1.0], [5.0, 3.0], [2.0, 1.0]]); print(f\"Ori \\t{points}\\n\")\n",
    "sliced_points = points[1:]; print(f\"[1:] \\t{sliced_points}\\n\")     # all rows after first; all columns (implicit)\n",
    "sliced_points = points[1:,:]; print(f\"[1:,:] \\t{sliced_points}\\n\") # all rows after first; all columns\n",
    "sliced_points = points[1:,0]; print(f\"[1:,0] \\t{sliced_points}\\n\") # all rows after first; first column\n",
    "sliced_points = points[None]; print(f\"[None] \\t{sliced_points}\\n\") # adds a dim of size 1, like unsqueeze"
   ]
  },
  {
   "cell_type": "code",
   "execution_count": 14,
   "metadata": {},
   "outputs": [
    {
     "name": "stdout",
     "output_type": "stream",
     "text": [
      "tensor([[1., 2., 3.],\n",
      "        [6., 5., 4.]]) torch.Size([2, 3])\n",
      "\n",
      "torch.max(): \ttensor([3., 6.]), tensor([2, 0])\n",
      "torch.sum(): \ttensor([ 6., 15.])\n",
      "\n",
      "tensor([[0.1299, 1.0338, 2.3337],\n",
      "        [4.5445, 4.0219, 4.7179]])\n",
      "tensor([[0.1299, 1.0338, 2.3337],\n",
      "        [4.5445, 4.0219, 4.7179]])\n"
     ]
    }
   ],
   "source": [
    "x = torch.Tensor([[1,2,3],[6,5,4]]); print(f\"{x} {x.shape}\\n\")\n",
    "# find max in each rows\n",
    "max_value, max_idx = torch.max(x, dim=1)\n",
    "print(f\"torch.max(): \\t{max_value}, {max_idx}\")\n",
    "# find sum across rows\n",
    "sum_x = torch.sum(x, dim=1)\n",
    "print(f\"torch.sum(): \\t{sum_x}\\n\")\n",
    "y = torch.randn(2, 3)\n",
    "z = x + y; print(z)\n",
    "x.add_(y); print(x) #auto add inplace"
   ]
  },
  {
   "cell_type": "code",
   "execution_count": 15,
   "metadata": {},
   "outputs": [
    {
     "name": "stdout",
     "output_type": "stream",
     "text": [
      "tensor([[1., 1.],\n",
      "        [1., 1.],\n",
      "        [1., 1.]]) torch.Size([3, 2])\n",
      "tensor([[1., 1., 1.],\n",
      "        [1., 1., 1.]]) torch.Size([2, 3])\n",
      "tensor([[1., 1., 1.],\n",
      "        [1., 1., 1.]]) torch.Size([2, 3])\n",
      "tensor([[1., 1., 1.],\n",
      "        [1., 1., 1.]]) torch.Size([2, 3])\n",
      "tensor([[1., 1.],\n",
      "        [1., 1.],\n",
      "        [1., 1.]])\n"
     ]
    }
   ],
   "source": [
    "a = torch.ones(3, 2)\n",
    "a_t = torch.transpose(a, 0, 1)\n",
    "a_t2 = a.transpose(0, 1) #same!\n",
    "a_t3 = a.t()\n",
    "print(a, a.size())\n",
    "print(a_t, a_t.size())\n",
    "print(a_t2, a_t2.size())\n",
    "print(a_t3, a_t3.size())\n",
    "print(a)"
   ]
  },
  {
   "cell_type": "code",
   "execution_count": 16,
   "metadata": {},
   "outputs": [
    {
     "name": "stdout",
     "output_type": "stream",
     "text": [
      "tensor([1., 1., 2.])\n",
      "tensor([1., 2., 3.])\n",
      "tensor(9.)\n"
     ]
    }
   ],
   "source": [
    "x = torch.Tensor([1,1,2]); print(x)\n",
    "y = torch.Tensor([1,2,3]); print(y)\n",
    "z = torch.matmul(x, y); print(z)"
   ]
  },
  {
   "cell_type": "code",
   "execution_count": 17,
   "metadata": {},
   "outputs": [
    {
     "name": "stdout",
     "output_type": "stream",
     "text": [
      "tensor([[1, 1, 1, 1, 1],\n",
      "        [0, 5, 0, 5, 0],\n",
      "        [2, 2, 2, 2, 2]])\n",
      "tensor([[1, 0, 2],\n",
      "        [1, 5, 2],\n",
      "        [1, 0, 2],\n",
      "        [1, 5, 2],\n",
      "        [1, 0, 2]])\n"
     ]
    }
   ],
   "source": [
    "W = torch.LongTensor([[1,1,1,1,1],[0,5,0,5,0],[2,2,2,2,2]]); print(W)\n",
    "print(W.T)"
   ]
  },
  {
   "cell_type": "code",
   "execution_count": 18,
   "metadata": {},
   "outputs": [
    {
     "name": "stdout",
     "output_type": "stream",
     "text": [
      "W: torch.Size([2, 3])\n",
      "x: torch.Size([3])\n",
      "b: torch.Size([2])\n",
      "z: tensor([10, 16]) torch.Size([2])\n"
     ]
    }
   ],
   "source": [
    "W = torch.LongTensor([[1,2,3],[4,5,6]]); print(f\"W: {W.shape}\")\n",
    "x = torch.LongTensor([1,-2,2]); print(f\"x: {x.shape}\")\n",
    "b = torch.LongTensor([7, 10]); print(f\"b: {b.shape}\")\n",
    "z = torch.matmul(W,x)+b\n",
    "print(f\"z: {z} {z.shape}\")"
   ]
  },
  {
   "cell_type": "code",
   "execution_count": 19,
   "metadata": {},
   "outputs": [
    {
     "name": "stdout",
     "output_type": "stream",
     "text": [
      "tensor([[6, 4, 3, 3],\n",
      "        [8, 4, 5, 5]])\n"
     ]
    }
   ],
   "source": [
    "A = torch.LongTensor([[1,1,1],[2,3,0]])\n",
    "B = torch.LongTensor([[1,2,1,1],[2,0,1,1],[3,2,1,1]])\n",
    "C = torch.mm(A,B)\n",
    "print(C)"
   ]
  },
  {
   "cell_type": "code",
   "execution_count": 20,
   "metadata": {},
   "outputs": [
    {
     "name": "stdout",
     "output_type": "stream",
     "text": [
      "tensor([[0, 1, 2],\n",
      "        [0, 2, 4],\n",
      "        [0, 3, 6]])\n"
     ]
    }
   ],
   "source": [
    "# outer product\n",
    "x = torch.LongTensor([1,2,3]).unsqueeze(1) #3x1\n",
    "y = torch.LongTensor([0,1,2]) #1x3\n",
    "outerpdt = x * y #3x3\n",
    "print(outerpdt)"
   ]
  },
  {
   "cell_type": "code",
   "execution_count": 21,
   "metadata": {},
   "outputs": [
    {
     "name": "stdout",
     "output_type": "stream",
     "text": [
      "tensor([[6, 3],\n",
      "        [5, 3],\n",
      "        [0, 2]])\n"
     ]
    }
   ],
   "source": [
    "A = torch.LongTensor([[1,1,1,1,1,1],[0,0,2,2,0,1],[1,2,3,0,0,0]])\n",
    "B = torch.LongTensor([[0,0],[0,1],[0,0],[1,1],[2,0],[3,1]])\n",
    "C = torch.mm(A,B)\n",
    "print(C)"
   ]
  },
  {
   "cell_type": "markdown",
   "metadata": {},
   "source": [
    "# 2. Linear & Vanilla NN (labs_lecture03)"
   ]
  },
  {
   "cell_type": "code",
   "execution_count": 22,
   "metadata": {},
   "outputs": [],
   "source": [
    "import torch.nn as nn\n",
    "import torch.nn.functional as F\n",
    "import torch.optim as optim\n",
    "from random import randint"
   ]
  },
  {
   "cell_type": "markdown",
   "metadata": {},
   "source": [
    "## 2.1 Linear Module\n",
    "nn.Linear(in_features, out_features, bias=True)"
   ]
  },
  {
   "cell_type": "code",
   "execution_count": 23,
   "metadata": {},
   "outputs": [
    {
     "name": "stdout",
     "output_type": "stream",
     "text": [
      "tensor([-0.5688,  0.3168], grad_fn=<AddBackward0>)\n"
     ]
    }
   ],
   "source": [
    "linear_mod = nn.Linear(5, 2)\n",
    "x = torch.rand(5)\n",
    "y = linear_mod(x)\n",
    "print(y)"
   ]
  },
  {
   "cell_type": "code",
   "execution_count": 24,
   "metadata": {},
   "outputs": [
    {
     "name": "stdout",
     "output_type": "stream",
     "text": [
      "Parameter containing:\n",
      "tensor([[-0.2236, -0.3300, -0.2103, -0.0396, -0.4259],\n",
      "        [ 0.3331,  0.2834, -0.0950, -0.1248, -0.1115]], requires_grad=True)\n",
      "torch.Size([2, 5])\n",
      "Parameter containing:\n",
      "tensor([-0.2043,  0.1088], requires_grad=True)\n",
      "torch.Size([2])\n",
      "Parameter containing:\n",
      "tensor([[-0.2236,  1.0000, -0.2103, -0.0396, -0.4259],\n",
      "        [ 0.3331,  0.2834, -0.0950, -0.1248, -0.1115]], grad_fn=<CopySlices>)\n"
     ]
    }
   ],
   "source": [
    "print(linear_mod.weight)\n",
    "print(linear_mod.weight.size())\n",
    "print(linear_mod.bias)\n",
    "print(linear_mod.bias.size())\n",
    "# modify weights\n",
    "linear_mod.weight[0,1]=1\n",
    "print(linear_mod.weight)"
   ]
  },
  {
   "cell_type": "markdown",
   "metadata": {},
   "source": [
    "## 2.2 Softmax\n",
    "F.softmax(A, dim=1) \n",
    "\n",
    "For matrices, it’s dim=1. For others like vectors, it’s 0. Along the feature dim, not the data dim."
   ]
  },
  {
   "cell_type": "code",
   "execution_count": 25,
   "metadata": {},
   "outputs": [
    {
     "name": "stdout",
     "output_type": "stream",
     "text": [
      "tensor([[1., 2., 3., 4.],\n",
      "        [1., 2., 3., 5.]]) torch.Size([2, 4])\n",
      "=> Softmax over dim 1 (rows)\n",
      "tensor([[0.0321, 0.0871, 0.2369, 0.6439],\n",
      "        [0.0152, 0.0414, 0.1125, 0.8310]])\n",
      "tensor([1., 1.])\n",
      "=> Softmax over dim 0 (cols)\n",
      "tensor([[0.5000, 0.5000, 0.5000, 0.2689],\n",
      "        [0.5000, 0.5000, 0.5000, 0.7311]])\n",
      "tensor([1., 1., 1., 1.])\n"
     ]
    }
   ],
   "source": [
    "B = torch.Tensor([[1,2,3,4],\n",
    "                 [1,2,3,5]])\n",
    "print(B, B.size()) # 2,4\n",
    "prob = F.softmax(B, dim=1) #rows (2) matrices\n",
    "print(f\"=> Softmax over dim 1 (rows)\")\n",
    "print(prob)\n",
    "print(prob.sum(1)) \n",
    "prob = F.softmax(B, dim=0) #cols (4) vectors\n",
    "print(f\"=> Softmax over dim 0 (cols)\")\n",
    "print(prob)\n",
    "print(prob.sum(0)) "
   ]
  },
  {
   "cell_type": "markdown",
   "metadata": {},
   "source": [
    "## 2.3 Vanilla NN"
   ]
  },
  {
   "cell_type": "code",
   "execution_count": 26,
   "metadata": {},
   "outputs": [
    {
     "name": "stdout",
     "output_type": "stream",
     "text": [
      "VanillaNN(\n",
      "  (layer1): Linear(in_features=2, out_features=5, bias=True)\n",
      "  (layer2): Linear(in_features=5, out_features=3, bias=True)\n",
      ")\n",
      "tensor([0.1283, 0.6018, 0.2699], grad_fn=<SoftmaxBackward>) tensor(1., grad_fn=<SumBackward1>)\n"
     ]
    }
   ],
   "source": [
    "class VanillaNN(nn.Module):\n",
    "    def __init__(self, input_size, hidden_size, output_size):\n",
    "        super(VanillaNN, self).__init__() #super().__init__()\n",
    "        self.layer1 = nn.Linear(input_size, hidden_size, bias=True)\n",
    "        self.layer2 = nn.Linear(hidden_size, output_size, bias=True)\n",
    "        \n",
    "    def forward(self, x):\n",
    "        x = self.layer1(x)\n",
    "        x = F.relu(x)\n",
    "        x = self.layer2(x)\n",
    "        x = F.softmax(x, dim=0) #input is vector\n",
    "        return x\n",
    "\n",
    "net = VanillaNN(2,5,3)\n",
    "print(net)\n",
    "x = torch.Tensor([1,1]) # vector of size 2\n",
    "p = net.forward(x)\n",
    "print(p, p.sum(0))"
   ]
  },
  {
   "cell_type": "code",
   "execution_count": 27,
   "metadata": {},
   "outputs": [
    {
     "name": "stdout",
     "output_type": "stream",
     "text": [
      "[Parameter containing:\n",
      "tensor([[ 0.0952,  0.0090],\n",
      "        [-0.5988,  0.7013],\n",
      "        [-0.3068, -0.2197],\n",
      "        [ 0.2756,  0.3407],\n",
      "        [ 0.6067,  0.2507]], requires_grad=True), Parameter containing:\n",
      "tensor([ 0.7065,  0.3194, -0.0661,  0.5139, -0.3521], requires_grad=True), Parameter containing:\n",
      "tensor([[-0.2641, -0.4245,  0.0872,  0.0556, -0.0176],\n",
      "        [ 0.1440,  0.2431, -0.0095,  0.1920, -0.0038],\n",
      "        [ 0.4359, -0.3589, -0.2869,  0.0054, -0.4139]], requires_grad=True), Parameter containing:\n",
      "tensor([-0.4421,  0.3302, -0.0364], requires_grad=True)]\n"
     ]
    }
   ],
   "source": [
    "list_of_param = list(net.parameters())\n",
    "print(list_of_param)"
   ]
  },
  {
   "cell_type": "markdown",
   "metadata": {},
   "source": [
    "## 2.4 Train Vanilla NN"
   ]
  },
  {
   "cell_type": "code",
   "execution_count": 28,
   "metadata": {},
   "outputs": [],
   "source": [
    "import utils"
   ]
  },
  {
   "cell_type": "code",
   "execution_count": 29,
   "metadata": {},
   "outputs": [
    {
     "name": "stdout",
     "output_type": "stream",
     "text": [
      "torch.Size([60000, 28, 28])\n",
      "torch.Size([60000])\n",
      "torch.Size([10000, 28, 28])\n"
     ]
    }
   ],
   "source": [
    "from utils import check_mnist_dataset_exists\n",
    "data_path = check_mnist_dataset_exists()\n",
    "train_data = torch.load(data_path+'mnist/train_data.pt')\n",
    "train_label = torch.load(data_path+'mnist/train_label.pt')\n",
    "test_data = torch.load(data_path+'mnist/test_data.pt')\n",
    "test_label = torch.load(data_path+'mnist/test_label.pt')\n",
    "print(train_data.size())\n",
    "print(train_label.size())\n",
    "print(test_data.size())"
   ]
  },
  {
   "cell_type": "markdown",
   "metadata": {},
   "source": [
    "### 2.4.1 One Layer Net"
   ]
  },
  {
   "cell_type": "code",
   "execution_count": 30,
   "metadata": {},
   "outputs": [
    {
     "name": "stdout",
     "output_type": "stream",
     "text": [
      "tensor([[0.1028, 0.0936, 0.0893, 0.0890, 0.1357, 0.1174, 0.0726, 0.1065, 0.0944,\n",
      "         0.0987]], grad_fn=<SoftmaxBackward>)\n"
     ]
    }
   ],
   "source": [
    "class One_Layer_Net(nn.Module):\n",
    "    def __init__(self, input_size, output_size):\n",
    "        super(One_Layer_Net, self).__init__()\n",
    "        self.linear_layer = nn.Linear(input_size,output_size,bias=True)\n",
    "    def forward(self, x): \n",
    "        x = self.linear_layer(x)\n",
    "        p = F.softmax(x, dim=1)\n",
    "        return p\n",
    "    \n",
    "net = One_Layer_Net(784, 10)\n",
    "p = net(test_data[6].view(1,784)) # [Batch, InputSize]\n",
    "print(p)"
   ]
  },
  {
   "cell_type": "markdown",
   "metadata": {},
   "source": [
    "### 2.4.2 Train One Layer Net (MNIST) without mini-batch\n",
    "idx = randint(0,len(train_data)-1) --- [0,60000]"
   ]
  },
  {
   "cell_type": "code",
   "execution_count": 31,
   "metadata": {},
   "outputs": [
    {
     "name": "stdout",
     "output_type": "stream",
     "text": [
      "tensor([[2.8100e-04, 1.3508e-04, 1.4301e-04, 1.1333e-02, 7.9256e-01, 2.2206e-02,\n",
      "         1.7968e-03, 2.8117e-02, 3.6413e-02, 1.0701e-01]],\n",
      "       grad_fn=<SoftmaxBackward>)\n"
     ]
    },
    {
     "data": {
      "image/png": "[encoded data removed]",
      "text/plain": [
       "<Figure size 432x288 with 1 Axes>"
      ]
     },
     "metadata": {
      "needs_background": "light"
     },
     "output_type": "display_data"
    },
    {
     "data": {
      "image/png": "[encoded data removed]",
      "text/plain": [
       "<Figure size 640x480 with 1 Axes>"
      ]
     },
     "metadata": {},
     "output_type": "display_data"
    }
   ],
   "source": [
    "from random import randint\n",
    "criterion = nn.NLLLoss()\n",
    "optimizer = torch.optim.SGD(net.parameters(), lr=0.01)\n",
    "for i in range(5000):\n",
    "    idx = randint(0,len(train_data)-1) # pick one randomly from 60000\n",
    "    \n",
    "    inputs = train_data[idx].view(1,784) # [Batch, InputSize]\n",
    "    labels = train_label[idx].view(1) # make to tensor of size 1\n",
    "    \n",
    "    inputs.requires_grad_()\n",
    "    probs = net(inputs)\n",
    "    \n",
    "    log_probs = torch.log(probs)\n",
    "    loss = criterion(log_probs, labels)    \n",
    "    optimizer.zero_grad()       \n",
    "    loss.backward()\n",
    "    optimizer.step()\n",
    "    \n",
    "p = net(test_data[6].view(1,784)) \n",
    "print(p)\n",
    "utils.show(test_data[6])\n",
    "utils.show_prob_mnist(p)"
   ]
  },
  {
   "cell_type": "markdown",
   "metadata": {},
   "source": [
    "### 2.4.3 Train One Layer Net (MNIST) with mini-batch\n",
    "indices=torch.LongTensor(2).random_(0,5) ---- [0,5)"
   ]
  },
  {
   "cell_type": "code",
   "execution_count": 32,
   "metadata": {},
   "outputs": [
    {
     "name": "stdout",
     "output_type": "stream",
     "text": [
      "tensor([ 1631,  6544, 50126,  8517, 54035])\n"
     ]
    }
   ],
   "source": [
    "indices=torch.LongTensor(5).random_(0,len(train_data)) ; print(indices)"
   ]
  },
  {
   "cell_type": "code",
   "execution_count": 33,
   "metadata": {},
   "outputs": [
    {
     "name": "stdout",
     "output_type": "stream",
     "text": [
      "tensor([[7.9889e-03, 1.1019e-06, 3.7273e-03, 3.7111e-04, 1.5624e-03, 1.9835e-02,\n",
      "         4.2470e-03, 2.1154e-06, 9.5945e-01, 2.8130e-03]],\n",
      "       grad_fn=<SoftmaxBackward>)\n"
     ]
    },
    {
     "data": {
      "image/png": "[encoded data removed]",
      "text/plain": [
       "<Figure size 640x480 with 1 Axes>"
      ]
     },
     "metadata": {},
     "output_type": "display_data"
    },
    {
     "data": {
      "image/png": "[encoded data removed]",
      "text/plain": [
       "<Figure size 640x480 with 1 Axes>"
      ]
     },
     "metadata": {},
     "output_type": "display_data"
    }
   ],
   "source": [
    "net = One_Layer_Net(784, 10)\n",
    "criterion = nn.NLLLoss()\n",
    "optimizer = torch.optim.SGD(net.parameters(), lr=0.01)\n",
    "bs = 200\n",
    "\n",
    "for iter in range(1,5000):\n",
    "    # create a minibatch\n",
    "    indices=torch.LongTensor(bs).random_(0,len(train_data)) \n",
    "    minibatch_data = train_data[indices]\n",
    "    minibatch_label= train_label[indices]\n",
    "    \n",
    "    #reshape them to fit the network\n",
    "    inputs = minibatch_data.view(bs, 784)\n",
    "\n",
    "    # feed the input to the net  \n",
    "    inputs.requires_grad_()\n",
    "    prob = net(inputs) \n",
    "    \n",
    "    log_prob = torch.log(prob)\n",
    "    loss = criterion(log_prob, minibatch_label)    \n",
    "    optimizer.zero_grad()       \n",
    "    loss.backward()\n",
    "    optimizer.step()\n",
    "    \n",
    "idx = randint(0, len(test_data)-1)    \n",
    "p = net(test_data[idx].view(1,784)) \n",
    "print(p)\n",
    "utils.show(test_data[idx])\n",
    "utils.show_prob_mnist(p)"
   ]
  },
  {
   "cell_type": "markdown",
   "metadata": {},
   "source": [
    "# 3. Cross Entropy (labs_lecture04)\n",
    "criterion = nn.CrossEntropyLoss()"
   ]
  },
  {
   "cell_type": "code",
   "execution_count": 34,
   "metadata": {},
   "outputs": [
    {
     "data": {
      "image/png": "[encoded data removed]",
      "text/plain": [
       "<Figure size 800x800 with 2 Axes>"
      ]
     },
     "metadata": {},
     "output_type": "display_data"
    },
    {
     "name": "stdout",
     "output_type": "stream",
     "text": [
      "loss =  0.023508397862315178  good!\n"
     ]
    }
   ],
   "source": [
    "criterion = nn.CrossEntropyLoss()\n",
    "labels = torch.LongTensor([2,3])\n",
    "scores = torch.Tensor([[-1.2, 0.5 , 5, -0.5], [1.4, -1.7 , -1.3, 5.0]])\n",
    "utils.display_scores(scores)\n",
    "average_loss = criterion(scores, labels)\n",
    "print('loss = ', average_loss.item(), \" good!\")"
   ]
  },
  {
   "cell_type": "markdown",
   "metadata": {},
   "source": [
    "# 4. MLP + Full Training Loop (labs_lecture05)"
   ]
  },
  {
   "cell_type": "markdown",
   "metadata": {},
   "source": [
    "## 4.1 Epoch\n",
    "Shuffled Indices"
   ]
  },
  {
   "cell_type": "code",
   "execution_count": 35,
   "metadata": {},
   "outputs": [
    {
     "name": "stdout",
     "output_type": "stream",
     "text": [
      "tensor([7, 2])\n",
      "tensor([8, 4])\n",
      "tensor([1, 5])\n",
      "tensor([3, 0])\n",
      "tensor([6, 9])\n"
     ]
    }
   ],
   "source": [
    "bs = 2\n",
    "shuffled_indices = torch.randperm(10) #len of train_data\n",
    "for count in range(0,10,bs):\n",
    "    batch_of_indices = shuffled_indices[count:count+bs]\n",
    "    print(batch_of_indices)"
   ]
  },
  {
   "cell_type": "markdown",
   "metadata": {},
   "source": [
    "## 4.2 Monitoring Loss\n",
    "running_loss += loss.detach().item() \\\n",
    "error = utils.get_error(scores.detach(), minibatch_label) \\\n",
    "running_error += error.item()\n",
    "\n",
    "total_loss = running_loss/num_batches \\\n",
    "total_error = running_error/num_batches "
   ]
  },
  {
   "cell_type": "markdown",
   "metadata": {},
   "source": [
    "## 4.3 Full Loop"
   ]
  },
  {
   "cell_type": "code",
   "execution_count": 36,
   "metadata": {},
   "outputs": [],
   "source": [
    "class three_layer_net(nn.Module):\n",
    "\n",
    "    def __init__(self, input_size, hidden_size1, hidden_size2,  output_size):\n",
    "        super(three_layer_net , self).__init__()\n",
    "        \n",
    "        self.layer1 = nn.Linear(input_size, hidden_size1) \n",
    "        self.layer2 = nn.Linear(hidden_size2, hidden_size2) \n",
    "        self.layer3 = nn.Linear(hidden_size2, output_size) \n",
    "        \n",
    "    def forward(self, x):\n",
    "        \n",
    "        y       = self.layer1(x) \n",
    "        y_hat   = F.relu(y) \n",
    "        z       = self.layer2(y_hat) \n",
    "        z_hat   = F.relu(z) \n",
    "        scores  = self.layer3(z_hat)\n",
    "        \n",
    "        return scores"
   ]
  },
  {
   "cell_type": "code",
   "execution_count": 37,
   "metadata": {},
   "outputs": [
    {
     "name": "stdout",
     "output_type": "stream",
     "text": [
      "cuda:0\n"
     ]
    }
   ],
   "source": [
    "import time\n",
    "device = torch.device(\"cuda:0\" if torch.cuda.is_available() else \"cpu\")\n",
    "print(device)\n",
    "# device = torch.device(\"cpu\")"
   ]
  },
  {
   "cell_type": "code",
   "execution_count": 38,
   "metadata": {},
   "outputs": [
    {
     "name": "stdout",
     "output_type": "stream",
     "text": [
      "three_layer_net(\n",
      "  (layer1): Linear(in_features=784, out_features=200, bias=True)\n",
      "  (layer2): Linear(in_features=200, out_features=200, bias=True)\n",
      "  (layer3): Linear(in_features=200, out_features=10, bias=True)\n",
      ")\n",
      "There are 199210 (0.20 million) parameters in this neural network\n"
     ]
    }
   ],
   "source": [
    "net = three_layer_net(784, 200, 200, 10).to(device)\n",
    "print(net)\n",
    "utils.display_num_param(net)"
   ]
  },
  {
   "cell_type": "code",
   "execution_count": 39,
   "metadata": {},
   "outputs": [],
   "source": [
    "def eval_on_test_set():\n",
    "    running_error = 0\n",
    "    num_batches = 0\n",
    "    for i in range(0, len(test_data), bs):\n",
    "        minibatch_data = test_data[i:i+bs].to(device)\n",
    "        minibatch_label = test_label[i:i+bs].to(device)\n",
    "        inputs = minibatch_data.view(bs, 784)\n",
    "        scores = net(inputs)\n",
    "        error = utils.get_error(scores, minibatch_label)\n",
    "        running_error += error.detach().item()\n",
    "        num_batches += 1\n",
    "    total_error = running_error / num_batches\n",
    "    print(f\"=> test error: {total_error*100} %\")"
   ]
  },
  {
   "cell_type": "code",
   "execution_count": 40,
   "metadata": {},
   "outputs": [],
   "source": [
    "criterion = nn.CrossEntropyLoss()\n",
    "bs = 200\n",
    "lr = 0.05 # initial learning rate"
   ]
  },
  {
   "cell_type": "code",
   "execution_count": 41,
   "metadata": {},
   "outputs": [
    {
     "name": "stdout",
     "output_type": "stream",
     "text": [
      " \n",
      "epoch=0, time=0.8647315502166748, loss=1.3417279160022735, error=33.523334761460625%, lr=0.05\n",
      "=> test error: 14.720001459121704 %\n",
      " \n",
      "epoch=10, time=5.77851128578186, loss=0.15759732098629078, error=4.528335471947988%, lr=0.05\n",
      "=> test error: 4.530001997947693 %\n",
      " \n",
      "epoch=20, time=10.707844495773315, loss=0.08496298130912085, error=2.43000328540802%, lr=0.03333333333333333\n",
      "=> test error: 3.040002226829529 %\n",
      " \n",
      "epoch=30, time=15.799150228500366, loss=0.06061178908528139, error=1.6400034228960674%, lr=0.022222222222222223\n",
      "=> test error: 2.4600024223327637 %\n",
      " \n",
      "epoch=40, time=21.04314637184143, loss=0.04919192427614083, error=1.276669760545095%, lr=0.014814814814814815\n",
      "=> test error: 2.280002474784851 %\n",
      " \n",
      "epoch=50, time=25.990246295928955, loss=0.04295561386893193, error=1.0833360354105632%, lr=0.009876543209876543\n",
      "=> test error: 2.2300024032592773 %\n",
      " \n",
      "epoch=60, time=31.121002435684204, loss=0.039271855484694244, error=0.9683358867963155%, lr=0.006584362139917695\n",
      "=> test error: 2.210002303123474 %\n",
      " \n",
      "epoch=70, time=36.221044301986694, loss=0.03699140865045289, error=0.9233357508977253%, lr=0.0043895747599451305\n",
      "=> test error: 2.1800020933151245 %\n",
      " \n",
      "epoch=80, time=41.14487910270691, loss=0.03553974599732707, error=0.8833356300989788%, lr=0.0029263831732967535\n",
      "=> test error: 2.1700021028518677 %\n",
      " \n",
      "epoch=90, time=46.04884624481201, loss=0.034596888346907995, error=0.8433354496955872%, lr=0.001950922115531169\n",
      "=> test error: 2.150002121925354 %\n",
      " \n",
      "epoch=100, time=50.96263837814331, loss=0.033978035139540834, error=0.8250020941098531%, lr=0.001300614743687446\n",
      "=> test error: 2.150002121925354 %\n",
      " \n",
      "epoch=110, time=55.895976066589355, loss=0.0335688794683665, error=0.8133353988329569%, lr=0.0008670764957916306\n",
      "=> test error: 2.1400020122528076 %\n",
      " \n",
      "epoch=120, time=60.82274103164673, loss=0.033297354076057675, error=0.8050020734469097%, lr=0.0005780509971944203\n",
      "=> test error: 2.1400020122528076 %\n",
      " \n",
      "epoch=130, time=65.7206802368164, loss=0.03311711894503484, error=0.8000020583470663%, lr=0.0003853673314629469\n",
      "=> test error: 2.1400020122528076 %\n",
      " \n",
      "epoch=140, time=70.62852334976196, loss=0.03299738580050568, error=0.7933353583017986%, lr=0.00025691155430863124\n",
      "=> test error: 2.1400020122528076 %\n",
      " \n",
      "epoch=150, time=75.63474488258362, loss=0.03291769970518847, error=0.78833536307017%, lr=0.0001712743695390875\n",
      "=> test error: 2.1400020122528076 %\n",
      " \n",
      "epoch=160, time=80.5954647064209, loss=0.032864690671364466, error=0.78833536307017%, lr=0.00011418291302605833\n",
      "=> test error: 2.1400020122528076 %\n",
      " \n",
      "epoch=170, time=85.56621241569519, loss=0.032829395464311045, error=0.7850020130475363%, lr=7.612194201737223e-05\n",
      "=> test error: 2.130002021789551 %\n",
      " \n",
      "epoch=180, time=90.50496864318848, loss=0.032805892165439825, error=0.7833353479703268%, lr=5.074796134491482e-05\n",
      "=> test error: 2.130002021789551 %\n",
      " \n",
      "epoch=190, time=95.45672869682312, loss=0.03279025315617522, error=0.7833353479703268%, lr=3.3831974229943214e-05\n",
      "=> test error: 2.130002021789551 %\n"
     ]
    }
   ],
   "source": [
    "start = time.time()\n",
    "for epoch in range(200):\n",
    "    # update learning rate based on lr strategy\n",
    "    if epoch % 10 == 0 and epoch > 10: \n",
    "        lr = lr / 1.5 \n",
    "    \n",
    "    # reset optimizer with new learning rate\n",
    "    optimizer = torch.optim.SGD(net.parameters(), lr=lr)\n",
    "    \n",
    "    running_loss = 0\n",
    "    running_error = 0\n",
    "    num_batches = 0\n",
    "    \n",
    "    shuffled_indices=torch.randperm(len(train_data)) # 60000\n",
    "    \n",
    "    for count in range(0, len(train_data), bs):\n",
    "        # reset gradients\n",
    "        optimizer.zero_grad() \n",
    "        # create minibatch\n",
    "        indices = shuffled_indices[count:count+bs]\n",
    "        minibatch_data = train_data[indices].to(device)\n",
    "        minibatch_label = train_label[indices].to(device)\n",
    "        \n",
    "        inputs = minibatch_data.view(bs, 784) # reshape to fit network\n",
    "        # Start tracking all operations that will be done on \"inputs\"\n",
    "        inputs.requires_grad_()\n",
    "        \n",
    "        scores = net(inputs)\n",
    "        \n",
    "        loss = criterion(scores, minibatch_label) # compute CEL\n",
    "        loss.backward()  # compute gradients via backward pass\n",
    "        optimizer.step() # update weights using SGD\n",
    "        \n",
    "        running_loss += loss.detach().item()\n",
    "        error = utils.get_error(scores, minibatch_label)\n",
    "        running_error += error.detach().item()\n",
    "        num_batches += 1\n",
    "    \n",
    "    total_loss = running_loss/num_batches\n",
    "    total_error = running_error/num_batches\n",
    "    elapsed_time = time.time() - start\n",
    "    \n",
    "    if epoch % 10 == 0 : \n",
    "        print(' ') \n",
    "        print(f\"epoch={epoch}, time={elapsed_time}, loss={total_loss}, error={total_error*100}%, lr={lr}\")\n",
    "        eval_on_test_set()\n",
    "    "
   ]
  },
  {
   "cell_type": "code",
   "execution_count": 42,
   "metadata": {},
   "outputs": [
    {
     "data": {
      "image/png": "[encoded data removed]",
      "text/plain": [
       "<Figure size 640x480 with 1 Axes>"
      ]
     },
     "metadata": {},
     "output_type": "display_data"
    },
    {
     "name": "stdout",
     "output_type": "stream",
     "text": [
      "torch.Size([1, 10])\n"
     ]
    },
    {
     "data": {
      "image/png": "[encoded data removed]",
      "text/plain": [
       "<Figure size 640x480 with 1 Axes>"
      ]
     },
     "metadata": {},
     "output_type": "display_data"
    }
   ],
   "source": [
    "# choose a picture at random\n",
    "idx = randint(0, 10000-1)\n",
    "im = test_data[idx]\n",
    "\n",
    "# diplay the picture\n",
    "utils.show(im)\n",
    "\n",
    "# feed it to the net and display the confidence scores\n",
    "scores = net(im.view(1,784).to(device)) \n",
    "probs = F.softmax(scores, dim=1)\n",
    "print(probs.shape)\n",
    "utils.show_prob_mnist(probs.cpu())"
   ]
  },
  {
   "cell_type": "code",
   "execution_count": null,
   "metadata": {},
   "outputs": [],
   "source": []
  }
 ],
 "metadata": {
  "kernelspec": {
   "display_name": "Python 3",
   "language": "python",
   "name": "python3"
  },
  "language_info": {
   "codemirror_mode": {
    "name": "ipython",
    "version": 3
   },
   "file_extension": ".py",
   "mimetype": "text/x-python",
   "name": "python",
   "nbconvert_exporter": "python",
   "pygments_lexer": "ipython3",
   "version": "3.6.10"
  }
 },
 "nbformat": 4,
 "nbformat_minor": 4
}
