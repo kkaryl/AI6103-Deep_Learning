{
 "cells": [
  {
   "cell_type": "code",
   "execution_count": 48,
   "metadata": {},
   "outputs": [],
   "source": [
    "import torch\n",
    "import torch.nn as nn\n",
    "import numpy as np\n",
    "import torch.nn.functional as F\n",
    "from random import randint\n",
    "import utils\n",
    "import time\n",
    "from IPython.core.debugger import set_trace\n",
    "device = torch.device(\"cuda:0\" if torch.cuda.is_available() else \"cpu\")"
   ]
  },
  {
   "cell_type": "markdown",
   "metadata": {},
   "source": [
    "# 1. Basics (labs_lecture02)"
   ]
  },
  {
   "cell_type": "code",
   "execution_count": 2,
   "metadata": {},
   "outputs": [],
   "source": [
    "import torch\n",
    "import numpy as np"
   ]
  },
  {
   "cell_type": "markdown",
   "metadata": {},
   "source": [
    "## 1.1 Tensor Initialization\n"
   ]
  },
  {
   "cell_type": "markdown",
   "metadata": {},
   "source": [
    "#### 1.1.1 Init from NP array\n",
    "+ torch.Tensor()**\n",
    "+ torch.tensor()\n",
    "+ torch.as_tensor()**\n",
    "+ torch.from_numpy()"
   ]
  },
  {
   "cell_type": "code",
   "execution_count": 3,
   "metadata": {},
   "outputs": [
    {
     "name": "stdout",
     "output_type": "stream",
     "text": [
      "np array: [1 2 3]\n",
      "PyTorch default dtype:  torch.float32\n",
      "torch.Tensor: torch.float32\n",
      "torch.tensor (will infer dtype): torch.int32\n",
      "torch.as_tensor (preferred over from_numpy): torch.int32\n"
     ]
    }
   ],
   "source": [
    "# How to initialize a tensor from a numpy array?\n",
    "data = np.array([1,2,3]); print(f\"np array: {data}\")\n",
    "print(f\"PyTorch default dtype: \", torch.get_default_dtype())\n",
    "\n",
    "t1 = torch.Tensor(data) # torch.get_default_dtype()\n",
    "t2 = torch.tensor(data) # dtype=torch.float32 # will infer dtype\n",
    "t3 = torch.as_tensor(data) # preferred over from_numpy #int32\n",
    "t4 = torch.from_numpy(data) #int32\n",
    "print(f\"torch.Tensor: {t1.dtype}\")\n",
    "print(f\"torch.tensor (will infer dtype): {t2.dtype}\")\n",
    "print(f\"torch.as_tensor (preferred over from_numpy): {t3.dtype}\")"
   ]
  },
  {
   "cell_type": "markdown",
   "metadata": {},
   "source": [
    "#### 1.1.2 One/ Random/ Zero/ Identity Tensor"
   ]
  },
  {
   "cell_type": "code",
   "execution_count": 4,
   "metadata": {},
   "outputs": [
    {
     "name": "stdout",
     "output_type": "stream",
     "text": [
      "ones: \n",
      "tensor([[[1., 1., 1., 1., 1., 1., 1.],\n",
      "         [1., 1., 1., 1., 1., 1., 1.],\n",
      "         [1., 1., 1., 1., 1., 1., 1.],\n",
      "         [1., 1., 1., 1., 1., 1., 1.],\n",
      "         [1., 1., 1., 1., 1., 1., 1.]],\n",
      "\n",
      "        [[1., 1., 1., 1., 1., 1., 1.],\n",
      "         [1., 1., 1., 1., 1., 1., 1.],\n",
      "         [1., 1., 1., 1., 1., 1., 1.],\n",
      "         [1., 1., 1., 1., 1., 1., 1.],\n",
      "         [1., 1., 1., 1., 1., 1., 1.]]])\n",
      "rand: \n",
      "tensor([[[0.9386, 0.2913, 0.5683, 0.3265],\n",
      "         [0.7941, 0.7810, 0.1085, 0.5685],\n",
      "         [0.7763, 0.7742, 0.9672, 0.8134]],\n",
      "\n",
      "        [[0.2231, 0.0455, 0.9902, 0.0298],\n",
      "         [0.4345, 0.5753, 0.8725, 0.6663],\n",
      "         [0.7364, 0.6649, 0.1743, 0.1006]]])\n",
      "zeros: \n",
      "tensor([[[0., 0., 0., 0.],\n",
      "         [0., 0., 0., 0.],\n",
      "         [0., 0., 0., 0.]],\n",
      "\n",
      "        [[0., 0., 0., 0.],\n",
      "         [0., 0., 0., 0.],\n",
      "         [0., 0., 0., 0.]]])\n",
      "eye: \n",
      "tensor([[1., 0., 0.],\n",
      "        [0., 1., 0.],\n",
      "        [0., 0., 1.]])\n"
     ]
    }
   ],
   "source": [
    "one_t = torch.ones([2,5,7]); print(f\"ones: \\n{one_t}\")\n",
    "rand_t = torch.rand(2,3,4); print(f\"rand: \\n{rand_t}\")\n",
    "zero_t = torch.zeros(2,3,4); print(f\"zeros: \\n{zero_t}\")\n",
    "eye_t = torch.eye(3); print(f\"eye: \\n{eye_t}\")"
   ]
  },
  {
   "cell_type": "markdown",
   "metadata": {},
   "source": [
    "#### 1.1.3 Long Tensor (Integers)"
   ]
  },
  {
   "cell_type": "code",
   "execution_count": 5,
   "metadata": {},
   "outputs": [
    {
     "name": "stdout",
     "output_type": "stream",
     "text": [
      "LongTensor: \t\t\ttensor([1, 1])\n",
      "tensor(dtype=torch.int32): \ttensor([2, 2], dtype=torch.int32)\n",
      ".long(): \t\t\ttensor([3, 3])\n"
     ]
    }
   ],
   "source": [
    "# integer tensor MUST HAVE BRACKETS\n",
    "int_t1 = torch.LongTensor([1,1]); print(f\"LongTensor: \\t\\t\\t{int_t1}\")\n",
    "int_t2 = torch.tensor([2,2], dtype=torch.int32) ; print(f\"tensor(dtype=torch.int32): \\t{int_t2}\")\n",
    "int_t3 = torch.tensor([3,3]).long(); print(f\".long(): \\t\\t\\t{int_t3}\")"
   ]
  },
  {
   "cell_type": "markdown",
   "metadata": {},
   "source": [
    "#### 1.1.4 Various Tensor Functions\n",
    "+ .shape, .size()\n",
    "+ .dim()\n",
    "+ .type()\n",
    "+ .view(), .reshape()\n",
    "+ .arange(n), .randperm(n)\n",
    "+ .item()"
   ]
  },
  {
   "cell_type": "code",
   "execution_count": 6,
   "metadata": {},
   "outputs": [
    {
     "name": "stdout",
     "output_type": "stream",
     "text": [
      "Shape: torch.Size([2, 3, 4]) and size: torch.Size([2, 3, 4])\n",
      "Dimension of Tensor: 3\n",
      "Len: 2 == size(0): 2\n"
     ]
    }
   ],
   "source": [
    "print_t = torch.rand([2,3,4])\n",
    "print(f\"Shape: {print_t.shape} and size: {print_t.size()}\")\n",
    "print(f\"Dimension of Tensor: {print_t.dim()}\")\n",
    "print(f\"Len: {len(print_t)} == size(0): {print_t.size(0)}\")"
   ]
  },
  {
   "cell_type": "code",
   "execution_count": 7,
   "metadata": {},
   "outputs": [
    {
     "name": "stdout",
     "output_type": "stream",
     "text": [
      "view: tensor([[0.8736, 0.9272, 0.2867, 0.0137, 0.8079, 0.4144, 0.7501, 0.5015],\n",
      "        [0.0981, 0.2036, 0.1065, 0.9184, 0.6479, 0.4465, 0.0202, 0.7625],\n",
      "        [0.5634, 0.7148, 0.9397, 0.9406, 0.7385, 0.0013, 0.7810, 0.1178]])\n",
      "reshape: tensor([[0.8736, 0.9272, 0.2867, 0.0137, 0.8079, 0.4144],\n",
      "        [0.7501, 0.5015, 0.0981, 0.2036, 0.1065, 0.9184],\n",
      "        [0.6479, 0.4465, 0.0202, 0.7625, 0.5634, 0.7148],\n",
      "        [0.9397, 0.9406, 0.7385, 0.0013, 0.7810, 0.1178]])\n",
      "print_t is not modified until assigned: \n",
      "tensor([[[0.8736, 0.9272, 0.2867, 0.0137],\n",
      "         [0.8079, 0.4144, 0.7501, 0.5015],\n",
      "         [0.0981, 0.2036, 0.1065, 0.9184]],\n",
      "\n",
      "        [[0.6479, 0.4465, 0.0202, 0.7625],\n",
      "         [0.5634, 0.7148, 0.9397, 0.9406],\n",
      "         [0.7385, 0.0013, 0.7810, 0.1178]]])\n"
     ]
    }
   ],
   "source": [
    "print(f\"view: {print_t.view(3,8)}\") \n",
    "print(f\"reshape: {print_t.reshape(-1, 6)}\")\n",
    "print(f\"print_t is not modified until assigned: \\n{print_t}\")"
   ]
  },
  {
   "cell_type": "code",
   "execution_count": 8,
   "metadata": {},
   "outputs": [
    {
     "name": "stdout",
     "output_type": "stream",
     "text": [
      "arange(n): tensor([0, 1, 2, 3, 4, 5, 6, 7, 8, 9])\n",
      "randperm(n): tensor([7, 9, 1, 2, 3, 6, 4, 8, 5, 0])\n"
     ]
    }
   ],
   "source": [
    "ar_t = torch.arange(10); print(f\"arange(n): {ar_t}\") # ordered 0 to 9\n",
    "randp_t = torch.randperm(10); print(f\"randperm(n): {randp_t}\") # random 0 to 9"
   ]
  },
  {
   "cell_type": "markdown",
   "metadata": {},
   "source": [
    "## 1.2 Slicing of Tensor"
   ]
  },
  {
   "cell_type": "code",
   "execution_count": 9,
   "metadata": {},
   "outputs": [
    {
     "name": "stdout",
     "output_type": "stream",
     "text": [
      "tensor([[0.4363, 0.2435],\n",
      "        [0.6115, 0.4986],\n",
      "        [0.3567, 0.1293],\n",
      "        [0.2628, 0.9161],\n",
      "        [0.0171, 0.1287],\n",
      "        [0.0773, 0.2926],\n",
      "        [0.7199, 0.6397],\n",
      "        [0.8149, 0.2726],\n",
      "        [0.5656, 0.5329],\n",
      "        [0.2535, 0.5138]]) tensor([0.3567, 0.1293])\n",
      "tensor([[0.4363, 0.2435],\n",
      "        [0.6115, 0.4986],\n",
      "        [0.3567, 0.1293],\n",
      "        [0.2628, 0.9161],\n",
      "        [0.0171, 0.1287]]) 0.4362950921058655\n"
     ]
    }
   ],
   "source": [
    "A = torch.rand(10,2)\n",
    "v = A[2] # third row\n",
    "B = A[:5] # first 5 rows (0-4)\n",
    "x = A[0,0].item() # 0-dimensional tensor is a scalar => item()\n",
    "print(A, v)\n",
    "print(B, x)"
   ]
  },
  {
   "cell_type": "code",
   "execution_count": 10,
   "metadata": {},
   "outputs": [
    {
     "name": "stdout",
     "output_type": "stream",
     "text": [
      "{0: 'Airplane', 1: 'Automobile', 2: 'Bird', 3: 'Cat', 4: 'Deer', 5: 'Dog', 6: 'Frog', 7: 'Horse', 8: 'Ship', 9: 'Truck'}\n",
      "['Automobile', 'Bird', 'Cat', 'Deer', 'Dog']\n"
     ]
    }
   ],
   "source": [
    "labels = ['Airplane', 'Automobile', 'Bird', 'Cat', 'Deer', 'Dog', 'Frog', 'Horse', 'Ship','Truck']\n",
    "label_idx = dict(zip(range(len(labels)), labels))\n",
    "print(label_idx)\n",
    "print(labels[1:1+5]) # 1:6 exclusive"
   ]
  },
  {
   "cell_type": "markdown",
   "metadata": {},
   "source": [
    "## 1.3 Additional"
   ]
  },
  {
   "cell_type": "code",
   "execution_count": 11,
   "metadata": {},
   "outputs": [
    {
     "name": "stdout",
     "output_type": "stream",
     "text": [
      "Ori: \t\t[0, 1, 2, 3, 4, 5]\n",
      "[:]: \t\t[0, 1, 2, 3, 4, 5]\n",
      "[1:4]: \t\t[1, 2, 3]\n",
      "[1:]: \t\t[1, 2, 3, 4, 5]\n",
      "[:4]: \t\t[0, 1, 2, 3]\n",
      "[:-1]: \t\t[0, 1, 2, 3, 4]\n",
      "[1:4:2]:\t[1, 3]\n"
     ]
    }
   ],
   "source": [
    "# list slicing\n",
    "some_list = list(range(6)); print(f\"Ori: \\t\\t{some_list}\")\n",
    "all_list = some_list[:]; print(f\"[:]: \\t\\t{all_list}\")\n",
    "sliced_list = some_list[1:4]; print(f\"[1:4]: \\t\\t{sliced_list}\") # first inclusive, last exclusive\n",
    "sliced_list = some_list[1:]; print(f\"[1:]: \\t\\t{sliced_list}\") # first inclusive\n",
    "sliced_list = some_list[:4]; print(f\"[:4]: \\t\\t{sliced_list}\") # last exclusive\n",
    "sliced_list = some_list[:-1]; print(f\"[:-1]: \\t\\t{sliced_list}\") # last exclusive\n",
    "sliced_list = some_list[1:4:2]; print(f\"[1:4:2]:\\t{sliced_list}\") # last exclusive"
   ]
  },
  {
   "cell_type": "code",
   "execution_count": 12,
   "metadata": {},
   "outputs": [
    {
     "name": "stdout",
     "output_type": "stream",
     "text": [
      "Ori \ttensor([[4., 1.],\n",
      "        [5., 3.],\n",
      "        [2., 1.]])\n",
      "\n",
      "[1:] \ttensor([[5., 3.],\n",
      "        [2., 1.]])\n",
      "\n",
      "[1:,:] \ttensor([[5., 3.],\n",
      "        [2., 1.]])\n",
      "\n",
      "[1:,0] \ttensor([5., 2.])\n",
      "\n",
      "[2,0] \t2.0\n",
      "\n",
      "[None] \ttensor([[[4., 1.],\n",
      "         [5., 3.],\n",
      "         [2., 1.]]])\n",
      "\n"
     ]
    }
   ],
   "source": [
    "# tensor slicing\n",
    "points = torch.tensor([[4.0, 1.0], [5.0, 3.0], [2.0, 1.0]]); print(f\"Ori \\t{points}\\n\")\n",
    "sliced_points = points[1:]; print(f\"[1:] \\t{sliced_points}\\n\")     # all rows after first; all columns (implicit)\n",
    "sliced_points = points[1:,:]; print(f\"[1:,:] \\t{sliced_points}\\n\") # all rows after first; all columns\n",
    "sliced_points = points[1:,0]; print(f\"[1:,0] \\t{sliced_points}\\n\") # all rows after first; first column\n",
    "sliced_points = points[2,0]; print(f\"[2,0] \\t{sliced_points}\\n\") # \n",
    "sliced_points = points[None]; print(f\"[None] \\t{sliced_points}\\n\") # adds a dim of size 1, like unsqueeze"
   ]
  },
  {
   "cell_type": "code",
   "execution_count": 13,
   "metadata": {},
   "outputs": [
    {
     "name": "stdout",
     "output_type": "stream",
     "text": [
      "tensor([[1., 2., 3.],\n",
      "        [6., 5., 4.]]) torch.Size([2, 3])\n",
      "\n",
      "torch.max(): \ttensor([3., 6.]), tensor([2, 0])\n",
      "torch.sum(): \ttensor([ 6., 15.])\n",
      "\n",
      "tensor([[1.1388, 1.9611, 2.9511],\n",
      "        [6.2722, 5.1869, 4.5364]])\n",
      "tensor([[1.1388, 1.9611, 2.9511],\n",
      "        [6.2722, 5.1869, 4.5364]])\n"
     ]
    }
   ],
   "source": [
    "x = torch.Tensor([[1,2,3],[6,5,4]]); print(f\"{x} {x.shape}\\n\")\n",
    "# find max in each rows\n",
    "max_value, max_idx = torch.max(x, dim=1)\n",
    "print(f\"torch.max(): \\t{max_value}, {max_idx}\")\n",
    "# find sum across rows\n",
    "sum_x = torch.sum(x, dim=1)\n",
    "print(f\"torch.sum(): \\t{sum_x}\\n\")\n",
    "y = torch.randn(2, 3)\n",
    "z = x + y; print(z)\n",
    "x.add_(y); print(x) #auto add inplace"
   ]
  },
  {
   "cell_type": "code",
   "execution_count": 14,
   "metadata": {},
   "outputs": [
    {
     "data": {
      "text/plain": [
       "6"
      ]
     },
     "execution_count": 14,
     "metadata": {},
     "output_type": "execute_result"
    }
   ],
   "source": [
    "x.numel()"
   ]
  },
  {
   "cell_type": "code",
   "execution_count": 15,
   "metadata": {},
   "outputs": [
    {
     "name": "stdout",
     "output_type": "stream",
     "text": [
      "tensor([[1., 1.],\n",
      "        [1., 1.],\n",
      "        [1., 1.]]) torch.Size([3, 2])\n",
      "tensor([[1., 1., 1.],\n",
      "        [1., 1., 1.]]) torch.Size([2, 3])\n",
      "tensor([[1., 1., 1.],\n",
      "        [1., 1., 1.]]) torch.Size([2, 3])\n",
      "tensor([[1., 1., 1.],\n",
      "        [1., 1., 1.]]) torch.Size([2, 3])\n",
      "tensor([[1., 1.],\n",
      "        [1., 1.],\n",
      "        [1., 1.]])\n"
     ]
    }
   ],
   "source": [
    "a = torch.ones(3, 2)\n",
    "a_t = torch.transpose(a, 0, 1)\n",
    "a_t2 = a.transpose(0, 1) #same!\n",
    "a_t3 = a.t()\n",
    "print(a, a.size())\n",
    "print(a_t, a_t.size())\n",
    "print(a_t2, a_t2.size())\n",
    "print(a_t3, a_t3.size())\n",
    "print(a)"
   ]
  },
  {
   "cell_type": "code",
   "execution_count": 16,
   "metadata": {},
   "outputs": [
    {
     "name": "stdout",
     "output_type": "stream",
     "text": [
      "tensor([[1, 1, 1, 1, 1],\n",
      "        [0, 5, 0, 5, 0],\n",
      "        [2, 2, 2, 2, 2]])\n",
      "tensor([[1, 0, 2],\n",
      "        [1, 5, 2],\n",
      "        [1, 0, 2],\n",
      "        [1, 5, 2],\n",
      "        [1, 0, 2]])\n",
      "tensor([[1, 0, 2],\n",
      "        [1, 5, 2],\n",
      "        [1, 0, 2],\n",
      "        [1, 5, 2],\n",
      "        [1, 0, 2]])\n"
     ]
    }
   ],
   "source": [
    "W = torch.LongTensor([[1,1,1,1,1],[0,5,0,5,0],[2,2,2,2,2]]); print(W)\n",
    "print(W.T)\n",
    "print(W.t())"
   ]
  },
  {
   "cell_type": "code",
   "execution_count": 17,
   "metadata": {},
   "outputs": [
    {
     "name": "stdout",
     "output_type": "stream",
     "text": [
      "tensor([1., 1., 2.])\n",
      "tensor([1., 2., 3.])\n",
      "tensor(9.)\n"
     ]
    }
   ],
   "source": [
    "x = torch.Tensor([1,1,2]); print(x)\n",
    "y = torch.Tensor([1,2,3]); print(y)\n",
    "z = torch.matmul(x, y); print(z) #matmul works for vectors, mm doesn't"
   ]
  },
  {
   "cell_type": "markdown",
   "metadata": {},
   "source": [
    "$ Wx + b = \\begin{bmatrix}1&2&3\\\\ 4&5&6\\end{bmatrix}\\begin{bmatrix}1\\\\ -2\\:\\\\ \\:2\\end{bmatrix} + \\begin{bmatrix}7\\\\ 10\\end{bmatrix} = \\begin{bmatrix}10\\\\ 16\\end{bmatrix}$"
   ]
  },
  {
   "cell_type": "code",
   "execution_count": 18,
   "metadata": {},
   "outputs": [
    {
     "name": "stdout",
     "output_type": "stream",
     "text": [
      "W: torch.Size([2, 3])\n",
      "x: torch.Size([3])\n",
      "b: torch.Size([2])\n",
      "z: tensor([10, 16]) torch.Size([2])\n"
     ]
    }
   ],
   "source": [
    "W = torch.LongTensor([[1,2,3],[4,5,6]]); print(f\"W: {W.shape}\")\n",
    "x = torch.LongTensor([1,-2,2]); print(f\"x: {x.shape}\")\n",
    "b = torch.LongTensor([7, 10]); print(f\"b: {b.shape}\")\n",
    "z = torch.matmul(W,x)+b\n",
    "print(f\"z: {z} {z.shape}\")"
   ]
  },
  {
   "cell_type": "markdown",
   "metadata": {},
   "source": [
    "$ \\begin{bmatrix}1&1&1\\\\ 2&3&0\\end{bmatrix}\\begin{bmatrix}1&2&1&1\\\\ 2&0&1&1\\\\ 3&2&1&1\\end{bmatrix} = \\begin{bmatrix}6&4&3&3\\\\ 8&4&5&5\\end{bmatrix}$"
   ]
  },
  {
   "cell_type": "code",
   "execution_count": 19,
   "metadata": {},
   "outputs": [
    {
     "name": "stdout",
     "output_type": "stream",
     "text": [
      "tensor([[6, 4, 3, 3],\n",
      "        [8, 4, 5, 5]])\n",
      "tensor([[6, 4, 3, 3],\n",
      "        [8, 4, 5, 5]])\n"
     ]
    }
   ],
   "source": [
    "A = torch.LongTensor([[1,1,1],[2,3,0]])\n",
    "B = torch.LongTensor([[1,2,1,1],[2,0,1,1],[3,2,1,1]])\n",
    "C = torch.mm(A,B)\n",
    "D = torch.matmul(A,B)\n",
    "print(C)\n",
    "print(D)"
   ]
  },
  {
   "cell_type": "markdown",
   "metadata": {},
   "source": [
    "Outer Product:\n",
    "\n",
    "$ \\begin{bmatrix}1\\\\ 2\\\\ 3\\end{bmatrix}\\begin{bmatrix}0&1&2\\end{bmatrix} = \\begin{bmatrix}0&1&2\\\\ 0&2&4\\\\ 0&3&6\\end{bmatrix} $"
   ]
  },
  {
   "cell_type": "code",
   "execution_count": 20,
   "metadata": {},
   "outputs": [
    {
     "name": "stdout",
     "output_type": "stream",
     "text": [
      "torch.Size([3])\n",
      "torch.Size([3, 1])\n",
      "torch.Size([3])\n",
      "tensor([[0, 1, 2],\n",
      "        [0, 2, 4],\n",
      "        [0, 3, 6]])\n"
     ]
    }
   ],
   "source": [
    "# outer product\n",
    "x = torch.LongTensor([1,2,3]); print(x.shape)\n",
    "x = x.unsqueeze(1); print(x.shape) #3x1\n",
    "y = torch.LongTensor([0,1,2]); print(y.shape) #1x3\n",
    "outerpdt = x * y #3x3\n",
    "print(outerpdt)"
   ]
  },
  {
   "cell_type": "code",
   "execution_count": 21,
   "metadata": {},
   "outputs": [
    {
     "name": "stdout",
     "output_type": "stream",
     "text": [
      "tensor([[6, 3],\n",
      "        [5, 3],\n",
      "        [0, 2]])\n"
     ]
    }
   ],
   "source": [
    "A = torch.LongTensor([[1,1,1,1,1,1],[0,0,2,2,0,1],[1,2,3,0,0,0]])\n",
    "B = torch.LongTensor([[0,0],[0,1],[0,0],[1,1],[2,0],[3,1]])\n",
    "C = torch.mm(A,B)\n",
    "print(C)"
   ]
  },
  {
   "cell_type": "markdown",
   "metadata": {},
   "source": [
    "# 2. Linear & Vanilla NN (labs_lecture03)"
   ]
  },
  {
   "cell_type": "code",
   "execution_count": 22,
   "metadata": {},
   "outputs": [],
   "source": [
    "import torch.nn as nn\n",
    "import torch.nn.functional as F\n",
    "import torch.optim as optim\n",
    "from random import randint"
   ]
  },
  {
   "cell_type": "markdown",
   "metadata": {},
   "source": [
    "## 2.1 Linear Module\n",
    "nn.Linear(in_features, out_features, bias=True)"
   ]
  },
  {
   "cell_type": "code",
   "execution_count": 23,
   "metadata": {},
   "outputs": [
    {
     "name": "stdout",
     "output_type": "stream",
     "text": [
      "tensor([0.8377, 0.6598], grad_fn=<AddBackward0>)\n"
     ]
    }
   ],
   "source": [
    "linear_mod = nn.Linear(5, 2)\n",
    "x = torch.rand(5)\n",
    "y = linear_mod(x)\n",
    "print(y)"
   ]
  },
  {
   "cell_type": "code",
   "execution_count": 24,
   "metadata": {},
   "outputs": [
    {
     "name": "stdout",
     "output_type": "stream",
     "text": [
      "Parameter containing:\n",
      "tensor([[ 0.1580, -0.2642,  0.2019,  0.4015,  0.2768],\n",
      "        [-0.2873, -0.4209,  0.2980,  0.4032,  0.2973]], requires_grad=True)\n",
      "torch.Size([2, 5])\n",
      "Parameter containing:\n",
      "tensor([0.1829, 0.2066], requires_grad=True)\n",
      "torch.Size([2])\n",
      "Parameter containing:\n",
      "tensor([[ 0.1580,  1.0000,  0.2019,  0.4015,  0.2768],\n",
      "        [-0.2873, -0.4209,  0.2980,  0.4032,  0.2973]], grad_fn=<CopySlices>)\n",
      "Parameter containing:\n",
      "tensor([[1., 1., 1., 1., 1.],\n",
      "        [1., 1., 1., 1., 1.]], grad_fn=<FillBackward0>)\n"
     ]
    }
   ],
   "source": [
    "print(linear_mod.weight)\n",
    "print(linear_mod.weight.size())\n",
    "print(linear_mod.bias)\n",
    "print(linear_mod.bias.size())\n",
    "# modify weights\n",
    "linear_mod.weight[0,1]=1\n",
    "print(linear_mod.weight)\n",
    "\n",
    "linear_mod.weight.fill_(1)\n",
    "print(linear_mod.weight)"
   ]
  },
  {
   "cell_type": "markdown",
   "metadata": {},
   "source": [
    "## 2.2 Softmax\n",
    "F.softmax(A, dim=1) \n",
    "\n",
    "For matrices, it’s dim=1. For others like vectors, it’s 0. Along the feature dim, not the data dim."
   ]
  },
  {
   "cell_type": "code",
   "execution_count": 25,
   "metadata": {},
   "outputs": [
    {
     "name": "stdout",
     "output_type": "stream",
     "text": [
      "tensor([[1., 2., 3., 4.],\n",
      "        [1., 2., 3., 5.]]) torch.Size([2, 4])\n",
      "=> Softmax over dim 1 (rows)\n",
      "tensor([[0.0321, 0.0871, 0.2369, 0.6439],\n",
      "        [0.0152, 0.0414, 0.1125, 0.8310]])\n",
      "tensor([1., 1.])\n",
      "=> Softmax over dim 0 (cols)\n",
      "tensor([[0.5000, 0.5000, 0.5000, 0.2689],\n",
      "        [0.5000, 0.5000, 0.5000, 0.7311]])\n",
      "tensor([1., 1., 1., 1.])\n"
     ]
    }
   ],
   "source": [
    "B = torch.Tensor([[1,2,3,4],\n",
    "                 [1,2,3,5]])\n",
    "print(B, B.size()) # 2,4\n",
    "prob = F.softmax(B, dim=1) #rows (2) matrices\n",
    "print(f\"=> Softmax over dim 1 (rows)\")\n",
    "print(prob)\n",
    "print(prob.sum(1)) \n",
    "prob = F.softmax(B, dim=0) #cols (4) vectors\n",
    "print(f\"=> Softmax over dim 0 (cols)\")\n",
    "print(prob)\n",
    "print(prob.sum(0)) "
   ]
  },
  {
   "cell_type": "markdown",
   "metadata": {},
   "source": [
    "## 2.3 Vanilla NN"
   ]
  },
  {
   "cell_type": "code",
   "execution_count": 26,
   "metadata": {},
   "outputs": [
    {
     "name": "stdout",
     "output_type": "stream",
     "text": [
      "VanillaNN(\n",
      "  (layer1): Linear(in_features=2, out_features=5, bias=True)\n",
      "  (layer2): Linear(in_features=5, out_features=3, bias=True)\n",
      ")\n",
      "tensor([0.3146, 0.2705, 0.4148], grad_fn=<SoftmaxBackward>) tensor(1., grad_fn=<SumBackward1>)\n"
     ]
    }
   ],
   "source": [
    "class VanillaNN(nn.Module):\n",
    "    def __init__(self, input_size, hidden_size, output_size):\n",
    "        super(VanillaNN, self).__init__() #super().__init__()\n",
    "        self.layer1 = nn.Linear(input_size, hidden_size, bias=True)\n",
    "        self.layer2 = nn.Linear(hidden_size, output_size, bias=True)\n",
    "        \n",
    "    def forward(self, x):\n",
    "        x = self.layer1(x)\n",
    "        x = F.relu(x)\n",
    "        x = self.layer2(x)\n",
    "        x = F.softmax(x, dim=0) #input is vector\n",
    "        return x\n",
    "\n",
    "net = VanillaNN(2,5,3)\n",
    "print(net)\n",
    "x = torch.Tensor([1,1]) # vector of size 2\n",
    "p = net.forward(x)\n",
    "print(p, p.sum(0))"
   ]
  },
  {
   "cell_type": "code",
   "execution_count": 27,
   "metadata": {},
   "outputs": [
    {
     "name": "stdout",
     "output_type": "stream",
     "text": [
      "[Parameter containing:\n",
      "tensor([[ 0.3414, -0.1935],\n",
      "        [-0.2599,  0.6164],\n",
      "        [ 0.6252,  0.1562],\n",
      "        [ 0.6215, -0.6219],\n",
      "        [ 0.5468,  0.0641]], requires_grad=True), Parameter containing:\n",
      "tensor([ 0.3141, -0.0727, -0.2401,  0.5058, -0.5317], requires_grad=True), Parameter containing:\n",
      "tensor([[-0.0098, -0.0363, -0.1303, -0.3548, -0.1033],\n",
      "        [ 0.1464, -0.3004, -0.3069, -0.2275, -0.1467],\n",
      "        [-0.4368,  0.4121, -0.3758, -0.2263,  0.1439]], requires_grad=True), Parameter containing:\n",
      "tensor([-0.0370, -0.1505,  0.3579], requires_grad=True)]\n"
     ]
    }
   ],
   "source": [
    "list_of_param = list(net.parameters())\n",
    "print(list_of_param)"
   ]
  },
  {
   "cell_type": "markdown",
   "metadata": {},
   "source": [
    "## 2.4 Train Vanilla NN"
   ]
  },
  {
   "cell_type": "code",
   "execution_count": 28,
   "metadata": {},
   "outputs": [],
   "source": [
    "import utils"
   ]
  },
  {
   "cell_type": "code",
   "execution_count": 29,
   "metadata": {},
   "outputs": [
    {
     "name": "stdout",
     "output_type": "stream",
     "text": [
      "torch.Size([60000, 28, 28])\n",
      "torch.Size([60000])\n",
      "torch.Size([10000, 28, 28])\n"
     ]
    }
   ],
   "source": [
    "from utils import check_mnist_dataset_exists\n",
    "data_path = check_mnist_dataset_exists()\n",
    "train_data = torch.load(data_path+'mnist/train_data.pt')\n",
    "train_label = torch.load(data_path+'mnist/train_label.pt')\n",
    "test_data = torch.load(data_path+'mnist/test_data.pt')\n",
    "test_label = torch.load(data_path+'mnist/test_label.pt')\n",
    "print(train_data.size())\n",
    "print(train_label.size())\n",
    "print(test_data.size())"
   ]
  },
  {
   "cell_type": "markdown",
   "metadata": {},
   "source": [
    "### 2.4.1 One Layer Net"
   ]
  },
  {
   "cell_type": "code",
   "execution_count": 30,
   "metadata": {},
   "outputs": [
    {
     "name": "stdout",
     "output_type": "stream",
     "text": [
      "tensor([[0.1122, 0.1383, 0.1060, 0.1443, 0.0801, 0.0821, 0.0925, 0.0879, 0.0709,\n",
      "         0.0859]], grad_fn=<SoftmaxBackward>)\n"
     ]
    }
   ],
   "source": [
    "class One_Layer_Net(nn.Module):\n",
    "    def __init__(self, input_size, output_size):\n",
    "        super(One_Layer_Net, self).__init__()\n",
    "        self.linear_layer = nn.Linear(input_size,output_size,bias=True)\n",
    "    def forward(self, x): \n",
    "        x = self.linear_layer(x)\n",
    "        p = F.softmax(x, dim=1)\n",
    "        return p\n",
    "    \n",
    "net = One_Layer_Net(784, 10)\n",
    "p = net(test_data[6].view(1,784)) # [Batch, InputSize]\n",
    "print(p)"
   ]
  },
  {
   "cell_type": "markdown",
   "metadata": {},
   "source": [
    "### 2.4.2 Train One Layer Net (MNIST) without mini-batch\n",
    "idx = randint(0,len(train_data)-1) --- [0,59999]"
   ]
  },
  {
   "cell_type": "code",
   "execution_count": 31,
   "metadata": {},
   "outputs": [
    {
     "name": "stdout",
     "output_type": "stream",
     "text": [
      "tensor([[1.7454e-04, 2.3683e-04, 4.3307e-04, 1.3266e-02, 8.2033e-01, 3.6935e-02,\n",
      "         3.9547e-04, 2.0725e-02, 8.5079e-02, 2.2423e-02]],\n",
      "       grad_fn=<SoftmaxBackward>)\n"
     ]
    },
    {
     "data": {
      "image/png": "[encoded data removed]",
      "text/plain": [
       "<Figure size 432x288 with 1 Axes>"
      ]
     },
     "metadata": {
      "needs_background": "light"
     },
     "output_type": "display_data"
    },
    {
     "data": {
      "image/png": "[encoded data removed]",
      "text/plain": [
       "<Figure size 640x480 with 1 Axes>"
      ]
     },
     "metadata": {},
     "output_type": "display_data"
    }
   ],
   "source": [
    "from random import randint # inclusive from and to\n",
    "criterion = nn.NLLLoss()\n",
    "optimizer = torch.optim.SGD(net.parameters(), lr=0.01)\n",
    "for i in range(5000):\n",
    "    idx = randint(0,len(train_data)-1) # pick one randomly from 60000\n",
    "    \n",
    "    inputs = train_data[idx].view(1,784) # [Batch, InputSize]\n",
    "    labels = train_label[idx].view(1) # make to tensor of size 1\n",
    "    \n",
    "    inputs.requires_grad_()\n",
    "    probs = net(inputs)\n",
    "    \n",
    "    log_probs = torch.log(probs)\n",
    "    loss = criterion(log_probs, labels)    \n",
    "    optimizer.zero_grad()       \n",
    "    loss.backward()\n",
    "    optimizer.step()\n",
    "    \n",
    "p = net(test_data[6].view(1,784)) \n",
    "print(p)\n",
    "utils.show(test_data[6])\n",
    "utils.show_prob_mnist(p)"
   ]
  },
  {
   "cell_type": "markdown",
   "metadata": {},
   "source": [
    "### 2.4.3 Train One Layer Net (MNIST) with mini-batch\n",
    "indices=torch.LongTensor(2).random_(0,5) ---- [0,5)"
   ]
  },
  {
   "cell_type": "code",
   "execution_count": 32,
   "metadata": {},
   "outputs": [
    {
     "name": "stdout",
     "output_type": "stream",
     "text": [
      "tensor([18395, 14508, 49437,  6666, 20081])\n"
     ]
    }
   ],
   "source": [
    "indices=torch.LongTensor(5).random_(0,len(train_data)) ; print(indices)"
   ]
  },
  {
   "cell_type": "code",
   "execution_count": 33,
   "metadata": {},
   "outputs": [
    {
     "name": "stdout",
     "output_type": "stream",
     "text": [
      "tensor([[4.5502e-01, 9.2346e-06, 7.1434e-02, 3.8914e-04, 8.2422e-04, 1.2866e-02,\n",
      "         4.5594e-01, 5.0335e-04, 2.9638e-03, 4.7721e-05]],\n",
      "       grad_fn=<SoftmaxBackward>)\n"
     ]
    },
    {
     "data": {
      "image/png": "[encoded data removed]",
      "text/plain": [
       "<Figure size 640x480 with 1 Axes>"
      ]
     },
     "metadata": {},
     "output_type": "display_data"
    },
    {
     "data": {
      "image/png": "[encoded data removed]",
      "text/plain": [
       "<Figure size 640x480 with 1 Axes>"
      ]
     },
     "metadata": {},
     "output_type": "display_data"
    }
   ],
   "source": [
    "net = One_Layer_Net(784, 10)\n",
    "criterion = nn.NLLLoss()\n",
    "optimizer = torch.optim.SGD(net.parameters(), lr=0.01)\n",
    "bs = 200\n",
    "\n",
    "for iter in range(1,5000):\n",
    "    # create a minibatch\n",
    "    indices=torch.LongTensor(bs).random_(0,len(train_data)) \n",
    "    minibatch_data = train_data[indices]\n",
    "    minibatch_label= train_label[indices]\n",
    "    \n",
    "    #reshape them to fit the network\n",
    "    inputs = minibatch_data.view(bs, 784)\n",
    "\n",
    "    # feed the input to the net  \n",
    "    inputs.requires_grad_()\n",
    "    prob = net(inputs) \n",
    "    \n",
    "    log_prob = torch.log(prob)\n",
    "    loss = criterion(log_prob, minibatch_label)    \n",
    "    optimizer.zero_grad()       \n",
    "    loss.backward()\n",
    "    optimizer.step()\n",
    "    \n",
    "idx = randint(0, len(test_data)-1)    \n",
    "p = net(test_data[idx].view(1,784)) \n",
    "print(p)\n",
    "utils.show(test_data[idx])\n",
    "utils.show_prob_mnist(p)"
   ]
  },
  {
   "cell_type": "markdown",
   "metadata": {},
   "source": [
    "# 3. Cross Entropy (labs_lecture04)\n",
    "criterion = nn.CrossEntropyLoss()"
   ]
  },
  {
   "cell_type": "code",
   "execution_count": 34,
   "metadata": {},
   "outputs": [
    {
     "data": {
      "image/png": "[encoded data removed]",
      "text/plain": [
       "<Figure size 800x800 with 2 Axes>"
      ]
     },
     "metadata": {},
     "output_type": "display_data"
    },
    {
     "name": "stdout",
     "output_type": "stream",
     "text": [
      "loss =  0.023508397862315178  good!\n"
     ]
    }
   ],
   "source": [
    "labels = torch.LongTensor([2,3])\n",
    "scores = torch.Tensor([[-1.2, 0.5 , 5, -0.5], [1.4, -1.7 , -1.3, 5.0]])\n",
    "utils.display_scores(scores)\n",
    "\n",
    "criterion = nn.CrossEntropyLoss()\n",
    "average_loss = criterion(scores, labels)\n",
    "print('loss = ', average_loss.item(), \" good!\")"
   ]
  },
  {
   "cell_type": "code",
   "execution_count": 35,
   "metadata": {},
   "outputs": [
    {
     "name": "stdout",
     "output_type": "stream",
     "text": [
      "tensor([[6.2171, 4.5171, 0.0171, 5.5171],\n",
      "        [3.6299, 6.7299, 6.3299, 0.0299]])\n",
      "tensor([0.0171, 0.0299])\n",
      "loss =  0.023508373647928238  good!\n"
     ]
    }
   ],
   "source": [
    "# Cross Entropy loss\n",
    "p = torch.softmax(scores, dim=1)\n",
    "log_prob = -torch.log(p)\n",
    "print(log_prob)\n",
    "print(log_prob[torch.arange(2),labels])\n",
    "\n",
    "loss = log_prob[torch.arange(2),labels].mean()\n",
    "print('loss = ', loss.item(), \" good!\")"
   ]
  },
  {
   "cell_type": "code",
   "execution_count": 36,
   "metadata": {},
   "outputs": [
    {
     "name": "stdout",
     "output_type": "stream",
     "text": [
      "weighted loss =  0.017078476026654243  good!\n"
     ]
    }
   ],
   "source": [
    "criterion = nn.CrossEntropyLoss(weight=torch.Tensor([0, 1, 0.1, 0])) # i dun think is correct\n",
    "weighted_loss = criterion(scores, labels)\n",
    "print('weighted loss = ', weighted_loss.item(), \" good!\")"
   ]
  },
  {
   "cell_type": "code",
   "execution_count": 37,
   "metadata": {},
   "outputs": [
    {
     "name": "stdout",
     "output_type": "stream",
     "text": [
      "tensor([1.0000, 0.1000])\n",
      "tensor([0.0171, 0.0030])\n",
      "weighted loss =  0.01003614068031311  good!\n"
     ]
    }
   ],
   "source": [
    "# Weighted cross entropy\n",
    "w = torch.zeros(2)\n",
    "w[labels==2] = 1\n",
    "w[labels==3] = 1/10\n",
    "print(w)\n",
    "print(w * log_prob[torch.arange(2),labels])\n",
    "\n",
    "loss = (w * log_prob[torch.arange(2),labels]).mean() \n",
    "print('weighted loss = ', loss.item(), \" good!\")"
   ]
  },
  {
   "cell_type": "markdown",
   "metadata": {},
   "source": [
    "# 4. MLP + Full Training Loop (labs_lecture05)"
   ]
  },
  {
   "cell_type": "markdown",
   "metadata": {},
   "source": [
    "## 4.1 Epoch\n",
    "Shuffled Indices"
   ]
  },
  {
   "cell_type": "code",
   "execution_count": 38,
   "metadata": {},
   "outputs": [
    {
     "name": "stdout",
     "output_type": "stream",
     "text": [
      "tensor([2, 3])\n",
      "tensor([9, 1])\n",
      "tensor([0, 6])\n",
      "tensor([5, 7])\n",
      "tensor([8, 4])\n"
     ]
    }
   ],
   "source": [
    "bs = 2\n",
    "shuffled_indices = torch.randperm(10) #len of train_data\n",
    "for count in range(0,10,bs):\n",
    "    batch_of_indices = shuffled_indices[count:count+bs]\n",
    "    print(batch_of_indices)"
   ]
  },
  {
   "cell_type": "markdown",
   "metadata": {},
   "source": [
    "## 4.2 Monitoring Loss\n",
    "running_loss += loss.detach().item() \\\n",
    "error = utils.get_error(scores.detach(), minibatch_label) \\\n",
    "running_error += error.item()\n",
    "\n",
    "total_loss = running_loss/num_batches \\\n",
    "total_error = running_error/num_batches "
   ]
  },
  {
   "cell_type": "markdown",
   "metadata": {},
   "source": [
    "## 4.3 Full Loop"
   ]
  },
  {
   "cell_type": "code",
   "execution_count": 39,
   "metadata": {},
   "outputs": [],
   "source": [
    "class three_layer_net(nn.Module):\n",
    "\n",
    "    def __init__(self, input_size, hidden_size1, hidden_size2,  output_size):\n",
    "        super(three_layer_net , self).__init__()\n",
    "        \n",
    "        self.layer1 = nn.Linear(input_size, hidden_size1) \n",
    "        self.layer2 = nn.Linear(hidden_size1, hidden_size2) \n",
    "        self.layer3 = nn.Linear(hidden_size2, output_size) \n",
    "        \n",
    "    def forward(self, x):\n",
    "        \n",
    "        y       = self.layer1(x) \n",
    "        y_hat   = F.relu(y) \n",
    "        z       = self.layer2(y_hat) \n",
    "        z_hat   = F.relu(z) \n",
    "        scores  = self.layer3(z_hat)\n",
    "        \n",
    "        return scores"
   ]
  },
  {
   "cell_type": "code",
   "execution_count": 40,
   "metadata": {},
   "outputs": [
    {
     "name": "stdout",
     "output_type": "stream",
     "text": [
      "cuda:0\n"
     ]
    }
   ],
   "source": [
    "import time\n",
    "device = torch.device(\"cuda:0\" if torch.cuda.is_available() else \"cpu\")\n",
    "print(device)\n",
    "# device = torch.device(\"cpu\")"
   ]
  },
  {
   "cell_type": "code",
   "execution_count": 41,
   "metadata": {},
   "outputs": [
    {
     "name": "stdout",
     "output_type": "stream",
     "text": [
      "three_layer_net(\n",
      "  (layer1): Linear(in_features=784, out_features=200, bias=True)\n",
      "  (layer2): Linear(in_features=200, out_features=200, bias=True)\n",
      "  (layer3): Linear(in_features=200, out_features=10, bias=True)\n",
      ")\n",
      "There are 199210 (0.20 million) parameters in this neural network\n"
     ]
    }
   ],
   "source": [
    "net = three_layer_net(784, 200, 200, 10).to(device)\n",
    "print(net)\n",
    "utils.display_num_param(net)"
   ]
  },
  {
   "cell_type": "code",
   "execution_count": 42,
   "metadata": {},
   "outputs": [],
   "source": [
    "def eval_on_test_set():\n",
    "    running_error = 0\n",
    "    num_batches = 0\n",
    "    for i in range(0, len(test_data), bs):\n",
    "        minibatch_data = test_data[i:i+bs].to(device)\n",
    "        minibatch_label = test_label[i:i+bs].to(device)\n",
    "        inputs = minibatch_data.view(bs, 784)\n",
    "        scores = net(inputs)\n",
    "        error = utils.get_error(scores, minibatch_label)\n",
    "        running_error += error.detach().item()\n",
    "        num_batches += 1\n",
    "    total_error = running_error / num_batches\n",
    "    print(f\"=> test error: {total_error*100:5f} %\")"
   ]
  },
  {
   "cell_type": "code",
   "execution_count": 43,
   "metadata": {},
   "outputs": [],
   "source": [
    "criterion = nn.CrossEntropyLoss()\n",
    "bs = 200\n",
    "lr = 0.05 # initial learning rate"
   ]
  },
  {
   "cell_type": "code",
   "execution_count": null,
   "metadata": {},
   "outputs": [
    {
     "name": "stdout",
     "output_type": "stream",
     "text": [
      "> \u001b[1;32m<ipython-input-49-d6870499f295>\u001b[0m(31)\u001b[0;36m<module>\u001b[1;34m()\u001b[0m\n",
      "\u001b[1;32m     29 \u001b[1;33m\u001b[1;33m\u001b[0m\u001b[0m\n",
      "\u001b[0m\u001b[1;32m     30 \u001b[1;33m        \u001b[0mset_trace\u001b[0m\u001b[1;33m(\u001b[0m\u001b[1;33m)\u001b[0m\u001b[1;33m\u001b[0m\u001b[1;33m\u001b[0m\u001b[0m\n",
      "\u001b[0m\u001b[1;32m---> 31 \u001b[1;33m        \u001b[0mloss\u001b[0m \u001b[1;33m=\u001b[0m \u001b[0mcriterion\u001b[0m\u001b[1;33m(\u001b[0m\u001b[0mscores\u001b[0m\u001b[1;33m,\u001b[0m \u001b[0mminibatch_label\u001b[0m\u001b[1;33m)\u001b[0m \u001b[1;31m# compute CEL\u001b[0m\u001b[1;33m\u001b[0m\u001b[1;33m\u001b[0m\u001b[0m\n",
      "\u001b[0m\u001b[1;32m     32 \u001b[1;33m        \u001b[0mloss\u001b[0m\u001b[1;33m.\u001b[0m\u001b[0mbackward\u001b[0m\u001b[1;33m(\u001b[0m\u001b[1;33m)\u001b[0m  \u001b[1;31m# compute gradients via backward pass\u001b[0m\u001b[1;33m\u001b[0m\u001b[1;33m\u001b[0m\u001b[0m\n",
      "\u001b[0m\u001b[1;32m     33 \u001b[1;33m        \u001b[0moptimizer\u001b[0m\u001b[1;33m.\u001b[0m\u001b[0mstep\u001b[0m\u001b[1;33m(\u001b[0m\u001b[1;33m)\u001b[0m \u001b[1;31m# update weights using SGD\u001b[0m\u001b[1;33m\u001b[0m\u001b[1;33m\u001b[0m\u001b[0m\n",
      "\u001b[0m\n"
     ]
    },
    {
     "name": "stdin",
     "output_type": "stream",
     "text": [
      "ipdb>  scores.shape\n"
     ]
    },
    {
     "name": "stdout",
     "output_type": "stream",
     "text": [
      "torch.Size([200, 10])\n"
     ]
    },
    {
     "name": "stdin",
     "output_type": "stream",
     "text": [
      "ipdb>  n\n"
     ]
    },
    {
     "name": "stdout",
     "output_type": "stream",
     "text": [
      "> \u001b[1;32m<ipython-input-49-d6870499f295>\u001b[0m(32)\u001b[0;36m<module>\u001b[1;34m()\u001b[0m\n",
      "\u001b[1;32m     30 \u001b[1;33m        \u001b[0mset_trace\u001b[0m\u001b[1;33m(\u001b[0m\u001b[1;33m)\u001b[0m\u001b[1;33m\u001b[0m\u001b[1;33m\u001b[0m\u001b[0m\n",
      "\u001b[0m\u001b[1;32m     31 \u001b[1;33m        \u001b[0mloss\u001b[0m \u001b[1;33m=\u001b[0m \u001b[0mcriterion\u001b[0m\u001b[1;33m(\u001b[0m\u001b[0mscores\u001b[0m\u001b[1;33m,\u001b[0m \u001b[0mminibatch_label\u001b[0m\u001b[1;33m)\u001b[0m \u001b[1;31m# compute CEL\u001b[0m\u001b[1;33m\u001b[0m\u001b[1;33m\u001b[0m\u001b[0m\n",
      "\u001b[0m\u001b[1;32m---> 32 \u001b[1;33m        \u001b[0mloss\u001b[0m\u001b[1;33m.\u001b[0m\u001b[0mbackward\u001b[0m\u001b[1;33m(\u001b[0m\u001b[1;33m)\u001b[0m  \u001b[1;31m# compute gradients via backward pass\u001b[0m\u001b[1;33m\u001b[0m\u001b[1;33m\u001b[0m\u001b[0m\n",
      "\u001b[0m\u001b[1;32m     33 \u001b[1;33m        \u001b[0moptimizer\u001b[0m\u001b[1;33m.\u001b[0m\u001b[0mstep\u001b[0m\u001b[1;33m(\u001b[0m\u001b[1;33m)\u001b[0m \u001b[1;31m# update weights using SGD\u001b[0m\u001b[1;33m\u001b[0m\u001b[1;33m\u001b[0m\u001b[0m\n",
      "\u001b[0m\u001b[1;32m     34 \u001b[1;33m\u001b[1;33m\u001b[0m\u001b[0m\n",
      "\u001b[0m\n"
     ]
    },
    {
     "name": "stdin",
     "output_type": "stream",
     "text": [
      "ipdb>  loss.shape\n"
     ]
    },
    {
     "name": "stdout",
     "output_type": "stream",
     "text": [
      "torch.Size([])\n"
     ]
    },
    {
     "name": "stdin",
     "output_type": "stream",
     "text": [
      "ipdb>  loss\n"
     ]
    },
    {
     "name": "stdout",
     "output_type": "stream",
     "text": [
      "tensor(0.0228, device='cuda:0', grad_fn=<NllLossBackward>)\n"
     ]
    },
    {
     "name": "stdin",
     "output_type": "stream",
     "text": [
      "ipdb>  minibatch_label.shape\n"
     ]
    },
    {
     "name": "stdout",
     "output_type": "stream",
     "text": [
      "torch.Size([200])\n"
     ]
    },
    {
     "name": "stdin",
     "output_type": "stream",
     "text": [
      "ipdb>  n\n"
     ]
    },
    {
     "name": "stdout",
     "output_type": "stream",
     "text": [
      "> \u001b[1;32m<ipython-input-49-d6870499f295>\u001b[0m(33)\u001b[0;36m<module>\u001b[1;34m()\u001b[0m\n",
      "\u001b[1;32m     31 \u001b[1;33m        \u001b[0mloss\u001b[0m \u001b[1;33m=\u001b[0m \u001b[0mcriterion\u001b[0m\u001b[1;33m(\u001b[0m\u001b[0mscores\u001b[0m\u001b[1;33m,\u001b[0m \u001b[0mminibatch_label\u001b[0m\u001b[1;33m)\u001b[0m \u001b[1;31m# compute CEL\u001b[0m\u001b[1;33m\u001b[0m\u001b[1;33m\u001b[0m\u001b[0m\n",
      "\u001b[0m\u001b[1;32m     32 \u001b[1;33m        \u001b[0mloss\u001b[0m\u001b[1;33m.\u001b[0m\u001b[0mbackward\u001b[0m\u001b[1;33m(\u001b[0m\u001b[1;33m)\u001b[0m  \u001b[1;31m# compute gradients via backward pass\u001b[0m\u001b[1;33m\u001b[0m\u001b[1;33m\u001b[0m\u001b[0m\n",
      "\u001b[0m\u001b[1;32m---> 33 \u001b[1;33m        \u001b[0moptimizer\u001b[0m\u001b[1;33m.\u001b[0m\u001b[0mstep\u001b[0m\u001b[1;33m(\u001b[0m\u001b[1;33m)\u001b[0m \u001b[1;31m# update weights using SGD\u001b[0m\u001b[1;33m\u001b[0m\u001b[1;33m\u001b[0m\u001b[0m\n",
      "\u001b[0m\u001b[1;32m     34 \u001b[1;33m\u001b[1;33m\u001b[0m\u001b[0m\n",
      "\u001b[0m\u001b[1;32m     35 \u001b[1;33m        \u001b[0mrunning_loss\u001b[0m \u001b[1;33m+=\u001b[0m \u001b[0mloss\u001b[0m\u001b[1;33m.\u001b[0m\u001b[0mdetach\u001b[0m\u001b[1;33m(\u001b[0m\u001b[1;33m)\u001b[0m\u001b[1;33m.\u001b[0m\u001b[0mitem\u001b[0m\u001b[1;33m(\u001b[0m\u001b[1;33m)\u001b[0m\u001b[1;33m\u001b[0m\u001b[1;33m\u001b[0m\u001b[0m\n",
      "\u001b[0m\n"
     ]
    },
    {
     "name": "stdin",
     "output_type": "stream",
     "text": [
      "ipdb>  n\n"
     ]
    },
    {
     "name": "stdout",
     "output_type": "stream",
     "text": [
      "> \u001b[1;32m<ipython-input-49-d6870499f295>\u001b[0m(35)\u001b[0;36m<module>\u001b[1;34m()\u001b[0m\n",
      "\u001b[1;32m     33 \u001b[1;33m        \u001b[0moptimizer\u001b[0m\u001b[1;33m.\u001b[0m\u001b[0mstep\u001b[0m\u001b[1;33m(\u001b[0m\u001b[1;33m)\u001b[0m \u001b[1;31m# update weights using SGD\u001b[0m\u001b[1;33m\u001b[0m\u001b[1;33m\u001b[0m\u001b[0m\n",
      "\u001b[0m\u001b[1;32m     34 \u001b[1;33m\u001b[1;33m\u001b[0m\u001b[0m\n",
      "\u001b[0m\u001b[1;32m---> 35 \u001b[1;33m        \u001b[0mrunning_loss\u001b[0m \u001b[1;33m+=\u001b[0m \u001b[0mloss\u001b[0m\u001b[1;33m.\u001b[0m\u001b[0mdetach\u001b[0m\u001b[1;33m(\u001b[0m\u001b[1;33m)\u001b[0m\u001b[1;33m.\u001b[0m\u001b[0mitem\u001b[0m\u001b[1;33m(\u001b[0m\u001b[1;33m)\u001b[0m\u001b[1;33m\u001b[0m\u001b[1;33m\u001b[0m\u001b[0m\n",
      "\u001b[0m\u001b[1;32m     36 \u001b[1;33m        \u001b[0merror\u001b[0m \u001b[1;33m=\u001b[0m \u001b[0mutils\u001b[0m\u001b[1;33m.\u001b[0m\u001b[0mget_error\u001b[0m\u001b[1;33m(\u001b[0m\u001b[0mscores\u001b[0m\u001b[1;33m.\u001b[0m\u001b[0mdetach\u001b[0m\u001b[1;33m(\u001b[0m\u001b[1;33m)\u001b[0m\u001b[1;33m,\u001b[0m \u001b[0mminibatch_label\u001b[0m\u001b[1;33m)\u001b[0m\u001b[1;33m\u001b[0m\u001b[1;33m\u001b[0m\u001b[0m\n",
      "\u001b[0m\u001b[1;32m     37 \u001b[1;33m        \u001b[0mrunning_error\u001b[0m \u001b[1;33m+=\u001b[0m \u001b[0merror\u001b[0m\u001b[1;33m.\u001b[0m\u001b[0mdetach\u001b[0m\u001b[1;33m(\u001b[0m\u001b[1;33m)\u001b[0m\u001b[1;33m.\u001b[0m\u001b[0mitem\u001b[0m\u001b[1;33m(\u001b[0m\u001b[1;33m)\u001b[0m\u001b[1;33m\u001b[0m\u001b[1;33m\u001b[0m\u001b[0m\n",
      "\u001b[0m\n"
     ]
    },
    {
     "name": "stdin",
     "output_type": "stream",
     "text": [
      "ipdb>  n\n"
     ]
    },
    {
     "name": "stdout",
     "output_type": "stream",
     "text": [
      "> \u001b[1;32m<ipython-input-49-d6870499f295>\u001b[0m(36)\u001b[0;36m<module>\u001b[1;34m()\u001b[0m\n",
      "\u001b[1;32m     34 \u001b[1;33m\u001b[1;33m\u001b[0m\u001b[0m\n",
      "\u001b[0m\u001b[1;32m     35 \u001b[1;33m        \u001b[0mrunning_loss\u001b[0m \u001b[1;33m+=\u001b[0m \u001b[0mloss\u001b[0m\u001b[1;33m.\u001b[0m\u001b[0mdetach\u001b[0m\u001b[1;33m(\u001b[0m\u001b[1;33m)\u001b[0m\u001b[1;33m.\u001b[0m\u001b[0mitem\u001b[0m\u001b[1;33m(\u001b[0m\u001b[1;33m)\u001b[0m\u001b[1;33m\u001b[0m\u001b[1;33m\u001b[0m\u001b[0m\n",
      "\u001b[0m\u001b[1;32m---> 36 \u001b[1;33m        \u001b[0merror\u001b[0m \u001b[1;33m=\u001b[0m \u001b[0mutils\u001b[0m\u001b[1;33m.\u001b[0m\u001b[0mget_error\u001b[0m\u001b[1;33m(\u001b[0m\u001b[0mscores\u001b[0m\u001b[1;33m.\u001b[0m\u001b[0mdetach\u001b[0m\u001b[1;33m(\u001b[0m\u001b[1;33m)\u001b[0m\u001b[1;33m,\u001b[0m \u001b[0mminibatch_label\u001b[0m\u001b[1;33m)\u001b[0m\u001b[1;33m\u001b[0m\u001b[1;33m\u001b[0m\u001b[0m\n",
      "\u001b[0m\u001b[1;32m     37 \u001b[1;33m        \u001b[0mrunning_error\u001b[0m \u001b[1;33m+=\u001b[0m \u001b[0merror\u001b[0m\u001b[1;33m.\u001b[0m\u001b[0mdetach\u001b[0m\u001b[1;33m(\u001b[0m\u001b[1;33m)\u001b[0m\u001b[1;33m.\u001b[0m\u001b[0mitem\u001b[0m\u001b[1;33m(\u001b[0m\u001b[1;33m)\u001b[0m\u001b[1;33m\u001b[0m\u001b[1;33m\u001b[0m\u001b[0m\n",
      "\u001b[0m\u001b[1;32m     38 \u001b[1;33m        \u001b[0mnum_batches\u001b[0m \u001b[1;33m+=\u001b[0m \u001b[1;36m1\u001b[0m\u001b[1;33m\u001b[0m\u001b[1;33m\u001b[0m\u001b[0m\n",
      "\u001b[0m\n"
     ]
    },
    {
     "name": "stdin",
     "output_type": "stream",
     "text": [
      "ipdb>  n\n"
     ]
    },
    {
     "name": "stdout",
     "output_type": "stream",
     "text": [
      "> \u001b[1;32m<ipython-input-49-d6870499f295>\u001b[0m(37)\u001b[0;36m<module>\u001b[1;34m()\u001b[0m\n",
      "\u001b[1;32m     35 \u001b[1;33m        \u001b[0mrunning_loss\u001b[0m \u001b[1;33m+=\u001b[0m \u001b[0mloss\u001b[0m\u001b[1;33m.\u001b[0m\u001b[0mdetach\u001b[0m\u001b[1;33m(\u001b[0m\u001b[1;33m)\u001b[0m\u001b[1;33m.\u001b[0m\u001b[0mitem\u001b[0m\u001b[1;33m(\u001b[0m\u001b[1;33m)\u001b[0m\u001b[1;33m\u001b[0m\u001b[1;33m\u001b[0m\u001b[0m\n",
      "\u001b[0m\u001b[1;32m     36 \u001b[1;33m        \u001b[0merror\u001b[0m \u001b[1;33m=\u001b[0m \u001b[0mutils\u001b[0m\u001b[1;33m.\u001b[0m\u001b[0mget_error\u001b[0m\u001b[1;33m(\u001b[0m\u001b[0mscores\u001b[0m\u001b[1;33m.\u001b[0m\u001b[0mdetach\u001b[0m\u001b[1;33m(\u001b[0m\u001b[1;33m)\u001b[0m\u001b[1;33m,\u001b[0m \u001b[0mminibatch_label\u001b[0m\u001b[1;33m)\u001b[0m\u001b[1;33m\u001b[0m\u001b[1;33m\u001b[0m\u001b[0m\n",
      "\u001b[0m\u001b[1;32m---> 37 \u001b[1;33m        \u001b[0mrunning_error\u001b[0m \u001b[1;33m+=\u001b[0m \u001b[0merror\u001b[0m\u001b[1;33m.\u001b[0m\u001b[0mdetach\u001b[0m\u001b[1;33m(\u001b[0m\u001b[1;33m)\u001b[0m\u001b[1;33m.\u001b[0m\u001b[0mitem\u001b[0m\u001b[1;33m(\u001b[0m\u001b[1;33m)\u001b[0m\u001b[1;33m\u001b[0m\u001b[1;33m\u001b[0m\u001b[0m\n",
      "\u001b[0m\u001b[1;32m     38 \u001b[1;33m        \u001b[0mnum_batches\u001b[0m \u001b[1;33m+=\u001b[0m \u001b[1;36m1\u001b[0m\u001b[1;33m\u001b[0m\u001b[1;33m\u001b[0m\u001b[0m\n",
      "\u001b[0m\u001b[1;32m     39 \u001b[1;33m\u001b[1;33m\u001b[0m\u001b[0m\n",
      "\u001b[0m\n"
     ]
    },
    {
     "name": "stdin",
     "output_type": "stream",
     "text": [
      "ipdb>  n\n"
     ]
    },
    {
     "name": "stdout",
     "output_type": "stream",
     "text": [
      "> \u001b[1;32m<ipython-input-49-d6870499f295>\u001b[0m(38)\u001b[0;36m<module>\u001b[1;34m()\u001b[0m\n",
      "\u001b[1;32m     36 \u001b[1;33m        \u001b[0merror\u001b[0m \u001b[1;33m=\u001b[0m \u001b[0mutils\u001b[0m\u001b[1;33m.\u001b[0m\u001b[0mget_error\u001b[0m\u001b[1;33m(\u001b[0m\u001b[0mscores\u001b[0m\u001b[1;33m.\u001b[0m\u001b[0mdetach\u001b[0m\u001b[1;33m(\u001b[0m\u001b[1;33m)\u001b[0m\u001b[1;33m,\u001b[0m \u001b[0mminibatch_label\u001b[0m\u001b[1;33m)\u001b[0m\u001b[1;33m\u001b[0m\u001b[1;33m\u001b[0m\u001b[0m\n",
      "\u001b[0m\u001b[1;32m     37 \u001b[1;33m        \u001b[0mrunning_error\u001b[0m \u001b[1;33m+=\u001b[0m \u001b[0merror\u001b[0m\u001b[1;33m.\u001b[0m\u001b[0mdetach\u001b[0m\u001b[1;33m(\u001b[0m\u001b[1;33m)\u001b[0m\u001b[1;33m.\u001b[0m\u001b[0mitem\u001b[0m\u001b[1;33m(\u001b[0m\u001b[1;33m)\u001b[0m\u001b[1;33m\u001b[0m\u001b[1;33m\u001b[0m\u001b[0m\n",
      "\u001b[0m\u001b[1;32m---> 38 \u001b[1;33m        \u001b[0mnum_batches\u001b[0m \u001b[1;33m+=\u001b[0m \u001b[1;36m1\u001b[0m\u001b[1;33m\u001b[0m\u001b[1;33m\u001b[0m\u001b[0m\n",
      "\u001b[0m\u001b[1;32m     39 \u001b[1;33m\u001b[1;33m\u001b[0m\u001b[0m\n",
      "\u001b[0m\u001b[1;32m     40 \u001b[1;33m    \u001b[0mtotal_loss\u001b[0m \u001b[1;33m=\u001b[0m \u001b[0mrunning_loss\u001b[0m\u001b[1;33m/\u001b[0m\u001b[0mnum_batches\u001b[0m\u001b[1;33m\u001b[0m\u001b[1;33m\u001b[0m\u001b[0m\n",
      "\u001b[0m\n"
     ]
    },
    {
     "name": "stdin",
     "output_type": "stream",
     "text": [
      "ipdb>  n\n"
     ]
    },
    {
     "name": "stdout",
     "output_type": "stream",
     "text": [
      "> \u001b[1;32m<ipython-input-49-d6870499f295>\u001b[0m(16)\u001b[0;36m<module>\u001b[1;34m()\u001b[0m\n",
      "\u001b[1;32m     14 \u001b[1;33m    \u001b[0mshuffled_indices\u001b[0m\u001b[1;33m=\u001b[0m\u001b[0mtorch\u001b[0m\u001b[1;33m.\u001b[0m\u001b[0mrandperm\u001b[0m\u001b[1;33m(\u001b[0m\u001b[0mlen\u001b[0m\u001b[1;33m(\u001b[0m\u001b[0mtrain_data\u001b[0m\u001b[1;33m)\u001b[0m\u001b[1;33m)\u001b[0m \u001b[1;31m# 60000\u001b[0m\u001b[1;33m\u001b[0m\u001b[1;33m\u001b[0m\u001b[0m\n",
      "\u001b[0m\u001b[1;32m     15 \u001b[1;33m\u001b[1;33m\u001b[0m\u001b[0m\n",
      "\u001b[0m\u001b[1;32m---> 16 \u001b[1;33m    \u001b[1;32mfor\u001b[0m \u001b[0mcount\u001b[0m \u001b[1;32min\u001b[0m \u001b[0mrange\u001b[0m\u001b[1;33m(\u001b[0m\u001b[1;36m0\u001b[0m\u001b[1;33m,\u001b[0m \u001b[0mlen\u001b[0m\u001b[1;33m(\u001b[0m\u001b[0mtrain_data\u001b[0m\u001b[1;33m)\u001b[0m\u001b[1;33m,\u001b[0m \u001b[0mbs\u001b[0m\u001b[1;33m)\u001b[0m\u001b[1;33m:\u001b[0m\u001b[1;33m\u001b[0m\u001b[1;33m\u001b[0m\u001b[0m\n",
      "\u001b[0m\u001b[1;32m     17 \u001b[1;33m        \u001b[1;31m# reset gradients\u001b[0m\u001b[1;33m\u001b[0m\u001b[1;33m\u001b[0m\u001b[1;33m\u001b[0m\u001b[0m\n",
      "\u001b[0m\u001b[1;32m     18 \u001b[1;33m        \u001b[0moptimizer\u001b[0m\u001b[1;33m.\u001b[0m\u001b[0mzero_grad\u001b[0m\u001b[1;33m(\u001b[0m\u001b[1;33m)\u001b[0m\u001b[1;33m\u001b[0m\u001b[1;33m\u001b[0m\u001b[0m\n",
      "\u001b[0m\n"
     ]
    },
    {
     "name": "stdin",
     "output_type": "stream",
     "text": [
      "ipdb>  n\n"
     ]
    },
    {
     "name": "stdout",
     "output_type": "stream",
     "text": [
      "> \u001b[1;32m<ipython-input-49-d6870499f295>\u001b[0m(18)\u001b[0;36m<module>\u001b[1;34m()\u001b[0m\n",
      "\u001b[1;32m     16 \u001b[1;33m    \u001b[1;32mfor\u001b[0m \u001b[0mcount\u001b[0m \u001b[1;32min\u001b[0m \u001b[0mrange\u001b[0m\u001b[1;33m(\u001b[0m\u001b[1;36m0\u001b[0m\u001b[1;33m,\u001b[0m \u001b[0mlen\u001b[0m\u001b[1;33m(\u001b[0m\u001b[0mtrain_data\u001b[0m\u001b[1;33m)\u001b[0m\u001b[1;33m,\u001b[0m \u001b[0mbs\u001b[0m\u001b[1;33m)\u001b[0m\u001b[1;33m:\u001b[0m\u001b[1;33m\u001b[0m\u001b[1;33m\u001b[0m\u001b[0m\n",
      "\u001b[0m\u001b[1;32m     17 \u001b[1;33m        \u001b[1;31m# reset gradients\u001b[0m\u001b[1;33m\u001b[0m\u001b[1;33m\u001b[0m\u001b[1;33m\u001b[0m\u001b[0m\n",
      "\u001b[0m\u001b[1;32m---> 18 \u001b[1;33m        \u001b[0moptimizer\u001b[0m\u001b[1;33m.\u001b[0m\u001b[0mzero_grad\u001b[0m\u001b[1;33m(\u001b[0m\u001b[1;33m)\u001b[0m\u001b[1;33m\u001b[0m\u001b[1;33m\u001b[0m\u001b[0m\n",
      "\u001b[0m\u001b[1;32m     19 \u001b[1;33m        \u001b[1;31m# create minibatch\u001b[0m\u001b[1;33m\u001b[0m\u001b[1;33m\u001b[0m\u001b[1;33m\u001b[0m\u001b[0m\n",
      "\u001b[0m\u001b[1;32m     20 \u001b[1;33m        \u001b[0mindices\u001b[0m \u001b[1;33m=\u001b[0m \u001b[0mshuffled_indices\u001b[0m\u001b[1;33m[\u001b[0m\u001b[0mcount\u001b[0m\u001b[1;33m:\u001b[0m\u001b[0mcount\u001b[0m\u001b[1;33m+\u001b[0m\u001b[0mbs\u001b[0m\u001b[1;33m]\u001b[0m\u001b[1;33m\u001b[0m\u001b[1;33m\u001b[0m\u001b[0m\n",
      "\u001b[0m\n"
     ]
    },
    {
     "name": "stdin",
     "output_type": "stream",
     "text": [
      "ipdb>  n\n"
     ]
    },
    {
     "name": "stdout",
     "output_type": "stream",
     "text": [
      "> \u001b[1;32m<ipython-input-49-d6870499f295>\u001b[0m(20)\u001b[0;36m<module>\u001b[1;34m()\u001b[0m\n",
      "\u001b[1;32m     18 \u001b[1;33m        \u001b[0moptimizer\u001b[0m\u001b[1;33m.\u001b[0m\u001b[0mzero_grad\u001b[0m\u001b[1;33m(\u001b[0m\u001b[1;33m)\u001b[0m\u001b[1;33m\u001b[0m\u001b[1;33m\u001b[0m\u001b[0m\n",
      "\u001b[0m\u001b[1;32m     19 \u001b[1;33m        \u001b[1;31m# create minibatch\u001b[0m\u001b[1;33m\u001b[0m\u001b[1;33m\u001b[0m\u001b[1;33m\u001b[0m\u001b[0m\n",
      "\u001b[0m\u001b[1;32m---> 20 \u001b[1;33m        \u001b[0mindices\u001b[0m \u001b[1;33m=\u001b[0m \u001b[0mshuffled_indices\u001b[0m\u001b[1;33m[\u001b[0m\u001b[0mcount\u001b[0m\u001b[1;33m:\u001b[0m\u001b[0mcount\u001b[0m\u001b[1;33m+\u001b[0m\u001b[0mbs\u001b[0m\u001b[1;33m]\u001b[0m\u001b[1;33m\u001b[0m\u001b[1;33m\u001b[0m\u001b[0m\n",
      "\u001b[0m\u001b[1;32m     21 \u001b[1;33m        \u001b[0mminibatch_data\u001b[0m \u001b[1;33m=\u001b[0m \u001b[0mtrain_data\u001b[0m\u001b[1;33m[\u001b[0m\u001b[0mindices\u001b[0m\u001b[1;33m]\u001b[0m\u001b[1;33m.\u001b[0m\u001b[0mto\u001b[0m\u001b[1;33m(\u001b[0m\u001b[0mdevice\u001b[0m\u001b[1;33m)\u001b[0m\u001b[1;33m\u001b[0m\u001b[1;33m\u001b[0m\u001b[0m\n",
      "\u001b[0m\u001b[1;32m     22 \u001b[1;33m        \u001b[0mminibatch_label\u001b[0m \u001b[1;33m=\u001b[0m \u001b[0mtrain_label\u001b[0m\u001b[1;33m[\u001b[0m\u001b[0mindices\u001b[0m\u001b[1;33m]\u001b[0m\u001b[1;33m.\u001b[0m\u001b[0mto\u001b[0m\u001b[1;33m(\u001b[0m\u001b[0mdevice\u001b[0m\u001b[1;33m)\u001b[0m\u001b[1;33m\u001b[0m\u001b[1;33m\u001b[0m\u001b[0m\n",
      "\u001b[0m\n"
     ]
    },
    {
     "name": "stdin",
     "output_type": "stream",
     "text": [
      "ipdb>  n\n"
     ]
    },
    {
     "name": "stdout",
     "output_type": "stream",
     "text": [
      "> \u001b[1;32m<ipython-input-49-d6870499f295>\u001b[0m(21)\u001b[0;36m<module>\u001b[1;34m()\u001b[0m\n",
      "\u001b[1;32m     19 \u001b[1;33m        \u001b[1;31m# create minibatch\u001b[0m\u001b[1;33m\u001b[0m\u001b[1;33m\u001b[0m\u001b[1;33m\u001b[0m\u001b[0m\n",
      "\u001b[0m\u001b[1;32m     20 \u001b[1;33m        \u001b[0mindices\u001b[0m \u001b[1;33m=\u001b[0m \u001b[0mshuffled_indices\u001b[0m\u001b[1;33m[\u001b[0m\u001b[0mcount\u001b[0m\u001b[1;33m:\u001b[0m\u001b[0mcount\u001b[0m\u001b[1;33m+\u001b[0m\u001b[0mbs\u001b[0m\u001b[1;33m]\u001b[0m\u001b[1;33m\u001b[0m\u001b[1;33m\u001b[0m\u001b[0m\n",
      "\u001b[0m\u001b[1;32m---> 21 \u001b[1;33m        \u001b[0mminibatch_data\u001b[0m \u001b[1;33m=\u001b[0m \u001b[0mtrain_data\u001b[0m\u001b[1;33m[\u001b[0m\u001b[0mindices\u001b[0m\u001b[1;33m]\u001b[0m\u001b[1;33m.\u001b[0m\u001b[0mto\u001b[0m\u001b[1;33m(\u001b[0m\u001b[0mdevice\u001b[0m\u001b[1;33m)\u001b[0m\u001b[1;33m\u001b[0m\u001b[1;33m\u001b[0m\u001b[0m\n",
      "\u001b[0m\u001b[1;32m     22 \u001b[1;33m        \u001b[0mminibatch_label\u001b[0m \u001b[1;33m=\u001b[0m \u001b[0mtrain_label\u001b[0m\u001b[1;33m[\u001b[0m\u001b[0mindices\u001b[0m\u001b[1;33m]\u001b[0m\u001b[1;33m.\u001b[0m\u001b[0mto\u001b[0m\u001b[1;33m(\u001b[0m\u001b[0mdevice\u001b[0m\u001b[1;33m)\u001b[0m\u001b[1;33m\u001b[0m\u001b[1;33m\u001b[0m\u001b[0m\n",
      "\u001b[0m\u001b[1;32m     23 \u001b[1;33m\u001b[1;33m\u001b[0m\u001b[0m\n",
      "\u001b[0m\n"
     ]
    },
    {
     "name": "stdin",
     "output_type": "stream",
     "text": [
      "ipdb>  n\n"
     ]
    },
    {
     "name": "stdout",
     "output_type": "stream",
     "text": [
      "> \u001b[1;32m<ipython-input-49-d6870499f295>\u001b[0m(22)\u001b[0;36m<module>\u001b[1;34m()\u001b[0m\n",
      "\u001b[1;32m     20 \u001b[1;33m        \u001b[0mindices\u001b[0m \u001b[1;33m=\u001b[0m \u001b[0mshuffled_indices\u001b[0m\u001b[1;33m[\u001b[0m\u001b[0mcount\u001b[0m\u001b[1;33m:\u001b[0m\u001b[0mcount\u001b[0m\u001b[1;33m+\u001b[0m\u001b[0mbs\u001b[0m\u001b[1;33m]\u001b[0m\u001b[1;33m\u001b[0m\u001b[1;33m\u001b[0m\u001b[0m\n",
      "\u001b[0m\u001b[1;32m     21 \u001b[1;33m        \u001b[0mminibatch_data\u001b[0m \u001b[1;33m=\u001b[0m \u001b[0mtrain_data\u001b[0m\u001b[1;33m[\u001b[0m\u001b[0mindices\u001b[0m\u001b[1;33m]\u001b[0m\u001b[1;33m.\u001b[0m\u001b[0mto\u001b[0m\u001b[1;33m(\u001b[0m\u001b[0mdevice\u001b[0m\u001b[1;33m)\u001b[0m\u001b[1;33m\u001b[0m\u001b[1;33m\u001b[0m\u001b[0m\n",
      "\u001b[0m\u001b[1;32m---> 22 \u001b[1;33m        \u001b[0mminibatch_label\u001b[0m \u001b[1;33m=\u001b[0m \u001b[0mtrain_label\u001b[0m\u001b[1;33m[\u001b[0m\u001b[0mindices\u001b[0m\u001b[1;33m]\u001b[0m\u001b[1;33m.\u001b[0m\u001b[0mto\u001b[0m\u001b[1;33m(\u001b[0m\u001b[0mdevice\u001b[0m\u001b[1;33m)\u001b[0m\u001b[1;33m\u001b[0m\u001b[1;33m\u001b[0m\u001b[0m\n",
      "\u001b[0m\u001b[1;32m     23 \u001b[1;33m\u001b[1;33m\u001b[0m\u001b[0m\n",
      "\u001b[0m\u001b[1;32m     24 \u001b[1;33m        \u001b[0minputs\u001b[0m \u001b[1;33m=\u001b[0m \u001b[0mminibatch_data\u001b[0m\u001b[1;33m.\u001b[0m\u001b[0mview\u001b[0m\u001b[1;33m(\u001b[0m\u001b[0mbs\u001b[0m\u001b[1;33m,\u001b[0m \u001b[1;36m784\u001b[0m\u001b[1;33m)\u001b[0m \u001b[1;31m# reshape to fit network\u001b[0m\u001b[1;33m\u001b[0m\u001b[1;33m\u001b[0m\u001b[0m\n",
      "\u001b[0m\n"
     ]
    },
    {
     "name": "stdin",
     "output_type": "stream",
     "text": [
      "ipdb>  n\n"
     ]
    },
    {
     "name": "stdout",
     "output_type": "stream",
     "text": [
      "> \u001b[1;32m<ipython-input-49-d6870499f295>\u001b[0m(24)\u001b[0;36m<module>\u001b[1;34m()\u001b[0m\n",
      "\u001b[1;32m     22 \u001b[1;33m        \u001b[0mminibatch_label\u001b[0m \u001b[1;33m=\u001b[0m \u001b[0mtrain_label\u001b[0m\u001b[1;33m[\u001b[0m\u001b[0mindices\u001b[0m\u001b[1;33m]\u001b[0m\u001b[1;33m.\u001b[0m\u001b[0mto\u001b[0m\u001b[1;33m(\u001b[0m\u001b[0mdevice\u001b[0m\u001b[1;33m)\u001b[0m\u001b[1;33m\u001b[0m\u001b[1;33m\u001b[0m\u001b[0m\n",
      "\u001b[0m\u001b[1;32m     23 \u001b[1;33m\u001b[1;33m\u001b[0m\u001b[0m\n",
      "\u001b[0m\u001b[1;32m---> 24 \u001b[1;33m        \u001b[0minputs\u001b[0m \u001b[1;33m=\u001b[0m \u001b[0mminibatch_data\u001b[0m\u001b[1;33m.\u001b[0m\u001b[0mview\u001b[0m\u001b[1;33m(\u001b[0m\u001b[0mbs\u001b[0m\u001b[1;33m,\u001b[0m \u001b[1;36m784\u001b[0m\u001b[1;33m)\u001b[0m \u001b[1;31m# reshape to fit network\u001b[0m\u001b[1;33m\u001b[0m\u001b[1;33m\u001b[0m\u001b[0m\n",
      "\u001b[0m\u001b[1;32m     25 \u001b[1;33m        \u001b[1;31m# Start tracking all operations that will be done on \"inputs\"\u001b[0m\u001b[1;33m\u001b[0m\u001b[1;33m\u001b[0m\u001b[1;33m\u001b[0m\u001b[0m\n",
      "\u001b[0m\u001b[1;32m     26 \u001b[1;33m        \u001b[0minputs\u001b[0m\u001b[1;33m.\u001b[0m\u001b[0mrequires_grad_\u001b[0m\u001b[1;33m(\u001b[0m\u001b[1;33m)\u001b[0m\u001b[1;33m\u001b[0m\u001b[1;33m\u001b[0m\u001b[0m\n",
      "\u001b[0m\n"
     ]
    },
    {
     "name": "stdin",
     "output_type": "stream",
     "text": [
      "ipdb>  minibatch_data.shape\n"
     ]
    },
    {
     "name": "stdout",
     "output_type": "stream",
     "text": [
      "torch.Size([200, 28, 28])\n"
     ]
    }
   ],
   "source": [
    "start = time.time()\n",
    "for epoch in range(200):\n",
    "    # update learning rate based on lr strategy\n",
    "    if epoch % 10 == 0 and epoch > 10: \n",
    "        lr = lr / 1.5 \n",
    "    \n",
    "    # reset optimizer with new learning rate\n",
    "    optimizer = torch.optim.SGD(net.parameters(), lr=lr)\n",
    "    \n",
    "    running_loss = 0\n",
    "    running_error = 0\n",
    "    num_batches = 0\n",
    "    \n",
    "    shuffled_indices=torch.randperm(len(train_data)) # 60000\n",
    "    \n",
    "    for count in range(0, len(train_data), bs):\n",
    "        # reset gradients\n",
    "        optimizer.zero_grad() \n",
    "        # create minibatch\n",
    "        indices = shuffled_indices[count:count+bs]\n",
    "        minibatch_data = train_data[indices].to(device)   #[200, 28, 28]\n",
    "        minibatch_label = train_label[indices].to(device) #[200]\n",
    "        \n",
    "        inputs = minibatch_data.view(bs, 784) # reshape to fit network #[200, 784]\n",
    "        # Start tracking all operations that will be done on \"inputs\"\n",
    "        inputs.requires_grad_()\n",
    "        \n",
    "        scores = net(inputs)\n",
    "        \n",
    "        loss = criterion(scores, minibatch_label) # compute CEL #[200, 10]\n",
    "        loss.backward()  # compute gradients via backward pass\n",
    "        optimizer.step() # update weights using SGD\n",
    "        \n",
    "        running_loss += loss.detach().item()\n",
    "        error = utils.get_error(scores.detach(), minibatch_label)\n",
    "        running_error += error.detach().item()\n",
    "        num_batches += 1\n",
    "    \n",
    "    total_loss = running_loss/num_batches\n",
    "    total_error = running_error/num_batches\n",
    "    elapsed = time.time() - start\n",
    "    \n",
    "    if epoch % 10 == 0 : \n",
    "        print(' ') \n",
    "        print(f\"epoch={epoch}, time={elapsed:5f}, loss={total_loss:5f}, error={total_error*100:5f}%, lr={lr:5f}\")\n",
    "        eval_on_test_set()\n",
    "    "
   ]
  },
  {
   "cell_type": "code",
   "execution_count": 45,
   "metadata": {},
   "outputs": [
    {
     "data": {
      "image/png": "[encoded data removed]",
      "text/plain": [
       "<Figure size 640x480 with 1 Axes>"
      ]
     },
     "metadata": {},
     "output_type": "display_data"
    },
    {
     "name": "stdout",
     "output_type": "stream",
     "text": [
      "torch.Size([1, 10])\n"
     ]
    },
    {
     "data": {
      "image/png": "[encoded data removed]",
      "text/plain": [
       "<Figure size 640x480 with 1 Axes>"
      ]
     },
     "metadata": {},
     "output_type": "display_data"
    }
   ],
   "source": [
    "# choose a picture at random\n",
    "idx = randint(0, 10000-1)\n",
    "im = test_data[idx]\n",
    "\n",
    "# diplay the picture\n",
    "utils.show(im)\n",
    "\n",
    "# feed it to the net and display the confidence scores\n",
    "scores = net(im.view(1,784).to(device)) \n",
    "probs = F.softmax(scores, dim=1)\n",
    "print(probs.shape)\n",
    "utils.show_prob_mnist(probs.cpu())"
   ]
  },
  {
   "cell_type": "code",
   "execution_count": 46,
   "metadata": {},
   "outputs": [
    {
     "name": "stdout",
     "output_type": "stream",
     "text": [
      "tensor([0.0981, 0.6807, 0.0531, 0.0350, 0.1081, 0.0110, 0.0140])\n",
      "tensor([0.0442, 0.0064, 0.0818, 0.1238, 0.0401, 0.3940, 0.3096])\n",
      "tensor([0.9558, 0.9936, 0.9182, 0.8762, 0.9599, 0.6060, 0.6904])\n"
     ]
    }
   ],
   "source": [
    "# Computing inverse weights\n",
    "weights = torch.tensor([9.8, 68.0, 5.3, 3.5, 10.8, 1.1, 1.4], dtype=torch.float32)\n",
    "weights = weights / weights.sum()\n",
    "print(weights)\n",
    "weights = 1.0 / weights\n",
    "weights = weights / weights.sum()\n",
    "print(weights)\n",
    "normedWeights = [1 - (x / sum(weights)) for x in weights]\n",
    "normedWeights = torch.FloatTensor(normedWeights)\n",
    "print(normedWeights)"
   ]
  },
  {
   "cell_type": "code",
   "execution_count": null,
   "metadata": {},
   "outputs": [],
   "source": []
  }
 ],
 "metadata": {
  "kernelspec": {
   "display_name": "Python 3",
   "language": "python",
   "name": "python3"
  },
  "language_info": {
   "codemirror_mode": {
    "name": "ipython",
    "version": 3
   },
   "file_extension": ".py",
   "mimetype": "text/x-python",
   "name": "python",
   "nbconvert_exporter": "python",
   "pygments_lexer": "ipython3",
   "version": "3.6.10"
  }
 },
 "nbformat": 4,
 "nbformat_minor": 4
}
