{
 "cells": [
  {
   "cell_type": "markdown",
   "metadata": {},
   "source": [
    "# Imports"
   ]
  },
  {
   "cell_type": "code",
   "execution_count": 1,
   "metadata": {},
   "outputs": [],
   "source": [
    "import torch\n",
    "import torch.nn as nn\n",
    "import torch.nn.functional as F\n",
    "import numpy as np\n",
    "from random import randint\n",
    "import utils\n",
    "import time\n",
    "\n",
    "import math\n",
    "import functools\n",
    "import operator\n",
    "from IPython.display import Math\n",
    "from IPython.core.debugger import set_trace\n",
    "\n",
    "device = torch.device(\"cuda\")"
   ]
  },
  {
   "cell_type": "code",
   "execution_count": 57,
   "metadata": {},
   "outputs": [
    {
     "name": "stdout",
     "output_type": "stream",
     "text": [
      "6653200 parameters\n"
     ]
    }
   ],
   "source": [
    "def count_parameters(model):\n",
    "    return sum(p.numel() for p in model.parameters() if p.requires_grad)\n",
    "\n",
    "#print(f'{sum(p.numel() for p in net.parameters() if p.requires_grad)} parameters')"
   ]
  },
  {
   "cell_type": "markdown",
   "metadata": {},
   "source": [
    "# ToDo:\n",
    "+ Sentiment Analysis using RNN?\n",
    "+ Stack RNN\n",
    "+ GRU\n",
    "+ Speech Recognition (Spectogram)\n",
    "+ MT \n",
    "+ Bidirectional LSTM\n",
    "+ ConvNet for NLP\n",
    "+ Attention CNN?\n"
   ]
  },
  {
   "cell_type": "markdown",
   "metadata": {},
   "source": [
    "# 5. CNN (labs_lecture08)"
   ]
  },
  {
   "cell_type": "code",
   "execution_count": 3,
   "metadata": {},
   "outputs": [],
   "source": [
    "import torch\n",
    "import numpy as np\n",
    "import math"
   ]
  },
  {
   "cell_type": "markdown",
   "metadata": {},
   "source": [
    "## 5.1 Conv2D Layer"
   ]
  },
  {
   "cell_type": "code",
   "execution_count": 4,
   "metadata": {},
   "outputs": [],
   "source": [
    "def calc_conv_output(N, F, P=0, S=1):\n",
    "    return int(math.floor((N+2*P-F)/S + 1))"
   ]
  },
  {
   "cell_type": "code",
   "execution_count": 5,
   "metadata": {},
   "outputs": [],
   "source": [
    "def comp_conv2d(conv2d, X):\n",
    "    # Here (1, 1) indicates that the batch size and the number of channels\n",
    "    # are both 1\n",
    "    #X = X.reshape((bs, nc) + X.shape)\n",
    "    Y = conv2d(X)\n",
    "    # Exclude the first two dimensions that do not interest us: examples and\n",
    "    # channels\n",
    "    return Y.shape[2:]\n",
    "    #return Y.reshape(Y.shape[2:])"
   ]
  },
  {
   "cell_type": "code",
   "execution_count": 6,
   "metadata": {},
   "outputs": [
    {
     "name": "stdout",
     "output_type": "stream",
     "text": [
      "filter size: torch.Size([5, 1, 3, 3])\n",
      "output size: torch.Size([1, 5, 6, 6])\n",
      "computed size: 6\n",
      "computed size: torch.Size([6, 6])\n"
     ]
    }
   ],
   "source": [
    "bs, nc = 1, 1\n",
    "x = torch.rand(bs, nc, 6,6)\n",
    "conv2d1 = nn.Conv2d(in_channels=nc, out_channels=5, kernel_size=3, padding=1)\n",
    "print(f\"filter size: {conv2d1.weight.size()}\") # filter size\n",
    "y = conv2d1(x); print(f\"output size: {y.size()}\")\n",
    "print(f\"computed size: {calc_conv_output(6, 3, P=1, S=1)}\")\n",
    "print(f\"computed size: {comp_conv2d(conv2d1, x)}\")"
   ]
  },
  {
   "cell_type": "markdown",
   "metadata": {},
   "source": [
    "## 5.2 Padding"
   ]
  },
  {
   "cell_type": "code",
   "execution_count": 7,
   "metadata": {},
   "outputs": [],
   "source": [
    "def get_padding(N, F, S=1):\n",
    "    \"\"\"Computes same padding\"\"\"\n",
    "    P = ((S-1)*N-S+F)/2\n",
    "    print(f\"pad: {P}\")\n",
    "    return int(P)"
   ]
  },
  {
   "cell_type": "code",
   "execution_count": 8,
   "metadata": {},
   "outputs": [
    {
     "name": "stdout",
     "output_type": "stream",
     "text": [
      "pad: 1.0\n",
      "padding: 1\n"
     ]
    }
   ],
   "source": [
    "print(f\"padding: {get_padding(6, 3)}\")"
   ]
  },
  {
   "cell_type": "code",
   "execution_count": 9,
   "metadata": {},
   "outputs": [
    {
     "name": "stdout",
     "output_type": "stream",
     "text": [
      "computed size: torch.Size([6, 8])\n"
     ]
    }
   ],
   "source": [
    "conv2d2 = nn.Conv2d(1, 1, kernel_size=(5, 3), padding=(2, 2))\n",
    "print(f\"computed size: {comp_conv2d(conv2d2, x)}\")"
   ]
  },
  {
   "cell_type": "markdown",
   "metadata": {},
   "source": [
    "## 5.3 Pooling"
   ]
  },
  {
   "cell_type": "code",
   "execution_count": 10,
   "metadata": {},
   "outputs": [
    {
     "name": "stdout",
     "output_type": "stream",
     "text": [
      "tensor([[[[0.4252, 0.5256, 0.9016, 0.9738, 0.1749, 0.5098],\n",
      "          [0.2569, 0.6369, 0.2054, 0.8163, 0.5875, 0.4681],\n",
      "          [0.5969, 0.7077, 0.5774, 0.9721, 0.2460, 0.7573],\n",
      "          [0.4752, 0.7360, 0.3614, 0.5428, 0.3666, 0.6142],\n",
      "          [0.9727, 0.7532, 0.5712, 0.7669, 0.3450, 0.8892],\n",
      "          [0.3048, 0.1747, 0.9293, 0.4978, 0.7745, 0.3060]],\n",
      "\n",
      "         [[0.1194, 0.5136, 0.4161, 0.9292, 0.1764, 0.9836],\n",
      "          [0.2437, 0.3880, 0.8240, 0.6900, 0.8286, 0.4023],\n",
      "          [0.8131, 0.5747, 0.4015, 0.3696, 0.2569, 0.1663],\n",
      "          [0.5540, 0.5938, 0.7130, 0.4867, 0.0861, 0.6473],\n",
      "          [0.0166, 0.8278, 0.2405, 0.0504, 0.5603, 0.6847],\n",
      "          [0.6472, 0.2229, 0.2747, 0.8148, 0.6128, 0.5177]]]])\n",
      "torch.Size([1, 2, 3, 3])\n",
      "tensor([[[[0.6369, 0.9738, 0.5875],\n",
      "          [0.7360, 0.9721, 0.7573],\n",
      "          [0.9727, 0.9293, 0.8892]],\n",
      "\n",
      "         [[0.5136, 0.9292, 0.9836],\n",
      "          [0.8131, 0.7130, 0.6473],\n",
      "          [0.8278, 0.8148, 0.6847]]]])\n",
      "torch.Size([1, 2, 3, 3])\n",
      "tensor([[[[0.4611, 0.7243, 0.4351],\n",
      "          [0.6289, 0.6134, 0.4960],\n",
      "          [0.5514, 0.6913, 0.5787]],\n",
      "\n",
      "         [[0.3162, 0.7148, 0.5977],\n",
      "          [0.6339, 0.4927, 0.2892],\n",
      "          [0.4286, 0.3451, 0.5939]]]])\n",
      "torch.Size([1, 2, 2, 2])\n",
      "tensor([[[[0.9016, 0.9738],\n",
      "          [0.9727, 0.8892]],\n",
      "\n",
      "         [[0.8240, 0.9836],\n",
      "          [0.8278, 0.8148]]]])\n"
     ]
    }
   ],
   "source": [
    "x = torch.rand(1,2,6,6)\n",
    "max_pool = nn.MaxPool2d(2,2)\n",
    "avg_pool = nn.AvgPool2d(2,2)\n",
    "adp_max_pool = nn.AdaptiveMaxPool2d((2,2))\n",
    "\n",
    "print(x)\n",
    "after_mp = max_pool(x); print(after_mp.size())\n",
    "print(after_mp)\n",
    "after_ap = avg_pool(x); print(after_ap.size())\n",
    "print(after_ap)\n",
    "after_amp = adp_max_pool(x); print(after_amp.size())\n",
    "print(after_amp)"
   ]
  },
  {
   "cell_type": "markdown",
   "metadata": {},
   "source": [
    "## 5.4 LeNet5 Architecture"
   ]
  },
  {
   "cell_type": "code",
   "execution_count": 11,
   "metadata": {},
   "outputs": [
    {
     "name": "stdout",
     "output_type": "stream",
     "text": [
      "torch.Size([60000, 28, 28])\n",
      "torch.Size([10000, 28, 28])\n"
     ]
    }
   ],
   "source": [
    "from utils import check_mnist_dataset_exists\n",
    "data_path=check_mnist_dataset_exists()\n",
    "\n",
    "train_data=torch.load(data_path+'mnist/train_data.pt')\n",
    "train_label=torch.load(data_path+'mnist/train_label.pt')\n",
    "test_data=torch.load(data_path+'mnist/test_data.pt')\n",
    "test_label=torch.load(data_path+'mnist/test_label.pt')\n",
    "\n",
    "print(train_data.size())\n",
    "print(test_data.size())"
   ]
  },
  {
   "cell_type": "code",
   "execution_count": 12,
   "metadata": {},
   "outputs": [
    {
     "name": "stdout",
     "output_type": "stream",
     "text": [
      "Train data mean: 0.13066235184669495, std: 0.30810782313346863\n"
     ]
    }
   ],
   "source": [
    "def compute_train_data_statistics(train_data, device=device):\n",
    "    mean= train_data.mean().to(device)\n",
    "    std = train_data.std().to(device)\n",
    "    return mean, std\n",
    "\n",
    "mean, std = compute_train_data_statistics(train_data)\n",
    "print(f\"Train data mean: {mean}, std: {std}\")"
   ]
  },
  {
   "cell_type": "code",
   "execution_count": 13,
   "metadata": {},
   "outputs": [],
   "source": [
    "import functools\n",
    "import operator\n",
    "\n",
    "class LeNet5(nn.Module):\n",
    "    def __init__(self, input_dims=(1,28,28)):\n",
    "        super(LeNet5, self).__init__()\n",
    "        self.CL1 = nn.Conv2d(in_channels=1, out_channels=50, kernel_size=3, padding=get_padding(50, 3))\n",
    "        # 50 x 28 x 28\n",
    "        self.MP1 = nn.MaxPool2d(2,2)\n",
    "        # 50 x 14 x 14\n",
    "        self.CL2 = nn.Conv2d(in_channels=50, out_channels=100, kernel_size=3, padding=get_padding(100, 3))\n",
    "        # 100 x 14 x 14\n",
    "        self.MP2 = nn.MaxPool2d(2,2)\n",
    "        # 100 x 7 x 7 = 4900\n",
    "        \n",
    "        features = nn.Sequential(self.CL1, self.MP1, self.CL2, self.MP2)\n",
    "        num_feats_aft_conv = functools.reduce(operator.mul, list(features(torch.rand(1, *(input_dims))).shape)); #print(num_feats_aft_conv)\n",
    "        \n",
    "        self.LL1 = nn.Linear(num_feats_aft_conv, 100) #4900\n",
    "        self.LL2 = nn.Linear(100, 10)\n",
    "        \n",
    "    def forward(self, x):\n",
    "        x = self.CL1(x)\n",
    "        x = F.relu(x)\n",
    "        \n",
    "        x = self.MP1(x)\n",
    "        \n",
    "        x = self.CL2(x)\n",
    "        x = F.relu(x)\n",
    "        \n",
    "        x = self.MP2(x)\n",
    "        \n",
    "        #x1 = x.view(-1, 4900); print(x1.shape)\n",
    "        x = torch.flatten(x, 1)#; print(x.shape)\n",
    "        x = self.LL1(x)\n",
    "        x = F.relu(x)\n",
    "        \n",
    "        x = self.LL2(x)\n",
    "        return x"
   ]
  },
  {
   "cell_type": "code",
   "execution_count": 14,
   "metadata": {},
   "outputs": [
    {
     "name": "stdout",
     "output_type": "stream",
     "text": [
      "pad: 1.0\n",
      "pad: 1.0\n",
      "LeNet5(\n",
      "  (CL1): Conv2d(1, 50, kernel_size=(3, 3), stride=(1, 1), padding=(1, 1))\n",
      "  (MP1): MaxPool2d(kernel_size=2, stride=2, padding=0, dilation=1, ceil_mode=False)\n",
      "  (CL2): Conv2d(50, 100, kernel_size=(3, 3), stride=(1, 1), padding=(1, 1))\n",
      "  (MP2): MaxPool2d(kernel_size=2, stride=2, padding=0, dilation=1, ceil_mode=False)\n",
      "  (LL1): Linear(in_features=4900, out_features=100, bias=True)\n",
      "  (LL2): Linear(in_features=100, out_features=10, bias=True)\n",
      ")\n",
      "There are 536710 (0.54 million) parameters in this neural network\n"
     ]
    }
   ],
   "source": [
    "net = LeNet5().to(device)\n",
    "print(net)\n",
    "utils.display_num_param(net)"
   ]
  },
  {
   "cell_type": "code",
   "execution_count": 15,
   "metadata": {},
   "outputs": [],
   "source": [
    "def eval_on_test_set():\n",
    "    running_error = 0\n",
    "    num_batches = 0\n",
    "    for i in range(0, len(test_data), bs):\n",
    "        #set_trace()\n",
    "        minibatch_data = test_data[i:i+bs].to(device)\n",
    "        minibatch_label = test_label[i:i+bs].to(device)\n",
    "        inputs = minibatch_data.unsqueeze(dim=1) # add batch dim (color no need)\n",
    "        inputs = (inputs - mean)/std   # normalize inputs\n",
    "        scores = net(inputs)\n",
    "        error = utils.get_error(scores, minibatch_label)\n",
    "        running_error += error.detach().item()\n",
    "        num_batches += 1\n",
    "    total_error = running_error / num_batches\n",
    "    print(f\"=> test error: {total_error*100:.5f}% \\n\")"
   ]
  },
  {
   "cell_type": "code",
   "execution_count": 16,
   "metadata": {},
   "outputs": [],
   "source": [
    "criterion = nn.CrossEntropyLoss()\n",
    "bs = 128\n",
    "lr = 0.25"
   ]
  },
  {
   "cell_type": "code",
   "execution_count": 17,
   "metadata": {},
   "outputs": [
    {
     "name": "stdout",
     "output_type": "stream",
     "text": [
      "epoch=1, time=0.07462 min, loss=0.26874, train error=8.60874%, lr=0.25000\n",
      "=> test error: 1.62184% \n",
      "\n",
      "epoch=2, time=0.12309 min, loss=0.04827, train error=1.51142%, lr=0.25000\n",
      "=> test error: 1.24604% \n",
      "\n",
      "epoch=3, time=0.17206 min, loss=0.03330, train error=1.01279%, lr=0.25000\n",
      "=> test error: 1.11748% \n",
      "\n",
      "epoch=4, time=0.22381 min, loss=0.02494, train error=0.82789%, lr=0.25000\n",
      "=> test error: 0.94937% \n",
      "\n",
      "epoch=5, time=0.27419 min, loss=0.01423, train error=0.40367%, lr=0.12500\n",
      "=> test error: 0.98892% \n",
      "\n",
      "epoch=6, time=0.32437 min, loss=0.01092, train error=0.30817%, lr=0.12500\n",
      "=> test error: 0.83070% \n",
      "\n",
      "epoch=7, time=0.37669 min, loss=0.00870, train error=0.20989%, lr=0.12500\n",
      "=> test error: 0.85047% \n",
      "\n",
      "epoch=8, time=0.42883 min, loss=0.00719, train error=0.18157%, lr=0.12500\n",
      "=> test error: 0.75158% \n",
      "\n",
      "epoch=9, time=0.48514 min, loss=0.00592, train error=0.15492%, lr=0.12500\n",
      "=> test error: 0.76147% \n",
      "\n",
      "epoch=10, time=0.54109 min, loss=0.00381, train error=0.06497%, lr=0.06250\n",
      "=> test error: 0.76147% \n",
      "\n",
      "epoch=11, time=0.59756 min, loss=0.00320, train error=0.06219%, lr=0.06250\n",
      "=> test error: 0.84059% \n",
      "\n",
      "epoch=12, time=0.65454 min, loss=0.00287, train error=0.05664%, lr=0.06250\n",
      "=> test error: 0.79114% \n",
      "\n",
      "epoch=13, time=0.71064 min, loss=0.00252, train error=0.03998%, lr=0.06250\n",
      "=> test error: 0.75158% \n",
      "\n",
      "epoch=14, time=0.76903 min, loss=0.00222, train error=0.03332%, lr=0.06250\n",
      "=> test error: 0.84059% \n",
      "\n",
      "epoch=15, time=0.82846 min, loss=0.00179, train error=0.02166%, lr=0.03125\n",
      "=> test error: 0.81092% \n",
      "\n",
      "epoch=16, time=0.88701 min, loss=0.00169, train error=0.01999%, lr=0.03125\n",
      "=> test error: 0.78125% \n",
      "\n",
      "epoch=17, time=0.94623 min, loss=0.00158, train error=0.01499%, lr=0.03125\n",
      "=> test error: 0.81092% \n",
      "\n",
      "epoch=18, time=1.00354 min, loss=0.00152, train error=0.01666%, lr=0.03125\n",
      "=> test error: 0.76147% \n",
      "\n",
      "epoch=19, time=1.06122 min, loss=0.00143, train error=0.01666%, lr=0.03125\n",
      "=> test error: 0.77136% \n",
      "\n",
      "epoch=20, time=1.11719 min, loss=0.00130, train error=0.01166%, lr=0.01562\n",
      "=> test error: 0.79114% \n",
      "\n",
      "epoch=21, time=1.17523 min, loss=0.00125, train error=0.00666%, lr=0.01562\n",
      "=> test error: 0.77136% \n",
      "\n",
      "epoch=22, time=1.23274 min, loss=0.00123, train error=0.00666%, lr=0.01562\n",
      "=> test error: 0.78125% \n",
      "\n",
      "epoch=23, time=1.29104 min, loss=0.00119, train error=0.00833%, lr=0.01562\n",
      "=> test error: 0.76147% \n",
      "\n",
      "epoch=24, time=1.34722 min, loss=0.00117, train error=0.00666%, lr=0.01562\n",
      "=> test error: 0.76147% \n",
      "\n",
      "epoch=25, time=1.40519 min, loss=0.00112, train error=0.00333%, lr=0.00781\n",
      "=> test error: 0.79114% \n",
      "\n",
      "epoch=26, time=1.46319 min, loss=0.00110, train error=0.00500%, lr=0.00781\n",
      "=> test error: 0.78125% \n",
      "\n",
      "epoch=27, time=1.51777 min, loss=0.00109, train error=0.00500%, lr=0.00781\n",
      "=> test error: 0.78125% \n",
      "\n",
      "epoch=28, time=1.57012 min, loss=0.00107, train error=0.00333%, lr=0.00781\n",
      "=> test error: 0.78125% \n",
      "\n",
      "epoch=29, time=1.62160 min, loss=0.00106, train error=0.00333%, lr=0.00781\n",
      "=> test error: 0.78125% \n",
      "\n",
      "epoch=30, time=1.67374 min, loss=0.00104, train error=0.00333%, lr=0.00391\n",
      "=> test error: 0.78125% \n",
      "\n"
     ]
    }
   ],
   "source": [
    "start = time.time()\n",
    "for epoch in range(1,31):\n",
    "    # update learning rate\n",
    "    if epoch % 5 == 0:\n",
    "        lr = lr / 2\n",
    "    optimizer = torch.optim.SGD(net.parameters(), lr=lr)\n",
    "        \n",
    "    running_loss=0\n",
    "    running_error=0\n",
    "    num_batches=0\n",
    "    \n",
    "    shuffled_indices=torch.randperm(len(train_data))\n",
    " \n",
    "    for count in range(0,len(train_data),bs):\n",
    "        optimizer.zero_grad()\n",
    "        \n",
    "        \n",
    "        indices=shuffled_indices[count:count+bs]         # [128]\n",
    "        minibatch_data = train_data[indices].to(device)  # [128, 28, 28]\n",
    "        minibatch_label= train_label[indices].to(device) # [128]\n",
    "        \n",
    "        # add batch dimension (color no need)\n",
    "        inputs = minibatch_data.unsqueeze(dim=1)         # [128, 1, 28, 28]\n",
    "        inputs = (inputs - mean)/std # normalize inputs\n",
    "        \n",
    "        inputs.requires_grad_()\n",
    "\n",
    "        scores= net(inputs)                              # [128, 10]\n",
    "        loss =  criterion(scores, minibatch_label) \n",
    "        loss.backward()\n",
    "        optimizer.step()\n",
    "        \n",
    "        # COMPUTE STATS\n",
    "        running_loss += loss.detach().item()\n",
    "        error = utils.get_error(scores.detach(), minibatch_label)\n",
    "        running_error += error.detach().item()\n",
    "        num_batches += 1\n",
    "    \n",
    "    total_loss = running_loss/num_batches\n",
    "    total_error = running_error/num_batches\n",
    "    elapsed_time = (time.time()-start)/60\n",
    "    \n",
    "    print(f\"epoch={epoch}, time={elapsed_time:.5f} min, loss={total_loss:.5f}, train error={total_error*100:.5f}%, lr={lr:.5f}\")\n",
    "    eval_on_test_set() "
   ]
  },
  {
   "cell_type": "code",
   "execution_count": 18,
   "metadata": {},
   "outputs": [
    {
     "data": {
      "image/png": "[encoded data removed]",
      "text/plain": [
       "<Figure size 432x288 with 1 Axes>"
      ]
     },
     "metadata": {
      "needs_background": "light"
     },
     "output_type": "display_data"
    },
    {
     "data": {
      "image/png": "[encoded data removed]",
      "text/plain": [
       "<Figure size 640x480 with 1 Axes>"
      ]
     },
     "metadata": {},
     "output_type": "display_data"
    }
   ],
   "source": [
    "# choose a picture at random\n",
    "idx = randint(0, len(test_data)-1)\n",
    "im = test_data[idx]\n",
    "\n",
    "# diplay the picture\n",
    "utils.show(im)\n",
    "\n",
    "# send to device, rescale, and view as a batch of 1 \n",
    "im = im.to(device)\n",
    "im= (im-mean) / std\n",
    "im= im.view(1,28,28).unsqueeze(dim=1) #cifar im.view(1,3,32,32)\n",
    "\n",
    "# feed it to the net and display the confidence scores\n",
    "scores =  net(im) \n",
    "probs= F.softmax(scores, dim=1)\n",
    "utils.show_prob_mnist(probs.cpu())"
   ]
  },
  {
   "cell_type": "markdown",
   "metadata": {},
   "source": [
    "# 6. RNN (labs_lecture10)\n",
    "+ Perplexity = exp(loss)"
   ]
  },
  {
   "cell_type": "markdown",
   "metadata": {},
   "source": [
    "## 6.1 Load Penn Tree Bank Corpus"
   ]
  },
  {
   "cell_type": "code",
   "execution_count": null,
   "metadata": {},
   "outputs": [],
   "source": [
    "from utils import check_ptb_dataset_exists\n",
    "data_path = check_ptb_dataset_exists('../data/'); print(data_path)\n",
    "\n",
    "train_data  =  torch.load(data_path+'ptb/train_data.pt')\n",
    "test_data   =  torch.load(data_path+'ptb/test_data.pt')\n",
    "\n",
    "print(train_data.size()) # 20 batches (sub-documents) of 46k words\n",
    "print(test_data.size())\n",
    "print(f\"sanity check: ({len(train_data)}+{len(test_data)})x20 = {(len(train_data)+len(test_data))*20} words\")"
   ]
  },
  {
   "cell_type": "markdown",
   "metadata": {},
   "source": [
    "## 6.2 Three Layer VRNN\n",
    "+ 1 hidden state represented by vector h of embedding size (e.g. 150)\n",
    "+ $h_t = tanh( Rh_{t-1} + Vg_{t} )$"
   ]
  },
  {
   "cell_type": "code",
   "execution_count": null,
   "metadata": {},
   "outputs": [],
   "source": [
    "vocab_size = 10000\n",
    "hidden_size = 150 # Embedding size"
   ]
  },
  {
   "cell_type": "code",
   "execution_count": null,
   "metadata": {},
   "outputs": [],
   "source": [
    "class three_layer_rnn(nn.Module):\n",
    "    def __init__(self, vocab_size, hidden_size):\n",
    "        super().__init__()\n",
    "        self.layer1 = nn.Embedding(vocab_size, hidden_size)\n",
    "        self.layer2 = nn.RNN(hidden_size, hidden_size)\n",
    "        self.layer3 = nn.Linear(hidden_size, vocab_size)\n",
    "        \n",
    "    def forward(self, word_seq, h_init):\n",
    "        # word_seq = [sent_len, batch_size]\n",
    "        g_seq = self.layer1(word_seq)             # [35, 20] -> [35, 20, 150]\n",
    "        # g_seq (embedding) = [sent_len, batch_size, emb dim]\n",
    "        h_seq, h_out = self.layer2(g_seq, h_init) # seq: [35, 20, 150], h: [1, 20, 150]\n",
    "        # h_seq = [sent_len, batch_size, emb dim]\n",
    "        # h_out = [1, batch_size, emb dim]\n",
    "        score_seq = self.layer3(h_seq)            # [1, 20, 150]\n",
    "        \n",
    "        return score_seq, h_out"
   ]
  },
  {
   "cell_type": "code",
   "execution_count": null,
   "metadata": {},
   "outputs": [],
   "source": [
    "net = three_layer_rnn(vocab_size, hidden_size).to(device)\n",
    "print(net)\n",
    "utils.display_num_param(net)"
   ]
  },
  {
   "cell_type": "markdown",
   "metadata": {},
   "source": [
    "### 6.2.1 Initialize Weights"
   ]
  },
  {
   "cell_type": "code",
   "execution_count": null,
   "metadata": {},
   "outputs": [],
   "source": [
    "print(net.layer1.weight.data) # embedding\n",
    "print(net.layer3.weight.data) # linear\n",
    "\n",
    "# initialize weights of Embedding and Linear layers\n",
    "net.layer1.weight.data.uniform_(-0.1, 0.1)\n",
    "net.layer3.weight.data.uniform_(-0.1, 0.1)\n",
    "\n",
    "print(net.layer1.weight.data) # embedding\n",
    "print(net.layer3.weight.data) # linear"
   ]
  },
  {
   "cell_type": "markdown",
   "metadata": {},
   "source": [
    "### 6.2.2 Training three-layer RNN"
   ]
  },
  {
   "cell_type": "code",
   "execution_count": null,
   "metadata": {},
   "outputs": [],
   "source": [
    "criterion = nn.CrossEntropyLoss()\n",
    "my_lr = 1\n",
    "bs = 20 # data already prepared in batches of 20.\n",
    "seq_length = 35"
   ]
  },
  {
   "cell_type": "code",
   "execution_count": null,
   "metadata": {},
   "outputs": [],
   "source": [
    "def eval_on_test_set():\n",
    "    running_loss=0\n",
    "    num_batches=0    \n",
    "       \n",
    "    h = torch.zeros(1, bs, hidden_size).to(device) #[1, 20, 150]\n",
    "\n",
    "    for count in range(0, len(test_data)-seq_length, seq_length) :  \n",
    "        minibatch_data =  test_data[count   : count+seq_length  ].to(device) #[35, 20]\n",
    "        minibatch_label = test_data[count+1 : count+seq_length+1].to(device) #[35, 20] shift by one word\n",
    "                                  \n",
    "        scores, h = net(minibatch_data, h) # scores: [35, 20, 10000]\n",
    "        \n",
    "        scores          =  scores.view(bs*seq_length, vocab_size) #[700, 10000]\n",
    "        minibatch_label =  minibatch_label.view(bs*seq_length)    #[700]  \n",
    "        \n",
    "        loss = criterion(scores, minibatch_label)    \n",
    "        \n",
    "        h = h.detach()\n",
    "            \n",
    "        running_loss += loss.detach().item()\n",
    "        num_batches += 1        \n",
    "    \n",
    "    total_loss = running_loss/num_batches \n",
    "    print(f\"=> test exp(loss): {math.exp(total_loss):.5f} \\n\")"
   ]
  },
  {
   "cell_type": "code",
   "execution_count": null,
   "metadata": {},
   "outputs": [],
   "source": [
    "start=time.time()\n",
    "\n",
    "for epoch in range(10):\n",
    "    # keep the learning rate to 1 during the first 4 epochs, then divide by 1.1 at every epoch\n",
    "    if epoch >= 4:\n",
    "        my_lr = my_lr / 1.1\n",
    "    # create a new optimizer and give the current learning rate.   \n",
    "    optimizer=torch.optim.SGD(net.parameters(), lr=my_lr)\n",
    "        \n",
    "    # set the running quantities to zero at the beginning of the epoch\n",
    "    running_loss=0\n",
    "    num_batches=0    \n",
    "    # set the initial h to be the zero vector\n",
    "    h = torch.zeros(1, bs, hidden_size).to(device) #one word, bs documents, embedding size\n",
    "\n",
    "    for count in range(0, len(train_data)-seq_length, seq_length):\n",
    "        \n",
    "        # Set the gradients to zeros\n",
    "        optimizer.zero_grad()\n",
    "        \n",
    "        # create a minibatch\n",
    "        minibatch_data =  train_data[count   : count+seq_length  ].to(device) # [35, 20]\n",
    "        minibatch_label = train_data[count+1 : count+seq_length+1].to(device) # [35, 20]       \n",
    "        \n",
    "        # Detach to Stop backpropagation to go beyond the current mini-batch\n",
    "        # Then tell Pytorch to start tracking all operations that will be done on h\n",
    "        h = h.detach()\n",
    "        h = h.requires_grad_()\n",
    "                       \n",
    "        # forward the minibatch through the net        \n",
    "        scores, h = net(minibatch_data, h)                                    # [35, 20, 10000]\n",
    "        \n",
    "        # reshape the scores and labels to huge batch of size bs*seq_length\n",
    "        scores          = scores.view(bs*seq_length, vocab_size)              # [700, 10000]\n",
    "        minibatch_label = minibatch_label.view(bs*seq_length)                 # [700]\n",
    "        \n",
    "        # Compute the average of the losses of the data points in this huge batch\n",
    "        loss = criterion(scores, minibatch_label)\n",
    "        \n",
    "        # backward pass to compute dL/dR, dL/dV and dL/dW\n",
    "        loss.backward()\n",
    "\n",
    "        # do one step of stochastic gradient descent: R=R-lr(dL/dR), V=V-lr(dL/dV), ...\n",
    "        utils.normalize_gradient(net) # prevent exploding gradients in RNNs.\n",
    "        optimizer.step()              # update weights\n",
    "\n",
    "        # update the running loss  \n",
    "        running_loss += loss.detach().item()\n",
    "        num_batches += 1\n",
    "        \n",
    "    # compute stats for the full training set\n",
    "    total_loss = running_loss/num_batches\n",
    "    elapsed = time.time()-start/60\n",
    "    \n",
    "    print(f\"epoch={epoch}, time={elapsed:.5f} min, exp(loss)={math.exp(total_loss):.5f} lr={my_lr:.5f}\")\n",
    "    eval_on_test_set() "
   ]
  },
  {
   "cell_type": "markdown",
   "metadata": {},
   "source": [
    "### 6.2.3 Testing three-layer RNN"
   ]
  },
  {
   "cell_type": "code",
   "execution_count": null,
   "metadata": {},
   "outputs": [],
   "source": [
    "sentence1 = \"some analysts expect oil prices to remain relatively\"\n",
    "sentence2 = \"over the next days and weeks they say investors should look for stocks to\"\n",
    "sentence3 = \"prices averaging roughly $ N a barrel higher in the third\"\n",
    "sentence4 = \"i think my line has been very consistent mrs. hills said at a news\"\n",
    "sentence5 = \"this appears particularly true at gm which had strong sales in\"\n",
    "# or make your own sentence.  No capital letter or punctuation allowed. Each word must be in the allowed vocabulary.\n",
    "sentence6= \"he was very\"\n",
    "mysentence = sentence6"
   ]
  },
  {
   "cell_type": "code",
   "execution_count": null,
   "metadata": {},
   "outputs": [],
   "source": [
    "test_sen=utils.sentence2vector(mysentence).to(device)\n",
    "print(minibatch_data)"
   ]
  },
  {
   "cell_type": "code",
   "execution_count": null,
   "metadata": {},
   "outputs": [],
   "source": [
    "h = torch.zeros(1, 1, hidden_size).to(device) # one word, one document\n",
    "scores, h = net(test_sen, h)"
   ]
  },
  {
   "cell_type": "code",
   "execution_count": null,
   "metadata": {},
   "outputs": [],
   "source": [
    "print(mysentence, '... \\n')\n",
    "utils.show_next_word(scores)"
   ]
  },
  {
   "cell_type": "markdown",
   "metadata": {},
   "source": [
    "## 6.3 Long Short-Term Memory (LSTM)\n",
    "+ 2 hidden states represented by 2 vectors h and c of embedding size (e.g. 200)\n",
    "    + Vector h stores the short-term dependencies\n",
    "    + Vector c records the long-term dependencies"
   ]
  },
  {
   "cell_type": "code",
   "execution_count": null,
   "metadata": {},
   "outputs": [],
   "source": [
    "bs = 20\n",
    "vocab_size = 10000"
   ]
  },
  {
   "cell_type": "code",
   "execution_count": null,
   "metadata": {},
   "outputs": [],
   "source": [
    "class three_layer_lstm(nn.Module):\n",
    "    def __init__(self, vocab_size, hidden_size):\n",
    "        super().__init__()\n",
    "        self.layer1 = nn.Embedding(vocab_size, hidden_size)\n",
    "        self.layer2 = nn.LSTM(hidden_size, hidden_size)\n",
    "        self.layer3 = nn.Linear(hidden_size, vocab_size)\n",
    "        \n",
    "    def forward(self, word_seq, h_init, c_init):\n",
    "        g_seq                 = self.layer1(word_seq)\n",
    "        h_seq, (h_out, c_out) = self.layer2(g_seq, (h_init, c_init))\n",
    "        score_seq             = self.layer3(h_seq)\n",
    "        return score_seq, h_out, c_out"
   ]
  },
  {
   "cell_type": "code",
   "execution_count": null,
   "metadata": {},
   "outputs": [],
   "source": [
    "hidden_size = 300\n",
    "net = three_layer_lstm(vocab_size, hidden_size).to(device)\n",
    "print(net)\n",
    "utils.display_num_param(net)"
   ]
  },
  {
   "cell_type": "markdown",
   "metadata": {},
   "source": [
    "### 6.3.1 Initialize Weights"
   ]
  },
  {
   "cell_type": "code",
   "execution_count": null,
   "metadata": {},
   "outputs": [],
   "source": [
    "# initialize weights of Embedding and Linear layers\n",
    "net.layer1.weight.data.uniform_(-0.1, 0.1)\n",
    "net.layer3.weight.data.uniform_(-0.1, 0.1)\n",
    "print('')"
   ]
  },
  {
   "cell_type": "markdown",
   "metadata": {},
   "source": [
    "### 6.3.2 Training three-layer LSTM"
   ]
  },
  {
   "cell_type": "code",
   "execution_count": null,
   "metadata": {},
   "outputs": [],
   "source": [
    "criterion = nn.CrossEntropyLoss()\n",
    "my_lr = 5\n",
    "seq_length = 35"
   ]
  },
  {
   "cell_type": "code",
   "execution_count": null,
   "metadata": {},
   "outputs": [],
   "source": [
    "def eval_on_test_set():\n",
    "    running_loss = 0\n",
    "    num_batches = 0\n",
    "    h = torch.zeros(1, bs, hidden_size).to(device)\n",
    "    c = torch.zeros(1, bs, hidden_size).to(device)\n",
    "    for count in range(0, len(test_data)-seq_length, seq_length):\n",
    "        minibatch_data =  test_data [count  : count+seq_length  ].to(device)\n",
    "        minibatch_label = test_data[count+1: count+seq_length+1].to(device)\n",
    "        \n",
    "        scores, h, c = net(minibatch_data, h, c)\n",
    "        \n",
    "        scores          = scores.view(bs*seq_length, vocab_size)\n",
    "        minibatch_label = minibatch_label.view(bs*seq_length)\n",
    "        \n",
    "        loss = criterion(scores, minibatch_label)\n",
    "        \n",
    "        h = h.detach()\n",
    "        c = c.detach()\n",
    "        \n",
    "        running_loss += loss.detach().item()\n",
    "        num_batches += 1\n",
    "    total_loss = running_loss / num_batches\n",
    "    print(f\"=> test exp(loss): {math.exp(total_loss):.5f} \\n\")"
   ]
  },
  {
   "cell_type": "code",
   "execution_count": null,
   "metadata": {},
   "outputs": [],
   "source": [
    "start=time.time()\n",
    "\n",
    "for epoch in range(8):\n",
    "    # divide the learning rate by 3 except after the first epoch\n",
    "    if epoch >= 2:\n",
    "        my_lr = my_lr / 3\n",
    "    # create a new optimizer at the beginning of each epoch: give the current learning rate.   \n",
    "    optimizer=torch.optim.SGD( net.parameters() , lr=my_lr )\n",
    "    \n",
    "    # set the running quatities to zero at the beginning of the epoch\n",
    "    running_loss=0\n",
    "    num_batches=0    \n",
    "\n",
    "    # set the initial h and c to be the zero vector\n",
    "    h = torch.zeros(1, bs, hidden_size).to(device)\n",
    "    c = torch.zeros(1, bs, hidden_size).to(device)\n",
    "    \n",
    "    for count in range(0 , len(train_data)-seq_length, seq_length):\n",
    "        optimizer.zero_grad()\n",
    "        \n",
    "        # create a minibatch\n",
    "        minibatch_data =  train_data[count  :count+seq_length  ].to(device)\n",
    "        minibatch_label = train_data[count+1:count+seq_length+1].to(device)        \n",
    "        \n",
    "        h=h.detach()\n",
    "        c=c.detach()\n",
    "        h=h.requires_grad_()\n",
    "        c=c.requires_grad_()\n",
    "                       \n",
    "        # forward the minibatch through the net        \n",
    "        scores, h, c = net(minibatch_data, h, c)\n",
    "        \n",
    "        scores          =  scores.view(bs*seq_length, vocab_size)  \n",
    "        minibatch_label =  minibatch_label.view(bs*seq_length)       \n",
    "        loss = criterion(scores, minibatch_label)\n",
    "        loss.backward()\n",
    "\n",
    "        utils.normalize_gradient(net)\n",
    "        optimizer.step()\n",
    "        \n",
    "        running_loss += loss.detach().item()\n",
    "        num_batches += 1\n",
    "        \n",
    "    # compute stats for the full training set\n",
    "    total_loss = running_loss/num_batches\n",
    "    elapsed = (time.time()-start)/60\n",
    "    \n",
    "    print(f\"epoch={epoch}, time={elapsed:.5f} min, exp(loss)={math.exp(total_loss):.5f} lr={my_lr:.5f}\")\n",
    "    eval_on_test_set() "
   ]
  },
  {
   "cell_type": "code",
   "execution_count": null,
   "metadata": {},
   "outputs": [],
   "source": [
    "mysentence = sentence6\n",
    "test_sen = utils.sentence2vector(mysentence).to(device)\n",
    "h = torch.zeros(1, 1, hidden_size).to(device)\n",
    "c = torch.zeros(1, 1, hidden_size).to(device)\n",
    "scores , h, c = net(test_sen , h, c)\n",
    "print(mysentence, '... \\n')\n",
    "utils.show_next_word(scores)"
   ]
  },
  {
   "cell_type": "markdown",
   "metadata": {},
   "source": [
    "## 6.4 [Additional] Bidirectional LSTM (BiLSTM) WEIRD"
   ]
  },
  {
   "cell_type": "code",
   "execution_count": null,
   "metadata": {},
   "outputs": [],
   "source": [
    "bs = 20\n",
    "vocab_size = 10000\n",
    "hidden_size = 200"
   ]
  },
  {
   "cell_type": "code",
   "execution_count": null,
   "metadata": {},
   "outputs": [],
   "source": [
    "class BiLSTM(nn.Module):\n",
    "    def __init__(self, vocab_size, hidden_size, num_layers, num_classes):\n",
    "        super().__init__()\n",
    "        self.layer1 = nn.Embedding(vocab_size, hidden_size)\n",
    "        self.layer2 = nn.LSTM(hidden_size, hidden_size, num_layers=num_layers, bidirectional=True)\n",
    "        self.layer3 = nn.Linear(hidden_size*2, num_classes) # bidirectional\n",
    "        \n",
    "    def forward(self, word_seq, h_init, c_init):\n",
    "        g_seq                 = self.layer1(word_seq)\n",
    "        h_seq, (h_out, c_out) = self.layer2(g_seq, (h_init, c_init))\n",
    "        score_seq             = self.layer3(h_seq)\n",
    "        return score_seq, h_out, c_out"
   ]
  },
  {
   "cell_type": "code",
   "execution_count": null,
   "metadata": {},
   "outputs": [],
   "source": [
    "net = BiLSTM(vocab_size, hidden_size, 1, vocab_size).to(device)\n",
    "print(net)\n",
    "utils.display_num_param(net)\n",
    "net.layer1.weight.data.uniform_(-0.1, 0.1)\n",
    "net.layer3.weight.data.uniform_(-0.1, 0.1)\n",
    "print('')"
   ]
  },
  {
   "cell_type": "code",
   "execution_count": null,
   "metadata": {},
   "outputs": [],
   "source": [
    "criterion = nn.CrossEntropyLoss()\n",
    "my_lr = 5\n",
    "seq_length = 35"
   ]
  },
  {
   "cell_type": "code",
   "execution_count": null,
   "metadata": {},
   "outputs": [],
   "source": [
    "def eval_on_test_set():\n",
    "    running_loss = 0\n",
    "    num_batches = 0\n",
    "    h = torch.zeros(2, bs, hidden_size).to(device) # bidirectional\n",
    "    c = torch.zeros(2, bs, hidden_size).to(device) # bidirectional\n",
    "    for count in range(0, len(test_data)-seq_length, seq_length):\n",
    "        minibatch_data =  test_data [count  : count+seq_length  ].to(device)\n",
    "        minibatch_label = test_data[count+1: count+seq_length+1].to(device)\n",
    "        \n",
    "        scores, h, c = net(minibatch_data, h, c)\n",
    "        \n",
    "        scores          = scores.view(bs*seq_length, vocab_size)\n",
    "        minibatch_label = minibatch_label.view(bs*seq_length)\n",
    "        \n",
    "        loss = criterion(scores, minibatch_label)\n",
    "        \n",
    "        h = h.detach()\n",
    "        c = c.detach()\n",
    "        \n",
    "        running_loss += loss.detach().item()\n",
    "        num_batches += 1\n",
    "    \n",
    "    set_trace()\n",
    "    total_loss = running_loss / num_batches\n",
    "    print(f\"=> test exp(loss): {math.exp(total_loss):.5f} \\n\")"
   ]
  },
  {
   "cell_type": "code",
   "execution_count": null,
   "metadata": {},
   "outputs": [],
   "source": [
    "start=time.time()\n",
    "\n",
    "for epoch in range(8):\n",
    "    # divide the learning rate by 3 except after the first epoch\n",
    "    if epoch >= 2:\n",
    "        my_lr = my_lr / 3\n",
    "    # create a new optimizer at the beginning of each epoch: give the current learning rate.   \n",
    "    optimizer=torch.optim.SGD( net.parameters() , lr=my_lr )\n",
    "    \n",
    "    # set the running quatities to zero at the beginning of the epoch\n",
    "    running_loss=0\n",
    "    num_batches=0    \n",
    "\n",
    "    # set the initial h and c to be the zero vector\n",
    "    h = torch.zeros(2, bs, hidden_size).to(device) # bidirectional\n",
    "    c = torch.zeros(2, bs, hidden_size).to(device) # bidirectional\n",
    "    \n",
    "    for count in range(0 , len(train_data)-seq_length, seq_length):\n",
    "        optimizer.zero_grad()\n",
    "        \n",
    "        # create a minibatch\n",
    "        minibatch_data =  train_data[count  :count+seq_length  ].to(device)\n",
    "        minibatch_label = train_data[count+1:count+seq_length+1].to(device)        \n",
    "        \n",
    "        h=h.detach()\n",
    "        c=c.detach()\n",
    "        h=h.requires_grad_()\n",
    "        c=c.requires_grad_()\n",
    "                       \n",
    "        # forward the minibatch through the net\n",
    "        scores, h, c = net(minibatch_data, h, c)\n",
    "        \n",
    "        scores          =  scores.view(bs*seq_length, vocab_size)  \n",
    "        minibatch_label =  minibatch_label.view(bs*seq_length)       \n",
    "        loss = criterion(scores, minibatch_label)\n",
    "        loss.backward()\n",
    "\n",
    "        utils.normalize_gradient(net)\n",
    "        optimizer.step()\n",
    "        \n",
    "        running_loss += loss.detach().item()\n",
    "        num_batches += 1\n",
    "        \n",
    "    # compute stats for the full training set\n",
    "    total_loss = running_loss/num_batches\n",
    "    elapsed = (time.time()-start)/60\n",
    "    \n",
    "    print(f\"epoch={epoch}, time={elapsed:.5f} min, exp(loss)={math.exp(total_loss):.5f} lr={my_lr:.5f}\")\n",
    "    eval_on_test_set() "
   ]
  },
  {
   "cell_type": "code",
   "execution_count": null,
   "metadata": {},
   "outputs": [],
   "source": [
    "mysentence = sentence6\n",
    "test_sen = utils.sentence2vector(mysentence).to(device)\n",
    "h = torch.zeros(2, 1, hidden_size).to(device)\n",
    "c = torch.zeros(2, 1, hidden_size).to(device)\n",
    "scores , h, c = net(test_sen , h, c)\n",
    "print(mysentence, '... \\n')\n",
    "utils.show_next_word(scores)"
   ]
  },
  {
   "cell_type": "code",
   "execution_count": null,
   "metadata": {},
   "outputs": [],
   "source": []
  }
 ],
 "metadata": {
  "kernelspec": {
   "display_name": "Python 3",
   "language": "python",
   "name": "python3"
  },
  "language_info": {
   "codemirror_mode": {
    "name": "ipython",
    "version": 3
   },
   "file_extension": ".py",
   "mimetype": "text/x-python",
   "name": "python",
   "nbconvert_exporter": "python",
   "pygments_lexer": "ipython3",
   "version": "3.6.10"
  }
 },
 "nbformat": 4,
 "nbformat_minor": 4
}
