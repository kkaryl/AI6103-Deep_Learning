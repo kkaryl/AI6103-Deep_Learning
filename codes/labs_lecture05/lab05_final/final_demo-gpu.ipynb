{
 "cells": [
  {
   "cell_type": "markdown",
   "metadata": {},
   "source": [
    "# Lab 05 : Final code -- demo"
   ]
  },
  {
   "cell_type": "code",
   "execution_count": 1,
   "metadata": {},
   "outputs": [],
   "source": [
    "# For Google Colaboratory\n",
    "import sys, os\n",
    "if 'google.colab' in sys.modules:\n",
    "    # mount google drive\n",
    "    from google.colab import drive\n",
    "    drive.mount('/content/gdrive')\n",
    "    # find automatically the path of the folder containing \"file_name\" :\n",
    "    file_name = 'final_demo.ipynb'\n",
    "    import subprocess\n",
    "    path_to_file = subprocess.check_output('find . -type f -name ' + str(file_name), shell=True).decode(\"utf-8\")\n",
    "    path_to_file = path_to_file.replace(file_name,\"\").replace('\\n',\"\")\n",
    "    # if previous search failed or too long, comment the previous line and simply write down manually the path below :\n",
    "    #path_to_file = '/content/gdrive/My Drive/AI6103_2020_codes/codes/labs_lecture05/lab05_final'\n",
    "    print(path_to_file)\n",
    "    # change current path to the folder containing \"file_name\"\n",
    "    os.chdir(path_to_file)\n",
    "    !pwd\n",
    "    "
   ]
  },
  {
   "cell_type": "code",
   "execution_count": 2,
   "metadata": {},
   "outputs": [],
   "source": [
    "import torch\n",
    "import torch.nn as nn\n",
    "import torch.nn.functional as F\n",
    "import torch.optim as optim\n",
    "from random import randint\n",
    "import time\n",
    "import utils"
   ]
  },
  {
   "cell_type": "markdown",
   "metadata": {},
   "source": [
    "### Download the data"
   ]
  },
  {
   "cell_type": "code",
   "execution_count": 3,
   "metadata": {},
   "outputs": [],
   "source": [
    "from utils import check_mnist_dataset_exists\n",
    "data_path=check_mnist_dataset_exists()\n",
    "\n",
    "train_data=torch.load(data_path+'mnist/train_data.pt')\n",
    "train_label=torch.load(data_path+'mnist/train_label.pt')\n",
    "test_data=torch.load(data_path+'mnist/test_data.pt')\n",
    "test_label=torch.load(data_path+'mnist/test_label.pt')"
   ]
  },
  {
   "cell_type": "markdown",
   "metadata": {},
   "source": [
    "### Make a one layer net class. "
   ]
  },
  {
   "cell_type": "code",
   "execution_count": 4,
   "metadata": {},
   "outputs": [],
   "source": [
    "class one_layer_net(nn.Module):\n",
    "\n",
    "    def __init__(self, input_size, output_size):\n",
    "        super(one_layer_net , self).__init__()\n",
    "        self.linear_layer = nn.Linear( input_size, output_size , bias=False)\n",
    "        \n",
    "    def forward(self, x):\n",
    "        scores = self.linear_layer(x)\n",
    "        return scores"
   ]
  },
  {
   "cell_type": "markdown",
   "metadata": {},
   "source": [
    "### Build the net"
   ]
  },
  {
   "cell_type": "code",
   "execution_count": 5,
   "metadata": {},
   "outputs": [
    {
     "name": "stdout",
     "output_type": "stream",
     "text": [
      "cuda:0\n"
     ]
    }
   ],
   "source": [
    "device = torch.device(\"cuda:0\" if torch.cuda.is_available() else \"cpu\")\n",
    "print(device)"
   ]
  },
  {
   "cell_type": "code",
   "execution_count": 6,
   "metadata": {},
   "outputs": [
    {
     "name": "stdout",
     "output_type": "stream",
     "text": [
      "one_layer_net(\n",
      "  (linear_layer): Linear(in_features=784, out_features=10, bias=False)\n",
      ")\n",
      "There are 7840 (0.01 million) parameters in this neural network\n"
     ]
    }
   ],
   "source": [
    "net=one_layer_net(784,10).to(device)\n",
    "\n",
    "print(net)\n",
    "utils.display_num_param(net)"
   ]
  },
  {
   "cell_type": "markdown",
   "metadata": {},
   "source": [
    "### Choose the criterion, batchsize"
   ]
  },
  {
   "cell_type": "code",
   "execution_count": 7,
   "metadata": {},
   "outputs": [],
   "source": [
    "criterion = nn.CrossEntropyLoss()\n",
    "\n",
    "bs=200"
   ]
  },
  {
   "cell_type": "markdown",
   "metadata": {},
   "source": [
    "### Evaluate on test set"
   ]
  },
  {
   "cell_type": "code",
   "execution_count": 8,
   "metadata": {},
   "outputs": [],
   "source": [
    "def eval_on_test_set():\n",
    "\n",
    "    running_error=0\n",
    "    num_batches=0\n",
    "\n",
    "    for i in range(0,10000,bs):\n",
    "\n",
    "        minibatch_data =  test_data[i:i+bs].to(device)\n",
    "        minibatch_label= test_label[i:i+bs].to(device)\n",
    "\n",
    "        inputs = minibatch_data.view(bs,784)\n",
    "\n",
    "        scores=net( inputs ) \n",
    "\n",
    "        error = utils.get_error( scores.detach() , minibatch_label)\n",
    "\n",
    "        running_error += error.detach().item()\n",
    "\n",
    "        num_batches+=1\n",
    "\n",
    "\n",
    "    total_error = running_error/num_batches\n",
    "    print( 'test error  = ', total_error*100 ,'percent')"
   ]
  },
  {
   "cell_type": "markdown",
   "metadata": {},
   "source": [
    "### Training loop"
   ]
  },
  {
   "cell_type": "code",
   "execution_count": 9,
   "metadata": {},
   "outputs": [
    {
     "name": "stdout",
     "output_type": "stream",
     "text": [
      " \n",
      "epoch= 0  time= 0.7847700119018555  loss= 0.8280381797750791  error= 17.510001957416534 percent lr= 0.05\n",
      "test error  =  12.1600022315979 percent\n",
      " \n",
      "epoch= 10  time= 4.720731258392334  loss= 0.33110092515746753  error= 9.20500228802363 percent lr= 0.05\n",
      "test error  =  8.730002164840698 percent\n",
      " \n",
      "epoch= 20  time= 8.857816457748413  loss= 0.30624353741606075  error= 8.49166907866796 percent lr= 0.03333333333333333\n",
      "test error  =  8.250002264976501 percent\n",
      " \n",
      "epoch= 30  time= 12.784629583358765  loss= 0.29765402351816495  error= 8.29000210762024 percent lr= 0.022222222222222223\n",
      "test error  =  8.050002336502075 percent\n",
      " \n",
      "epoch= 40  time= 16.756565809249878  loss= 0.29344675833980244  error= 8.151668945948282 percent lr= 0.014814814814814815\n",
      "test error  =  7.940002202987671 percent\n",
      " \n",
      "epoch= 50  time= 20.679675340652466  loss= 0.29102662255366646  error= 8.041668891906738 percent lr= 0.009876543209876543\n",
      "test error  =  7.980002164840698 percent\n",
      " \n",
      "epoch= 60  time= 25.20668387413025  loss= 0.289566647062699  error= 8.023335377375284 percent lr= 0.006584362139917695\n",
      "test error  =  7.940002083778381 percent\n",
      " \n",
      "epoch= 70  time= 30.089550971984863  loss= 0.28863253141442935  error= 8.008335610230764 percent lr= 0.0043895747599451305\n",
      "test error  =  7.940002083778381 percent\n",
      " \n",
      "epoch= 80  time= 34.17543601989746  loss= 0.28805191497008004  error= 7.990002115567525 percent lr= 0.0029263831732967535\n",
      "test error  =  7.91000211238861 percent\n",
      " \n",
      "epoch= 90  time= 38.837154150009155  loss= 0.28766710182030997  error= 7.976668834686279 percent lr= 0.001950922115531169\n",
      "test error  =  7.91000211238861 percent\n",
      " \n",
      "epoch= 100  time= 43.639498710632324  loss= 0.2874131159981092  error= 7.953335543473562 percent lr= 0.001300614743687446\n",
      "test error  =  7.91000211238861 percent\n",
      " \n",
      "epoch= 110  time= 48.813459157943726  loss= 0.2872453599671523  error= 7.956668814023336 percent lr= 0.0008670764957916306\n",
      "test error  =  7.91000211238861 percent\n",
      " \n",
      "epoch= 120  time= 52.830403566360474  loss= 0.28713486654063064  error= 7.955002148946126 percent lr= 0.0005780509971944203\n",
      "test error  =  7.91000211238861 percent\n",
      " \n",
      "epoch= 130  time= 56.79051351547241  loss= 0.2870610843102137  error= 7.951668818791707 percent lr= 0.0003853673314629469\n",
      "test error  =  7.91000211238861 percent\n",
      " \n",
      "epoch= 140  time= 60.70146727561951  loss= 0.287012315094471  error= 7.9383354385693865 percent lr= 0.00025691155430863124\n",
      "test error  =  7.91000211238861 percent\n",
      " \n",
      "epoch= 150  time= 64.63055634498596  loss= 0.28697979405522345  error= 7.940002183119456 percent lr= 0.0001712743695390875\n",
      "test error  =  7.91000211238861 percent\n",
      " \n",
      "epoch= 160  time= 68.81318354606628  loss= 0.2869580711424351  error= 7.9400022228558855 percent lr= 0.00011418291302605833\n",
      "test error  =  7.91000211238861 percent\n",
      " \n",
      "epoch= 170  time= 73.68955516815186  loss= 0.2869436835249265  error= 7.938335498174032 percent lr= 7.612194201737223e-05\n",
      "test error  =  7.91000211238861 percent\n",
      " \n",
      "epoch= 180  time= 77.69948601722717  loss= 0.28693419203162196  error= 7.940002262592316 percent lr= 5.074796134491482e-05\n",
      "test error  =  7.91000211238861 percent\n",
      " \n",
      "epoch= 190  time= 81.74131965637207  loss= 0.2869278923670451  error= 7.938335478305817 percent lr= 3.3831974229943214e-05\n",
      "test error  =  7.91000211238861 percent\n"
     ]
    }
   ],
   "source": [
    "start = time.time()\n",
    "\n",
    "lr = 0.05 # initial learning rate\n",
    "\n",
    "for epoch in range(200):\n",
    "    \n",
    "    # learning rate strategy : divide the learning rate by 1.5 every 10 epochs\n",
    "    if epoch%10==0 and epoch>10: \n",
    "        lr = lr / 1.5\n",
    "    \n",
    "    # create a new optimizer at the beginning of each epoch: give the current learning rate.   \n",
    "    optimizer=torch.optim.SGD( net.parameters() , lr=lr )\n",
    "        \n",
    "    running_loss=0\n",
    "    running_error=0\n",
    "    num_batches=0\n",
    "    \n",
    "    shuffled_indices=torch.randperm(60000)\n",
    " \n",
    "    for count in range(0,60000,bs):\n",
    "        \n",
    "        # forward and backward pass\n",
    "    \n",
    "        optimizer.zero_grad()\n",
    "        \n",
    "        indices=shuffled_indices[count:count+bs]\n",
    "        minibatch_data = train_data[indices].to(device)\n",
    "        minibatch_label= train_label[indices].to(device)\n",
    "\n",
    "        inputs = minibatch_data.view(bs,784)\n",
    "\n",
    "        inputs.requires_grad_()\n",
    "\n",
    "        scores=net( inputs ) \n",
    "\n",
    "        loss =  criterion( scores , minibatch_label) \n",
    "        \n",
    "        loss.backward()\n",
    "\n",
    "        optimizer.step()\n",
    "        \n",
    "        \n",
    "        # compute some stats\n",
    "        \n",
    "        running_loss += loss.detach().item()\n",
    "               \n",
    "        error = utils.get_error( scores.detach() , minibatch_label)\n",
    "        running_error += error.detach().item()\n",
    "        \n",
    "        num_batches+=1\n",
    "    \n",
    "    \n",
    "    # once the epoch is finished we divide the \"running quantities\"\n",
    "    # by the number of batches\n",
    "    \n",
    "    total_loss = running_loss/num_batches\n",
    "    total_error = running_error/num_batches\n",
    "    elapsed_time = time.time() - start\n",
    "    \n",
    "    # every 10 epoch we display the stats \n",
    "    # and compute the error rate on the test set  \n",
    "    \n",
    "    if epoch % 10 == 0 : \n",
    "    \n",
    "        print(' ')\n",
    "        \n",
    "        print('epoch=',epoch, ' time=', elapsed_time,\n",
    "              ' loss=', total_loss , ' error=', total_error*100 ,'percent lr=', lr)\n",
    "        \n",
    "        eval_on_test_set()\n",
    "               "
   ]
  },
  {
   "cell_type": "markdown",
   "metadata": {},
   "source": [
    "### Choose image at random from the test set and see how good/bad are the predictions"
   ]
  },
  {
   "cell_type": "code",
   "execution_count": 11,
   "metadata": {},
   "outputs": [
    {
     "data": {
      "image/png": "[encoded data removed]",
      "text/plain": [
       "<Figure size 640x480 with 1 Axes>"
      ]
     },
     "metadata": {},
     "output_type": "display_data"
    },
    {
     "data": {
      "image/png": "[encoded data removed]",
      "text/plain": [
       "<Figure size 640x480 with 1 Axes>"
      ]
     },
     "metadata": {},
     "output_type": "display_data"
    }
   ],
   "source": [
    "# choose a picture at random\n",
    "idx=randint(0, 10000-1)\n",
    "im=test_data[idx]\n",
    "\n",
    "# diplay the picture\n",
    "utils.show(im)\n",
    "\n",
    "# feed it to the net and display the confidence scores\n",
    "scores =  net( im.view(1,784)) \n",
    "probs= F.softmax(scores, dim=1)\n",
    "utils.show_prob_mnist(probs)"
   ]
  },
  {
   "cell_type": "code",
   "execution_count": null,
   "metadata": {},
   "outputs": [],
   "source": []
  }
 ],
 "metadata": {
  "kernelspec": {
   "display_name": "Python 3",
   "language": "python",
   "name": "python3"
  },
  "language_info": {
   "codemirror_mode": {
    "name": "ipython",
    "version": 3
   },
   "file_extension": ".py",
   "mimetype": "text/x-python",
   "name": "python",
   "nbconvert_exporter": "python",
   "pygments_lexer": "ipython3",
   "version": "3.6.10"
  }
 },
 "nbformat": 4,
 "nbformat_minor": 4
}
