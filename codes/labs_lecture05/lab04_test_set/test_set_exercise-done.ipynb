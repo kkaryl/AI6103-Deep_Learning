{
 "cells": [
  {
   "cell_type": "markdown",
   "metadata": {},
   "source": [
    "# Lab 04 : Test set evaluation -- exercise"
   ]
  },
  {
   "cell_type": "code",
   "execution_count": 1,
   "metadata": {},
   "outputs": [],
   "source": [
    "# For Google Colaboratory\n",
    "import sys, os\n",
    "if 'google.colab' in sys.modules:\n",
    "    # mount google drive\n",
    "    from google.colab import drive\n",
    "    drive.mount('/content/gdrive')\n",
    "    # find automatically the path of the folder containing \"file_name\" :\n",
    "    file_name = 'test_set_exercise.ipynb'\n",
    "    import subprocess\n",
    "    path_to_file = subprocess.check_output('find . -type f -name ' + str(file_name), shell=True).decode(\"utf-8\")\n",
    "    path_to_file = path_to_file.replace(file_name,\"\").replace('\\n',\"\")\n",
    "    # if previous search failed or too long, comment the previous line and simply write down manually the path below :\n",
    "    #path_to_file = '/content/gdrive/My Drive/AI6103_2020_codes/codes/labs_lecture05/lab04_test_set'\n",
    "    print(path_to_file)\n",
    "    # change current path to the folder containing \"file_name\"\n",
    "    os.chdir(path_to_file)\n",
    "    !pwd\n",
    "    "
   ]
  },
  {
   "cell_type": "code",
   "execution_count": 2,
   "metadata": {},
   "outputs": [],
   "source": [
    "import torch\n",
    "import torch.nn as nn\n",
    "import torch.nn.functional as F\n",
    "import torch.optim as optim\n",
    "from random import randint\n",
    "import utils"
   ]
  },
  {
   "cell_type": "markdown",
   "metadata": {},
   "source": [
    "### Download the CIFAR dataset -- check the size carefully!"
   ]
  },
  {
   "cell_type": "code",
   "execution_count": 3,
   "metadata": {},
   "outputs": [
    {
     "name": "stdout",
     "output_type": "stream",
     "text": [
      "torch.Size([50000, 3, 32, 32])\n"
     ]
    }
   ],
   "source": [
    "from utils import check_cifar_dataset_exists\n",
    "data_path=check_cifar_dataset_exists()\n",
    "\n",
    "train_data=torch.load(data_path+'cifar/train_data.pt')\n",
    "train_label=torch.load(data_path+'cifar/train_label.pt')\n",
    "test_data=torch.load(data_path+'cifar/test_data.pt')\n",
    "test_label=torch.load(data_path+'cifar/test_label.pt')\n",
    "\n",
    "print(train_data.size())"
   ]
  },
  {
   "cell_type": "markdown",
   "metadata": {},
   "source": [
    "### Make a ONE layer net class. "
   ]
  },
  {
   "cell_type": "code",
   "execution_count": 4,
   "metadata": {},
   "outputs": [],
   "source": [
    "class one_layer_net(nn.Module):\n",
    "\n",
    "    def __init__(self, input_size, output_size):\n",
    "        super(one_layer_net , self).__init__()\n",
    "        self.linear_layer = nn.Linear( input_size, output_size , bias=True)\n",
    "        \n",
    "    def forward(self, x):\n",
    "        scores = self.linear_layer(x)\n",
    "        return scores"
   ]
  },
  {
   "cell_type": "markdown",
   "metadata": {},
   "source": [
    "### Build the net. "
   ]
  },
  {
   "cell_type": "code",
   "execution_count": 5,
   "metadata": {},
   "outputs": [
    {
     "name": "stdout",
     "output_type": "stream",
     "text": [
      "one_layer_net(\n",
      "  (linear_layer): Linear(in_features=3072, out_features=10, bias=True)\n",
      ")\n"
     ]
    }
   ],
   "source": [
    "net=one_layer_net(3072,10)\n",
    "print(net)"
   ]
  },
  {
   "cell_type": "markdown",
   "metadata": {},
   "source": [
    "### Choose the criterion and optimizer. Also choose:\n"
   ]
  },
  {
   "cell_type": "code",
   "execution_count": 6,
   "metadata": {},
   "outputs": [],
   "source": [
    "criterion = nn.CrossEntropyLoss()\n",
    "optimizer=torch.optim.SGD( net.parameters() , lr=0.01 )\n",
    "bs=20"
   ]
  },
  {
   "cell_type": "markdown",
   "metadata": {},
   "source": [
    "### Do 50 passes through the training set."
   ]
  },
  {
   "cell_type": "code",
   "execution_count": 7,
   "metadata": {},
   "outputs": [
    {
     "name": "stdout",
     "output_type": "stream",
     "text": [
      "epoch= 0 \t loss= 1.9574754604816438 \t error= 69.52999995231627 percent\n",
      "epoch= 1 \t loss= 1.8627463012695313 \t error= 65.35599997520447 percent\n",
      "epoch= 2 \t loss= 1.8314529631137848 \t error= 63.9479999423027 percent\n",
      "epoch= 3 \t loss= 1.818766708278656 \t error= 63.15399993181229 percent\n",
      "epoch= 4 \t loss= 1.8062574334621428 \t error= 62.86000001907348 percent\n",
      "epoch= 5 \t loss= 1.7972621258258819 \t error= 62.60199995994567 percent\n",
      "epoch= 6 \t loss= 1.7907009477615357 \t error= 62.07999996185303 percent\n",
      "epoch= 7 \t loss= 1.783532154607773 \t error= 61.89200000524521 percent\n",
      "epoch= 8 \t loss= 1.7800080544471741 \t error= 61.697999944686885 percent\n",
      "epoch= 9 \t loss= 1.7731269805908203 \t error= 61.37400001287461 percent\n",
      "epoch= 10 \t loss= 1.7685934644222259 \t error= 61.139999992847436 percent\n",
      "epoch= 11 \t loss= 1.7627871175289154 \t error= 60.7560000705719 percent\n",
      "epoch= 12 \t loss= 1.763217049241066 \t error= 60.991999936103824 percent\n",
      "epoch= 13 \t loss= 1.7562050785779952 \t error= 60.69599999427795 percent\n",
      "epoch= 14 \t loss= 1.7588765481948851 \t error= 60.89399999141693 percent\n",
      "epoch= 15 \t loss= 1.7535433086633683 \t error= 60.376000020503994 percent\n",
      "epoch= 16 \t loss= 1.7492435155153274 \t error= 60.354000101089476 percent\n",
      "epoch= 17 \t loss= 1.7511523034095764 \t error= 60.29400004148483 percent\n",
      "epoch= 18 \t loss= 1.7474517489910126 \t error= 60.34199998140335 percent\n",
      "epoch= 19 \t loss= 1.7471836604595183 \t error= 60.26000001907349 percent\n",
      "epoch= 20 \t loss= 1.7418225582122804 \t error= 59.96799993753433 percent\n",
      "epoch= 21 \t loss= 1.7423366188049316 \t error= 59.993999989032744 percent\n",
      "epoch= 22 \t loss= 1.740659177184105 \t error= 60.16799998283386 percent\n",
      "epoch= 23 \t loss= 1.7361132682323457 \t error= 59.91999997138977 percent\n",
      "epoch= 24 \t loss= 1.738095464015007 \t error= 59.88400002241134 percent\n",
      "epoch= 25 \t loss= 1.7336620643377305 \t error= 59.72199992656708 percent\n",
      "epoch= 26 \t loss= 1.7356215555906296 \t error= 60.01000005722046 percent\n",
      "epoch= 27 \t loss= 1.7353728523254395 \t error= 59.6660000371933 percent\n",
      "epoch= 28 \t loss= 1.7315284266471862 \t error= 59.67800004482269 percent\n",
      "epoch= 29 \t loss= 1.730241843700409 \t error= 59.40400000810623 percent\n",
      "epoch= 30 \t loss= 1.7289732548236847 \t error= 59.55599999189377 percent\n",
      "epoch= 31 \t loss= 1.72535541844368 \t error= 59.343999979496 percent\n",
      "epoch= 32 \t loss= 1.7259058923959731 \t error= 59.697999989986414 percent\n",
      "epoch= 33 \t loss= 1.7282567222595215 \t error= 59.59199995279312 percent\n",
      "epoch= 34 \t loss= 1.72303841381073 \t error= 59.528000040054316 percent\n",
      "epoch= 35 \t loss= 1.7200369079351425 \t error= 59.255999963283536 percent\n",
      "epoch= 36 \t loss= 1.722997345161438 \t error= 59.1740000796318 percent\n",
      "epoch= 37 \t loss= 1.7186495334863663 \t error= 58.87600001573563 percent\n",
      "epoch= 38 \t loss= 1.719809162044525 \t error= 59.128000001907346 percent\n",
      "epoch= 39 \t loss= 1.720065403866768 \t error= 59.04399998188019 percent\n",
      "epoch= 40 \t loss= 1.718113499045372 \t error= 59.2720000076294 percent\n",
      "epoch= 41 \t loss= 1.716548719573021 \t error= 58.98600001573563 percent\n",
      "epoch= 42 \t loss= 1.7186935970067978 \t error= 58.967999961376194 percent\n",
      "epoch= 43 \t loss= 1.7172581619977951 \t error= 58.927999987602234 percent\n",
      "epoch= 44 \t loss= 1.712978798866272 \t error= 59.14200005292892 percent\n",
      "epoch= 45 \t loss= 1.7117786672592163 \t error= 58.78200004577637 percent\n",
      "epoch= 46 \t loss= 1.7131796629190446 \t error= 58.962000045776364 percent\n",
      "epoch= 47 \t loss= 1.713735400390625 \t error= 59.194000043869025 percent\n",
      "epoch= 48 \t loss= 1.708983165884018 \t error= 58.686000020504004 percent\n",
      "epoch= 49 \t loss= 1.7096543606996537 \t error= 58.87800001859665 percent\n"
     ]
    }
   ],
   "source": [
    "for epoch in range(50):\n",
    "    \n",
    "    running_loss=0\n",
    "    running_error=0\n",
    "    num_batches=0\n",
    "    \n",
    "    shuffled_indices=torch.randperm(50000)\n",
    " \n",
    "    for count in range(0,50000,bs):\n",
    "    \n",
    "        # Set the gradients to zeros\n",
    "        optimizer.zero_grad()\n",
    "        \n",
    "        # create a minibatch       \n",
    "        indices=shuffled_indices[count:count+bs]\n",
    "        minibatch_data =  train_data[indices]\n",
    "        minibatch_label= train_label[indices]\n",
    "\n",
    "        # reshape the minibatch\n",
    "        inputs = minibatch_data.view(bs,3072)\n",
    "\n",
    "        # tell Pytorch to start tracking all operations that will be done on \"inputs\"\n",
    "        inputs.requires_grad_()\n",
    "\n",
    "        # forward the minibatch through the net \n",
    "        scores=net( inputs ) \n",
    "\n",
    "        # Compute the average of the losses of the data points in the minibatch\n",
    "        loss =  criterion( scores , minibatch_label) \n",
    "        \n",
    "        # backward pass to compute dL/dU, dL/dV and dL/dW   \n",
    "        loss.backward()\n",
    "\n",
    "        # do one step of stochastic gradient descent: U=U-lr(dL/dU), V=V-lr(dL/dU), ...\n",
    "        optimizer.step()\n",
    "        \n",
    "        # START COMPUTING STATS\n",
    "        \n",
    "        # add the loss of this batch to the running loss\n",
    "        running_loss += loss.detach().item()\n",
    "        \n",
    "        # compute the error made on this batch and add it to the running error       \n",
    "        error = utils.get_error( scores.detach() , minibatch_label)\n",
    "        running_error += error.item()\n",
    "        \n",
    "        num_batches+=1\n",
    "    \n",
    "    \n",
    "    # compute stats for the full training set\n",
    "    total_loss = running_loss/num_batches\n",
    "    total_error = running_error/num_batches\n",
    "    \n",
    "    print('epoch=',epoch, '\\t loss=', total_loss , '\\t error=', total_error*100 ,'percent')\n",
    "        \n",
    "    "
   ]
  },
  {
   "cell_type": "markdown",
   "metadata": {},
   "source": [
    "# You only have to complete this cell"
   ]
  },
  {
   "cell_type": "markdown",
   "metadata": {},
   "source": [
    "### So we are doing around 59% error on the training set. BUT how much are we doing on test set?"
   ]
  },
  {
   "cell_type": "code",
   "execution_count": 10,
   "metadata": {},
   "outputs": [
    {
     "name": "stdout",
     "output_type": "stream",
     "text": [
      "error rate on test set = 61.67999997138976 percent\n"
     ]
    }
   ],
   "source": [
    "running_error= 0# COMPLETE HERE\n",
    "num_batches= 0# COMPLETE HERE\n",
    "\n",
    "for count in range(0, len(test_data), bs): # COMPLETE HERE\n",
    "\n",
    "    # extract the minibatch\n",
    "    minibatch_data = test_data[count:count+bs] # COMPLETE HERE\n",
    "    minibatch_label= test_label[count:count+bs]  # COMPLETE HERE\n",
    "\n",
    "    # reshape the minibatch\n",
    "    inputs = minibatch_data.view(bs, 3072) # COMPLETE HERE\n",
    "\n",
    "    # feed it to the network\n",
    "    scores= net(inputs) # COMPLETE HERE\n",
    "\n",
    "    # compute the error made on this batch\n",
    "    error = utils.get_error(scores, minibatch_label)# COMPLETE HERE\n",
    "    \n",
    "    # add it to the running error\n",
    "    running_error += error.detach().item() # COMPLETE HERE\n",
    "\n",
    "    num_batches += 1# COMPLETE HERE\n",
    "\n",
    "\n",
    "# compute error rate on the full test set\n",
    "total_error = running_error / num_batches# COMPLETE HERE\n",
    "\n",
    "print( 'error rate on test set =', total_error*100 ,'percent')"
   ]
  },
  {
   "cell_type": "markdown",
   "metadata": {},
   "source": [
    "### Choose image at random from the test set and see how good/bad are the predictions"
   ]
  },
  {
   "cell_type": "code",
   "execution_count": 11,
   "metadata": {},
   "outputs": [
    {
     "data": {
      "image/png": "[encoded data removed]",
      "text/plain": [
       "<Figure size 640x480 with 1 Axes>"
      ]
     },
     "metadata": {},
     "output_type": "display_data"
    },
    {
     "data": {
      "image/png": "[encoded data removed]",
      "text/plain": [
       "<Figure size 640x480 with 1 Axes>"
      ]
     },
     "metadata": {},
     "output_type": "display_data"
    }
   ],
   "source": [
    "# choose a picture at random\n",
    "idx=randint(0, 10000-1)\n",
    "im=test_data[idx]\n",
    "\n",
    "# diplay the picture\n",
    "utils.show(im)\n",
    "\n",
    "# feed it to the net and display the confidence scores\n",
    "scores =  net( im.view(1,3072)) \n",
    "probs= F.softmax(scores, dim=1)\n",
    "utils.show_prob_cifar(probs)"
   ]
  },
  {
   "cell_type": "code",
   "execution_count": null,
   "metadata": {},
   "outputs": [],
   "source": []
  },
  {
   "cell_type": "code",
   "execution_count": null,
   "metadata": {},
   "outputs": [],
   "source": []
  }
 ],
 "metadata": {
  "kernelspec": {
   "display_name": "Python 3",
   "language": "python",
   "name": "python3"
  },
  "language_info": {
   "codemirror_mode": {
    "name": "ipython",
    "version": 3
   },
   "file_extension": ".py",
   "mimetype": "text/x-python",
   "name": "python",
   "nbconvert_exporter": "python",
   "pygments_lexer": "ipython3",
   "version": "3.6.10"
  }
 },
 "nbformat": 4,
 "nbformat_minor": 4
}
