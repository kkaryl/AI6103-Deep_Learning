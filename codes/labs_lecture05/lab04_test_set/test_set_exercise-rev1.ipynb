{
 "cells": [
  {
   "cell_type": "markdown",
   "metadata": {},
   "source": [
    "# Lab 04 : Test set evaluation -- exercise"
   ]
  },
  {
   "cell_type": "code",
   "execution_count": 1,
   "metadata": {},
   "outputs": [],
   "source": [
    "# For Google Colaboratory\n",
    "import sys, os\n",
    "if 'google.colab' in sys.modules:\n",
    "    # mount google drive\n",
    "    from google.colab import drive\n",
    "    drive.mount('/content/gdrive')\n",
    "    # find automatically the path of the folder containing \"file_name\" :\n",
    "    file_name = 'test_set_exercise.ipynb'\n",
    "    import subprocess\n",
    "    path_to_file = subprocess.check_output('find . -type f -name ' + str(file_name), shell=True).decode(\"utf-8\")\n",
    "    path_to_file = path_to_file.replace(file_name,\"\").replace('\\n',\"\")\n",
    "    # if previous search failed or too long, comment the previous line and simply write down manually the path below :\n",
    "    #path_to_file = '/content/gdrive/My Drive/AI6103_2020_codes/codes/labs_lecture05/lab04_test_set'\n",
    "    print(path_to_file)\n",
    "    # change current path to the folder containing \"file_name\"\n",
    "    os.chdir(path_to_file)\n",
    "    !pwd\n",
    "    "
   ]
  },
  {
   "cell_type": "code",
   "execution_count": 2,
   "metadata": {},
   "outputs": [],
   "source": [
    "import torch\n",
    "import torch.nn as nn\n",
    "import torch.nn.functional as F\n",
    "import torch.optim as optim\n",
    "from random import randint\n",
    "import utils"
   ]
  },
  {
   "cell_type": "markdown",
   "metadata": {},
   "source": [
    "### Download the CIFAR dataset -- check the size carefully!"
   ]
  },
  {
   "cell_type": "code",
   "execution_count": 3,
   "metadata": {},
   "outputs": [
    {
     "name": "stdout",
     "output_type": "stream",
     "text": [
      "torch.Size([50000, 3, 32, 32])\n"
     ]
    }
   ],
   "source": [
    "from utils import check_cifar_dataset_exists\n",
    "data_path=check_cifar_dataset_exists()\n",
    "\n",
    "train_data=torch.load(data_path+'cifar/train_data.pt')\n",
    "train_label=torch.load(data_path+'cifar/train_label.pt')\n",
    "test_data=torch.load(data_path+'cifar/test_data.pt')\n",
    "test_label=torch.load(data_path+'cifar/test_label.pt')\n",
    "\n",
    "print(train_data.size())"
   ]
  },
  {
   "cell_type": "markdown",
   "metadata": {},
   "source": [
    "### Make a ONE layer net class. "
   ]
  },
  {
   "cell_type": "code",
   "execution_count": 4,
   "metadata": {},
   "outputs": [],
   "source": [
    "class one_layer_net(nn.Module):\n",
    "\n",
    "    def __init__(self, input_size, output_size):\n",
    "        super(one_layer_net , self).__init__()\n",
    "        self.linear_layer = nn.Linear( input_size, output_size , bias=True)\n",
    "        \n",
    "    def forward(self, x):\n",
    "        scores = self.linear_layer(x)\n",
    "        return scores"
   ]
  },
  {
   "cell_type": "markdown",
   "metadata": {},
   "source": [
    "### Build the net. "
   ]
  },
  {
   "cell_type": "code",
   "execution_count": 5,
   "metadata": {},
   "outputs": [
    {
     "name": "stdout",
     "output_type": "stream",
     "text": [
      "one_layer_net(\n",
      "  (linear_layer): Linear(in_features=3072, out_features=10, bias=True)\n",
      ")\n"
     ]
    }
   ],
   "source": [
    "net=one_layer_net(3072,10)\n",
    "print(net)"
   ]
  },
  {
   "cell_type": "markdown",
   "metadata": {},
   "source": [
    "### Choose the criterion and optimizer. Also choose:\n"
   ]
  },
  {
   "cell_type": "code",
   "execution_count": 6,
   "metadata": {},
   "outputs": [],
   "source": [
    "criterion = nn.CrossEntropyLoss()\n",
    "optimizer=torch.optim.SGD( net.parameters() , lr=0.01 )\n",
    "bs=20"
   ]
  },
  {
   "cell_type": "markdown",
   "metadata": {},
   "source": [
    "### Do 50 passes through the training set."
   ]
  },
  {
   "cell_type": "code",
   "execution_count": 7,
   "metadata": {},
   "outputs": [
    {
     "name": "stdout",
     "output_type": "stream",
     "text": [
      "epoch= 0 \t loss= 1.9566585069179534 \t error= 69.44799997568131 percent\n",
      "epoch= 1 \t loss= 1.8643212467193604 \t error= 65.58199997901917 percent\n",
      "epoch= 2 \t loss= 1.8376761611938477 \t error= 64.06200001239777 percent\n",
      "epoch= 3 \t loss= 1.8205139737129212 \t error= 63.44199997901917 percent\n",
      "epoch= 4 \t loss= 1.806272627735138 \t error= 62.66599992513656 percent\n",
      "epoch= 5 \t loss= 1.7980770951747895 \t error= 62.49800002098084 percent\n",
      "epoch= 6 \t loss= 1.7890982235431672 \t error= 62.05599997282029 percent\n",
      "epoch= 7 \t loss= 1.7859139560699462 \t error= 61.757999935150146 percent\n",
      "epoch= 8 \t loss= 1.7773364035606385 \t error= 61.50399994850159 percent\n",
      "epoch= 9 \t loss= 1.7698616791963577 \t error= 61.069999995231626 percent\n",
      "epoch= 10 \t loss= 1.7706302048206328 \t error= 61.10199997901916 percent\n",
      "epoch= 11 \t loss= 1.7645679628133775 \t error= 60.934000020027156 percent\n",
      "epoch= 12 \t loss= 1.7592721388578414 \t error= 60.83000005960465 percent\n",
      "epoch= 13 \t loss= 1.7582629321098329 \t error= 60.72000001907348 percent\n",
      "epoch= 14 \t loss= 1.7551052714586257 \t error= 60.60199996948242 percent\n",
      "epoch= 15 \t loss= 1.754185590314865 \t error= 60.527999994754786 percent\n",
      "epoch= 16 \t loss= 1.7517613066673279 \t error= 60.582000038623804 percent\n",
      "epoch= 17 \t loss= 1.7495842741489411 \t error= 60.517999975681306 percent\n",
      "epoch= 18 \t loss= 1.74899320833683 \t error= 60.19800000667572 percent\n",
      "epoch= 19 \t loss= 1.7448469910144806 \t error= 60.223999984264374 percent\n",
      "epoch= 20 \t loss= 1.7462536150455474 \t error= 60.02400005340576 percent\n",
      "epoch= 21 \t loss= 1.7419912447929382 \t error= 60.38599997282028 percent\n",
      "epoch= 22 \t loss= 1.737367816543579 \t error= 59.778000030517575 percent\n",
      "epoch= 23 \t loss= 1.7401801560640335 \t error= 59.84400002479553 percent\n",
      "epoch= 24 \t loss= 1.7371450309038163 \t error= 59.96600005149841 percent\n",
      "epoch= 25 \t loss= 1.7331319687604905 \t error= 59.760000069141384 percent\n",
      "epoch= 26 \t loss= 1.7370540709733964 \t error= 59.92399999618531 percent\n",
      "epoch= 27 \t loss= 1.7322540755987168 \t error= 59.79399998903274 percent\n",
      "epoch= 28 \t loss= 1.7320352264881134 \t error= 59.69800000429153 percent\n",
      "epoch= 29 \t loss= 1.7309087409496307 \t error= 59.61399996042252 percent\n",
      "epoch= 30 \t loss= 1.7282850286245346 \t error= 59.61600003480911 percent\n",
      "epoch= 31 \t loss= 1.7274331421852112 \t error= 59.49999995231629 percent\n",
      "epoch= 32 \t loss= 1.724812063741684 \t error= 59.50800002098083 percent\n",
      "epoch= 33 \t loss= 1.726276712012291 \t error= 59.736000049114224 percent\n",
      "epoch= 34 \t loss= 1.7241861169338226 \t error= 59.30600008487702 percent\n",
      "epoch= 35 \t loss= 1.7221222341060638 \t error= 59.30999996185303 percent\n",
      "epoch= 36 \t loss= 1.7244581543922424 \t error= 59.38400000333785 percent\n",
      "epoch= 37 \t loss= 1.7184260239124298 \t error= 59.20200002908707 percent\n",
      "epoch= 38 \t loss= 1.7188519427061082 \t error= 58.92799996376038 percent\n",
      "epoch= 39 \t loss= 1.7205031863212585 \t error= 59.29800008773803 percent\n",
      "epoch= 40 \t loss= 1.7183122550487517 \t error= 59.26400002002716 percent\n",
      "epoch= 41 \t loss= 1.71800326693058 \t error= 59.26400003910065 percent\n",
      "epoch= 42 \t loss= 1.7139816155910492 \t error= 58.7160000371933 percent\n",
      "epoch= 43 \t loss= 1.7162439175605775 \t error= 58.932000050544744 percent\n",
      "epoch= 44 \t loss= 1.7173329107284545 \t error= 59.16800002336502 percent\n",
      "epoch= 45 \t loss= 1.7124029029607772 \t error= 58.93800005197525 percent\n",
      "epoch= 46 \t loss= 1.713178384065628 \t error= 59.04200002908707 percent\n",
      "epoch= 47 \t loss= 1.7181856261253357 \t error= 59.06000001907349 percent\n",
      "epoch= 48 \t loss= 1.7115951341152191 \t error= 59.068000061511995 percent\n",
      "epoch= 49 \t loss= 1.710225088262558 \t error= 58.734000008106236 percent\n"
     ]
    }
   ],
   "source": [
    "for epoch in range(50):\n",
    "    \n",
    "    running_loss=0\n",
    "    running_error=0\n",
    "    num_batches=0\n",
    "    \n",
    "    shuffled_indices=torch.randperm(50000)\n",
    " \n",
    "    for count in range(0,50000,bs):\n",
    "    \n",
    "        # Set the gradients to zeros\n",
    "        optimizer.zero_grad()\n",
    "        \n",
    "        # create a minibatch       \n",
    "        indices=shuffled_indices[count:count+bs]\n",
    "        minibatch_data =  train_data[indices]\n",
    "        minibatch_label= train_label[indices]\n",
    "\n",
    "        # reshape the minibatch\n",
    "        inputs = minibatch_data.view(bs,3072)\n",
    "\n",
    "        # tell Pytorch to start tracking all operations that will be done on \"inputs\"\n",
    "        inputs.requires_grad_()\n",
    "\n",
    "        # forward the minibatch through the net \n",
    "        scores=net( inputs ) \n",
    "\n",
    "        # Compute the average of the losses of the data points in the minibatch\n",
    "        loss =  criterion( scores , minibatch_label) \n",
    "        \n",
    "        # backward pass to compute dL/dU, dL/dV and dL/dW   \n",
    "        loss.backward()\n",
    "\n",
    "        # do one step of stochastic gradient descent: U=U-lr(dL/dU), V=V-lr(dL/dU), ...\n",
    "        optimizer.step()\n",
    "        \n",
    "        # START COMPUTING STATS\n",
    "        \n",
    "        # add the loss of this batch to the running loss\n",
    "        running_loss += loss.detach().item()\n",
    "        \n",
    "        # compute the error made on this batch and add it to the running error       \n",
    "        error = utils.get_error( scores.detach() , minibatch_label)\n",
    "        running_error += error.item()\n",
    "        \n",
    "        num_batches+=1\n",
    "    \n",
    "    \n",
    "    # compute stats for the full training set\n",
    "    total_loss = running_loss/num_batches\n",
    "    total_error = running_error/num_batches\n",
    "    \n",
    "    print('epoch=',epoch, '\\t loss=', total_loss , '\\t error=', total_error*100 ,'percent')\n",
    "        \n",
    "    "
   ]
  },
  {
   "cell_type": "markdown",
   "metadata": {},
   "source": [
    "# You only have to complete this cell"
   ]
  },
  {
   "cell_type": "markdown",
   "metadata": {},
   "source": [
    "### So we are doing around 59% error on the training set. BUT how much are we doing on test set?"
   ]
  },
  {
   "cell_type": "code",
   "execution_count": 8,
   "metadata": {},
   "outputs": [
    {
     "name": "stdout",
     "output_type": "stream",
     "text": [
      "error rate on test set = 64.87000010013581 percent\n"
     ]
    }
   ],
   "source": [
    "running_error= 0# COMPLETE HERE\n",
    "num_batches= 0# COMPLETE HERE\n",
    "\n",
    "\n",
    "for i in range(0, len(test_data), bs): # COMPLETE HERE\n",
    "\n",
    "    # extract the minibatch\n",
    "    minibatch_data = test_data[i:i+bs] # COMPLETE HERE\n",
    "    minibatch_label= test_label[i:i+bs] # COMPLETE HERE\n",
    "\n",
    "    # reshape the minibatch\n",
    "    inputs = minibatch_data.view(bs, 3072) # COMPLETE HERE\n",
    "\n",
    "    # feed it to the network\n",
    "    scores= net(inputs) # COMPLETE HERE\n",
    "\n",
    "    # compute the error made on this batch\n",
    "    error = utils.get_error(scores, minibatch_label) # COMPLETE HERE\n",
    "    \n",
    "    # add it to the running error\n",
    "    running_error += error.item() # COMPLETE HERE\n",
    "\n",
    "    num_batches += 1# COMPLETE HERE\n",
    "\n",
    "\n",
    "# compute error rate on the full test set\n",
    "total_error = running_error/ num_batches # COMPLETE HERE\n",
    "\n",
    "print( 'error rate on test set =', total_error*100 ,'percent')"
   ]
  },
  {
   "cell_type": "markdown",
   "metadata": {},
   "source": [
    "### Choose image at random from the test set and see how good/bad are the predictions"
   ]
  },
  {
   "cell_type": "code",
   "execution_count": 10,
   "metadata": {},
   "outputs": [
    {
     "data": {
      "image/png": "[encoded data removed]",
      "text/plain": [
       "<Figure size 640x480 with 1 Axes>"
      ]
     },
     "metadata": {},
     "output_type": "display_data"
    },
    {
     "data": {
      "image/png": "[encoded data removed]",
      "text/plain": [
       "<Figure size 640x480 with 1 Axes>"
      ]
     },
     "metadata": {},
     "output_type": "display_data"
    }
   ],
   "source": [
    "# choose a picture at random\n",
    "idx=randint(0, 10000-1)\n",
    "im=test_data[idx]\n",
    "\n",
    "# diplay the picture\n",
    "utils.show(im)\n",
    "\n",
    "# feed it to the net and display the confidence scores\n",
    "scores =  net( im.view(1,3072)) \n",
    "probs= F.softmax(scores, dim=1)\n",
    "utils.show_prob_cifar(probs)"
   ]
  },
  {
   "cell_type": "code",
   "execution_count": null,
   "metadata": {},
   "outputs": [],
   "source": []
  }
 ],
 "metadata": {
  "kernelspec": {
   "display_name": "Python 3",
   "language": "python",
   "name": "python3"
  },
  "language_info": {
   "codemirror_mode": {
    "name": "ipython",
    "version": 3
   },
   "file_extension": ".py",
   "mimetype": "text/x-python",
   "name": "python",
   "nbconvert_exporter": "python",
   "pygments_lexer": "ipython3",
   "version": "3.6.10"
  }
 },
 "nbformat": 4,
 "nbformat_minor": 4
}
