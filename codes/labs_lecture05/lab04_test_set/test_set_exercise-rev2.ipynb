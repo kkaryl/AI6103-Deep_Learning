{
 "cells": [
  {
   "cell_type": "markdown",
   "metadata": {},
   "source": [
    "# Lab 04 : Test set evaluation -- exercise"
   ]
  },
  {
   "cell_type": "code",
   "execution_count": 1,
   "metadata": {},
   "outputs": [],
   "source": [
    "# For Google Colaboratory\n",
    "import sys, os\n",
    "if 'google.colab' in sys.modules:\n",
    "    # mount google drive\n",
    "    from google.colab import drive\n",
    "    drive.mount('/content/gdrive')\n",
    "    # find automatically the path of the folder containing \"file_name\" :\n",
    "    file_name = 'test_set_exercise.ipynb'\n",
    "    import subprocess\n",
    "    path_to_file = subprocess.check_output('find . -type f -name ' + str(file_name), shell=True).decode(\"utf-8\")\n",
    "    path_to_file = path_to_file.replace(file_name,\"\").replace('\\n',\"\")\n",
    "    # if previous search failed or too long, comment the previous line and simply write down manually the path below :\n",
    "    #path_to_file = '/content/gdrive/My Drive/AI6103_2020_codes/codes/labs_lecture05/lab04_test_set'\n",
    "    print(path_to_file)\n",
    "    # change current path to the folder containing \"file_name\"\n",
    "    os.chdir(path_to_file)\n",
    "    !pwd\n",
    "    "
   ]
  },
  {
   "cell_type": "code",
   "execution_count": 2,
   "metadata": {},
   "outputs": [],
   "source": [
    "import torch\n",
    "import torch.nn as nn\n",
    "import torch.nn.functional as F\n",
    "import torch.optim as optim\n",
    "from random import randint\n",
    "import utils"
   ]
  },
  {
   "cell_type": "markdown",
   "metadata": {},
   "source": [
    "### Download the CIFAR dataset -- check the size carefully!"
   ]
  },
  {
   "cell_type": "code",
   "execution_count": 3,
   "metadata": {},
   "outputs": [
    {
     "name": "stdout",
     "output_type": "stream",
     "text": [
      "torch.Size([50000, 3, 32, 32])\n"
     ]
    }
   ],
   "source": [
    "from utils import check_cifar_dataset_exists\n",
    "data_path=check_cifar_dataset_exists()\n",
    "\n",
    "train_data=torch.load(data_path+'cifar/train_data.pt')\n",
    "train_label=torch.load(data_path+'cifar/train_label.pt')\n",
    "test_data=torch.load(data_path+'cifar/test_data.pt')\n",
    "test_label=torch.load(data_path+'cifar/test_label.pt')\n",
    "\n",
    "print(train_data.size())"
   ]
  },
  {
   "cell_type": "markdown",
   "metadata": {},
   "source": [
    "### Make a ONE layer net class. "
   ]
  },
  {
   "cell_type": "code",
   "execution_count": 4,
   "metadata": {},
   "outputs": [],
   "source": [
    "class one_layer_net(nn.Module):\n",
    "\n",
    "    def __init__(self, input_size, output_size):\n",
    "        super(one_layer_net , self).__init__()\n",
    "        self.linear_layer = nn.Linear( input_size, output_size , bias=True)\n",
    "        \n",
    "    def forward(self, x):\n",
    "        scores = self.linear_layer(x)\n",
    "        return scores"
   ]
  },
  {
   "cell_type": "markdown",
   "metadata": {},
   "source": [
    "### Build the net. "
   ]
  },
  {
   "cell_type": "code",
   "execution_count": 5,
   "metadata": {},
   "outputs": [
    {
     "name": "stdout",
     "output_type": "stream",
     "text": [
      "one_layer_net(\n",
      "  (linear_layer): Linear(in_features=3072, out_features=10, bias=True)\n",
      ")\n"
     ]
    }
   ],
   "source": [
    "net=one_layer_net(3072,10)\n",
    "print(net)"
   ]
  },
  {
   "cell_type": "markdown",
   "metadata": {},
   "source": [
    "### Choose the criterion and optimizer. Also choose:\n"
   ]
  },
  {
   "cell_type": "code",
   "execution_count": 6,
   "metadata": {},
   "outputs": [],
   "source": [
    "criterion = nn.CrossEntropyLoss()\n",
    "optimizer=torch.optim.SGD( net.parameters() , lr=0.01 )\n",
    "bs=20"
   ]
  },
  {
   "cell_type": "markdown",
   "metadata": {},
   "source": [
    "### Do 50 passes through the training set."
   ]
  },
  {
   "cell_type": "code",
   "execution_count": 7,
   "metadata": {},
   "outputs": [
    {
     "name": "stdout",
     "output_type": "stream",
     "text": [
      "epoch= 0 \t loss= 1.9605189810276031 \t error= 69.40599993467332 percent\n",
      "epoch= 1 \t loss= 1.8669871100425721 \t error= 65.42800002098083 percent\n",
      "epoch= 2 \t loss= 1.840102942276001 \t error= 64.41400000095368 percent\n",
      "epoch= 3 \t loss= 1.8176000174999236 \t error= 63.31999997377395 percent\n",
      "epoch= 4 \t loss= 1.80906091337204 \t error= 62.99399994134903 percent\n",
      "epoch= 5 \t loss= 1.7956272063732148 \t error= 62.43799993038177 percent\n",
      "epoch= 6 \t loss= 1.7910811400413513 \t error= 62.08399997234344 percent\n",
      "epoch= 7 \t loss= 1.7830081842422485 \t error= 61.85799993038178 percent\n",
      "epoch= 8 \t loss= 1.775926738500595 \t error= 61.598000020980834 percent\n",
      "epoch= 9 \t loss= 1.7734722761392594 \t error= 61.467999989986424 percent\n",
      "epoch= 10 \t loss= 1.769078086423874 \t error= 61.15799996852874 percent\n",
      "epoch= 11 \t loss= 1.763215611243248 \t error= 60.98000003099442 percent\n",
      "epoch= 12 \t loss= 1.7634915993452072 \t error= 61.14799997329712 percent\n",
      "epoch= 13 \t loss= 1.754645665049553 \t error= 60.62000006914139 percent\n",
      "epoch= 14 \t loss= 1.752859346151352 \t error= 60.58199995756149 percent\n",
      "epoch= 15 \t loss= 1.7527336805820466 \t error= 60.69600000143052 percent\n",
      "epoch= 16 \t loss= 1.7509073566436768 \t error= 60.367999951839444 percent\n",
      "epoch= 17 \t loss= 1.7497342119216919 \t error= 60.57799997329711 percent\n",
      "epoch= 18 \t loss= 1.7494373245716095 \t error= 60.25400000810623 percent\n",
      "epoch= 19 \t loss= 1.7456113391399384 \t error= 60.03000002622605 percent\n",
      "epoch= 20 \t loss= 1.742105550289154 \t error= 60.52599995136261 percent\n",
      "epoch= 21 \t loss= 1.7409571327209472 \t error= 60.04000003576279 percent\n",
      "epoch= 22 \t loss= 1.7398393333911897 \t error= 60.06999995231629 percent\n",
      "epoch= 23 \t loss= 1.7391595529079438 \t error= 59.86200004577636 percent\n",
      "epoch= 24 \t loss= 1.734881814479828 \t error= 59.81799996137619 percent\n",
      "epoch= 25 \t loss= 1.7334906797885894 \t error= 59.68600002765656 percent\n",
      "epoch= 26 \t loss= 1.7321051206827163 \t error= 59.79400007247925 percent\n",
      "epoch= 27 \t loss= 1.7356873703479767 \t error= 59.75199997186661 percent\n",
      "epoch= 28 \t loss= 1.730408705163002 \t error= 59.716000020504 percent\n",
      "epoch= 29 \t loss= 1.7319142981290818 \t error= 59.920000021457675 percent\n",
      "epoch= 30 \t loss= 1.726532912683487 \t error= 59.24000001907349 percent\n",
      "epoch= 31 \t loss= 1.7277913932561875 \t error= 59.516000030040736 percent\n",
      "epoch= 32 \t loss= 1.7269151191473007 \t error= 59.53800002336502 percent\n",
      "epoch= 33 \t loss= 1.7237091745853423 \t error= 59.48400000095367 percent\n",
      "epoch= 34 \t loss= 1.725758138036728 \t error= 59.41800002813339 percent\n",
      "epoch= 35 \t loss= 1.7205417185306549 \t error= 59.293999974727626 percent\n",
      "epoch= 36 \t loss= 1.7249723913431168 \t error= 59.18199995279312 percent\n",
      "epoch= 37 \t loss= 1.7255980274915694 \t error= 59.33600004673004 percent\n",
      "epoch= 38 \t loss= 1.7206642416477202 \t error= 59.25800000429153 percent\n",
      "epoch= 39 \t loss= 1.7169091002702712 \t error= 59.07000006198883 percent\n",
      "epoch= 40 \t loss= 1.7196677228927613 \t error= 59.147999961376186 percent\n",
      "epoch= 41 \t loss= 1.718147839474678 \t error= 58.984000005722045 percent\n",
      "epoch= 42 \t loss= 1.7164043226480483 \t error= 59.15600001573562 percent\n",
      "epoch= 43 \t loss= 1.71808180642128 \t error= 59.2060000371933 percent\n",
      "epoch= 44 \t loss= 1.716404224395752 \t error= 58.89000001430511 percent\n",
      "epoch= 45 \t loss= 1.7108366740226746 \t error= 58.73600000858307 percent\n",
      "epoch= 46 \t loss= 1.7147424350738525 \t error= 59.004000048637394 percent\n",
      "epoch= 47 \t loss= 1.713350818181038 \t error= 58.9480000591278 percent\n",
      "epoch= 48 \t loss= 1.7104230717658997 \t error= 58.65600004911423 percent\n",
      "epoch= 49 \t loss= 1.7126843415021897 \t error= 58.90400005578995 percent\n"
     ]
    }
   ],
   "source": [
    "for epoch in range(50):\n",
    "    \n",
    "    running_loss=0\n",
    "    running_error=0\n",
    "    num_batches=0\n",
    "    \n",
    "    shuffled_indices=torch.randperm(50000)\n",
    " \n",
    "    for count in range(0,50000,bs):\n",
    "    \n",
    "        # Set the gradients to zeros\n",
    "        optimizer.zero_grad()\n",
    "        \n",
    "        # create a minibatch       \n",
    "        indices=shuffled_indices[count:count+bs]\n",
    "        minibatch_data =  train_data[indices]\n",
    "        minibatch_label= train_label[indices]\n",
    "\n",
    "        # reshape the minibatch\n",
    "        inputs = minibatch_data.view(bs,3072)\n",
    "\n",
    "        # tell Pytorch to start tracking all operations that will be done on \"inputs\"\n",
    "        inputs.requires_grad_()\n",
    "\n",
    "        # forward the minibatch through the net \n",
    "        scores=net( inputs ) \n",
    "\n",
    "        # Compute the average of the losses of the data points in the minibatch\n",
    "        loss =  criterion( scores , minibatch_label) \n",
    "        \n",
    "        # backward pass to compute dL/dU, dL/dV and dL/dW   \n",
    "        loss.backward()\n",
    "\n",
    "        # do one step of stochastic gradient descent: U=U-lr(dL/dU), V=V-lr(dL/dU), ...\n",
    "        optimizer.step()\n",
    "        \n",
    "        # START COMPUTING STATS\n",
    "        \n",
    "        # add the loss of this batch to the running loss\n",
    "        running_loss += loss.detach().item()\n",
    "        \n",
    "        # compute the error made on this batch and add it to the running error       \n",
    "        error = utils.get_error( scores.detach() , minibatch_label)\n",
    "        running_error += error.item()\n",
    "        \n",
    "        num_batches+=1\n",
    "    \n",
    "    \n",
    "    # compute stats for the full training set\n",
    "    total_loss = running_loss/num_batches\n",
    "    total_error = running_error/num_batches\n",
    "    \n",
    "    print('epoch=',epoch, '\\t loss=', total_loss , '\\t error=', total_error*100 ,'percent')\n",
    "        \n",
    "    "
   ]
  },
  {
   "cell_type": "markdown",
   "metadata": {},
   "source": [
    "# You only have to complete this cell"
   ]
  },
  {
   "cell_type": "markdown",
   "metadata": {},
   "source": [
    "### So we are doing around 59% error on the training set. BUT how much are we doing on test set?"
   ]
  },
  {
   "cell_type": "code",
   "execution_count": 14,
   "metadata": {},
   "outputs": [
    {
     "name": "stdout",
     "output_type": "stream",
     "text": [
      "error rate on test set = 61.51000002622604 percent\n"
     ]
    }
   ],
   "source": [
    "running_error= 0 # COMPLETE HERE\n",
    "num_batches= 0 # COMPLETE HERE\n",
    "\n",
    "\n",
    "for count in range(0, len(test_data), bs): # COMPLETE HERE\n",
    "\n",
    "    # extract the minibatch\n",
    "    minibatch_data = test_data[count:count+bs] # COMPLETE HERE\n",
    "    minibatch_label= test_label[count:count+bs] # COMPLETE HERE\n",
    "\n",
    "    # reshape the minibatch\n",
    "    inputs = minibatch_data.view(bs, 3072) # COMPLETE HERE\n",
    "\n",
    "    # feed it to the network\n",
    "    scores= net(inputs) # COMPLETE HERE\n",
    "\n",
    "    # compute the error made on this batch\n",
    "    error = utils.get_error(scores, minibatch_label) # COMPLETE HERE\n",
    "    \n",
    "    # add it to the running error\n",
    "    running_error += error.detach().item() # COMPLETE HERE\n",
    "\n",
    "    num_batches += 1 # COMPLETE HERE\n",
    "\n",
    "\n",
    "# compute error rate on the full test set\n",
    "total_error = running_error/ num_batches # COMPLETE HERE\n",
    "\n",
    "print( 'error rate on test set =', total_error*100 ,'percent')"
   ]
  },
  {
   "cell_type": "markdown",
   "metadata": {},
   "source": [
    "### Choose image at random from the test set and see how good/bad are the predictions"
   ]
  },
  {
   "cell_type": "code",
   "execution_count": 12,
   "metadata": {},
   "outputs": [
    {
     "data": {
      "image/png": "[encoded data removed]",
      "text/plain": [
       "<Figure size 432x288 with 1 Axes>"
      ]
     },
     "metadata": {
      "needs_background": "light"
     },
     "output_type": "display_data"
    },
    {
     "data": {
      "image/png": "[encoded data removed]",
      "text/plain": [
       "<Figure size 640x480 with 1 Axes>"
      ]
     },
     "metadata": {},
     "output_type": "display_data"
    }
   ],
   "source": [
    "# choose a picture at random\n",
    "idx=randint(0, 10000-1)\n",
    "im=test_data[idx]\n",
    "\n",
    "# diplay the picture\n",
    "utils.show(im)\n",
    "\n",
    "# feed it to the net and display the confidence scores\n",
    "scores =  net( im.view(1,3072)) \n",
    "probs= F.softmax(scores, dim=1)\n",
    "utils.show_prob_cifar(probs)"
   ]
  },
  {
   "cell_type": "code",
   "execution_count": null,
   "metadata": {},
   "outputs": [],
   "source": []
  }
 ],
 "metadata": {
  "kernelspec": {
   "display_name": "Python 3",
   "language": "python",
   "name": "python3"
  },
  "language_info": {
   "codemirror_mode": {
    "name": "ipython",
    "version": 3
   },
   "file_extension": ".py",
   "mimetype": "text/x-python",
   "name": "python",
   "nbconvert_exporter": "python",
   "pygments_lexer": "ipython3",
   "version": "3.6.10"
  }
 },
 "nbformat": 4,
 "nbformat_minor": 4
}
