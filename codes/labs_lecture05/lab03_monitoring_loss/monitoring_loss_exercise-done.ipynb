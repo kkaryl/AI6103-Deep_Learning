{
 "cells": [
  {
   "cell_type": "markdown",
   "metadata": {},
   "source": [
    "# Lab 03 : Loss and error rate -- exercise"
   ]
  },
  {
   "cell_type": "code",
   "execution_count": null,
   "metadata": {},
   "outputs": [],
   "source": [
    "# For Google Colaboratory\n",
    "import sys, os\n",
    "if 'google.colab' in sys.modules:\n",
    "    # mount google drive\n",
    "    from google.colab import drive\n",
    "    drive.mount('/content/gdrive')\n",
    "    # find automatically the path of the folder containing \"file_name\" :\n",
    "    file_name = 'monitoring_loss_exercise.ipynb'\n",
    "    import subprocess\n",
    "    path_to_file = subprocess.check_output('find . -type f -name ' + str(file_name), shell=True).decode(\"utf-8\")\n",
    "    path_to_file = path_to_file.replace(file_name,\"\").replace('\\n',\"\")\n",
    "    # if previous search failed or too long, comment the previous line and simply write down manually the path below :\n",
    "    #path_to_file = '/content/gdrive/My Drive/AI6103_2020_codes/codes/labs_lecture05/lab03_monitoring_loss'\n",
    "    print(path_to_file)\n",
    "    # change current path to the folder containing \"file_name\"\n",
    "    os.chdir(path_to_file)\n",
    "    !pwd\n",
    "    "
   ]
  },
  {
   "cell_type": "code",
   "execution_count": 2,
   "metadata": {},
   "outputs": [],
   "source": [
    "import torch\n",
    "import torch.nn as nn\n",
    "import torch.nn.functional as F\n",
    "import torch.optim as optim\n",
    "from random import randint\n",
    "import utils"
   ]
  },
  {
   "cell_type": "markdown",
   "metadata": {},
   "source": [
    "### Download the CIFAR dataset -- check the size carefully!"
   ]
  },
  {
   "cell_type": "code",
   "execution_count": 3,
   "metadata": {},
   "outputs": [
    {
     "name": "stdout",
     "output_type": "stream",
     "text": [
      "torch.Size([50000, 3, 32, 32])\n"
     ]
    }
   ],
   "source": [
    "from utils import check_cifar_dataset_exists\n",
    "data_path=check_cifar_dataset_exists()\n",
    "\n",
    "train_data=torch.load(data_path+'cifar/train_data.pt')\n",
    "train_label=torch.load(data_path+'cifar/train_label.pt')\n",
    "test_data=torch.load(data_path+'cifar/test_data.pt')\n",
    "\n",
    "print(train_data.size())"
   ]
  },
  {
   "cell_type": "markdown",
   "metadata": {},
   "source": [
    "### Make a ONE layer net class. "
   ]
  },
  {
   "cell_type": "code",
   "execution_count": 4,
   "metadata": {},
   "outputs": [],
   "source": [
    "class one_layer_net(nn.Module):\n",
    "\n",
    "    def __init__(self, input_size, output_size):\n",
    "        super(one_layer_net , self).__init__()\n",
    "        self.linear_layer = nn.Linear( input_size, output_size , bias=True)\n",
    "        \n",
    "    def forward(self, x):\n",
    "        scores = self.linear_layer(x)\n",
    "        return scores"
   ]
  },
  {
   "cell_type": "markdown",
   "metadata": {},
   "source": [
    "### Build the net.   "
   ]
  },
  {
   "cell_type": "code",
   "execution_count": 5,
   "metadata": {},
   "outputs": [
    {
     "name": "stdout",
     "output_type": "stream",
     "text": [
      "one_layer_net(\n",
      "  (linear_layer): Linear(in_features=3072, out_features=10, bias=True)\n",
      ")\n"
     ]
    }
   ],
   "source": [
    "net= one_layer_net(3072,10)\n",
    "\n",
    "print(net)"
   ]
  },
  {
   "cell_type": "markdown",
   "metadata": {},
   "source": [
    "### Choose the criterion and optimizer. Also choose:\n",
    "\n",
    "### batchsize = 20\n",
    "\n",
    "### learning rate = 0.01"
   ]
  },
  {
   "cell_type": "code",
   "execution_count": 6,
   "metadata": {},
   "outputs": [],
   "source": [
    "criterion = nn.CrossEntropyLoss()\n",
    "\n",
    "optimizer=torch.optim.SGD( net.parameters() , lr=0.01 )\n",
    "\n",
    "bs=20"
   ]
  },
  {
   "cell_type": "markdown",
   "metadata": {},
   "source": [
    "# You only have to complete this cell\n",
    "\n",
    "### Do 40 passes through the training set (which contains 50,000 images -- not 60,000 like mnist!)"
   ]
  },
  {
   "cell_type": "code",
   "execution_count": 9,
   "metadata": {},
   "outputs": [
    {
     "name": "stdout",
     "output_type": "stream",
     "text": [
      "epoch= 0 \t loss= 1.9540245559215546 \t error= 69.65799998760224 percent\n",
      "epoch= 1 \t loss= 1.8637234409332275 \t error= 65.23999999046326 percent\n",
      "epoch= 2 \t loss= 1.8376966114997864 \t error= 64.04999990701675 percent\n",
      "epoch= 3 \t loss= 1.8176216025352478 \t error= 63.26599997043609 percent\n",
      "epoch= 4 \t loss= 1.806306038236618 \t error= 62.82799998998642 percent\n",
      "epoch= 5 \t loss= 1.7940860852241516 \t error= 62.367999961376185 percent\n",
      "epoch= 6 \t loss= 1.7928614636898041 \t error= 61.95400002956391 percent\n",
      "epoch= 7 \t loss= 1.7835085066795349 \t error= 61.98000004768372 percent\n",
      "epoch= 8 \t loss= 1.7756962280035018 \t error= 61.3639999628067 percent\n",
      "epoch= 9 \t loss= 1.771104062628746 \t error= 61.34799998283387 percent\n",
      "epoch= 10 \t loss= 1.7705387256383895 \t error= 60.99600001573563 percent\n",
      "epoch= 11 \t loss= 1.7669020718574524 \t error= 61.0960000705719 percent\n",
      "epoch= 12 \t loss= 1.763146053504944 \t error= 60.84800000905991 percent\n",
      "epoch= 13 \t loss= 1.764806890130043 \t error= 60.92799995422363 percent\n",
      "epoch= 14 \t loss= 1.75824284658432 \t error= 60.56399991512299 percent\n",
      "epoch= 15 \t loss= 1.7556312470674516 \t error= 60.54599999904633 percent\n",
      "epoch= 16 \t loss= 1.748329536986351 \t error= 60.3520000243187 percent\n",
      "epoch= 17 \t loss= 1.7478003924369812 \t error= 60.29400003671647 percent\n",
      "epoch= 18 \t loss= 1.7477864016056062 \t error= 60.332000017166145 percent\n",
      "epoch= 19 \t loss= 1.7494947912693024 \t error= 60.060000038146974 percent\n",
      "epoch= 20 \t loss= 1.7444333167791366 \t error= 60.18800004720688 percent\n",
      "epoch= 21 \t loss= 1.7399330671310425 \t error= 59.865999963283535 percent\n",
      "epoch= 22 \t loss= 1.7400917088031769 \t error= 60.22199996948242 percent\n",
      "epoch= 23 \t loss= 1.73828286652565 \t error= 59.605999970436095 percent\n",
      "epoch= 24 \t loss= 1.736438582611084 \t error= 60.029999988079076 percent\n",
      "epoch= 25 \t loss= 1.7349675104141236 \t error= 59.519999990463255 percent\n",
      "epoch= 26 \t loss= 1.7338841322660445 \t error= 59.65800000905991 percent\n",
      "epoch= 27 \t loss= 1.7338916010379792 \t error= 59.6059999871254 percent\n",
      "epoch= 28 \t loss= 1.733370303440094 \t error= 59.74000000476837 percent\n",
      "epoch= 29 \t loss= 1.7324425292730332 \t error= 59.57400001764297 percent\n",
      "epoch= 30 \t loss= 1.7267269915103913 \t error= 59.52600002765656 percent\n",
      "epoch= 31 \t loss= 1.7280157247543335 \t error= 59.5560000538826 percent\n",
      "epoch= 32 \t loss= 1.7266064133882522 \t error= 59.53600001335144 percent\n",
      "epoch= 33 \t loss= 1.7248602442741394 \t error= 59.304000067710874 percent\n",
      "epoch= 34 \t loss= 1.7254208107233047 \t error= 59.47599997997284 percent\n",
      "epoch= 35 \t loss= 1.7230470921993255 \t error= 59.08000002145767 percent\n",
      "epoch= 36 \t loss= 1.7190157016277314 \t error= 59.13800000190735 percent\n",
      "epoch= 37 \t loss= 1.7212102922677994 \t error= 59.04400004863739 percent\n",
      "epoch= 38 \t loss= 1.7193586161851884 \t error= 58.83000002145767 percent\n",
      "epoch= 39 \t loss= 1.720476641368866 \t error= 59.404000024795536 percent\n"
     ]
    }
   ],
   "source": [
    "for epoch in range(40):\n",
    "    \n",
    "    running_loss= 0 # COMPLETE HERE\n",
    "    running_error= 0 # COMPLETE HERE\n",
    "    num_batches= 0 # COMPLETE HERE\n",
    "    \n",
    "    shuffled_indices=torch.randperm(50000)\n",
    " \n",
    "    for count in range(0, len(train_data), bs): # COMPLETE HERE\n",
    "    \n",
    "        # Set the gradients to zeros\n",
    "        optimizer.zero_grad()\n",
    "        \n",
    "        # create a minibatch       \n",
    "        indices=shuffled_indices[count:count+bs]\n",
    "        minibatch_data =  train_data[indices]\n",
    "        minibatch_label= train_label[indices]\n",
    "\n",
    "        # reshape the minibatch\n",
    "        inputs = minibatch_data.view(bs,3072)\n",
    "\n",
    "        # tell Pytorch to start tracking all operations that will be done on \"inputs\"\n",
    "        inputs.requires_grad_()\n",
    "\n",
    "        # forward the minibatch through the net \n",
    "        scores=net( inputs ) \n",
    "\n",
    "        # Compute the average of the losses of the data points in the minibatch\n",
    "        loss =  criterion( scores , minibatch_label) \n",
    "        \n",
    "        # backward pass to compute dL/dU, dL/dV and dL/dW   \n",
    "        loss.backward()\n",
    "\n",
    "        # do one step of stochastic gradient descent: U=U-lr(dL/dU), V=V-lr(dL/dU), ...\n",
    "        optimizer.step()\n",
    "        \n",
    "        # START COMPUTING STATS\n",
    "        \n",
    "        # add the loss of this batch to the running loss\n",
    "        running_loss += loss.detach().item() # COMPLETE HERE\n",
    "        \n",
    "        # compute the error made on this batch and add it to the running error       \n",
    "        error = utils.get_error(scores.detach() , minibatch_label)  # COMPLETE HERE\n",
    "        running_error += error.item() # COMPLETE HERE\n",
    "        \n",
    "        num_batches += 1# COMPLETE HERE\n",
    "    \n",
    "    \n",
    "    # compute stats for the full training set\n",
    "    total_loss = running_loss / num_batches   # COMPLETE HERE\n",
    "    total_error = running_error / num_batches  # COMPLETE HERE\n",
    "    \n",
    "    print('epoch=',epoch, '\\t loss=', total_loss , '\\t error=', total_error*100 ,'percent')\n",
    "        "
   ]
  },
  {
   "cell_type": "markdown",
   "metadata": {},
   "source": [
    "### Choose image at random from the test set and see how good/bad are the predictions"
   ]
  },
  {
   "cell_type": "code",
   "execution_count": 10,
   "metadata": {},
   "outputs": [
    {
     "data": {
      "image/png": "[encoded data removed]",
      "text/plain": [
       "<Figure size 432x288 with 1 Axes>"
      ]
     },
     "metadata": {
      "needs_background": "light"
     },
     "output_type": "display_data"
    },
    {
     "data": {
      "image/png": "[encoded data removed]",
      "text/plain": [
       "<Figure size 640x480 with 1 Axes>"
      ]
     },
     "metadata": {},
     "output_type": "display_data"
    }
   ],
   "source": [
    "# choose a picture at random\n",
    "idx=randint(0, 10000-1)\n",
    "im=test_data[idx]\n",
    "\n",
    "# diplay the picture\n",
    "utils.show(im)\n",
    "\n",
    "# feed it to the net and display the confidence scores\n",
    "scores =  net( im.view(1,3072)) \n",
    "probs= F.softmax(scores, dim=1)\n",
    "utils.show_prob_cifar(probs)"
   ]
  },
  {
   "cell_type": "code",
   "execution_count": null,
   "metadata": {},
   "outputs": [],
   "source": []
  }
 ],
 "metadata": {
  "kernelspec": {
   "display_name": "Python 3",
   "language": "python",
   "name": "python3"
  },
  "language_info": {
   "codemirror_mode": {
    "name": "ipython",
    "version": 3
   },
   "file_extension": ".py",
   "mimetype": "text/x-python",
   "name": "python",
   "nbconvert_exporter": "python",
   "pygments_lexer": "ipython3",
   "version": "3.6.10"
  }
 },
 "nbformat": 4,
 "nbformat_minor": 4
}
