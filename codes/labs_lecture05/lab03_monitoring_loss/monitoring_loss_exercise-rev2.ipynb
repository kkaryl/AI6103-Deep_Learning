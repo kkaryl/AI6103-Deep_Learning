{
 "cells": [
  {
   "cell_type": "markdown",
   "metadata": {},
   "source": [
    "# Lab 03 : Loss and error rate -- exercise"
   ]
  },
  {
   "cell_type": "code",
   "execution_count": 1,
   "metadata": {},
   "outputs": [],
   "source": [
    "# For Google Colaboratory\n",
    "import sys, os\n",
    "if 'google.colab' in sys.modules:\n",
    "    # mount google drive\n",
    "    from google.colab import drive\n",
    "    drive.mount('/content/gdrive')\n",
    "    # find automatically the path of the folder containing \"file_name\" :\n",
    "    file_name = 'monitoring_loss_exercise.ipynb'\n",
    "    import subprocess\n",
    "    path_to_file = subprocess.check_output('find . -type f -name ' + str(file_name), shell=True).decode(\"utf-8\")\n",
    "    path_to_file = path_to_file.replace(file_name,\"\").replace('\\n',\"\")\n",
    "    # if previous search failed or too long, comment the previous line and simply write down manually the path below :\n",
    "    #path_to_file = '/content/gdrive/My Drive/AI6103_2020_codes/codes/labs_lecture05/lab03_monitoring_loss'\n",
    "    print(path_to_file)\n",
    "    # change current path to the folder containing \"file_name\"\n",
    "    os.chdir(path_to_file)\n",
    "    !pwd\n",
    "    "
   ]
  },
  {
   "cell_type": "code",
   "execution_count": 2,
   "metadata": {},
   "outputs": [],
   "source": [
    "import torch\n",
    "import torch.nn as nn\n",
    "import torch.nn.functional as F\n",
    "import torch.optim as optim\n",
    "from random import randint\n",
    "import utils"
   ]
  },
  {
   "cell_type": "markdown",
   "metadata": {},
   "source": [
    "### Download the CIFAR dataset -- check the size carefully!"
   ]
  },
  {
   "cell_type": "code",
   "execution_count": 3,
   "metadata": {},
   "outputs": [
    {
     "name": "stdout",
     "output_type": "stream",
     "text": [
      "torch.Size([50000, 3, 32, 32])\n"
     ]
    }
   ],
   "source": [
    "from utils import check_cifar_dataset_exists\n",
    "data_path=check_cifar_dataset_exists()\n",
    "\n",
    "train_data=torch.load(data_path+'cifar/train_data.pt')\n",
    "train_label=torch.load(data_path+'cifar/train_label.pt')\n",
    "test_data=torch.load(data_path+'cifar/test_data.pt')\n",
    "\n",
    "print(train_data.size())"
   ]
  },
  {
   "cell_type": "markdown",
   "metadata": {},
   "source": [
    "### Make a ONE layer net class. "
   ]
  },
  {
   "cell_type": "code",
   "execution_count": 4,
   "metadata": {},
   "outputs": [],
   "source": [
    "class one_layer_net(nn.Module):\n",
    "\n",
    "    def __init__(self, input_size, output_size):\n",
    "        super(one_layer_net , self).__init__()\n",
    "        self.linear_layer = nn.Linear( input_size, output_size , bias=True)\n",
    "        \n",
    "    def forward(self, x):\n",
    "        scores = self.linear_layer(x)\n",
    "        return scores"
   ]
  },
  {
   "cell_type": "markdown",
   "metadata": {},
   "source": [
    "### Build the net.   "
   ]
  },
  {
   "cell_type": "code",
   "execution_count": 5,
   "metadata": {},
   "outputs": [
    {
     "name": "stdout",
     "output_type": "stream",
     "text": [
      "one_layer_net(\n",
      "  (linear_layer): Linear(in_features=3072, out_features=10, bias=True)\n",
      ")\n"
     ]
    }
   ],
   "source": [
    "net= one_layer_net(3072,10)\n",
    "\n",
    "print(net)"
   ]
  },
  {
   "cell_type": "markdown",
   "metadata": {},
   "source": [
    "### Choose the criterion and optimizer. Also choose:\n",
    "\n",
    "### batchsize = 20\n",
    "\n",
    "### learning rate = 0.01"
   ]
  },
  {
   "cell_type": "code",
   "execution_count": 6,
   "metadata": {},
   "outputs": [],
   "source": [
    "criterion = nn.CrossEntropyLoss()\n",
    "\n",
    "optimizer=torch.optim.SGD( net.parameters() , lr=0.01 )\n",
    "\n",
    "bs=20"
   ]
  },
  {
   "cell_type": "markdown",
   "metadata": {},
   "source": [
    "# You only have to complete this cell\n",
    "\n",
    "### Do 40 passes through the training set (which contains 50,000 images -- not 60,000 like mnist!)"
   ]
  },
  {
   "cell_type": "code",
   "execution_count": 7,
   "metadata": {},
   "outputs": [
    {
     "name": "stdout",
     "output_type": "stream",
     "text": [
      "epoch= 0 \t loss= 1.956388214111328 \t error= 69.47199992179871 percent\n",
      "epoch= 1 \t loss= 1.866283539390564 \t error= 65.50799997806548 percent\n",
      "epoch= 2 \t loss= 1.836134793663025 \t error= 64.20399992942811 percent\n",
      "epoch= 3 \t loss= 1.8173299195289612 \t error= 63.42599991798401 percent\n",
      "epoch= 4 \t loss= 1.8093532717704772 \t error= 62.71000002145767 percent\n",
      "epoch= 5 \t loss= 1.7981353972911835 \t error= 62.33000002622604 percent\n",
      "epoch= 6 \t loss= 1.7939529617786407 \t error= 62.10999991178513 percent\n",
      "epoch= 7 \t loss= 1.7831793105602265 \t error= 61.78000003814697 percent\n",
      "epoch= 8 \t loss= 1.7787381040811538 \t error= 61.68800000190735 percent\n",
      "epoch= 9 \t loss= 1.7740418573856354 \t error= 61.37399996995926 percent\n",
      "epoch= 10 \t loss= 1.7686952226161956 \t error= 61.12400000810623 percent\n",
      "epoch= 11 \t loss= 1.765797709083557 \t error= 61.17600002527237 percent\n",
      "epoch= 12 \t loss= 1.7640022720098496 \t error= 61.0300000166893 percent\n",
      "epoch= 13 \t loss= 1.7578834698915482 \t error= 60.596000032424925 percent\n",
      "epoch= 14 \t loss= 1.7551083681106567 \t error= 60.55599997282029 percent\n",
      "epoch= 15 \t loss= 1.755984339761734 \t error= 60.616000020504 percent\n",
      "epoch= 16 \t loss= 1.7532724695682527 \t error= 60.73600004196167 percent\n",
      "epoch= 17 \t loss= 1.7486327211141586 \t error= 60.48799998283386 percent\n",
      "epoch= 18 \t loss= 1.7492228647708892 \t error= 60.485999996662144 percent\n",
      "epoch= 19 \t loss= 1.7436830504894256 \t error= 60.21199998855591 percent\n",
      "epoch= 20 \t loss= 1.743462497997284 \t error= 60.204000036716465 percent\n",
      "epoch= 21 \t loss= 1.740826000547409 \t error= 59.89199998140335 percent\n",
      "epoch= 22 \t loss= 1.7394656080007553 \t error= 60.01200002431869 percent\n",
      "epoch= 23 \t loss= 1.7365464757442475 \t error= 59.70000000238419 percent\n",
      "epoch= 24 \t loss= 1.7390177436351777 \t error= 60.03199997186661 percent\n",
      "epoch= 25 \t loss= 1.731610930633545 \t error= 59.49799999237061 percent\n",
      "epoch= 26 \t loss= 1.7344875371694566 \t error= 59.721999998092656 percent\n",
      "epoch= 27 \t loss= 1.731179595708847 \t error= 59.729999978542324 percent\n",
      "epoch= 28 \t loss= 1.7327043842315675 \t error= 59.86999999046325 percent\n",
      "epoch= 29 \t loss= 1.731758233642578 \t error= 59.54400009155273 percent\n",
      "epoch= 30 \t loss= 1.7280754786491395 \t error= 59.64600004196166 percent\n",
      "epoch= 31 \t loss= 1.7257516974925995 \t error= 59.40599995851517 percent\n",
      "epoch= 32 \t loss= 1.7302119435071945 \t error= 59.64600004911422 percent\n",
      "epoch= 33 \t loss= 1.7235901675701142 \t error= 59.34599999189377 percent\n",
      "epoch= 34 \t loss= 1.7253619263172149 \t error= 59.378000040054324 percent\n",
      "epoch= 35 \t loss= 1.7239718219280242 \t error= 59.36200001001358 percent\n",
      "epoch= 36 \t loss= 1.7221869368314744 \t error= 59.31400000333787 percent\n",
      "epoch= 37 \t loss= 1.7158053064584733 \t error= 58.852000048160555 percent\n",
      "epoch= 38 \t loss= 1.719515369129181 \t error= 59.35599995851517 percent\n",
      "epoch= 39 \t loss= 1.7204587491989136 \t error= 59.40399998188018 percent\n"
     ]
    }
   ],
   "source": [
    "for epoch in range(40):\n",
    "    \n",
    "    running_loss= 0 # COMPLETE HERE\n",
    "    running_error= 0 # COMPLETE HERE\n",
    "    num_batches= 0 # COMPLETE HERE\n",
    "    \n",
    "    shuffled_indices=torch.randperm(50000)\n",
    " \n",
    "    for count in range(0, len(train_data), bs):\n",
    "    \n",
    "        # Set the gradients to zeros\n",
    "        optimizer.zero_grad()\n",
    "        \n",
    "        # create a minibatch       \n",
    "        indices=shuffled_indices[count:count+bs]\n",
    "        minibatch_data =  train_data[indices]\n",
    "        minibatch_label= train_label[indices]\n",
    "\n",
    "        # reshape the minibatch\n",
    "        inputs = minibatch_data.view(bs,3072)\n",
    "\n",
    "        # tell Pytorch to start tracking all operations that will be done on \"inputs\"\n",
    "        inputs.requires_grad_()\n",
    "\n",
    "        # forward the minibatch through the net \n",
    "        scores=net( inputs ) \n",
    "\n",
    "        # Compute the average of the losses of the data points in the minibatch\n",
    "        loss =  criterion( scores , minibatch_label) \n",
    "        \n",
    "        # backward pass to compute dL/dU, dL/dV and dL/dW   \n",
    "        loss.backward()\n",
    "\n",
    "        # do one step of stochastic gradient descent: U=U-lr(dL/dU), V=V-lr(dL/dU), ...\n",
    "        optimizer.step()\n",
    "        \n",
    "        # START COMPUTING STATS\n",
    "        \n",
    "        # add the loss of this batch to the running loss\n",
    "        running_loss += loss.detach().item() # COMPLETE HERE\n",
    "        \n",
    "        # compute the error made on this batch and add it to the running error       \n",
    "        error = utils.get_error(scores.detach(), minibatch_label)         # COMPLETE HERE\n",
    "        running_error += error.detach().item() # COMPLETE HERE\n",
    "        \n",
    "        num_batches += 1 # COMPLETE HERE\n",
    "    \n",
    "    \n",
    "    # compute stats for the full training set\n",
    "    total_loss = running_loss / num_batches  # COMPLETE HERE\n",
    "    total_error = running_error / num_batches  # COMPLETE HERE\n",
    "    \n",
    "    print('epoch=',epoch, '\\t loss=', total_loss , '\\t error=', total_error*100 ,'percent')\n",
    "        \n",
    "    \n",
    "        \n",
    "        "
   ]
  },
  {
   "cell_type": "markdown",
   "metadata": {},
   "source": [
    "### Choose image at random from the test set and see how good/bad are the predictions"
   ]
  },
  {
   "cell_type": "code",
   "execution_count": 10,
   "metadata": {},
   "outputs": [
    {
     "data": {
      "image/png": "[encoded data removed]",
      "text/plain": [
       "<Figure size 640x480 with 1 Axes>"
      ]
     },
     "metadata": {},
     "output_type": "display_data"
    },
    {
     "data": {
      "image/png": "[encoded data removed]",
      "text/plain": [
       "<Figure size 640x480 with 1 Axes>"
      ]
     },
     "metadata": {},
     "output_type": "display_data"
    }
   ],
   "source": [
    "# choose a picture at random\n",
    "idx=randint(0, 10000-1)\n",
    "im=test_data[idx]\n",
    "\n",
    "# diplay the picture\n",
    "utils.show(im)\n",
    "\n",
    "# feed it to the net and display the confidence scores\n",
    "scores =  net( im.view(1,3072)) \n",
    "probs= F.softmax(scores, dim=1)\n",
    "utils.show_prob_cifar(probs)"
   ]
  },
  {
   "cell_type": "code",
   "execution_count": null,
   "metadata": {},
   "outputs": [],
   "source": []
  }
 ],
 "metadata": {
  "kernelspec": {
   "display_name": "Python 3",
   "language": "python",
   "name": "python3"
  },
  "language_info": {
   "codemirror_mode": {
    "name": "ipython",
    "version": 3
   },
   "file_extension": ".py",
   "mimetype": "text/x-python",
   "name": "python",
   "nbconvert_exporter": "python",
   "pygments_lexer": "ipython3",
   "version": "3.6.10"
  }
 },
 "nbformat": 4,
 "nbformat_minor": 4
}
