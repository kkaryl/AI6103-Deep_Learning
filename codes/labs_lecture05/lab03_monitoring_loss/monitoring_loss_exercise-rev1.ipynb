{
 "cells": [
  {
   "cell_type": "markdown",
   "metadata": {},
   "source": [
    "# Lab 03 : Loss and error rate -- exercise"
   ]
  },
  {
   "cell_type": "code",
   "execution_count": 1,
   "metadata": {},
   "outputs": [],
   "source": [
    "# For Google Colaboratory\n",
    "import sys, os\n",
    "if 'google.colab' in sys.modules:\n",
    "    # mount google drive\n",
    "    from google.colab import drive\n",
    "    drive.mount('/content/gdrive')\n",
    "    # find automatically the path of the folder containing \"file_name\" :\n",
    "    file_name = 'monitoring_loss_exercise.ipynb'\n",
    "    import subprocess\n",
    "    path_to_file = subprocess.check_output('find . -type f -name ' + str(file_name), shell=True).decode(\"utf-8\")\n",
    "    path_to_file = path_to_file.replace(file_name,\"\").replace('\\n',\"\")\n",
    "    # if previous search failed or too long, comment the previous line and simply write down manually the path below :\n",
    "    #path_to_file = '/content/gdrive/My Drive/AI6103_2020_codes/codes/labs_lecture05/lab03_monitoring_loss'\n",
    "    print(path_to_file)\n",
    "    # change current path to the folder containing \"file_name\"\n",
    "    os.chdir(path_to_file)\n",
    "    !pwd\n",
    "    "
   ]
  },
  {
   "cell_type": "code",
   "execution_count": 2,
   "metadata": {},
   "outputs": [],
   "source": [
    "import torch\n",
    "import torch.nn as nn\n",
    "import torch.nn.functional as F\n",
    "import torch.optim as optim\n",
    "from random import randint\n",
    "import utils"
   ]
  },
  {
   "cell_type": "markdown",
   "metadata": {},
   "source": [
    "### Download the CIFAR dataset -- check the size carefully!"
   ]
  },
  {
   "cell_type": "code",
   "execution_count": 3,
   "metadata": {},
   "outputs": [
    {
     "name": "stdout",
     "output_type": "stream",
     "text": [
      "torch.Size([50000, 3, 32, 32])\n"
     ]
    }
   ],
   "source": [
    "from utils import check_cifar_dataset_exists\n",
    "data_path=check_cifar_dataset_exists()\n",
    "\n",
    "train_data=torch.load(data_path+'cifar/train_data.pt')\n",
    "train_label=torch.load(data_path+'cifar/train_label.pt')\n",
    "test_data=torch.load(data_path+'cifar/test_data.pt')\n",
    "\n",
    "print(train_data.size())"
   ]
  },
  {
   "cell_type": "markdown",
   "metadata": {},
   "source": [
    "### Make a ONE layer net class. "
   ]
  },
  {
   "cell_type": "code",
   "execution_count": 4,
   "metadata": {},
   "outputs": [],
   "source": [
    "class one_layer_net(nn.Module):\n",
    "\n",
    "    def __init__(self, input_size, output_size):\n",
    "        super(one_layer_net , self).__init__()\n",
    "        self.linear_layer = nn.Linear( input_size, output_size , bias=True)\n",
    "        \n",
    "    def forward(self, x):\n",
    "        scores = self.linear_layer(x)\n",
    "        return scores"
   ]
  },
  {
   "cell_type": "markdown",
   "metadata": {},
   "source": [
    "### Build the net.   "
   ]
  },
  {
   "cell_type": "code",
   "execution_count": 5,
   "metadata": {},
   "outputs": [
    {
     "name": "stdout",
     "output_type": "stream",
     "text": [
      "one_layer_net(\n",
      "  (linear_layer): Linear(in_features=3072, out_features=10, bias=True)\n",
      ")\n"
     ]
    }
   ],
   "source": [
    "net= one_layer_net(3072,10)\n",
    "\n",
    "print(net)"
   ]
  },
  {
   "cell_type": "markdown",
   "metadata": {},
   "source": [
    "### Choose the criterion and optimizer. Also choose:\n",
    "\n",
    "### batchsize = 20\n",
    "\n",
    "### learning rate = 0.01"
   ]
  },
  {
   "cell_type": "code",
   "execution_count": 6,
   "metadata": {},
   "outputs": [],
   "source": [
    "criterion = nn.CrossEntropyLoss()\n",
    "\n",
    "optimizer=torch.optim.SGD( net.parameters() , lr=0.01 )\n",
    "\n",
    "bs=20"
   ]
  },
  {
   "cell_type": "markdown",
   "metadata": {},
   "source": [
    "# You only have to complete this cell\n",
    "\n",
    "### Do 40 passes through the training set (which contains 50,000 images -- not 60,000 like mnist!)"
   ]
  },
  {
   "cell_type": "code",
   "execution_count": 7,
   "metadata": {},
   "outputs": [
    {
     "name": "stdout",
     "output_type": "stream",
     "text": [
      "epoch= 0 \t loss= 1.9562691053390502 \t error= 69.1659999680519 percent\n",
      "epoch= 1 \t loss= 1.8665125328540801 \t error= 65.57399993896485 percent\n",
      "epoch= 2 \t loss= 1.8384730122566224 \t error= 63.9719999575615 percent\n",
      "epoch= 3 \t loss= 1.8213821816921234 \t error= 63.357999925613406 percent\n",
      "epoch= 4 \t loss= 1.808252027487755 \t error= 62.843999986648555 percent\n",
      "epoch= 5 \t loss= 1.7969731814861298 \t error= 62.36400004863739 percent\n",
      "epoch= 6 \t loss= 1.7880417053222657 \t error= 61.81999996900559 percent\n",
      "epoch= 7 \t loss= 1.784203189754486 \t error= 62.17799996376038 percent\n",
      "epoch= 8 \t loss= 1.7783702704429627 \t error= 61.77199998617172 percent\n",
      "epoch= 9 \t loss= 1.7717676115989685 \t error= 61.38399998188019 percent\n",
      "epoch= 10 \t loss= 1.771389858818054 \t error= 61.19600003004074 percent\n",
      "epoch= 11 \t loss= 1.7690526984214783 \t error= 60.915999958515165 percent\n",
      "epoch= 12 \t loss= 1.7625843804359436 \t error= 61.01200002908706 percent\n",
      "epoch= 13 \t loss= 1.7589432537555694 \t error= 60.48799996614456 percent\n",
      "epoch= 14 \t loss= 1.753792649269104 \t error= 60.582000014781954 percent\n",
      "epoch= 15 \t loss= 1.7529572489738465 \t error= 60.520000040531166 percent\n",
      "epoch= 16 \t loss= 1.7489082116603851 \t error= 60.42800002813339 percent\n",
      "epoch= 17 \t loss= 1.750965168428421 \t error= 60.42399994850158 percent\n",
      "epoch= 18 \t loss= 1.7425523858308791 \t error= 60.164000008106235 percent\n",
      "epoch= 19 \t loss= 1.7435034585237503 \t error= 60.11999996900559 percent\n",
      "epoch= 20 \t loss= 1.7438424049377441 \t error= 60.0740000295639 percent\n",
      "epoch= 21 \t loss= 1.7437616584300994 \t error= 60.25000008106232 percent\n",
      "epoch= 22 \t loss= 1.7406513871669769 \t error= 59.88000000476838 percent\n",
      "epoch= 23 \t loss= 1.7405741778850556 \t error= 60.08999999761582 percent\n",
      "epoch= 24 \t loss= 1.7382354024171829 \t error= 59.804000024795535 percent\n",
      "epoch= 25 \t loss= 1.7358220841407777 \t error= 59.74199999570846 percent\n",
      "epoch= 26 \t loss= 1.7318760959625243 \t error= 59.40399992227554 percent\n",
      "epoch= 27 \t loss= 1.7321836266994477 \t error= 59.671999900341035 percent\n",
      "epoch= 28 \t loss= 1.7326855150222777 \t error= 59.787999897003175 percent\n",
      "epoch= 29 \t loss= 1.7240807764291763 \t error= 59.16400001764297 percent\n",
      "epoch= 30 \t loss= 1.730199912261963 \t error= 59.768000020980836 percent\n",
      "epoch= 31 \t loss= 1.7240162216186523 \t error= 59.52600002765656 percent\n",
      "epoch= 32 \t loss= 1.728547710299492 \t error= 59.38799999237061 percent\n",
      "epoch= 33 \t loss= 1.725891405057907 \t error= 59.22800007820129 percent\n",
      "epoch= 34 \t loss= 1.7228050596237183 \t error= 59.36400009393692 percent\n",
      "epoch= 35 \t loss= 1.7245792752981186 \t error= 59.033999998569485 percent\n",
      "epoch= 36 \t loss= 1.7230681055307389 \t error= 59.332000017166145 percent\n",
      "epoch= 37 \t loss= 1.719081116962433 \t error= 59.2820000743866 percent\n",
      "epoch= 38 \t loss= 1.7173608867645265 \t error= 59.16600004673004 percent\n",
      "epoch= 39 \t loss= 1.722680446434021 \t error= 59.32199999809266 percent\n"
     ]
    }
   ],
   "source": [
    "for epoch in range(40):\n",
    "    \n",
    "    running_loss= 0# COMPLETE HERE\n",
    "    running_error= 0# COMPLETE HERE\n",
    "    num_batches= 0# COMPLETE HERE\n",
    "    \n",
    "    shuffled_indices=torch.randperm(50000)\n",
    " \n",
    "    for count in range(0, len(train_data), bs): # COMPLETE HERE\n",
    "    \n",
    "        # Set the gradients to zeros\n",
    "        optimizer.zero_grad()\n",
    "        \n",
    "        # create a minibatch       \n",
    "        indices=shuffled_indices[count:count+bs]\n",
    "        minibatch_data =  train_data[indices]\n",
    "        minibatch_label= train_label[indices]\n",
    "\n",
    "        # reshape the minibatch\n",
    "        inputs = minibatch_data.view(bs,3072)\n",
    "\n",
    "        # tell Pytorch to start tracking all operations that will be done on \"inputs\"\n",
    "        inputs.requires_grad_()\n",
    "\n",
    "        # forward the minibatch through the net \n",
    "        scores=net( inputs ) \n",
    "\n",
    "        # Compute the average of the losses of the data points in the minibatch\n",
    "        loss =  criterion( scores , minibatch_label) \n",
    "        \n",
    "        # backward pass to compute dL/dU, dL/dV and dL/dW   \n",
    "        loss.backward()\n",
    "\n",
    "        # do one step of stochastic gradient descent: U=U-lr(dL/dU), V=V-lr(dL/dU), ...\n",
    "        optimizer.step()\n",
    "        \n",
    "        # START COMPUTING STATS\n",
    "        \n",
    "        # add the loss of this batch to the running loss\n",
    "        running_loss += loss.detach().item() # COMPLETE HERE\n",
    "        \n",
    "        # compute the error made on this batch and add it to the running error       \n",
    "        error = utils.get_error(scores.detach(), minibatch_label)        # COMPLETE HERE\n",
    "        running_error += error.item() # COMPLETE HERE\n",
    "        \n",
    "        num_batches += 1# COMPLETE HERE\n",
    "    \n",
    "    \n",
    "    # compute stats for the full training set\n",
    "    total_loss = running_loss / num_batches   # COMPLETE HERE\n",
    "    total_error = running_error / num_batches  # COMPLETE HERE\n",
    "    \n",
    "    print('epoch=',epoch, '\\t loss=', total_loss , '\\t error=', total_error*100 ,'percent')\n",
    "        \n",
    "    \n",
    "        \n",
    "        "
   ]
  },
  {
   "cell_type": "markdown",
   "metadata": {},
   "source": [
    "### Choose image at random from the test set and see how good/bad are the predictions"
   ]
  },
  {
   "cell_type": "code",
   "execution_count": 8,
   "metadata": {},
   "outputs": [
    {
     "data": {
      "image/png": "[encoded data removed]",
      "text/plain": [
       "<Figure size 432x288 with 1 Axes>"
      ]
     },
     "metadata": {
      "needs_background": "light"
     },
     "output_type": "display_data"
    },
    {
     "data": {
      "image/png": "[encoded data removed]",
      "text/plain": [
       "<Figure size 640x480 with 1 Axes>"
      ]
     },
     "metadata": {},
     "output_type": "display_data"
    }
   ],
   "source": [
    "# choose a picture at random\n",
    "idx=randint(0, 10000-1)\n",
    "im=test_data[idx]\n",
    "\n",
    "# diplay the picture\n",
    "utils.show(im)\n",
    "\n",
    "# feed it to the net and display the confidence scores\n",
    "scores =  net( im.view(1,3072)) \n",
    "probs= F.softmax(scores, dim=1)\n",
    "utils.show_prob_cifar(probs)"
   ]
  },
  {
   "cell_type": "code",
   "execution_count": null,
   "metadata": {},
   "outputs": [],
   "source": []
  }
 ],
 "metadata": {
  "kernelspec": {
   "display_name": "Python 3",
   "language": "python",
   "name": "python3"
  },
  "language_info": {
   "codemirror_mode": {
    "name": "ipython",
    "version": 3
   },
   "file_extension": ".py",
   "mimetype": "text/x-python",
   "name": "python",
   "nbconvert_exporter": "python",
   "pygments_lexer": "ipython3",
   "version": "3.6.10"
  }
 },
 "nbformat": 4,
 "nbformat_minor": 4
}
