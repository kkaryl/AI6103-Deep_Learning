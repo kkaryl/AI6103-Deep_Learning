{
 "cells": [
  {
   "cell_type": "markdown",
   "metadata": {},
   "source": [
    "# AI6103 DL Quiz Preparation"
   ]
  },
  {
   "cell_type": "code",
   "execution_count": 1,
   "metadata": {},
   "outputs": [],
   "source": [
    "import torch\n",
    "import torch.nn as nn\n",
    "import torch.nn.functional as F\n",
    "import numpy as np\n",
    "from random import randint\n",
    "import utils\n",
    "import time\n",
    "from torchsummary import summary\n",
    "from IPython.display import Math\n",
    "device = torch.device(\"cuda:0\" if torch.cuda.is_available() else \"cpu\")"
   ]
  },
  {
   "cell_type": "markdown",
   "metadata": {},
   "source": [
    "## L01 - Introduction"
   ]
  },
  {
   "cell_type": "markdown",
   "metadata": {},
   "source": [
    "Amount of data $n$ required to achieve super human performance: <br> \n",
    "$\\Large n = \\frac{\\mathit{features}}{error} = \\frac{d}{e}$"
   ]
  },
  {
   "cell_type": "code",
   "execution_count": 2,
   "metadata": {},
   "outputs": [
    {
     "name": "stdout",
     "output_type": "stream",
     "text": [
      "1000000\n"
     ]
    }
   ],
   "source": [
    "d = 1000*1000\n",
    "e = 1\n",
    "n = d//e; print(n)"
   ]
  },
  {
   "cell_type": "markdown",
   "metadata": {},
   "source": [
    "## L02 - Linear Algebra"
   ]
  },
  {
   "cell_type": "markdown",
   "metadata": {},
   "source": [
    "### Vectors"
   ]
  },
  {
   "cell_type": "code",
   "execution_count": 3,
   "metadata": {},
   "outputs": [
    {
     "name": "stdout",
     "output_type": "stream",
     "text": [
      "tensor([1, 1, 2])\n",
      "tensor([1, 1, 2])\n",
      "tensor([6, 0, 4])\n"
     ]
    }
   ],
   "source": [
    "# Vector addition\n",
    "v1 = torch.LongTensor([1,1,2]); print(v1)\n",
    "v2 = torch.LongTensor([5,-1,2]); print(v1)\n",
    "vpv = v1 + v2 ;print(vpv)"
   ]
  },
  {
   "cell_type": "code",
   "execution_count": 4,
   "metadata": {},
   "outputs": [
    {
     "name": "stdout",
     "output_type": "stream",
     "text": [
      "tensor([1, 1, 2])\n",
      "tensor([2, 2, 4])\n"
     ]
    }
   ],
   "source": [
    "# Vector multiplication\n",
    "c = 2 \n",
    "v1 = torch.LongTensor([1,1,2]); print(v1)\n",
    "cv = c*v1; print(cv)"
   ]
  },
  {
   "cell_type": "code",
   "execution_count": 5,
   "metadata": {},
   "outputs": [
    {
     "name": "stdout",
     "output_type": "stream",
     "text": [
      "tensor([1, 1, 2])\n",
      "tensor([1, 1, 2])\n",
      "tensor(9)\n"
     ]
    }
   ],
   "source": [
    "## Inner product\n",
    "v1 = torch.LongTensor([1,1,2]); print(v1)\n",
    "v2 = torch.LongTensor([1,2,3]); print(v1)\n",
    "v1v2 = torch.matmul(v1, v2); print(v1v2)"
   ]
  },
  {
   "cell_type": "markdown",
   "metadata": {},
   "source": [
    "### Matrices"
   ]
  },
  {
   "cell_type": "code",
   "execution_count": 6,
   "metadata": {},
   "outputs": [
    {
     "name": "stdout",
     "output_type": "stream",
     "text": [
      "tensor([[1, 2],\n",
      "        [3, 4],\n",
      "        [5, 0]])\n",
      "tensor([[10, 10],\n",
      "        [20, 20],\n",
      "        [30, 30]])\n",
      "tensor([[11, 12],\n",
      "        [23, 24],\n",
      "        [35, 30]])\n"
     ]
    }
   ],
   "source": [
    "M1 = torch.LongTensor([[1,2], [3,4],[5,0]]); print(M1)\n",
    "M2 = torch.LongTensor([[10,10], [20,20],[30,30]]); print(M2)\n",
    "M1pM2 = M1+M2; print(M1pM2)"
   ]
  },
  {
   "cell_type": "code",
   "execution_count": 7,
   "metadata": {},
   "outputs": [
    {
     "name": "stdout",
     "output_type": "stream",
     "text": [
      "tensor([[1, 2],\n",
      "        [3, 4],\n",
      "        [5, 0]])\n",
      "tensor([[ 2,  4],\n",
      "        [ 6,  8],\n",
      "        [10,  0]])\n"
     ]
    }
   ],
   "source": [
    "c = 2\n",
    "M1 = torch.LongTensor([[1,2], [3,4],[5,0]]); print(M1)\n",
    "cM1 = c* M1; print(cM1)"
   ]
  },
  {
   "cell_type": "markdown",
   "metadata": {},
   "source": [
    "### Matrix-Vector"
   ]
  },
  {
   "cell_type": "code",
   "execution_count": 8,
   "metadata": {},
   "outputs": [
    {
     "name": "stdout",
     "output_type": "stream",
     "text": [
      "W: torch.Size([2, 3])\n",
      "x: torch.Size([3])\n",
      "b: torch.Size([2])\n",
      "z: tensor([10, 16]) torch.Size([2])\n"
     ]
    }
   ],
   "source": [
    "W = torch.LongTensor([[1,2,3],[4,5,6]]); print(f\"W: {W.shape}\")\n",
    "x = torch.LongTensor([1,-2,2]); print(f\"x: {x.shape}\")\n",
    "b = torch.LongTensor([7, 10]); print(f\"b: {b.shape}\")\n",
    "z = torch.matmul(W,x)+b\n",
    "print(f\"z: {z} {z.shape}\")"
   ]
  },
  {
   "cell_type": "code",
   "execution_count": 9,
   "metadata": {},
   "outputs": [
    {
     "name": "stdout",
     "output_type": "stream",
     "text": [
      "tensor([[6, 4, 3, 3],\n",
      "        [8, 4, 5, 5]])\n"
     ]
    }
   ],
   "source": [
    "## Inner product\n",
    "A = torch.LongTensor([[1,1,1],[2,3,0]])\n",
    "B = torch.LongTensor([[1,2,1,1],[2,0,1,1],[3,2,1,1]])\n",
    "C = torch.mm(A,B)\n",
    "print(C)"
   ]
  },
  {
   "cell_type": "markdown",
   "metadata": {},
   "source": [
    "### Inner & Outer Product"
   ]
  },
  {
   "cell_type": "code",
   "execution_count": 10,
   "metadata": {},
   "outputs": [
    {
     "name": "stdout",
     "output_type": "stream",
     "text": [
      "tensor([1, 2, 3])\n",
      "tensor([1, 2, 3])\n",
      "tensor([0, 1, 2])\n",
      "tensor([[0, 1, 2],\n",
      "        [0, 2, 4],\n",
      "        [0, 3, 6]])\n",
      "tensor([[0, 1, 2],\n",
      "        [0, 2, 4],\n",
      "        [0, 3, 6]])\n"
     ]
    }
   ],
   "source": [
    "# Outer product\n",
    "x = torch.LongTensor([1,2,3]); print(x) #3x1\n",
    "x1 = x.unsqueeze(1); print(x)\n",
    "y = torch.LongTensor([0,1,2]); print(y) #1x3\n",
    "\n",
    "outerpdt = x1 * y; print(outerpdt) #3x3\n",
    "outerpdt2 = torch.ger(x,y); print(outerpdt2)"
   ]
  },
  {
   "cell_type": "markdown",
   "metadata": {},
   "source": [
    "## L03 - Vanilla NN (Part 1)"
   ]
  },
  {
   "cell_type": "code",
   "execution_count": 11,
   "metadata": {},
   "outputs": [
    {
     "name": "stdout",
     "output_type": "stream",
     "text": [
      "tensor([[1., 2., 3., 4.],\n",
      "        [1., 2., 5., 3.]]) torch.Size([2, 4])\n",
      "=> Softmax over dim 1 (rows)\n",
      "tensor([[0.0321, 0.0871, 0.2369, 0.6439],\n",
      "        [0.0152, 0.0414, 0.8310, 0.1125]])\n",
      "tensor([1., 1.])\n",
      "\n",
      "=> Softmax over dim 0 (cols)\n",
      "tensor([[0.5000, 0.5000, 0.1192, 0.7311],\n",
      "        [0.5000, 0.5000, 0.8808, 0.2689]])\n",
      "tensor(0.8808)\n",
      "tensor([1., 1., 1., 1.])\n"
     ]
    }
   ],
   "source": [
    "## Softmax\n",
    "B = torch.Tensor([[1,2,3,4],\n",
    "                 [1,2,5,3]])\n",
    "print(B, B.size()) # 2,4\n",
    "prob = F.softmax(B, dim=1) #rows (2) matrices\n",
    "print(f\"=> Softmax over dim 1 (rows)\")\n",
    "print(prob)\n",
    "print(prob.sum(1)) \n",
    "print(\"\")\n",
    "prob = F.softmax(B, dim=0) #cols (4) vectors\n",
    "print(f\"=> Softmax over dim 0 (cols)\")\n",
    "print(prob)\n",
    "print(torch.max(prob))\n",
    "print(prob.sum(0)) "
   ]
  },
  {
   "cell_type": "code",
   "execution_count": 12,
   "metadata": {},
   "outputs": [
    {
     "name": "stdout",
     "output_type": "stream",
     "text": [
      "tensor([-0.3000, -0.2000,  0.8000, -0.2500]) torch.Size([4])\n"
     ]
    }
   ],
   "source": [
    "p_target = torch.Tensor([0,0,1,0])\n",
    "probs = torch.Tensor([0.3,0.2,0.2,0.25])\n",
    "err = p_target - probs; print(err, err.shape)"
   ]
  },
  {
   "cell_type": "code",
   "execution_count": 13,
   "metadata": {},
   "outputs": [
    {
     "name": "stdout",
     "output_type": "stream",
     "text": [
      "tensor([0.0781, 0.8203, 0.7617, 0.2641, 0.4037, 0.2045, 0.8299, 0.4020, 0.8142,\n",
      "        0.7116, 0.9154, 0.7089, 0.3098, 0.0277, 0.1382, 0.6920, 0.7665, 0.1703,\n",
      "        0.6753, 0.3366, 0.7189, 0.3521, 0.6833, 0.6889, 0.3127, 0.7222, 0.3048,\n",
      "        0.4683, 0.8068, 0.1837, 0.6462, 0.8299])\n",
      "tensor([[-0.0234, -0.2461, -0.2285, -0.0792, -0.1211, -0.0613, -0.2490, -0.1206,\n",
      "         -0.2443, -0.2135, -0.2746, -0.2127, -0.0929, -0.0083, -0.0415, -0.2076,\n",
      "         -0.2299, -0.0511, -0.2026, -0.1010, -0.2157, -0.1056, -0.2050, -0.2067,\n",
      "         -0.0938, -0.2167, -0.0914, -0.1405, -0.2420, -0.0551, -0.1939, -0.2490],\n",
      "        [-0.0156, -0.1641, -0.1523, -0.0528, -0.0807, -0.0409, -0.1660, -0.0804,\n",
      "         -0.1628, -0.1423, -0.1831, -0.1418, -0.0620, -0.0055, -0.0276, -0.1384,\n",
      "         -0.1533, -0.0341, -0.1351, -0.0673, -0.1438, -0.0704, -0.1367, -0.1378,\n",
      "         -0.0625, -0.1444, -0.0610, -0.0937, -0.1614, -0.0367, -0.1292, -0.1660],\n",
      "        [ 0.0625,  0.6563,  0.6094,  0.2113,  0.3229,  0.1636,  0.6639,  0.3216,\n",
      "          0.6514,  0.5693,  0.7323,  0.5671,  0.2479,  0.0222,  0.1106,  0.5536,\n",
      "          0.6132,  0.1362,  0.5402,  0.2693,  0.5751,  0.2817,  0.5467,  0.5511,\n",
      "          0.2501,  0.5777,  0.2439,  0.3747,  0.6454,  0.1469,  0.5170,  0.6639],\n",
      "        [-0.0195, -0.2051, -0.1904, -0.0660, -0.1009, -0.0511, -0.2075, -0.1005,\n",
      "         -0.2036, -0.1779, -0.2289, -0.1772, -0.0775, -0.0069, -0.0345, -0.1730,\n",
      "         -0.1916, -0.0426, -0.1688, -0.0842, -0.1797, -0.0880, -0.1708, -0.1722,\n",
      "         -0.0782, -0.1805, -0.0762, -0.1171, -0.2017, -0.0459, -0.1616, -0.2075]]) torch.Size([4, 32])\n"
     ]
    }
   ],
   "source": [
    "x = torch.rand((32)); print(x)\n",
    "# ex = err.unsqueeze(1) * x; print(ex, ex.shape)\n",
    "ex2 = torch.ger(err,x); print(ex2, ex2.shape)"
   ]
  },
  {
   "cell_type": "markdown",
   "metadata": {},
   "source": [
    "## L04 - Vanilla NN"
   ]
  },
  {
   "cell_type": "code",
   "execution_count": 14,
   "metadata": {},
   "outputs": [],
   "source": [
    "from prettytable import PrettyTable\n",
    "def count_parameters(model):\n",
    "    table = PrettyTable([\"Modules\", \"Parameters\"])\n",
    "    total_params = 0\n",
    "    for name, parameter in model.named_parameters():\n",
    "        if not parameter.requires_grad: \n",
    "            continue\n",
    "        param = parameter.numel()\n",
    "        table.add_row([name, param])\n",
    "        total_params+=param\n",
    "    print(table)\n",
    "    print(f\"Total Trainable Params: {total_params}\")\n",
    "    return total_params"
   ]
  },
  {
   "cell_type": "code",
   "execution_count": 15,
   "metadata": {},
   "outputs": [
    {
     "name": "stdout",
     "output_type": "stream",
     "text": [
      "+---------------------+------------+\n",
      "|       Modules       | Parameters |\n",
      "+---------------------+------------+\n",
      "| linear_layer.weight |    7840    |\n",
      "|  linear_layer.bias  |     10     |\n",
      "+---------------------+------------+\n",
      "Total Trainable Params: 7850\n"
     ]
    },
    {
     "data": {
      "text/plain": [
       "7850"
      ]
     },
     "execution_count": 15,
     "metadata": {},
     "output_type": "execute_result"
    }
   ],
   "source": [
    "class One_Layer_Net(nn.Module):\n",
    "    def __init__(self, input_size, output_size):\n",
    "        super(One_Layer_Net, self).__init__()\n",
    "        self.linear_layer = nn.Linear(input_size,output_size,bias=True)\n",
    "    def forward(self, x): \n",
    "#         x = self.linear_layer(x)\n",
    "#         p = F.softmax(x, dim=1)\n",
    "        return p\n",
    "    \n",
    "net = One_Layer_Net(784, 10)\n",
    "\n",
    "\n",
    "count_parameters(net)"
   ]
  },
  {
   "cell_type": "code",
   "execution_count": null,
   "metadata": {},
   "outputs": [],
   "source": []
  },
  {
   "cell_type": "code",
   "execution_count": 16,
   "metadata": {},
   "outputs": [
    {
     "name": "stdout",
     "output_type": "stream",
     "text": [
      "+----------------+------------+\n",
      "|    Modules     | Parameters |\n",
      "+----------------+------------+\n",
      "|  conv1.weight  |    450     |\n",
      "|   conv1.bias   |     50     |\n",
      "|  conv2.weight  |   45000    |\n",
      "|   conv2.bias   |    100     |\n",
      "| linear1.weight |   490000   |\n",
      "|  linear1.bias  |    100     |\n",
      "| linear2.weight |    1000    |\n",
      "|  linear2.bias  |     10     |\n",
      "+----------------+------------+\n",
      "Total Trainable Params: 536710\n"
     ]
    },
    {
     "data": {
      "text/plain": [
       "536710"
      ]
     },
     "execution_count": 16,
     "metadata": {},
     "output_type": "execute_result"
    }
   ],
   "source": [
    "class LeNet5_convnet(nn.Module):\n",
    "\n",
    "    def __init__(self):\n",
    "        super(LeNet5_convnet, self).__init__()\n",
    "        # CL1:   28 x 28  -->    50 x 28 x 28 \n",
    "        self.conv1 = nn.Conv2d(1,   50,  kernel_size=3,  padding=1 )\n",
    "        # MP1: 50 x 28 x 28 -->    50 x 14 x 14\n",
    "        self.pool1  = nn.MaxPool2d(2,2)\n",
    "        # CL2:   50 x 14 x 14  -->    100 x 14 x 14 \n",
    "        self.conv2 = nn.Conv2d(50, 100,  kernel_size=3,  padding=1 ) # COMPLETE HERE\n",
    "        # MP2: 100 x 14 x 14 -->    100 x 7 x 7\n",
    "        self.pool2 = nn.MaxPool2d(2,2) # COMPLETE HERE\n",
    "        # LL1:   100 x 7 x 7 = 4900 -->  100 \n",
    "        self.linear1 = nn.Linear(4900, 100) # COMPLETE HERE\n",
    "        # LL2:   100  -->  10 \n",
    "        self.linear2 = nn.Linear(100, 10) # COMPLETE HERE\n",
    "\n",
    "\n",
    "    def forward(self, x):\n",
    "#         # CL1:   28 x 28  -->    50 x 28 x 28 \n",
    "#         x = self.conv1(x)\n",
    "#         x = F.relu(x)\n",
    "#         # MP1: 50 x 28 x 28 -->    50 x 14 x 14\n",
    "#         x = self.pool1(x)\n",
    "#         # CL2:   50 x 14 x 14  -->    100 x 14 x 14\n",
    "#         x = self.conv2(x) # COMPLETE HERE\n",
    "#         x = F.relu(x) # COMPLETE HERE\n",
    "#         # MP2: 100 x 14 x 14 -->    100 x 7 x 7\n",
    "#         x = self.pool2(x) # COMPLETE HERE\n",
    "#         # LL1:   100 x 7 x 7 = 4900  -->  100 \n",
    "#         x = x.view(-1, 4900)\n",
    "#         x = self.linear1(x) # COMPLETE HERE\n",
    "#         x = F.relu(x)# COMPLETE HERE\n",
    "#         # LL2:   4900  -->  10 \n",
    "#         x = self.linear2(x) # COMPLETE HERE\n",
    "        return x\n",
    "    \n",
    "conv = LeNet5_convnet()\n",
    "count_parameters(conv)"
   ]
  },
  {
   "cell_type": "code",
   "execution_count": null,
   "metadata": {},
   "outputs": [],
   "source": []
  },
  {
   "cell_type": "code",
   "execution_count": null,
   "metadata": {},
   "outputs": [],
   "source": []
  },
  {
   "cell_type": "code",
   "execution_count": 31,
   "metadata": {},
   "outputs": [],
   "source": [
    "def cal_conv_filter(I: int, O: int, P:int = 0, S:int=1):\n",
    "    assert S > 0\n",
    "    f = I + 2*P - S*(O-1)\n",
    "    print(f\"CONV filter size for I:{I} O:{O}, padding:{P} stride:{S} = {f}\")\n",
    "    return f"
   ]
  },
  {
   "cell_type": "code",
   "execution_count": 32,
   "metadata": {},
   "outputs": [
    {
     "name": "stdout",
     "output_type": "stream",
     "text": [
      "CONV filter size for I:32 O:28, padding:0 stride:1 = 5\n",
      "CONV filter size for I:14 O:10, padding:0 stride:1 = 5\n"
     ]
    },
    {
     "data": {
      "text/plain": [
       "5"
      ]
     },
     "execution_count": 32,
     "metadata": {},
     "output_type": "execute_result"
    }
   ],
   "source": [
    "cal_conv_filter(32, 28, 0, 1)\n",
    "cal_conv_filter(14, 10, 0, 1)"
   ]
  },
  {
   "cell_type": "code",
   "execution_count": 37,
   "metadata": {},
   "outputs": [],
   "source": [
    "def cal_max_pool(I: int, O: int):\n",
    "    # P == 0, S == f\n",
    "    f = I//O\n",
    "    print(f\"MP filter size for I:{I} O:{O} = {f}\")\n",
    "    return f"
   ]
  },
  {
   "cell_type": "code",
   "execution_count": 39,
   "metadata": {},
   "outputs": [
    {
     "name": "stdout",
     "output_type": "stream",
     "text": [
      "MP filter size for I:28 O:14 = 2\n"
     ]
    },
    {
     "data": {
      "text/plain": [
       "2"
      ]
     },
     "execution_count": 39,
     "metadata": {},
     "output_type": "execute_result"
    }
   ],
   "source": [
    "cal_max_pool(28, 14)"
   ]
  },
  {
   "cell_type": "code",
   "execution_count": null,
   "metadata": {},
   "outputs": [],
   "source": []
  }
 ],
 "metadata": {
  "kernelspec": {
   "display_name": "Python 3",
   "language": "python",
   "name": "python3"
  },
  "language_info": {
   "codemirror_mode": {
    "name": "ipython",
    "version": 3
   },
   "file_extension": ".py",
   "mimetype": "text/x-python",
   "name": "python",
   "nbconvert_exporter": "python",
   "pygments_lexer": "ipython3",
   "version": "3.6.10"
  }
 },
 "nbformat": 4,
 "nbformat_minor": 4
}
