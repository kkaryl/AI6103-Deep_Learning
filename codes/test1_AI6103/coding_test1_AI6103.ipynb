{
 "cells": [
  {
   "cell_type": "markdown",
   "metadata": {
    "colab_type": "text",
    "id": "JhPXB9mng7Py"
   },
   "source": [
    "\n",
    "## AI6103 : Deep Learning and Applications\n",
    "## Xavier Bresson\n",
    "\n",
    "\n",
    "## Coding Test 1\n",
    "Date: October 8th, 2020<br>\n",
    "\n",
    "*Instructions* <br>\n",
    "Name: Do not forget to add your name to the notebook file \"coding_test1_AI6103_YOUR_NAME.ipynb\".<br>\n",
    "Questions: This notebook has 10 questions.<br>\n",
    "Answers: Write the answers to each question in this notebook.<br>\n",
    "Type: This test is individual and open-book.<br>\n",
    "Grading: 1 point for each question.<br>\n",
    "Output/Timestamp: There is no point if the code has no output (the cell was not executed) or the timestamp is beyond 8:15pm.<br>\n",
    "Delivery: Upload your notebook to https://drive.google.com/drive/folders/1XkFvpkx17T6lFYakV4CV4JDeBub-t64G by 8:20pm. <br>\n",
    "Remark: **If certain conditions of the questions (for eg. hyperparameter values) are not stated, you are free to choose anything you want.**<br>\n"
   ]
  },
  {
   "cell_type": "markdown",
   "metadata": {
    "colab_type": "text",
    "id": "TT3HcmXNhNxp"
   },
   "source": [
    "### Question 1\n",
    "\n",
    "Create a PyTorch tensor $x$ of type FloatTensor, size [2, 5, 7] and filled with value 1. Print the tensor $x$ and its type. Convert the same tensor $x$ to type LongTensor and print its value and type."
   ]
  },
  {
   "cell_type": "code",
   "execution_count": 1,
   "metadata": {
    "colab": {
     "base_uri": "https://localhost:8080/",
     "height": 442
    },
    "colab_type": "code",
    "executionInfo": {
     "elapsed": 675,
     "status": "ok",
     "timestamp": 1600109702676,
     "user": {
      "displayName": "Vijay Prakash Dwivedi",
      "photoUrl": "https://lh3.googleusercontent.com/a-/AOh14GgfLL5UlJ0cWGCM7ABRbVFcbAS9vkLq7ias9ewKNA=s64",
      "userId": "03190496352220804755"
     },
     "user_tz": -480
    },
    "id": "vH-tgwa9gf4L",
    "outputId": "22855a52-17af-4e45-d011-3edc6d8f5fb3"
   },
   "outputs": [
    {
     "name": "stdout",
     "output_type": "stream",
     "text": [
      "Timestamp: 20-10-08--17-26-21\n"
     ]
    }
   ],
   "source": [
    "%reset -f\n",
    "import torch\n",
    "import datetime\n",
    "print('Timestamp:',datetime.datetime.now().strftime(\"%y-%m-%d--%H-%M-%S\"))\n",
    "\n",
    "# YOUR CODE HERE\n"
   ]
  },
  {
   "cell_type": "markdown",
   "metadata": {
    "colab_type": "text",
    "id": "B3tPn7qa2sLk"
   },
   "source": [
    "### Question 2\n",
    "\n",
    "Given a color image $x$ represented by a tensor of size (3, 28, 28), with 3 color channels (red, green and blue) and a grid domain of 28 pixels by 28 pixels. \n",
    "\n",
    "Transform the image tensor $x$ into a vector of 2,352 elements and print its size.\n",
    "\n",
    "Transform back the vector to an image tensor of size (3, 28, 28) and print its size."
   ]
  },
  {
   "cell_type": "code",
   "execution_count": 2,
   "metadata": {
    "colab": {
     "base_uri": "https://localhost:8080/",
     "height": 153
    },
    "colab_type": "code",
    "executionInfo": {
     "elapsed": 833,
     "status": "ok",
     "timestamp": 1600108253961,
     "user": {
      "displayName": "Vijay Prakash Dwivedi",
      "photoUrl": "https://lh3.googleusercontent.com/a-/AOh14GgfLL5UlJ0cWGCM7ABRbVFcbAS9vkLq7ias9ewKNA=s64",
      "userId": "03190496352220804755"
     },
     "user_tz": -480
    },
    "id": "djho9-rx3V6Z",
    "outputId": "a7e1e68a-8ce3-427f-8e11-a394c8826bc1"
   },
   "outputs": [
    {
     "name": "stdout",
     "output_type": "stream",
     "text": [
      "Timestamp: 20-10-08--17-26-21\n"
     ]
    }
   ],
   "source": [
    "%reset -f\n",
    "import torch\n",
    "import datetime\n",
    "print('Timestamp:',datetime.datetime.now().strftime(\"%y-%m-%d--%H-%M-%S\"))\n",
    "\n",
    "x = torch.rand(3,28,28) # given color image\n",
    "\n",
    "# YOUR CODE HERE\n"
   ]
  },
  {
   "cell_type": "markdown",
   "metadata": {
    "colab_type": "text",
    "id": "Y5LNc-Fo7mT1"
   },
   "source": [
    "### Question 3\n",
    "\n",
    "Consider the score vector $s=[-1.2,4.5,2.3,-0.2]$ to be the output of a 4-class classification network. Convert the score vector $s$ into a probability vector with the softmax operator. Print the probabilities. \n",
    "\n",
    "Implement a Python function that returns the index of the class with the highest probability. Print the index of the highest probability for the above score vector $s$. Note that the 4 classes are indexed with integer values $\\{0,1,2,3\\}$. "
   ]
  },
  {
   "cell_type": "code",
   "execution_count": 3,
   "metadata": {
    "colab": {
     "base_uri": "https://localhost:8080/",
     "height": 51
    },
    "colab_type": "code",
    "executionInfo": {
     "elapsed": 1156,
     "status": "ok",
     "timestamp": 1600143105845,
     "user": {
      "displayName": "Vijay Prakash Dwivedi",
      "photoUrl": "https://lh3.googleusercontent.com/a-/AOh14GgfLL5UlJ0cWGCM7ABRbVFcbAS9vkLq7ias9ewKNA=s64",
      "userId": "03190496352220804755"
     },
     "user_tz": -480
    },
    "id": "L67NCs9r7myO",
    "outputId": "ff9a3273-bb24-4cb8-e113-b26ec3bafeed"
   },
   "outputs": [
    {
     "name": "stdout",
     "output_type": "stream",
     "text": [
      "Timestamp: 20-10-08--17-26-21\n"
     ]
    }
   ],
   "source": [
    "%reset -f\n",
    "import torch\n",
    "import datetime\n",
    "print('Timestamp:',datetime.datetime.now().strftime(\"%y-%m-%d--%H-%M-%S\"))\n",
    "\n",
    "s = torch.Tensor([-1.2,4.5,2.3,-0.2]) \n",
    "\n",
    "# YOUR CODE HERE\n"
   ]
  },
  {
   "cell_type": "markdown",
   "metadata": {},
   "source": [
    "### Question 4\n",
    "\n",
    "Implement a Python function for the activation function $$\\sigma(x)=\\frac{2e^{x}-e^{-x}}{2e^{x}+e^{-x}}$$\n",
    "\n",
    "Print the activation values of the input tensor $x=[2.5,-1.2,0.0,-8.2]$ with function $\\sigma$. \n"
   ]
  },
  {
   "cell_type": "code",
   "execution_count": 4,
   "metadata": {},
   "outputs": [
    {
     "name": "stdout",
     "output_type": "stream",
     "text": [
      "Timestamp: 20-10-08--17-26-21\n"
     ]
    }
   ],
   "source": [
    "%reset -f\n",
    "import torch\n",
    "import datetime\n",
    "print('Timestamp:',datetime.datetime.now().strftime(\"%y-%m-%d--%H-%M-%S\"))\n",
    "\n",
    "x = torch.Tensor([2.5,-1.2,0.0,-8.2])\n",
    "\n",
    "# YOUR CODE HERE\n"
   ]
  },
  {
   "cell_type": "markdown",
   "metadata": {
    "colab_type": "text",
    "id": "d_dDEN-vne48"
   },
   "source": [
    "### Question 5\n",
    "\n",
    "Implement a PyTorch class for the following layer\n",
    "\n",
    "$$s = \\sigma(W x + b)$$\n",
    "\n",
    "with the non-linear activation function $\\sigma$ defined in Question 4. \n",
    "\n",
    "Print the output tensor $s$ of dimension 2 given the input tensor $x=[2.3,-1.4,3.9]$.\n",
    "\n",
    "Note that $W$ and $b$ can be any (random) tensors."
   ]
  },
  {
   "cell_type": "code",
   "execution_count": 5,
   "metadata": {
    "colab": {
     "base_uri": "https://localhost:8080/",
     "height": 34
    },
    "colab_type": "code",
    "executionInfo": {
     "elapsed": 826,
     "status": "ok",
     "timestamp": 1600107092190,
     "user": {
      "displayName": "Vijay Prakash Dwivedi",
      "photoUrl": "https://lh3.googleusercontent.com/a-/AOh14GgfLL5UlJ0cWGCM7ABRbVFcbAS9vkLq7ias9ewKNA=s64",
      "userId": "03190496352220804755"
     },
     "user_tz": -480
    },
    "id": "ZwCjd9Clgjnx",
    "outputId": "3a6d4b04-ab2d-49a9-94a6-6ec527548154"
   },
   "outputs": [
    {
     "name": "stdout",
     "output_type": "stream",
     "text": [
      "Timestamp: 20-10-08--17-26-21\n"
     ]
    }
   ],
   "source": [
    "%reset -f\n",
    "import torch\n",
    "import torch.nn as nn\n",
    "import datetime\n",
    "print('Timestamp:',datetime.datetime.now().strftime(\"%y-%m-%d--%H-%M-%S\"))\n",
    "\n",
    "x = torch.Tensor([2.3,-1.4,3.9])\n",
    "\n",
    "# YOUR CODE HERE\n"
   ]
  },
  {
   "cell_type": "markdown",
   "metadata": {},
   "source": [
    "### Question 6\n",
    "\n",
    "Given a minibatch $s=[ [3.6,-1.1], [-2.1,6.0] ]$ of scores of 2 data points with 2 classes. Compute the mean cross entropy value for this minibatch with the labels $[0,1]$."
   ]
  },
  {
   "cell_type": "code",
   "execution_count": 6,
   "metadata": {},
   "outputs": [
    {
     "name": "stdout",
     "output_type": "stream",
     "text": [
      "Timestamp: 20-10-08--17-26-21\n"
     ]
    }
   ],
   "source": [
    "%reset -f\n",
    "import torch\n",
    "import torch.nn as nn\n",
    "import datetime\n",
    "print('Timestamp:',datetime.datetime.now().strftime(\"%y-%m-%d--%H-%M-%S\"))\n",
    "\n",
    "score = torch.Tensor([[3.6,-1.1], [-2.1,6.0]])\n",
    "label = torch.LongTensor([0,1])\n",
    "\n",
    "# YOUR CODE HERE\n"
   ]
  },
  {
   "cell_type": "markdown",
   "metadata": {
    "colab_type": "text",
    "id": "jzJOcN45z-i1"
   },
   "source": [
    "### Question 7\n",
    "\n",
    "Implement a class of 3-layer MLP with the activation function of Question 4 such that\n",
    "\n",
    "$$s = W_3\\sigma(W_2\\sigma(W_1 x + b_1)+b_2)+b_3)$$\n",
    "\n",
    "Instantiate a network with 784 as input dimension, 25 as hidden dimension and 10 as output dimension. Print the network and the total number of parameters.\n",
    "\n",
    "Use 10 epochs to train the network with batch size 100 and learning rate 0.01. Print the loss and error of the training set after 10 epochs.\n"
   ]
  },
  {
   "cell_type": "code",
   "execution_count": 7,
   "metadata": {
    "colab": {
     "base_uri": "https://localhost:8080/",
     "height": 119
    },
    "colab_type": "code",
    "executionInfo": {
     "elapsed": 1044,
     "status": "ok",
     "timestamp": 1600148408449,
     "user": {
      "displayName": "Vijay Prakash Dwivedi",
      "photoUrl": "https://lh3.googleusercontent.com/a-/AOh14GgfLL5UlJ0cWGCM7ABRbVFcbAS9vkLq7ias9ewKNA=s64",
      "userId": "03190496352220804755"
     },
     "user_tz": -480
    },
    "id": "YnPK0d0Igkkw",
    "outputId": "e00e737f-eda0-48e0-cd7e-68b2db4b5e28"
   },
   "outputs": [
    {
     "name": "stdout",
     "output_type": "stream",
     "text": [
      "Timestamp: 20-10-08--17-26-23\n",
      "MNIST dataset missing - downloading...\n",
      "Downloading http://yann.lecun.com/exdb/mnist/train-images-idx3-ubyte.gz to data/mnist/temp/MNIST/raw/train-images-idx3-ubyte.gz\n"
     ]
    },
    {
     "name": "stderr",
     "output_type": "stream",
     "text": [
      "100.1%"
     ]
    },
    {
     "name": "stdout",
     "output_type": "stream",
     "text": [
      "Extracting data/mnist/temp/MNIST/raw/train-images-idx3-ubyte.gz\n",
      "Downloading http://yann.lecun.com/exdb/mnist/train-labels-idx1-ubyte.gz to data/mnist/temp/MNIST/raw/train-labels-idx1-ubyte.gz\n"
     ]
    },
    {
     "name": "stderr",
     "output_type": "stream",
     "text": [
      "113.5%"
     ]
    },
    {
     "name": "stdout",
     "output_type": "stream",
     "text": [
      "Extracting data/mnist/temp/MNIST/raw/train-labels-idx1-ubyte.gz\n",
      "Downloading http://yann.lecun.com/exdb/mnist/t10k-images-idx3-ubyte.gz to data/mnist/temp/MNIST/raw/t10k-images-idx3-ubyte.gz\n"
     ]
    },
    {
     "name": "stderr",
     "output_type": "stream",
     "text": [
      "100.4%"
     ]
    },
    {
     "name": "stdout",
     "output_type": "stream",
     "text": [
      "Extracting data/mnist/temp/MNIST/raw/t10k-images-idx3-ubyte.gz\n",
      "Downloading http://yann.lecun.com/exdb/mnist/t10k-labels-idx1-ubyte.gz to data/mnist/temp/MNIST/raw/t10k-labels-idx1-ubyte.gz\n"
     ]
    },
    {
     "name": "stderr",
     "output_type": "stream",
     "text": [
      "180.4%"
     ]
    },
    {
     "name": "stdout",
     "output_type": "stream",
     "text": [
      "Extracting data/mnist/temp/MNIST/raw/t10k-labels-idx1-ubyte.gz\n",
      "Processing...\n",
      "Done!\n"
     ]
    }
   ],
   "source": [
    "%reset -f\n",
    "import torch\n",
    "import torch.nn as nn\n",
    "import utils\n",
    "import datetime\n",
    "print('Timestamp:',datetime.datetime.now().strftime(\"%y-%m-%d--%H-%M-%S\"))\n",
    "from utils import *\n",
    "data_path=check_mnist_dataset_exists()\n",
    "train_data=torch.load(data_path+'mnist/train_data.pt')\n",
    "train_label=torch.load(data_path+'mnist/train_label.pt')\n",
    "\n",
    "# YOUR CODE HERE\n"
   ]
  },
  {
   "cell_type": "markdown",
   "metadata": {},
   "source": [
    "### Question 8\n",
    "\n",
    "Implement a class of 3-layer MLP with the ReLU activation function. Instantiate a network with 784 as input dimension, 7 as hidden dimension and 10 as output dimension. \n",
    "\n",
    "Use 20 epochs to train the network with batch size 100.\n",
    "\n",
    "Implement the following learning rate (lr) schedule. Start with an initial lr of 0.5. Reduce the lr value at each epoch by a factor of 2.0 (that is lr/2.0) if the error on the validation set does not decrease. Print the loss and the error of the training set, and the lr after 20 epochs. \n",
    "\n",
    "What is the error of the training set if the initial lr is 0.5 and no learning rate schedule is used? \n"
   ]
  },
  {
   "cell_type": "code",
   "execution_count": 8,
   "metadata": {
    "scrolled": false
   },
   "outputs": [
    {
     "name": "stdout",
     "output_type": "stream",
     "text": [
      "Timestamp: 20-10-08--17-26-38\n",
      "Size of training set torch.Size([59000, 28, 28])\n",
      "Size of validation set torch.Size([1000, 28, 28])\n"
     ]
    }
   ],
   "source": [
    "%reset -f\n",
    "import torch\n",
    "import torch.nn as nn\n",
    "import utils\n",
    "import datetime\n",
    "print('Timestamp:',datetime.datetime.now().strftime(\"%y-%m-%d--%H-%M-%S\"))\n",
    "from utils import *\n",
    "data_path=check_fashion_mnist_dataset_exists()\n",
    "train_data=torch.load(data_path+'fashion-mnist/train_data.pt')\n",
    "train_label=torch.load(data_path+'fashion-mnist/train_label.pt')\n",
    "idx = torch.arange(60000)\n",
    "idx_train = idx[:59000]\n",
    "idx_val = idx[59000:]\n",
    "val_data = train_data[idx_val]\n",
    "val_label = train_label[idx_val]\n",
    "train_data = train_data[idx_train]\n",
    "train_label = train_label[idx_train]\n",
    "\n",
    "print('Size of training set',train_data.size())\n",
    "print('Size of validation set',val_data.size())\n",
    "\n",
    "# YOUR CODE HERE\n"
   ]
  },
  {
   "cell_type": "markdown",
   "metadata": {},
   "source": [
    "### Question 9\n",
    "\n",
    "Implement a class of 3-layer MLP with the ReLU activation function. Instantiate a network with 784 as input dimension, 25 as hidden dimension and 1 as output dimension. \n",
    "\n",
    "The output dimension is 1 because the problem is changed from a classification task to a regression task. The regression task consists in predicting the class index, here the values 0,1,2,3,...,9 for the ten classes of FASHION-MNIST.\n",
    "\n",
    "Implement the standard regression loss\n",
    "\n",
    "$$ L = \\frac{1}{n}\\sqrt{\\sum_{i=1}^n (s_i - \\textrm{cl}(i))^2}$$\n",
    "\n",
    "where $s_i=\\textrm{3-layer MLP}(x_i)$ is the output of the 3-layer MLP and $\\textrm{cl}(i)$ is the class index of data point $x_i$.\n",
    "\n",
    "Use 10 epochs to train the network with batch size 100 and learning rate 0.001. Print the loss of the training set.\n"
   ]
  },
  {
   "cell_type": "code",
   "execution_count": 9,
   "metadata": {
    "scrolled": false
   },
   "outputs": [
    {
     "name": "stdout",
     "output_type": "stream",
     "text": [
      "Timestamp: 20-10-08--17-26-39\n"
     ]
    }
   ],
   "source": [
    "%reset -f\n",
    "import torch\n",
    "import torch.nn as nn\n",
    "import utils\n",
    "import datetime\n",
    "print('Timestamp:',datetime.datetime.now().strftime(\"%y-%m-%d--%H-%M-%S\"))\n",
    "from utils import *\n",
    "data_path=check_fashion_mnist_dataset_exists()\n",
    "train_data=torch.load(data_path+'fashion-mnist/train_data.pt')\n",
    "train_label=torch.load(data_path+'fashion-mnist/train_label.pt')\n",
    "\n",
    "# YOUR CODE HERE\n"
   ]
  },
  {
   "cell_type": "markdown",
   "metadata": {},
   "source": [
    "### Question 10\n",
    "\n",
    "Implement a class of 1-layer MLP, that is $$s=Wx+b$$ \n",
    "\n",
    "with no activation function. Instantiate a network with 784 as input dimension and 2 as output dimension. \n",
    "\n",
    "The output dimension is 2 because the task is to classify digits 1s and 7s with 6,000 training data for the class 1 and 600 training data for the class of 7. This classification task is unbalanced. \n",
    "\n",
    "To correct the unbalanced training set, a weighted cross entropy loss is used and defined as\n",
    "\n",
    "$$ L = -\\frac{1}{N}\\sum_{i=1}^N w^{(i)}. \\log \\Big(\\textrm{entry cl($i$) of probability vector } p^{(i)} \\Big)$$\n",
    "\n",
    "where $cl($i$)$ is the class index of the $i^{th}$ training data, $p^{(i)}$ is the probability vector computed by the network, and $w^{(i)}$ is equal to $0.1$ for data belonging to the class of 1s and $w^{(i)}$ equal to $1.0$ for data belonging to the class of 7s.\n",
    "\n",
    "Implement the weighted cross entropy loss. Use 20 epochs to train the network with batch size 100 and learning rate 0.01. Print the weighted cross entropy loss and error value for the training set. Print the error value for the test set.\n",
    "\n",
    "Compute and compare theses values with the standard non-weighted cross entropy loss defined as\n",
    "\n",
    "$$ L = -\\frac{1}{N}\\sum_{i=1}^N \\log \\Big(\\textrm{entry cl($i$) of probability vector } p^{(i)} \\Big)$$\n",
    "\n"
   ]
  },
  {
   "cell_type": "code",
   "execution_count": 10,
   "metadata": {},
   "outputs": [
    {
     "name": "stdout",
     "output_type": "stream",
     "text": [
      "Timestamp: 20-10-08--17-26-39\n",
      "Size of training set: torch.Size([6600, 28, 28])\n",
      "Size of test set: torch.Size([200, 28, 28])\n"
     ]
    }
   ],
   "source": [
    "%reset -f\n",
    "from packaging import version\n",
    "import torch\n",
    "import torch.nn as nn\n",
    "import utils\n",
    "import datetime\n",
    "print('Timestamp:',datetime.datetime.now().strftime(\"%y-%m-%d--%H-%M-%S\"))\n",
    "from utils import *\n",
    "data_path=check_fashion_mnist_dataset_exists()\n",
    "train_data=torch.load(data_path+'fashion-mnist/train_data.pt')\n",
    "train_label=torch.load(data_path+'fashion-mnist/train_label.pt')\n",
    "test_data=torch.load(data_path+'fashion-mnist/test_data.pt')\n",
    "test_label=torch.load(data_path+'fashion-mnist/test_label.pt')\n",
    "\n",
    "if version.parse(torch.__version__) < version.parse(\"1.6.0\"):\n",
    "    idx_class0 = (train_label==1-1).nonzero().squeeze()\n",
    "    idx_class1 = (train_label==7-1).nonzero().squeeze()\n",
    "else:\n",
    "    idx_class0 = (train_label==1-1).nonzero(as_tuple=False).squeeze()\n",
    "    idx_class1 = (train_label==7-1).nonzero(as_tuple=False).squeeze()\n",
    "idx_class0 = idx_class0[:6000]\n",
    "idx_class1 = idx_class1[:600]\n",
    "train_data = train_data[torch.cat((idx_class0,idx_class1))]\n",
    "train_label = train_label[torch.cat((idx_class0,idx_class1))]\n",
    "train_label[train_label==1-1] = 0 # class 1 has label 0\n",
    "train_label[train_label==7-1] = 1 # class 7 has label 1\n",
    "\n",
    "if version.parse(torch.__version__) < version.parse(\"1.6.0\"):\n",
    "    idx_class0 = (test_label==1-1).nonzero().squeeze()\n",
    "    idx_class1 = (test_label==7-1).nonzero().squeeze()\n",
    "else:\n",
    "    idx_class0 = (test_label==1-1).nonzero(as_tuple=False).squeeze()\n",
    "    idx_class1 = (test_label==7-1).nonzero(as_tuple=False).squeeze() \n",
    "idx_class0 = idx_class0[:6000]\n",
    "idx_class1 = idx_class1[:600]\n",
    "test_data = test_data[torch.cat((idx_class0,idx_class1))]\n",
    "test_label = test_label[torch.cat((idx_class0,idx_class1))]\n",
    "test_label[test_label==1-1] = 0 # class 1 has label 0\n",
    "test_label[test_label==7-1] = 1 # class 7 has label 1\n",
    "test_data = test_data[:200]\n",
    "test_label = test_label[:200]\n",
    "\n",
    "print('Size of training set:',train_data.size())\n",
    "print('Size of test set:',test_data.size())\n",
    "\n",
    "\n",
    "# YOUR CODE HERE\n"
   ]
  },
  {
   "cell_type": "code",
   "execution_count": null,
   "metadata": {},
   "outputs": [],
   "source": []
  }
 ],
 "metadata": {
  "colab": {
   "authorship_tag": "ABX9TyNd30TjgREYWyAkV0lT4iX6",
   "name": "CE_7454_coding_test_solution_Vijay.ipynb",
   "provenance": [],
   "toc_visible": true
  },
  "kernelspec": {
   "display_name": "Python 3",
   "language": "python",
   "name": "python3"
  },
  "language_info": {
   "codemirror_mode": {
    "name": "ipython",
    "version": 3
   },
   "file_extension": ".py",
   "mimetype": "text/x-python",
   "name": "python",
   "nbconvert_exporter": "python",
   "pygments_lexer": "ipython3",
   "version": "3.6.12"
  }
 },
 "nbformat": 4,
 "nbformat_minor": 1
}
