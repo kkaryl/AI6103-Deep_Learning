{
 "cells": [
  {
   "cell_type": "markdown",
   "metadata": {},
   "source": [
    "# Lab 02 : CIFAR multi-layer -- exercise"
   ]
  },
  {
   "cell_type": "code",
   "execution_count": null,
   "metadata": {},
   "outputs": [],
   "source": [
    "# For Google Colaboratory\n",
    "import sys, os\n",
    "if 'google.colab' in sys.modules:\n",
    "    # mount google drive\n",
    "    from google.colab import drive\n",
    "    drive.mount('/content/gdrive')\n",
    "    # find automatically the path of the folder containing \"file_name\" :\n",
    "    file_name = 'cifar_multilayer_exercise.ipynb'\n",
    "    import subprocess\n",
    "    path_to_file = subprocess.check_output('find . -type f -name ' + str(file_name), shell=True).decode(\"utf-8\")\n",
    "    path_to_file = path_to_file.replace(file_name,\"\").replace('\\n',\"\")\n",
    "    # if previous search failed or too long, comment the previous line and simply write down manually the path below :\n",
    "    #path_to_file = '/content/gdrive/My Drive/AI6103_2020_codes/codes/labs_lecture06/lab02_cifar_multilayer'\n",
    "    print(path_to_file)\n",
    "    # change current path to the folder containing \"file_name\"\n",
    "    os.chdir(path_to_file)\n",
    "    !pwd\n",
    "    "
   ]
  },
  {
   "cell_type": "code",
   "execution_count": 2,
   "metadata": {},
   "outputs": [],
   "source": [
    "import torch\n",
    "import torch.nn as nn\n",
    "import torch.nn.functional as F\n",
    "import torch.optim as optim\n",
    "from random import randint\n",
    "import utils\n",
    "import time"
   ]
  },
  {
   "cell_type": "markdown",
   "metadata": {},
   "source": [
    "### With or without GPU?\n",
    "\n",
    "It is recommended to run this code on GPU:<br> \n",
    "* Time for 1 epoch on CPU : 5 sec<br> \n",
    "* Time for 1 epoch on GPU : 0.6 sec w/ GeForce GTX 1080 Ti<br>"
   ]
  },
  {
   "cell_type": "code",
   "execution_count": 3,
   "metadata": {},
   "outputs": [
    {
     "name": "stdout",
     "output_type": "stream",
     "text": [
      "cuda\n"
     ]
    }
   ],
   "source": [
    "device= torch.device(\"cuda\")\n",
    "# device= torch.device(\"cpu\")\n",
    "print(device)"
   ]
  },
  {
   "cell_type": "markdown",
   "metadata": {},
   "source": [
    "### Download the CIFAR dataset "
   ]
  },
  {
   "cell_type": "code",
   "execution_count": 4,
   "metadata": {},
   "outputs": [
    {
     "name": "stdout",
     "output_type": "stream",
     "text": [
      "torch.Size([50000, 3, 32, 32])\n"
     ]
    }
   ],
   "source": [
    "from utils import check_cifar_dataset_exists\n",
    "data_path=check_cifar_dataset_exists()\n",
    "\n",
    "train_data=torch.load(data_path+'cifar/train_data.pt')\n",
    "train_label=torch.load(data_path+'cifar/train_label.pt')\n",
    "test_data=torch.load(data_path+'cifar/test_data.pt')\n",
    "test_label=torch.load(data_path+'cifar/test_label.pt')\n",
    "\n",
    "print(train_data.size())"
   ]
  },
  {
   "cell_type": "markdown",
   "metadata": {},
   "source": [
    "### Make a Three layer net class. "
   ]
  },
  {
   "cell_type": "code",
   "execution_count": 5,
   "metadata": {},
   "outputs": [],
   "source": [
    "class three_layer_net(nn.Module):\n",
    "\n",
    "    def __init__(self, input_size, hidden_size1, hidden_size2,  output_size):\n",
    "        super(three_layer_net , self).__init__()\n",
    "        \n",
    "        self.layer1 = nn.Linear(input_size, hidden_size1) # COMPLETE HERE\n",
    "        self.layer2 = nn.Linear(hidden_size2, hidden_size2) # COMPLETE HERE\n",
    "        self.layer3 = nn.Linear(hidden_size2, output_size) # COMPLETE HERE\n",
    "        \n",
    "    def forward(self, x):\n",
    "        \n",
    "        y       = self.layer1(x) # COMPLETE HERE\n",
    "        y_hat   = F.relu(y) # COMPLETE HERE\n",
    "        z       = self.layer2(y_hat) # COMPLETE HERE\n",
    "        z_hat   = F.relu(z) # COMPLETE HERE\n",
    "        scores  = self.layer3(z_hat)# COMPLETE HERE\n",
    "        \n",
    "        return scores"
   ]
  },
  {
   "cell_type": "markdown",
   "metadata": {},
   "source": [
    "### Build the net with the following size:\n",
    "* input size = 3,072\n",
    "* hidden size 1 = 500\n",
    "* hidden size 2 = 500\n",
    "* output size = 10\n",
    "### How many parameters in total? (the one layer net had 30,000 parameters)"
   ]
  },
  {
   "cell_type": "code",
   "execution_count": 6,
   "metadata": {},
   "outputs": [
    {
     "name": "stdout",
     "output_type": "stream",
     "text": [
      "three_layer_net(\n",
      "  (layer1): Linear(in_features=3072, out_features=500, bias=True)\n",
      "  (layer2): Linear(in_features=500, out_features=500, bias=True)\n",
      "  (layer3): Linear(in_features=500, out_features=10, bias=True)\n",
      ")\n",
      "There are 1792010 (1.79 million) parameters in this neural network\n"
     ]
    }
   ],
   "source": [
    "net=three_layer_net(3072,500,500,10)\n",
    "print(net)\n",
    "utils.display_num_param(net)"
   ]
  },
  {
   "cell_type": "markdown",
   "metadata": {},
   "source": [
    "### Send the weights of the networks to the GPU"
   ]
  },
  {
   "cell_type": "code",
   "execution_count": 7,
   "metadata": {},
   "outputs": [],
   "source": [
    "net= net.to(device) # COMPLETE HERE"
   ]
  },
  {
   "cell_type": "markdown",
   "metadata": {},
   "source": [
    "### Choose the criterion and optimizer. Also choose:\n",
    "* batch size =200\n",
    "* learning rate =0.01\n"
   ]
  },
  {
   "cell_type": "code",
   "execution_count": 8,
   "metadata": {},
   "outputs": [],
   "source": [
    "criterion = nn.CrossEntropyLoss()\n",
    "optimizer=torch.optim.SGD( net.parameters() , lr=0.01 )\n",
    "bs= 200 # COMPLETE HERE"
   ]
  },
  {
   "cell_type": "markdown",
   "metadata": {},
   "source": [
    "### Function to evaluate the network on the test set"
   ]
  },
  {
   "cell_type": "code",
   "execution_count": 9,
   "metadata": {},
   "outputs": [],
   "source": [
    "def eval_on_test_set():\n",
    "\n",
    "    running_error=0\n",
    "    num_batches=0\n",
    "\n",
    "\n",
    "    for i in range(0,10000,bs):\n",
    "\n",
    "        # extract the minibatch\n",
    "        minibatch_data =  test_data[i:i+bs]\n",
    "        minibatch_label= test_label[i:i+bs]\n",
    "\n",
    "        # send them to the gpu\n",
    "        minibatch_data=minibatch_data.to(device)\n",
    "        minibatch_label=minibatch_label.to(device)\n",
    "\n",
    "        # reshape the minibatch\n",
    "        inputs = minibatch_data.view(bs,3072)\n",
    "\n",
    "        # feed it to the network\n",
    "        scores=net( inputs ) \n",
    "\n",
    "        # compute the error made on this batch\n",
    "        error = utils.get_error( scores , minibatch_label)\n",
    "\n",
    "        # add it to the running error\n",
    "        running_error += error.item()\n",
    "\n",
    "        num_batches+=1\n",
    "\n",
    "\n",
    "    # compute error rate on the full test set\n",
    "    total_error = running_error/num_batches\n",
    "\n",
    "    print( 'error rate on test set =', total_error*100 ,'percent')"
   ]
  },
  {
   "cell_type": "markdown",
   "metadata": {},
   "source": [
    "### Do 160 passes through the training set."
   ]
  },
  {
   "cell_type": "code",
   "execution_count": 10,
   "metadata": {},
   "outputs": [
    {
     "name": "stdout",
     "output_type": "stream",
     "text": [
      "epoch= 0 \t time= 1.1547737121582031 \t loss= 2.2397912864685057 \t error= 80.33600010871888 percent\n",
      "error rate on test set = 77.17000019550323 percent\n",
      " \n",
      "epoch= 20 \t time= 15.343770027160645 \t loss= 1.5870326738357543 \t error= 55.99200124740601 percent\n",
      "error rate on test set = 56.210001587867744 percent\n",
      " \n",
      "epoch= 40 \t time= 29.07789945602417 \t loss= 1.4113473305702209 \t error= 49.746000504493715 percent\n",
      "error rate on test set = 52.329999804496765 percent\n",
      " \n",
      "epoch= 60 \t time= 43.80012917518616 \t loss= 1.2863284316062926 \t error= 45.334000611305235 percent\n",
      "error rate on test set = 49.22000014781952 percent\n",
      " \n",
      "epoch= 80 \t time= 60.6528263092041 \t loss= 1.184338484287262 \t error= 41.430001163482665 percent\n",
      "error rate on test set = 47.350000739097595 percent\n",
      " \n",
      "epoch= 100 \t time= 78.02228307723999 \t loss= 1.093099236726761 \t error= 38.10000157356262 percent\n",
      "error rate on test set = 45.64000070095062 percent\n",
      " \n",
      "epoch= 120 \t time= 95.26221799850464 \t loss= 1.0173104650974274 \t error= 35.37400150299072 percent\n",
      "error rate on test set = 46.36000061035156 percent\n",
      " \n",
      "epoch= 140 \t time= 113.11388731002808 \t loss= 0.9398223283290863 \t error= 32.366001749038695 percent\n",
      "error rate on test set = 44.90000081062317 percent\n",
      " \n"
     ]
    }
   ],
   "source": [
    "start=time.time()\n",
    "\n",
    "for epoch in range(160):\n",
    "    \n",
    "    running_loss=0\n",
    "    running_error=0\n",
    "    num_batches=0\n",
    "    \n",
    "    shuffled_indices=torch.randperm(50000)\n",
    " \n",
    "    for count in range(0,50000,bs):\n",
    "    \n",
    "        # Set the gradients to zeros\n",
    "        optimizer.zero_grad()\n",
    "        \n",
    "        # create a minibatch       \n",
    "        indices= shuffled_indices[count:count+bs]         # COMPLETE HERE\n",
    "        minibatch_data = train_data[count:count+bs]   # COMPLETE HERE\n",
    "        minibatch_label= train_label[count:count+bs]  # COMPLETE HERE\n",
    "        \n",
    "        # send the minibatch to the gpu\n",
    "        minibatch_data= minibatch_data.to(device) # COMPLETE HERE\n",
    "        minibatch_label= minibatch_label.to(device)# COMPLETE HERE\n",
    "        \n",
    "        # reshape the minibatch\n",
    "        inputs = minibatch_data.view(bs, 3*32*32) # COMPLETE HERE\n",
    "\n",
    "        # tell Pytorch to start tracking all operations that will be done on \"inputs\"\n",
    "        inputs.requires_grad_()\n",
    "\n",
    "        # forward the minibatch through the net \n",
    "        scores= net(inputs) # COMPLETE HERE \n",
    "\n",
    "        # Compute the average of the losses of the data points in the minibatch\n",
    "        loss = criterion(scores, minibatch_label) # COMPLETE HERE \n",
    "        \n",
    "        # backward pass to compute dL/dU, dL/dV and dL/dW   \n",
    "        loss.backward()\n",
    "\n",
    "        # do one step of stochastic gradient descent: U=U-lr(dL/dU), V=V-lr(dL/dU), ...\n",
    "        optimizer.step()\n",
    "        \n",
    "        # START COMPUTING STATS\n",
    "        \n",
    "        # add the loss of this batch to the running loss\n",
    "        running_loss += loss.detach().item()\n",
    "        \n",
    "        # compute the error made on this batch and add it to the running error       \n",
    "        error = utils.get_error( scores.detach() , minibatch_label)\n",
    "        running_error += error.item()\n",
    "        \n",
    "        num_batches+=1\n",
    "    \n",
    "    \n",
    "    # compute stats for the full training set\n",
    "    total_loss = running_loss/num_batches\n",
    "    total_error = running_error/num_batches\n",
    "    elapsed = time.time()-start\n",
    "    \n",
    "    if epoch%20 == 0:\n",
    "        print('epoch=',epoch, '\\t time=', elapsed, '\\t loss=', total_loss , '\\t error=', total_error*100 ,'percent')\n",
    "        eval_on_test_set() \n",
    "        print(' ')\n",
    "    \n",
    "    \n",
    "        \n",
    "        "
   ]
  },
  {
   "cell_type": "markdown",
   "metadata": {},
   "source": [
    "### Choose image at random from the test set and see how good/bad are the predictions"
   ]
  },
  {
   "cell_type": "code",
   "execution_count": 14,
   "metadata": {},
   "outputs": [
    {
     "data": {
      "image/png": "[encoded data removed]",
      "text/plain": [
       "<Figure size 640x480 with 1 Axes>"
      ]
     },
     "metadata": {},
     "output_type": "display_data"
    },
    {
     "data": {
      "image/png": "[encoded data removed]",
      "text/plain": [
       "<Figure size 640x480 with 1 Axes>"
      ]
     },
     "metadata": {},
     "output_type": "display_data"
    }
   ],
   "source": [
    "# choose a picture at random\n",
    "idx=randint(0, 10000-1)\n",
    "im=test_data[idx]\n",
    "\n",
    "# diplay the picture\n",
    "utils.show(im)\n",
    "\n",
    "# feed it to the net and display the confidence scores\n",
    "scores =  net( im.view(1,3072).to(device)) \n",
    "probs= F.softmax(scores, dim=1)\n",
    "utils.show_prob_cifar(probs.cpu())"
   ]
  },
  {
   "cell_type": "code",
   "execution_count": null,
   "metadata": {},
   "outputs": [],
   "source": []
  }
 ],
 "metadata": {
  "kernelspec": {
   "display_name": "Python 3",
   "language": "python",
   "name": "python3"
  },
  "language_info": {
   "codemirror_mode": {
    "name": "ipython",
    "version": 3
   },
   "file_extension": ".py",
   "mimetype": "text/x-python",
   "name": "python",
   "nbconvert_exporter": "python",
   "pygments_lexer": "ipython3",
   "version": "3.6.10"
  }
 },
 "nbformat": 4,
 "nbformat_minor": 4
}
